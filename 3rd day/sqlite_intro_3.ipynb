{
 "cells": [
  {
   "cell_type": "code",
   "execution_count": 101,
   "metadata": {},
   "outputs": [],
   "source": [
    "import sqlite3"
   ]
  },
  {
   "cell_type": "code",
   "execution_count": 102,
   "metadata": {},
   "outputs": [],
   "source": [
    "conn = sqlite3.connect('playlist.db')\n",
    "cur = conn.cursor()"
   ]
  },
  {
   "cell_type": "code",
   "execution_count": 70,
   "metadata": {},
   "outputs": [
    {
     "ename": "OperationalError",
     "evalue": "near \"CREATE\": syntax error",
     "output_type": "error",
     "traceback": [
      "\u001b[1;31m---------------------------------------------------------------------------\u001b[0m",
      "\u001b[1;31mOperationalError\u001b[0m                          Traceback (most recent call last)",
      "Cell \u001b[1;32mIn[70], line 1\u001b[0m\n\u001b[1;32m----> 1\u001b[0m \u001b[43mcur\u001b[49m\u001b[38;5;241;43m.\u001b[39;49m\u001b[43mexecute\u001b[49m\u001b[43m(\u001b[49m\u001b[38;5;124;43m'''\u001b[39;49m\n\u001b[0;32m      2\u001b[0m \u001b[38;5;124;43m        DROP TABLE IF EXISTS ARTIST\u001b[39;49m\n\u001b[0;32m      3\u001b[0m \u001b[38;5;124;43m        CREATE TABLE ARTIST(\u001b[39;49m\n\u001b[0;32m      4\u001b[0m \u001b[38;5;124;43m            PK INTEGER PRIMARY KEY,\u001b[39;49m\n\u001b[0;32m      5\u001b[0m \u001b[38;5;124;43m            NAME TEXT NOT NULL DEFAULT \u001b[39;49m\u001b[38;5;124;43m'\u001b[39;49m\u001b[38;5;124;43m가수\u001b[39;49m\u001b[38;5;124;43m'\u001b[39;49m\n\u001b[0;32m      6\u001b[0m \u001b[38;5;124;43m        );\u001b[39;49m\n\u001b[0;32m      7\u001b[0m \u001b[38;5;124;43m'''\u001b[39;49m\u001b[43m)\u001b[49m\n\u001b[0;32m      8\u001b[0m \u001b[38;5;66;03m#PIRMARY KEY = UNIQUE NOT NULL AUTO INCREMENT\u001b[39;00m\n",
      "\u001b[1;31mOperationalError\u001b[0m: near \"CREATE\": syntax error"
     ]
    }
   ],
   "source": [
    "cur.execute('''\n",
    "        DROP TABLE IF EXISTS ARTIST\n",
    "        CREATE TABLE ARTIST(\n",
    "            PK INTEGER PRIMARY KEY,\n",
    "            NAME TEXT NOT NULL DEFAULT '가수'\n",
    "        );\n",
    "''')\n",
    "#PIRMARY KEY = UNIQUE NOT NULL AUTO INCREMENT"
   ]
  },
  {
   "cell_type": "code",
   "execution_count": null,
   "metadata": {},
   "outputs": [
    {
     "data": {
      "text/plain": [
       "<sqlite3.Cursor at 0x29e901fddc0>"
      ]
     },
     "execution_count": 8,
     "metadata": {},
     "output_type": "execute_result"
    }
   ],
   "source": [
    "cur.executescript('''\n",
    "                DROP TABLE IF EXISTS ALBUM;\n",
    "                CREATE TABLE ALBUM(\n",
    "                  PK INTEGER PRIMARY KEY,\n",
    "                  NAME TEXT,\n",
    "                  FK INTEGER NOT NULL\n",
    "                );\n",
    "                \n",
    "                DROP TABLE IF EXISTS GENRE;\n",
    "                CREATE TABLE GENRE(\n",
    "                  PK INTEGER PRIMARY KEY,\n",
    "                  NAME TEXT NOT NULL\n",
    "                );\n",
    "                  \n",
    "                DROP TABLE IF EXISTS TRACK;\n",
    "                CREATE TABLE TRACK(\n",
    "                  PK INTEGER PRIMARY KEY,\n",
    "                  NAME TEXT NOT NULL,\n",
    "                  LENGTH INTEGER DEFAULT 0,\n",
    "                  RATING INTEGER DEFAULT 0,\n",
    "                  COUNT INTEGER DEFAULT 0,\n",
    "                  AFK INTEGER NOT NULL,\n",
    "                  GFK INTEGER NOT NULL\n",
    "                );\n",
    "''')"
   ]
  },
  {
   "cell_type": "code",
   "execution_count": null,
   "metadata": {},
   "outputs": [
    {
     "data": {
      "text/plain": [
       "<sqlite3.Cursor at 0x29e901fddc0>"
      ]
     },
     "execution_count": 9,
     "metadata": {},
     "output_type": "execute_result"
    }
   ],
   "source": [
    "cur.executemany('''\n",
    "            INSERT INTO ARTIST VALUES(NULL, ?)\n",
    "''',[['수지'], ['박효신'], ['아이유']])\n",
    "\n",
    "#execute 하나만 하면 여러개의 insert문을 사용할 수 없다\n",
    "#또한, Qmark를 쓸 때도 list안에 있는 값들은 iterable하게 감싸줘야 하므로 \n",
    "#[a, b, c] 에서 [[a], [b], [c]]로 해줘야 함"
   ]
  },
  {
   "cell_type": "code",
   "execution_count": null,
   "metadata": {},
   "outputs": [],
   "source": [
    "conn.commit()"
   ]
  },
  {
   "cell_type": "code",
   "execution_count": null,
   "metadata": {},
   "outputs": [],
   "source": [
    "cur.executemany('''\n",
    "            INSERT INTO GENRE VALUES(NULL, ?)\n",
    "''',[['발라드'], ['R&B'], ['락']])\n",
    "conn.commit()"
   ]
  },
  {
   "cell_type": "code",
   "execution_count": null,
   "metadata": {},
   "outputs": [
    {
     "data": {
      "text/plain": [
       "((3,), '아이유', '아이유앨범', 3)"
      ]
     },
     "execution_count": 16,
     "metadata": {},
     "output_type": "execute_result"
    }
   ],
   "source": [
    "#artist 찾아서 pk 불러오고 ablum pk를 fk로 바꿔서 insert 하는 함수\n",
    "def addAlbum(artist, album):\n",
    "    cur.execute('SELECT PK FROM ARTIST WHERE NAME LIKE ?', ['%'+artist+'%']) #중간에 artist와 일치한, 포함한 모든 결과값\n",
    "    PK = cur.fetchone()\n",
    "\n",
    "    if PK:\n",
    "        FK = PK[0]\n",
    "        cur.execute('INSERT INTO ALBUM VALUES(NULL, ?, ?)', (album, FK))\n",
    "    return PK, artist, album, cur.lastrowid\n",
    "\n",
    "addAlbum('아이유', '아이유앨범')"
   ]
  },
  {
   "cell_type": "code",
   "execution_count": null,
   "metadata": {},
   "outputs": [
    {
     "data": {
      "text/plain": [
       "(2, 2)"
      ]
     },
     "execution_count": 27,
     "metadata": {},
     "output_type": "execute_result"
    }
   ],
   "source": [
    "#album - PK1, genre => pk2\n",
    "#INSERT TRACK, AFK=PK1, GFK = PK2\n",
    "def addTrack(album, genre, track, length=0, rating=0, count=0):\n",
    "    cur.execute('SELECT PK FROM ALBUM WHERE NAME LIKE ?', ['%'+album+'%']) #중간에 artist와 일치한, 포함한 모든 결과값\n",
    "    PK = cur.fetchone()\n",
    "\n",
    "    cur.execute('SELECT PK FROM GENRE WHERE NAME LIKE ?', ['%'+genre+'%'])\n",
    "    PK2 = cur.fetchone()\n",
    "\n",
    "    if PK != None and PK2 != None:\n",
    "        AFK = PK[0]\n",
    "        GFK = PK2[0]\n",
    "        cur.execute('''\n",
    "                    INSERT INTO TRACK VALUES(NULL, :name, :length, :rating, :count, :afk, :gfk)\n",
    "                    ''', {'name': track, 'length': length, 'rating': rating,'count': count, 'afk': AFK, 'gfk':GFK})\n",
    "        conn.commit()\n",
    "    return AFK, GFK\n",
    "\n",
    "addTrack('박효신', 'R', '박효신노래3')"
   ]
  },
  {
   "cell_type": "code",
   "execution_count": null,
   "metadata": {},
   "outputs": [],
   "source": [
    "cur.execute('''\n",
    "            UPDATE TRACK\n",
    "            SET AFK=?\n",
    "            WHERE NAME=?\n",
    "''', (3, '아이유노래2'))\n",
    "conn.commit()"
   ]
  },
  {
   "cell_type": "code",
   "execution_count": null,
   "metadata": {},
   "outputs": [
    {
     "data": {
      "text/plain": [
       "[(1, '아이유노래3', 0, 0, 0, 3, 1),\n",
       " (2, '아이유노래2', 0, 0, 0, 3, 2),\n",
       " (3, '아이유노래3', 0, 0, 0, 3, 2),\n",
       " (4, '박효신노래1', 0, 0, 0, 2, 2),\n",
       " (5, '박효신노래2', 0, 0, 0, 2, 2),\n",
       " (6, '박효신노래3', 0, 0, 0, 2, 2)]"
      ]
     },
     "execution_count": 36,
     "metadata": {},
     "output_type": "execute_result"
    }
   ],
   "source": [
    "cur.execute('SELECT * FROM TRACK')\n",
    "cur.fetchall()"
   ]
  },
  {
   "cell_type": "code",
   "execution_count": null,
   "metadata": {},
   "outputs": [
    {
     "data": {
      "text/plain": [
       "[('수지', '수지앨범'), ('박효신', '박효신앨범'), ('아이유', '아이유노래1'), ('아이유', '아이유앨범')]"
      ]
     },
     "execution_count": 38,
     "metadata": {},
     "output_type": "execute_result"
    }
   ],
   "source": [
    "#아티스트와 앨범 섞기\n",
    "cur.execute('SELECT DISTINCT(NAME) FROM ARTIST') #중복되는 사람 구별하기 위해서 DINSTINCT 사용\n",
    "cur.fetchall()\n",
    "\n",
    "cur.execute('SELECT * FROM ALBUM')\n",
    "cur.fetchall()\n",
    "\n",
    "cur.execute('''\n",
    "            SELECT ARTIST.NAME, ALBUM.NAME\n",
    "            FROM ARTIST\n",
    "            LEFT JOIN ALBUM\n",
    "            ON ALBUM.FK = ARTIST.PK\n",
    "''')\n",
    "cur.fetchall()\n",
    "\n",
    "#SELECT _____                       1ST\n",
    "#FROM ARTIST                        2ND\n",
    "#INNER JOIN 누구                    3RD\n",
    "#ON ALBUM.FK = ARTIST.PK            4TH\n",
    "#SELECT ARTIST.NAME, ALBUM.NAME     5TH"
   ]
  },
  {
   "cell_type": "code",
   "execution_count": 105,
   "metadata": {},
   "outputs": [
    {
     "data": {
      "text/plain": [
       "[('수지', 4)]"
      ]
     },
     "execution_count": 105,
     "metadata": {},
     "output_type": "execute_result"
    }
   ],
   "source": [
    "cur.execute('''\n",
    "            SELECT ARTIST.NAME, COUNT(ALBUM.NAME)\n",
    "            FROM ARTIST\n",
    "            LEFT JOIN ALBUM\n",
    "            ON ALBUM.FK = ARTIST.PK\n",
    "            GROUP BY ARTIST.NAME    \n",
    "            ORDER BY ARTIST.NAME ASC\n",
    "''')\n",
    "cur.fetchall()\n",
    "#GROUP BY로 안묶어주면 결과가 이상해짐 즉, 집계함수를 쓸 경우에는 어떤 기준으로 묶을지 GROUP BY로 묶어줘야함"
   ]
  },
  {
   "cell_type": "code",
   "execution_count": null,
   "metadata": {},
   "outputs": [
    {
     "data": {
      "text/plain": [
       "[('수지앨범', 0), ('박효신앨범', 3), ('아이유앨범', 3), ('아이유노래1', 0)]"
      ]
     },
     "execution_count": 41,
     "metadata": {},
     "output_type": "execute_result"
    }
   ],
   "source": [
    "#ALBUM - TRACK\n",
    "cur.execute('''\n",
    "            SELECT ALBUM.NAME, COUNT(TRACK.NAME)\n",
    "            FROM ALBUM\n",
    "            LEFT JOIN TRACK\n",
    "            ON TRACK.AFK=ALBUM.PK\n",
    "            GROUP BY ALBUM.PK\n",
    "''')\n",
    "cur.fetchall()"
   ]
  },
  {
   "cell_type": "code",
   "execution_count": null,
   "metadata": {},
   "outputs": [
    {
     "data": {
      "text/plain": [
       "[('발라드', 1), ('R&B', 5), ('락', 0)]"
      ]
     },
     "execution_count": 43,
     "metadata": {},
     "output_type": "execute_result"
    }
   ],
   "source": [
    "cur.execute('''\n",
    "            SELECT GENRE.NAME, COUNT(TRACK.NAME)\n",
    "            FROM GENRE\n",
    "            LEFT JOIN TRACK\n",
    "            ON TRACK.GFK=GENRE.PK\n",
    "            GROUP BY GENRE.PK\n",
    "''')\n",
    "cur.fetchall()"
   ]
  },
  {
   "cell_type": "code",
   "execution_count": null,
   "metadata": {},
   "outputs": [
    {
     "data": {
      "text/plain": [
       "[('아이유', '아이유앨범', '아이유노래3'),\n",
       " ('아이유', '아이유앨범', '아이유노래2'),\n",
       " ('아이유', '아이유앨범', '아이유노래3'),\n",
       " ('박효신', '박효신앨범', '박효신노래1'),\n",
       " ('박효신', '박효신앨범', '박효신노래2'),\n",
       " ('박효신', '박효신앨범', '박효신노래3')]"
      ]
     },
     "execution_count": 49,
     "metadata": {},
     "output_type": "execute_result"
    }
   ],
   "source": [
    "#ARTIST - ALBUM - TRACK\n",
    "cur.execute('''\n",
    "            SELECT A.NAME, B.NAME, C.NAME\n",
    "            FROM ARTIST AS A\n",
    "            LEFT JOIN ALBUM AS B\n",
    "            ON B.FK = A.PK\n",
    "            LEFT JOIN TRACK AS C\n",
    "            ON C.AFK=B.PK\n",
    "''')\n",
    "cur.fetchall()\n",
    "\n",
    "cur.execute('''\n",
    "            SELECT A.NAME, B.NAME, B.TRNAME\n",
    "            FROM ARTIST AS A\n",
    "            LEFT JOIN (\n",
    "                SELECT ALBUM.FK, ALBUM.NAME AS NAME, TRACK.NAME AS TRNAME\n",
    "                FROM ALBUM\n",
    "                LEFT JOIN TRACK\n",
    "                ON TRACK.AFK = ALBUM.PK\n",
    "            ) AS B\n",
    "            ON B.FK = A.PK\n",
    "''')\n",
    "cur.fetchall()\n",
    "\n",
    "cur.execute('''\n",
    "            SELECT A.NAME, COUNT(C.NAME)\n",
    "            FROM ARTIST AS A, ALBUM AS B, TRACK AS C\n",
    "            WHERE A.PK=B.FK AND B.PK=C.AFK\n",
    "            GROUP BY A.NAME\n",
    "''')\n",
    "cur.fetchall()"
   ]
  },
  {
   "cell_type": "code",
   "execution_count": null,
   "metadata": {},
   "outputs": [
    {
     "data": {
      "text/plain": [
       "[('아이유', '아이유앨범', '발라드', '아이유노래3'),\n",
       " ('아이유', '아이유앨범', 'R&B', '아이유노래2'),\n",
       " ('아이유', '아이유앨범', 'R&B', '아이유노래3'),\n",
       " ('박효신', '박효신앨범', 'R&B', '박효신노래1'),\n",
       " ('박효신', '박효신앨범', 'R&B', '박효신노래2'),\n",
       " ('박효신', '박효신앨범', 'R&B', '박효신노래3')]"
      ]
     },
     "execution_count": 52,
     "metadata": {},
     "output_type": "execute_result"
    }
   ],
   "source": [
    "#가수-앨범-장르-노래\n",
    "cur.execute('''\n",
    "            SELECT A.NAME, B.NAME, C.NAME, D.NAME\n",
    "            FROM ARTIST AS A, ALBUM AS B, GENRE AS C, TRACK AS D\n",
    "            WHERE A.PK=B.FK AND B.PK=D.AFK AND C.PK=D.GFK\n",
    "            \n",
    "''')\n",
    "cur.fetchall()"
   ]
  },
  {
   "cell_type": "code",
   "execution_count": null,
   "metadata": {},
   "outputs": [
    {
     "data": {
      "text/plain": [
       "[('박효신', '박효신앨범', 'R&B', 3),\n",
       " ('아이유', '아이유앨범', '발라드', 1),\n",
       " ('아이유', '아이유앨범', 'R&B', 2)]"
      ]
     },
     "execution_count": 54,
     "metadata": {},
     "output_type": "execute_result"
    }
   ],
   "source": [
    "cur.execute('''\n",
    "            SELECT A.NAME, B.NAME, C.NAME, COUNT(D.NAME)\n",
    "            FROM ARTIST AS A, ALBUM AS B, GENRE AS C, TRACK AS D\n",
    "            WHERE A.PK=B.FK AND B.PK=D.AFK AND C.PK=D.GFK\n",
    "            GROUP BY A.PK, B.PK, C.PK                           #A.PK로 묶고, 그 다음에 B.PK로 다시 묶고 (묶이는게 존재하면), C.PK로 다시 묶고 (존재하면)\n",
    "''')\n",
    "cur.fetchall()"
   ]
  },
  {
   "cell_type": "code",
   "execution_count": null,
   "metadata": {},
   "outputs": [
    {
     "data": {
      "text/plain": [
       "[('수지', '수지앨범', None),\n",
       " ('박효신', '박효신앨범', '박효신노래1'),\n",
       " ('박효신', '박효신앨범', '박효신노래2'),\n",
       " ('박효신', '박효신앨범', '박효신노래3'),\n",
       " ('아이유', '아이유노래1', None),\n",
       " ('아이유', '아이유앨범', '아이유노래2'),\n",
       " ('아이유', '아이유앨범', '아이유노래3'),\n",
       " ('아이유', '아이유앨범', '아이유노래3')]"
      ]
     },
     "execution_count": 55,
     "metadata": {},
     "output_type": "execute_result"
    }
   ],
   "source": [
    "#VIEW 쓰는 방법\n",
    "cur.execute('''\n",
    "    CREATE VIEW ALBUM_TRACK AS\n",
    "            SELECT ALBUM.FK, ALBUM.NAME AS NAME, TRACK.NAME AS TNAME\n",
    "            FROM ALBUM\n",
    "            LEFT JOIN TRACK\n",
    "            ON TRACK.AFK = ALBUM.PK\n",
    "''')\n",
    "\n",
    "cur.execute('''\n",
    "    SELECT A.NAME, B.NAME, B.TNAME\n",
    "            FROM ARTIST AS A\n",
    "            LEFT JOIN ALBUM_TRACK AS B\n",
    "            ON B.FK = A.PK\n",
    "''')\n",
    "\n",
    "cur.fetchall()"
   ]
  },
  {
   "cell_type": "code",
   "execution_count": null,
   "metadata": {},
   "outputs": [],
   "source": [
    "conn.close()"
   ]
  },
  {
   "cell_type": "code",
   "execution_count": null,
   "metadata": {},
   "outputs": [],
   "source": [
    "#ORM\n",
    "#SNS - 게시글(해쉬태그) 등록/수정/삭제\n",
    "\n",
    "conn = sqlite3.connect('sns.db')\n",
    "cur = conn.cursor()"
   ]
  },
  {
   "cell_type": "code",
   "execution_count": 89,
   "metadata": {},
   "outputs": [
    {
     "data": {
      "text/plain": [
       "<sqlite3.Cursor at 0x29e918bedc0>"
      ]
     },
     "execution_count": 89,
     "metadata": {},
     "output_type": "execute_result"
    }
   ],
   "source": [
    "cur.executescript('''\n",
    "    CREATE TABLE POST(\n",
    "        PK INTEGER PRIMARY KEY\n",
    "    );\n",
    "                  \n",
    "    CREATE TABLE HASHTAG(\n",
    "        PK INTEGER PRIMARY KEY,\n",
    "        TAG TEXT NOT NULL,\n",
    "        COUNT INTEGER DEFAULT 0\n",
    "    );\n",
    "                  \n",
    "    CREATE TABLE POSTTAG(\n",
    "        PFK INTEGER NOT NULL,\n",
    "        TFK INTEGER NOT NULL\n",
    "    );\n",
    "''')"
   ]
  },
  {
   "cell_type": "code",
   "execution_count": 91,
   "metadata": {},
   "outputs": [
    {
     "data": {
      "text/plain": [
       "<sqlite3.Cursor at 0x29e918bedc0>"
      ]
     },
     "execution_count": 91,
     "metadata": {},
     "output_type": "execute_result"
    }
   ],
   "source": [
    "cur.execute('''\n",
    "    ALTER TABLE POST\n",
    "    ADD COLUMN CONTENT TEXT\n",
    "''')"
   ]
  },
  {
   "cell_type": "code",
   "execution_count": null,
   "metadata": {},
   "outputs": [],
   "source": [
    "conn.close()"
   ]
  },
  {
   "cell_type": "code",
   "execution_count": null,
   "metadata": {},
   "outputs": [],
   "source": [
    "conn = sqlite3.connect('playlist.db')\n",
    "cur = conn.cursor()"
   ]
  },
  {
   "cell_type": "code",
   "execution_count": null,
   "metadata": {},
   "outputs": [
    {
     "data": {
      "text/plain": [
       "<sqlite3.Cursor at 0x29e91731b90>"
      ]
     },
     "execution_count": 62,
     "metadata": {},
     "output_type": "execute_result"
    }
   ],
   "source": [
    "cur.execute('''\n",
    "            ALTER TABLE ARTIST\n",
    "            ADD COLUMN temp TEXT NOT NULL DEFAULT ''\n",
    "''')"
   ]
  },
  {
   "cell_type": "code",
   "execution_count": null,
   "metadata": {},
   "outputs": [],
   "source": [
    "conn.close()"
   ]
  },
  {
   "cell_type": "code",
   "execution_count": 87,
   "metadata": {},
   "outputs": [],
   "source": [
    "conn = sqlite3.connect('sns.db')\n",
    "cur = conn.cursor()"
   ]
  },
  {
   "cell_type": "code",
   "execution_count": 88,
   "metadata": {},
   "outputs": [],
   "source": [
    "cur.execute('DROP TABLE POST')\n",
    "cur.execute('DROP TABLE HASHTAG')\n",
    "cur.execute('DROP TABLE POSTTAG')\n",
    "conn.commit()"
   ]
  },
  {
   "cell_type": "code",
   "execution_count": 97,
   "metadata": {},
   "outputs": [
    {
     "data": {
      "text/plain": [
       "(6, [1, 2])"
      ]
     },
     "execution_count": 97,
     "metadata": {},
     "output_type": "execute_result"
    }
   ],
   "source": [
    "#post 등록 프로세스 생성\n",
    "def newPosting(content, *tags):\n",
    "    #1\n",
    "    cur.execute('INSERT INTO POST VALUES(NULL, ?)', (content,))\n",
    "    conn.commit()\n",
    "\n",
    "    cur.execute('SELECT PK FROM POST ORDER BY PK DESC LIMIT 0, 1')\n",
    "    fk = cur.fetchone()[0]\n",
    "\n",
    "    #2\n",
    "    fkList = list()\n",
    "    for tag in tags:\n",
    "        cur.execute('SELECT PK FROM HASHTAG WHERE TAG=?', (tag,))\n",
    "        if cur.fetchone() is None: #태그풀에 있는지 검사 없으면 실행\n",
    "            cur.execute('INSERT INTO HASHTAG (TAG) VALUES (?)', (tag,))\n",
    "            conn.commit()\n",
    "        #무조건 태그풀 존재 왜냐면 없으면 넣었으니깐\n",
    "        cur.execute('SELECT PK FROM HASHTAG WHERE TAG=?', (tag,))\n",
    "        PK = cur.fetchone()[0]\n",
    "        fkList.append(PK)\n",
    "        cur.execute('UPDATE HASHTAG SET COUNT=COUNT+1 WHERE PK=?', (PK,))\n",
    "        conn.commit()\n",
    "\n",
    "    #3\n",
    "    for FK in fkList:\n",
    "        cur.execute('INSERT INTO POSTTAG VALUES(?, ?)', (fk, FK))\n",
    "\n",
    "    # conn.commit()\n",
    "    return fk, fkList\n",
    "\n",
    "newPosting('내용1', 'python', 'alchemy')"
   ]
  },
  {
   "cell_type": "code",
   "execution_count": null,
   "metadata": {},
   "outputs": [],
   "source": [
    "# 등록 - 1 (내용 추가)\n",
    "cur.execute('INSERT INTO POST VALUES(NULL, ?)', (content,))\n",
    "# cur.lastrowid => 얘는 신뢰가 안됨 pk가 아니므로\n",
    "conn.commit()\n",
    "# cur.execute('SELECT PK FROM POST WHERE CONTENT=?', (content,))\n",
    "# or (좀 그렇긴 함 왜냐하면 비교할 애들이 많아서)\n",
    "cur.execute('SELECT PK FROM POST OREDER BY PK DESC LIMIT 0, 1')\n",
    "PK = cur.fetchone()[0]"
   ]
  },
  {
   "cell_type": "code",
   "execution_count": null,
   "metadata": {},
   "outputs": [],
   "source": [
    "#등록 - 2 태그 추가\n",
    "fkList = list()\n",
    "for tag in tags:\n",
    "    cur.execute('SELECT PK FROM HASHTAG TAG=?', (tag,))\n",
    "    PK = cur.fetchone()\n",
    "    if PK:\n",
    "        PK = PK[0]\n",
    "        fkList.append(PK)\n",
    "        cur.execute('UPDATE HASHTAG SET COUNT=COUNT+1 WHERE PK=?', (PK,))\n",
    "        conn.commit()\n",
    "    else:\n",
    "        cur.execute('INSERT INTO HASHTAG VALUES (NULL, ?, 1)', (tag,))\n",
    "        conn.commit()"
   ]
  },
  {
   "cell_type": "code",
   "execution_count": null,
   "metadata": {},
   "outputs": [],
   "source": [
    "#등록 - 3 (1,2 합쳐서)\n",
    "PK, fkList\n",
    "for FK in fkList:\n",
    "    cur.executemany('''\n",
    "                    INSERT INTO POSTTAG\n",
    "                    VALUES(?,?)\n",
    "    ''', (PK, FK))\n",
    "\n",
    "#위에 함수로"
   ]
  },
  {
   "cell_type": "code",
   "execution_count": null,
   "metadata": {},
   "outputs": [],
   "source": [
    "for tag in tags:\n",
    "    cur.execute('SELECT PK FROM HASHTAG TAG=?', (tag,))\n",
    "    if cur.fetchone() is None: #태그풀에 있는지 검사 없으면 실행\n",
    "        cur.execute('INSERT INTO HASHTAG VALUES (NULL, ?, 0)', (tag,))\n",
    "        conn.commit()\n",
    "    #무조건 태그풀 존재 왜냐면 없으면 넣었으니깐\n",
    "    cur.execute('SELECT PK FROM HASHTAG TAG=?', (tag,))\n",
    "    PK = cur.fetchone()[0]\n",
    "    fkList.append(PK)\n",
    "    cur.execute('UPDATE HASHTAG SET COUNT=COUNT+1 WHERE PK=?', (PK,))\n",
    "    conn.commit()"
   ]
  },
  {
   "cell_type": "code",
   "execution_count": 98,
   "metadata": {},
   "outputs": [],
   "source": [
    "#수정\n",
    "def modifyPost(content, *tags):\n",
    "    cur.execute('SELECT PK FROM POST WHERE CONTENT=?', (content,))\n",
    "    PPK = cur.fetchone()[0]\n",
    "    #1. 게시글 찾음\n",
    "\n",
    "    #2. 게시글에 달린 해시태그 목록\n",
    "    cur.execute('SELECT TFK FROM POSTTAG WHERE PFK=?',(PPK,))\n",
    "    tagList = list()\n",
    "    for row in cur.fetchall():\n",
    "        tagList.append(row[0])\n",
    "\n",
    "    #3. 해시태그 찾는 과정\n",
    "    tpkList = list()\n",
    "    for tag in tags:\n",
    "        cur.execute('SELECT PK FROM HASHTAG WHERE TAG=?', (tag,))\n",
    "        if cur.fetchone() is None:\n",
    "            cur.execute('INSERT INTO HASHTAG (TAG) VALUES (?)', (tag,))\n",
    "            conn.commit()\n",
    "        \n",
    "        cur.execute('SELECT PK FROM HASHTAG WHERE TAG=?', (tag,))\n",
    "        TPK = cur.fetchone()[0]\n",
    "        tpkList.append(TPK)\n",
    "\n",
    "        #기존 태그 일치하는지 비교\n",
    "        if TPK not in tagList:\n",
    "            cur.execute('UPDATE HASHTAG SET COUNT=COUNT+1 WHERE PK=?', (TPK,))\n",
    "            cur.execute('INSERT INTO POSTTAG VALUES(?,?)', (PPK, TPK))\n",
    "            conn.commit()\n",
    "\n",
    "    #4. 삭제된 해시태그 찾는과정\n",
    "    for tag in tagList:\n",
    "        if tag not in tpkList:\n",
    "            cur.execute('UPDATE HASHTAG SET COUNT = COUNT - 1 WHERE PK=?', (tag,))\n",
    "            cur.execute('DELETE FROM POSTTAGE WHERE PFK=? AND TFK=?', (PPK, tag))\n",
    "            conn.commit()\n",
    "\n",
    "modifyPost('내용1', 'python', 'orm')"
   ]
  },
  {
   "cell_type": "markdown",
   "metadata": {},
   "source": [
    "# RDBMS(SQLite) - not a database\n",
    "\n",
    "Entity and Relation - Entity is a row and Relation is the table\n",
    "\n",
    "Table1         Table2\n",
    "PK     ------> FK\n",
    "\n",
    "Minimize duplicate entities for each tables\n",
    "\n",
    "Using SQL order RDBMS(SQLite) to post, select, etc.\n",
    "\n",
    "### Order to write SQL\n",
    "\n",
    "1. SELECT _____                       \n",
    "2. FROM ARTIST                        \n",
    "3. INNER JOIN TABLE                    \n",
    "4. ON ALBUM.FK = ARTIST.PK            \n",
    "5. SELECT ARTIST.NAME, ALBUM.NAME     \n",
    "\n",
    "### Some SQL\n",
    "\n",
    "For INSERT query, the numbers of columns and values must be same\n",
    "\n",
    "LIKE - %(wildcard - anything)\n",
    "\n",
    "GROUP BY / ORDER BY / JOIN (CROSS (all possible sets), INNER (A n B), LEFT (A), RIGHT(B), OUTER) ON, AS (select one table and name such as A)\n",
    "\n",
    "VIEW - SQL command that often using\n",
    "\n",
    "```\n",
    "cur.execute('''\n",
    "    CREATE VIEW ALBUM_TRACK AS\n",
    "            SELECT ALBUM.FK, ALBUM.NAME AS NAME, TRACK.NAME AS TNAME\n",
    "            FROM ALBUM\n",
    "            LEFT JOIN TRACK\n",
    "            ON TRACK.AFK = ALBUM.PK\n",
    "''')\n",
    "```\n",
    "\n",
    "### UNIQUE and DISTINCT\n",
    "\n",
    "Unique is used when making a column\n",
    "\n",
    "Distinct is a function that dividing data by unique values\n",
    "\n",
    "### Join\n",
    "join is faster than duplicate sql query statement but the code will be longer, hard to change\n",
    "\n",
    "So we use view table\n",
    "\n",
    "If we do not put GROUP BY and call COUNT(ALBUM.NAME) then, the result will show only one value\n",
    "\n",
    "* executescript - execute bunch of SQL statement\n",
    "* executemany - execute SQL statement with iterable indicator\n",
    "* execute - execute only one SQL statement\n",
    "\n",
    "If we want to search like using %\n",
    "\n",
    "```\n",
    "cur.execute('SELECT PK FROM ARTIST WHERE NAME LIKE ?', ['%'+artist+'%']) \n",
    "```\n",
    "\n",
    "Search the name value that contains artist value\n",
    "\n",
    "Ways to join tables\n",
    "\n",
    "ex) ARTIST - ALBUM - TRACK\n",
    "\n",
    "1. \n",
    "```\n",
    "cur.execute('''\n",
    "            SELECT A.NAME, B.NAME, C.NAME\n",
    "            FROM ARTIST AS A\n",
    "            LEFT JOIN ALBUM AS B\n",
    "            ON B.FK = A.PK\n",
    "            LEFT JOIN TRACK AS C\n",
    "            ON C.AFK=B.PK\n",
    "''')\n",
    "```\n",
    "\n",
    "2. \n",
    "```\n",
    "cur.execute('''\n",
    "            SELECT A.NAME, B.NAME, B.TRNAME\n",
    "            FROM ARTIST AS A\n",
    "            LEFT JOIN (\n",
    "                SELECT ALBUM.FK, ALBUM.NAME AS NAME, TRACK.NAME AS TRNAME\n",
    "                FROM ALBUM\n",
    "                LEFT JOIN TRACK\n",
    "                ON TRACK.AFK = ALBUM.PK\n",
    "            ) AS B\n",
    "            ON B.FK = A.PK\n",
    "''')\n",
    "```\n",
    "\n",
    "3. \n",
    "```\n",
    "cur.execute('''\n",
    "            SELECT A.NAME, COUNT(C.NAME)\n",
    "            FROM ARTIST AS A, ALBUM AS B, TRACK AS C\n",
    "            WHERE A.PK=B.FK AND B.PK=C.AFK\n",
    "            GROUP BY A.NAME\n",
    "''')\n",
    "```\n",
    "\n",
    "The 3rd way is much slower so we have to avoid it\n",
    "\n",
    "### How to make SNS post func\n",
    "\n",
    "```\n",
    "conn = sqlite3.connect('sns.db')\n",
    "cur = conn.cursor()\n",
    "#Connect and load cursor\n",
    "\n",
    "cur.executescript('''\n",
    "    CREATE TABLE POST(\n",
    "        PK INTEGER PRIMARY KEY\n",
    "    );\n",
    "                  \n",
    "    CREATE TABLE HASHTAG(\n",
    "        PK INTEGER PRIMARY KEY,\n",
    "        TAG TEXT NOT NULL,\n",
    "        COUNT INTEGER DEFAULT 0\n",
    "    );\n",
    "                  \n",
    "    CREATE TABLE POSTTAG(\n",
    "        PFK INTEGER NOT NULL,\n",
    "        TFK INTEGER NOT NULL\n",
    "    );\n",
    "''')\n",
    "\n",
    "#Create Tables\n",
    "\n",
    "cur.execute('''\n",
    "    ALTER TABLE POST\n",
    "    ADD COLUMN CONTENT TEXT\n",
    "''')\n",
    "\n",
    "#Post a new posting\n",
    "def newPosting(content, *tags):\n",
    "    #1\n",
    "    cur.execute('INSERT INTO POST VALUES(NULL, ?)', (content,))\n",
    "    conn.commit()\n",
    "\n",
    "    cur.execute('SELECT PK FROM POST ORDER BY PK DESC LIMIT 0, 1')\n",
    "    fk = cur.fetchone()[0]\n",
    "\n",
    "    #2\n",
    "    fkList = list()\n",
    "    for tag in tags:\n",
    "        cur.execute('SELECT PK FROM HASHTAG WHERE TAG=?', (tag,))\n",
    "        if cur.fetchone() is None: #Determine whether tag exists\n",
    "            cur.execute('INSERT INTO HASHTAG (TAG) VALUES (?)', (tag,))\n",
    "            conn.commit()\n",
    "        #Tag must be exists since if there is no tag math, we already put them in\n",
    "        cur.execute('SELECT PK FROM HASHTAG WHERE TAG=?', (tag,))\n",
    "        PK = cur.fetchone()[0]\n",
    "        fkList.append(PK)\n",
    "        cur.execute('UPDATE HASHTAG SET COUNT=COUNT+1 WHERE PK=?', (PK,))\n",
    "        conn.commit()\n",
    "\n",
    "    #3\n",
    "    for FK in fkList:\n",
    "        cur.execute('INSERT INTO POSTTAG VALUES(?, ?)', (fk, FK))\n",
    "\n",
    "    # conn.commit()\n",
    "    return fk, fkList\n",
    "\n",
    "newPosting('내용1', 'python', 'alchemy')\n",
    "\n",
    "#Modify Post\n",
    "def modifyPost(content, *tags):\n",
    "    cur.execute('SELECT PK FROM POST WHERE CONTENT=?', (content,))\n",
    "    PPK = cur.fetchone()[0]\n",
    "    #1. Find posting\n",
    "\n",
    "    #2. Hashtag that is on the posting\n",
    "    cur.execute('SELECT TFK FROM POSTTAG WHERE PFK=?',(PPK,))\n",
    "    tagList = list()\n",
    "    for row in cur.fetchall():\n",
    "        tagList.append(row[0])\n",
    "\n",
    "    #3. Finding hashtag\n",
    "    tpkList = list()\n",
    "    for tag in tags:\n",
    "        cur.execute('SELECT PK FROM HASHTAG WHERE TAG=?', (tag,))\n",
    "        if cur.fetchone() is None:\n",
    "            cur.execute('INSERT INTO HASHTAG (TAG) VALUES (?)', (tag,))\n",
    "            conn.commit()\n",
    "        \n",
    "        cur.execute('SELECT PK FROM HASHTAG WHERE TAG=?', (tag,))\n",
    "        TPK = cur.fetchone()[0]\n",
    "        tpkList.append(TPK)\n",
    "\n",
    "        #Compare whether tag already exists is same or not\n",
    "        if TPK not in tagList:\n",
    "            cur.execute('UPDATE HASHTAG SET COUNT=COUNT+1 WHERE PK=?', (TPK,))\n",
    "            cur.execute('INSERT INTO POSTTAG VALUES(?,?)', (PPK, TPK))\n",
    "            conn.commit()\n",
    "\n",
    "    #4. Finding deleted hashtag\n",
    "    for tag in tagList:\n",
    "        if tag not in tpkList:\n",
    "            cur.execute('UPDATE HASHTAG SET COUNT = COUNT - 1 WHERE PK=?', (tag,))\n",
    "            cur.execute('DELETE FROM POSTTAGE WHERE PFK=? AND TFK=?', (PPK, tag))\n",
    "            conn.commit()\n",
    "\n",
    "modifyPost('내용1', 'python', 'orm')\n",
    "```"
   ]
  }
 ],
 "metadata": {
  "kernelspec": {
   "display_name": "KoreaUniv",
   "language": "python",
   "name": "python3"
  },
  "language_info": {
   "codemirror_mode": {
    "name": "ipython",
    "version": 3
   },
   "file_extension": ".py",
   "mimetype": "text/x-python",
   "name": "python",
   "nbconvert_exporter": "python",
   "pygments_lexer": "ipython3",
   "version": "3.9.18"
  }
 },
 "nbformat": 4,
 "nbformat_minor": 2
}
