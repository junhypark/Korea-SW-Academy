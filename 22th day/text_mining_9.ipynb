{
 "cells": [
  {
   "cell_type": "code",
   "execution_count": 1,
   "metadata": {},
   "outputs": [],
   "source": [
    "import numpy as np\n",
    "import matplotlib.pyplot as plt"
   ]
  },
  {
   "cell_type": "code",
   "execution_count": 2,
   "metadata": {},
   "outputs": [],
   "source": [
    "# Multilayer\n",
    "def dataLoader(x, y, n=1):\n",
    "    D = np.random.permutation(np.c_[x,y])\n",
    "\n",
    "    for i in range(len(x)//n):\n",
    "        yield (D[i*n:i*n+n,:-2], D[i*n:i*n+n, -2:])"
   ]
  },
  {
   "cell_type": "code",
   "execution_count": null,
   "metadata": {},
   "outputs": [],
   "source": [
    "X = np.array([[0,0], [0,1], [1,0], [1,1]])\n",
    "Y = np.array([[0],[1], [1], [1]])   # OR"
   ]
  },
  {
   "cell_type": "code",
   "execution_count": 8,
   "metadata": {},
   "outputs": [],
   "source": [
    "def logistic(x):\n",
    "    return np.exp(x)/(1+np.exp(x))\n",
    "def dlogistic(x):\n",
    "    return logistic(x)*(1-logistic(x))"
   ]
  },
  {
   "cell_type": "code",
   "execution_count": null,
   "metadata": {},
   "outputs": [],
   "source": [
    "# logistic\n",
    "\n",
    "W = np.random.rand(X.shape[-1], Y.shape[-1])\n",
    "B = np.random.rand(Y.shape[-1])\n",
    "\n",
    "lr = 1e-3\n",
    "epoch = 100000\n",
    "\n",
    "J1 = lambda y, _y: -(y**np.log(_y)+(1-y)*np.log(1-_y))\n",
    "J2 = lambda y, _y: (y-_y)**2\n",
    "N=4\n",
    "\n",
    "loss = list()\n",
    "\n",
    "for i in range(epoch):\n",
    "    for x,y in dataLoader(X, Y, N):\n",
    "        # FeedForward\n",
    "        z = x@W+B\n",
    "        yhat1 = logistic(z[:,:1])\n",
    "        yhat2 = z[:,1:]\n",
    "\n",
    "        # y1 = sigmoid(x1w1 + x2w2) ==> NLL(Y[0])\n",
    "        # y2 = x1w1 + x2w2 ==> SE(Y[1])\n",
    "\n",
    "        # Back propagation\n",
    "        dLoss1 = -(y[:,:1]-yhat1)\n",
    "        dLoss2 = -(y[:,1:]-yhat2)\n",
    "        dZ = dlogistic(z)*dLoss1\n",
    "        dB = np.sum(dZ)+np.sum(dLoss2)\n",
    "        dW = x.T@dZ + x.T@dLoss2\n",
    "        B = B-lr*dB\n",
    "        W = W-lr*dW\n",
    "\n",
    "    if epoch % 100 == 0:\n",
    "        loss.append(np.sum(J1(Y, logistic(X@W+B)[:,:1]) + np.sum(J2(Y, X@W+B)[:,1:])))"
   ]
  },
  {
   "cell_type": "code",
   "execution_count": 4,
   "metadata": {},
   "outputs": [],
   "source": [
    "# sotfmax\n",
    "# [0000] => 확률분포로 바꿔줌\n",
    "# 확률이 제일 커야하는 max 외에는 지수에 의해서 0값이 안나옴\n",
    "# output node에서 나온는 값을 activation function에 의해서 확률이 나옴\n",
    "# 즉, x1,x2가 존재할때 exp(x1) / exp(x1) + exp(x2)로 값이 나온다\n",
    "# 이때 실제 Y값과 비교하여 Loss를 구하고 이것을 cross entropy 라고 한다\n",
    "\n",
    "# CE => -sum(i까지)(yi*log(yhati))\n",
    "# sigmoid - BCE\n",
    "# square - SE"
   ]
  },
  {
   "cell_type": "code",
   "execution_count": 5,
   "metadata": {},
   "outputs": [],
   "source": [
    "def softmax(x):\n",
    "    xmax = np.max(x, axis = 1, keepdims=1)\n",
    "    _x = x - xmax\n",
    "    return np.exp(x)/np.sum(np.exp(x), axis = 1, keepdims=True)"
   ]
  },
  {
   "cell_type": "code",
   "execution_count": 15,
   "metadata": {},
   "outputs": [],
   "source": [
    "Y = np.array([[1, 0],\n",
    "              [0, 1],\n",
    "              [0, 1],\n",
    "              [0, 1]])\n",
    "X = np.array([[0,0], [0,1], [1,0], [1,1]])"
   ]
  },
  {
   "cell_type": "code",
   "execution_count": 16,
   "metadata": {},
   "outputs": [
    {
     "ename": "ValueError",
     "evalue": "operands could not be broadcast together with shapes (4,2) (4,) ",
     "output_type": "error",
     "traceback": [
      "\u001b[1;31m---------------------------------------------------------------------------\u001b[0m",
      "\u001b[1;31mValueError\u001b[0m                                Traceback (most recent call last)",
      "Cell \u001b[1;32mIn[16], line 19\u001b[0m\n\u001b[0;32m     16\u001b[0m yhat \u001b[38;5;241m=\u001b[39m softmax(z)\n\u001b[0;32m     18\u001b[0m \u001b[38;5;66;03m# Back propagation\u001b[39;00m\n\u001b[1;32m---> 19\u001b[0m dLoss \u001b[38;5;241m=\u001b[39m \u001b[38;5;241m-\u001b[39m(\u001b[43my\u001b[49m\u001b[38;5;241;43m-\u001b[39;49m\u001b[43myhat\u001b[49m)  \u001b[38;5;66;03m# softmax-loss 미분\u001b[39;00m\n\u001b[0;32m     20\u001b[0m dB \u001b[38;5;241m=\u001b[39m np\u001b[38;5;241m.\u001b[39msum(dLoss)\n\u001b[0;32m     21\u001b[0m dW \u001b[38;5;241m=\u001b[39m x\u001b[38;5;241m.\u001b[39mT\u001b[38;5;129m@dLoss\u001b[39m\n",
      "\u001b[1;31mValueError\u001b[0m: operands could not be broadcast together with shapes (4,2) (4,) "
     ]
    }
   ],
   "source": [
    "W = np.random.rand(X.shape[-1], Y.shape[-1])\n",
    "B = np.random.rand(Y.shape[-1])\n",
    "\n",
    "lr = 1e-2\n",
    "epoch = 100000\n",
    "\n",
    "J = lambda y, _y: -np.sum(y*np.log(_y))\n",
    "N=4\n",
    "\n",
    "loss = list()\n",
    "\n",
    "for i in range(epoch):\n",
    "    for x,y in dataLoader(X, Y, N):\n",
    "        # FeedForward\n",
    "        z = x@W+B\n",
    "        yhat = softmax(z)\n",
    "\n",
    "        # Back propagation\n",
    "        dLoss = -(y-yhat)  # softmax-loss 미분\n",
    "        dB = np.sum(dLoss)\n",
    "        dW = x.T@dLoss\n",
    "        B = B-lr*dB\n",
    "        W = W-lr*dW\n",
    "\n",
    "    if epoch % 100 == 0:\n",
    "        loss.append(np.sum(J(Y, softmax(X@W+B))))"
   ]
  },
  {
   "cell_type": "code",
   "execution_count": 2,
   "metadata": {},
   "outputs": [],
   "source": [
    "Y = np.array([[0],\n",
    "              [1],\n",
    "              [1],\n",
    "              [0]])\n",
    "X = np.array([[0,0], [0,1], [1,0], [1,1]])"
   ]
  },
  {
   "cell_type": "code",
   "execution_count": 3,
   "metadata": {},
   "outputs": [],
   "source": [
    "def dataLoader(x, y, n=1):\n",
    "    # shuffling\n",
    "    # index를 mix해서 뽑아서 x,y element 뽑기 [i for i in range(len(x))]\n",
    "    D = np.random.permutation(np.c_[x,y])\n",
    "\n",
    "    # batch\n",
    "    for i in range(len(x)//n):\n",
    "        yield (D[i*n:i*n+n,:-1], D[i*n:i*n+n, -1:])"
   ]
  },
  {
   "cell_type": "code",
   "execution_count": 9,
   "metadata": {},
   "outputs": [],
   "source": [
    "H = 2\n",
    "\n",
    "W1 = np.random.rand(X.shape[-1], H)\n",
    "B1 = np.random.rand(H)\n",
    "\n",
    "W2 = np.random.rand(H, Y.shape[-1])\n",
    "B2 = np.random.rand(Y.shape[-1])\n",
    "\n",
    "lr = 1e-2\n",
    "epoch = 100000\n",
    "\n",
    "J = lambda y, _y: np.sum((y-_y)**2)\n",
    "N=4\n",
    "\n",
    "loss = list()\n",
    "# Multi Layer Perceptron\n",
    "# Hidden Layer; Activate Func. (Sigmoid-Logistic)\n",
    "# Output Layer; Value compare => P(Logistic)\n",
    "#                               , or P 분포 (Softmax)\n",
    "for i in range(epoch):\n",
    "    for x,y in dataLoader(X, Y, N):\n",
    "        # FeedForward\n",
    "        z1 = x@W1+B1\n",
    "        x2 = logistic(z1)\n",
    "        z2 = x2@W2 + B2\n",
    "        \n",
    "\n",
    "        # Back propagation\n",
    "        dLoss = -(y-z2)  # SE\n",
    "        dB2 = np.sum(dLoss)\n",
    "        dW2 = x2.T@dLoss\n",
    "        \n",
    "        dz2 = dLoss@W2.T\n",
    "        dz1 = dlogistic(z1)*dz2\n",
    "        dB1 = np.sum(dz1)\n",
    "        dW1 = x.T@dz1\n",
    "\n",
    "        B1 = B1-lr*dB1\n",
    "        W1 = W1-lr*dW1\n",
    "        B2 = B2-lr*dB2\n",
    "        W2 = W2-lr*dW2\n",
    "\n",
    "    if epoch % 100 == 0:\n",
    "        loss.append(np.sum(J(Y, logistic(X@W1+B1)@W2+B2)))"
   ]
  },
  {
   "cell_type": "code",
   "execution_count": 11,
   "metadata": {},
   "outputs": [],
   "source": [
    "def softmax(x):\n",
    "    xmax = np.max(x, axis = 1, keepdims=1)\n",
    "    _x = x - xmax\n",
    "    return np.exp(x)/np.sum(np.exp(x), axis = 1, keepdims=True)"
   ]
  },
  {
   "cell_type": "code",
   "execution_count": 16,
   "metadata": {},
   "outputs": [],
   "source": [
    "H = 2\n",
    "\n",
    "W1 = np.random.rand(X.shape[-1], H)\n",
    "B1 = np.random.rand(H)\n",
    "\n",
    "W2 = np.random.rand(H, Y.shape[-1])\n",
    "B2 = np.random.rand(Y.shape[-1])\n",
    "\n",
    "lr = 1e-2\n",
    "epoch = 100000\n",
    "\n",
    "J = lambda y, _y: np.sum((y-_y)**2)\n",
    "N=4\n",
    "\n",
    "loss = list()\n",
    "# Multi Layer Perceptron\n",
    "# Hidden Layer; Activate Func. (Sigmoid-Logistic)\n",
    "# Output Layer; Value compare => P(Logistic)\n",
    "#                               , or P 분포 (Softmax)\n",
    "for i in range(epoch):\n",
    "    for x,y in dataLoader(X, Y, N):\n",
    "        # FeedForward\n",
    "        z1 = x@W1+B1\n",
    "        x2 = logistic(z1)\n",
    "        z2 = x2@W2 + B2\n",
    "        \n",
    "        p = logistic(z2)\n",
    "\n",
    "        # Back propagation\n",
    "        dLoss = -(y-p)  # SE\n",
    "        dB2 = np.sum(dLoss)\n",
    "        dW2 = x2.T@dLoss\n",
    "        \n",
    "        dz2 = dLoss@W2.T\n",
    "        dz1 = dlogistic(z1)*dz2\n",
    "        dB1 = np.sum(dz1)\n",
    "        dW1 = x.T@dz1\n",
    "\n",
    "        B1 = B1-lr*dB1\n",
    "        W1 = W1-lr*dW1\n",
    "        B2 = B2-lr*dB2\n",
    "        W2 = W2-lr*dW2\n",
    "\n",
    "    if epoch % 100 == 0:\n",
    "        loss.append(np.sum(J(Y, softmax(logistic(X@W1+B1)@W2+B2))))"
   ]
  },
  {
   "cell_type": "code",
   "execution_count": 17,
   "metadata": {},
   "outputs": [
    {
     "data": {
      "text/plain": [
       "[<matplotlib.lines.Line2D at 0x283483a68e0>]"
      ]
     },
     "execution_count": 17,
     "metadata": {},
     "output_type": "execute_result"
    },
    {
     "data": {
      "image/png": "[encoded data removed]",
      "text/plain": [
       "<Figure size 640x480 with 1 Axes>"
      ]
     },
     "metadata": {},
     "output_type": "display_data"
    }
   ],
   "source": [
    "plt.plot(loss)"
   ]
  }
 ],
 "metadata": {
  "kernelspec": {
   "display_name": "KoreaUniv",
   "language": "python",
   "name": "python3"
  },
  "language_info": {
   "codemirror_mode": {
    "name": "ipython",
    "version": 3
   },
   "file_extension": ".py",
   "mimetype": "text/x-python",
   "name": "python",
   "nbconvert_exporter": "python",
   "pygments_lexer": "ipython3",
   "version": "3.9.18"
  }
 },
 "nbformat": 4,
 "nbformat_minor": 2
}
