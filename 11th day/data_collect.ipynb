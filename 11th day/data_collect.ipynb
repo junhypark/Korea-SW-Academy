{
 "cells": [
  {
   "cell_type": "code",
   "execution_count": null,
   "metadata": {},
   "outputs": [],
   "source": [
    "# (1)         (2)         (3)\n",
    "# RDBMS       ORM-CORE    ORM\n",
    "#             Meta\n",
    "#        engine       declrative-base \n",
    "#     connect dialect\n",
    "#         session\n",
    "# 물리적 Table   Table 객체 Class 객체\n",
    "# Database 저장   meta.tables base 저장\n",
    "#                 저장    \n",
    "# -----------------------------------\n",
    "#                     Mapper: namespace\n",
    "\n",
    "# 해결책: declrative-base를 계속 날리고 생성하면 된다"
   ]
  },
  {
   "cell_type": "code",
   "execution_count": null,
   "metadata": {},
   "outputs": [],
   "source": [
    "from sqlalchemy.engine import create_engine\n",
    "from sqlalchemy.orm.session import sessionmaker\n",
    "from sqlalchemy.ext.declarative import declarative_base\n",
    "from sqlalchemy.schema import Column, ForeignKey\n",
    "from sqlalchemy.types import Integer, Text\n",
    "from sqlalchemy.orm import relationship"
   ]
  },
  {
   "cell_type": "code",
   "execution_count": null,
   "metadata": {},
   "outputs": [],
   "source": [
    "sess.close()\n",
    "engine.connect().close()\n",
    "engine.dispose()\n"
   ]
  },
  {
   "cell_type": "code",
   "execution_count": null,
   "metadata": {},
   "outputs": [],
   "source": [
    "engine = create_engine('sqlite:///:memory:', echo=True)\n",
    "session = sessionmaker(engine)\n",
    "sess = session()"
   ]
  },
  {
   "cell_type": "code",
   "execution_count": null,
   "metadata": {},
   "outputs": [],
   "source": [
    "base = declarative_base()"
   ]
  },
  {
   "cell_type": "code",
   "execution_count": null,
   "metadata": {},
   "outputs": [],
   "source": [
    "base.metadata.reflect(engine)"
   ]
  },
  {
   "cell_type": "code",
   "execution_count": null,
   "metadata": {},
   "outputs": [],
   "source": [
    "base.metadata.tables"
   ]
  },
  {
   "cell_type": "code",
   "execution_count": null,
   "metadata": {},
   "outputs": [],
   "source": [
    "class Artist(base):\n",
    "    __table__ = base.metadata.tables['ARTIST']"
   ]
  },
  {
   "cell_type": "code",
   "execution_count": null,
   "metadata": {},
   "outputs": [],
   "source": [
    "sing = sess.query(Artist).all()[0]"
   ]
  },
  {
   "cell_type": "code",
   "execution_count": null,
   "metadata": {},
   "outputs": [],
   "source": [
    "class Album(base):\n",
    "    __table__ = base.metadata.tables['ALBUM']"
   ]
  },
  {
   "cell_type": "code",
   "execution_count": null,
   "metadata": {},
   "outputs": [],
   "source": [
    "b = sess.query(Album).filter(Album.PK == 1).one()"
   ]
  },
  {
   "cell_type": "code",
   "execution_count": null,
   "metadata": {},
   "outputs": [],
   "source": [
    "del base"
   ]
  },
  {
   "cell_type": "code",
   "execution_count": null,
   "metadata": {},
   "outputs": [],
   "source": [
    "class Artist(base):\n",
    "    __tablename__ = 'T_ARTIST'\n",
    "    pk = Column('PK', Integer, primary_key = True)\n",
    "    name = Column('NAME', Text)\n",
    "\n",
    "class Album(base):\n",
    "    __tablename__ = 'T_ALBUM'\n",
    "    pk = Column('PK', Integer, primary_key = True)\n",
    "    name = Column('NAME', Text)\n",
    "    fk = Column('FK', ForeignKey(Artist.pk))"
   ]
  },
  {
   "cell_type": "code",
   "execution_count": null,
   "metadata": {},
   "outputs": [],
   "source": [
    "base.metadata.create_all(engine)"
   ]
  },
  {
   "cell_type": "code",
   "execution_count": null,
   "metadata": {},
   "outputs": [],
   "source": [
    "a = Artist(name='수지')\n",
    "sess.add(a)\n",
    "sess.commit()\n",
    "\n",
    "sess.add(Album(name='수지앨범', fk = a.pk))\n",
    "sess.commit()"
   ]
  },
  {
   "cell_type": "code",
   "execution_count": null,
   "metadata": {},
   "outputs": [],
   "source": [
    "sess.query(Artist).join(Album).all()"
   ]
  },
  {
   "cell_type": "code",
   "execution_count": null,
   "metadata": {},
   "outputs": [],
   "source": [
    "del base    # base 없앰\n",
    "base = declarative_base()   # base 새로 만들고\n",
    "base.metadata.reflect(engine)   # engine으로부터 reflect"
   ]
  },
  {
   "cell_type": "code",
   "execution_count": null,
   "metadata": {},
   "outputs": [],
   "source": [
    "class Artist(base):\n",
    "    __table__ = base.metadata.tables['T_ARTIST']\n",
    "\n",
    "    pk = base.metadata.tables['T_ARTIST'].c.PK\n",
    "    name = base.metadata.tables['T_ARTIST'].c.NAME\n",
    "    albums = relationship('Album', back_populates='artist', uselist=True)\n",
    "\n",
    "class Album(base):\n",
    "    __table__ = base.metadata.tables['T_ALBUM']\n",
    "    \n",
    "    pk = base.metadata.tables['T_ALBUM'].c.PK\n",
    "    name = base.metadata.tables['T_ALBUM'].c.NAME\n",
    "    fk = base.metadata.tables['T_ALBUM'].c.FK\n",
    "    artist = relationship('Artist', back_populates='albums', uselist=False)"
   ]
  },
  {
   "cell_type": "code",
   "execution_count": null,
   "metadata": {},
   "outputs": [],
   "source": [
    "a = sess.query(Artist).all()[0]"
   ]
  },
  {
   "cell_type": "code",
   "execution_count": null,
   "metadata": {},
   "outputs": [],
   "source": [
    "a.albums.append(Album(name='수지앨범2', fk=a.pk))\n",
    "# 객체 지향에 맞지 않는 방식"
   ]
  },
  {
   "cell_type": "code",
   "execution_count": null,
   "metadata": {},
   "outputs": [],
   "source": [
    "sess.dirty, sess.is_modified(a)"
   ]
  },
  {
   "cell_type": "code",
   "execution_count": null,
   "metadata": {},
   "outputs": [],
   "source": [
    "sess.commit()"
   ]
  },
  {
   "cell_type": "code",
   "execution_count": null,
   "metadata": {},
   "outputs": [],
   "source": [
    "len(a.albums), a.albums[-1].name"
   ]
  },
  {
   "cell_type": "code",
   "execution_count": null,
   "metadata": {},
   "outputs": [],
   "source": [
    "del base\n",
    "base = declarative_base()\n",
    "base.metadata.reflect(engine)"
   ]
  },
  {
   "cell_type": "code",
   "execution_count": null,
   "metadata": {},
   "outputs": [],
   "source": [
    "class Artist(base):\n",
    "    __table__ = base.metadata.tables['T_ARTIST']\n",
    "\n",
    "    pk = base.metadata.tables['T_ARTIST'].c.PK\n",
    "    name = base.metadata.tables['T_ARTIST'].c.NAME\n",
    "    albums = relationship('Album', back_populates='artist', uselist=True)\n",
    "\n",
    "    def addAlbum(self, s, name):\n",
    "        s.add(Album(name=name, fk=self.pk))\n",
    "        s.commit()\n",
    "    def delAlbum(self, s, name):\n",
    "        # album = s.query(Album).filter(Album.name == name).one()\n",
    "        # 혹은 이런식으로\n",
    "        album = list(filter(lambda a: a.name == name, self.albums))[0]\n",
    "        self.albums.remove(album)\n",
    "        s.commit()\n",
    "\n",
    "class Album(base):\n",
    "    __table__ = base.metadata.tables['T_ALBUM']\n",
    "    \n",
    "    pk = base.metadata.tables['T_ALBUM'].c.PK\n",
    "    name = base.metadata.tables['T_ALBUM'].c.NAME\n",
    "    fk = base.metadata.tables['T_ALBUM'].c.FK\n",
    "    artist = relationship('Artist', back_populates='albums', uselist=False)"
   ]
  },
  {
   "cell_type": "code",
   "execution_count": null,
   "metadata": {},
   "outputs": [],
   "source": [
    "a = sess.query(Artist).all()[0]"
   ]
  },
  {
   "cell_type": "code",
   "execution_count": null,
   "metadata": {},
   "outputs": [],
   "source": [
    "a.addAlbum(sess, '수지앨범3')"
   ]
  },
  {
   "cell_type": "code",
   "execution_count": null,
   "metadata": {},
   "outputs": [],
   "source": [
    "len(a.albums), a.albums[-1].name"
   ]
  },
  {
   "cell_type": "code",
   "execution_count": null,
   "metadata": {},
   "outputs": [],
   "source": [
    "a.delAlbum(sess, '수지앨범3')"
   ]
  },
  {
   "cell_type": "code",
   "execution_count": null,
   "metadata": {},
   "outputs": [],
   "source": [
    "len(a.albums), a.albums[-1].name"
   ]
  },
  {
   "cell_type": "code",
   "execution_count": null,
   "metadata": {},
   "outputs": [],
   "source": [
    "# 숙제\n",
    "# 포스팅 + 해시태그"
   ]
  },
  {
   "cell_type": "code",
   "execution_count": null,
   "metadata": {},
   "outputs": [],
   "source": [
    "# -------------------------------------------------------------------------------------\n",
    "# -------------------------------------------------------------------------------------\n",
    "# -------------------------------------------------------------------------------------\n",
    "# -------------------------------------------------------------------------------------\n",
    "# -------------------------------------------------------------------------------------\n",
    "# -------------------------------------------------------------------------------------\n",
    "# -------------------------------------------------------------------------------------"
   ]
  },
  {
   "cell_type": "code",
   "execution_count": null,
   "metadata": {},
   "outputs": [],
   "source": [
    "# Scraping => 사이트마다의 특성을 알아야함\n",
    "# 특히, 한국말로 된 한국 사이트 특징을 알아야함"
   ]
  },
  {
   "cell_type": "code",
   "execution_count": null,
   "metadata": {},
   "outputs": [],
   "source": [
    "# 뽐뿌에서 게시글 긁고 댓글 긁는거 해보자\n",
    "# pagenation - page 숫자 / 눌러보고 주소가 바뀌는지 확인하는게 좋다"
   ]
  },
  {
   "cell_type": "code",
   "execution_count": null,
   "metadata": {},
   "outputs": [],
   "source": [
    "from requests import request\n",
    "\n",
    "url = 'https://www.ppomppu.co.kr/zboard/zboard.php'\n",
    "params = {\n",
    "    'id':'freeboard',\n",
    "    'page': 1\n",
    "}\n",
    "\n",
    "resp = request('GET', url, params=params)"
   ]
  },
  {
   "cell_type": "code",
   "execution_count": null,
   "metadata": {},
   "outputs": [],
   "source": [
    "resp.headers['content-type']"
   ]
  },
  {
   "cell_type": "code",
   "execution_count": null,
   "metadata": {},
   "outputs": [],
   "source": [
    "resp.encoding"
   ]
  },
  {
   "cell_type": "code",
   "execution_count": null,
   "metadata": {},
   "outputs": [],
   "source": [
    "resp.text\n",
    "# text에서 한글나온다고 잘 나온느게 아님, 코드값이 다름"
   ]
  },
  {
   "cell_type": "code",
   "execution_count": null,
   "metadata": {},
   "outputs": [],
   "source": [
    "from bs4 import BeautifulSoup\n",
    "\n",
    "dom = BeautifulSoup(resp.text, 'html.parser')"
   ]
  },
  {
   "cell_type": "code",
   "execution_count": null,
   "metadata": {},
   "outputs": [],
   "source": [
    "from requests.compat import urljoin\n",
    "\n",
    "for tag in (dom.select('#revolution_main_table tr#headNotice ~ tr > td:nth-child(3) > a')):\n",
    "    print(urljoin(url, tag.attrs['href']))"
   ]
  },
  {
   "cell_type": "code",
   "execution_count": null,
   "metadata": {},
   "outputs": [],
   "source": [
    "resp = request('GET', 'https://www.ppomppu.co.kr/zboard/view.php?id=freeboard&page=1&divpage=1623&no=8711417')\n",
    "# 본문 가져오기"
   ]
  },
  {
   "cell_type": "code",
   "execution_count": null,
   "metadata": {},
   "outputs": [],
   "source": [
    "resp.headers['content-type']"
   ]
  },
  {
   "cell_type": "code",
   "execution_count": null,
   "metadata": {},
   "outputs": [],
   "source": [
    "dom = BeautifulSoup(resp.text, 'html.parser')\n",
    "# parser 마다 결과가 다른데 찾을 수 있거나 없을 때가 있음\n",
    "# 왜냐하면 겹치는게 존재, class가 중복일 수도 있음\n",
    "# class 중복일 때 parser마다 해석하는 방식이 다르기 때문이다"
   ]
  },
  {
   "cell_type": "code",
   "execution_count": null,
   "metadata": {},
   "outputs": [],
   "source": [
    "for tag in dom.select('table table table > tr:first-child > :first-child'):\n",
    "    print(tag)\n",
    "# parser에 상관없이 동작함"
   ]
  },
  {
   "cell_type": "code",
   "execution_count": null,
   "metadata": {},
   "outputs": [],
   "source": [
    "url = 'https://pythonscraping.com/pages/javascript/ajaxDemo.html'\n",
    "resp = request('GET', url)"
   ]
  },
  {
   "cell_type": "code",
   "execution_count": null,
   "metadata": {},
   "outputs": [],
   "source": [
    "dom = BeautifulSoup(resp.text, 'html.parser')"
   ]
  },
  {
   "cell_type": "code",
   "execution_count": null,
   "metadata": {},
   "outputs": [],
   "source": [
    "# javascript, jquery 등등 다 다르긴 한데 해석해보자\n",
    "import re\n",
    "\n",
    "a = re.search(r'^\\s*url\\s*:\\s*[\\'\\\"]?(.+?)[\\'\\\"]?,?$', dom.body.script.text, re.MULTILINE).group(1)\n",
    "# 이러면 이게 url을 리턴한다"
   ]
  },
  {
   "cell_type": "code",
   "execution_count": null,
   "metadata": {},
   "outputs": [],
   "source": [
    "url = urljoin(resp.request.url, a)\n",
    "resp = request('GET', url)\n",
    "resp.text"
   ]
  },
  {
   "cell_type": "code",
   "execution_count": null,
   "metadata": {},
   "outputs": [],
   "source": [
    "url = 'https://brunch.co.kr/search?q=수지'\n",
    "resp = request('GET', url)\n",
    "dom = BeautifulSoup(resp.text, 'html.parser')"
   ]
  },
  {
   "cell_type": "code",
   "execution_count": null,
   "metadata": {},
   "outputs": [],
   "source": [
    "dom.find_all(string=re.compile('수지'))\n",
    "# 하나만 뜸 따라서 xhr을 확인해야함\n",
    "# 페이지 전체가 바뀌지 않고 content가 바뀌었기 때문이다"
   ]
  },
  {
   "cell_type": "code",
   "execution_count": null,
   "metadata": {},
   "outputs": [],
   "source": [
    "# 파라미터를 받아오기 위해 form을 찾음\n",
    "for tag in dom.select('form[action] input[name]'):\n",
    "    print(tag.attrs['name'], tag.attrs['value'])\n",
    "    # 얘네들이 모두 parameter들이다"
   ]
  },
  {
   "cell_type": "code",
   "execution_count": null,
   "metadata": {},
   "outputs": [],
   "source": [
    "url = 'https://api.brunch.co.kr/v1/search/article'\n",
    "params = {\n",
    "    'q':'수지',\n",
    "    'page': 1,  # page 넘기기 가능\n",
    "    'pageSize': 20,\n",
    "    'highlight':'y',    # n이면 이상하게 나옴\n",
    "    'escape':'y',   # n이면 그대로 나옴\n",
    "    'sortBy': 'accu'    # 최신식 객체를 해당으로 만들어놓음\n",
    "}\n",
    "\n",
    "resp = request('GET', url, params=params)"
   ]
  },
  {
   "cell_type": "code",
   "execution_count": null,
   "metadata": {},
   "outputs": [],
   "source": [
    "resp.status_code, resp.reason, resp.headers, resp.request.headers"
   ]
  },
  {
   "cell_type": "code",
   "execution_count": null,
   "metadata": {},
   "outputs": [],
   "source": [
    "resp.json().keys()"
   ]
  },
  {
   "cell_type": "code",
   "execution_count": null,
   "metadata": {},
   "outputs": [],
   "source": [
    "for it in resp.json()['data']['list']:\n",
    "    print(it['title'])"
   ]
  },
  {
   "cell_type": "code",
   "execution_count": null,
   "metadata": {},
   "outputs": [],
   "source": [
    "url = 'https://brunch.co.kr/'\n",
    "resp = request('GET', url)\n",
    "dom = BeautifulSoup(resp.text, 'html.parser')"
   ]
  },
  {
   "cell_type": "code",
   "execution_count": null,
   "metadata": {},
   "outputs": [],
   "source": [
    "dom.select('form')"
   ]
  },
  {
   "cell_type": "code",
   "execution_count": null,
   "metadata": {},
   "outputs": [],
   "source": [
    "url = 'https://api.brunch.co.kr/v1/search/live'\n",
    "params = {\n",
    "    'q': '수지'\n",
    "}\n",
    "resp = request('GET', url, params=params)\n",
    "resp.status_code, resp.headers['content-type']\n",
    "resp.json()"
   ]
  },
  {
   "cell_type": "code",
   "execution_count": null,
   "metadata": {},
   "outputs": [],
   "source": [
    "list(map(lambda r: r['title'], resp.json()['data']['article']))"
   ]
  },
  {
   "cell_type": "code",
   "execution_count": null,
   "metadata": {},
   "outputs": [],
   "source": [
    "# 네이버 검색창- 자동완성 목록 가져오기\n",
    "url = 'https://ac.search.naver.com/nx/ac'\n",
    "params = {\n",
    "    'q': '수지',\n",
    "    'con': 0,\n",
    "    'frm': 'nv',\n",
    "    'ans': 2,\n",
    "    'r_format': 'json',\n",
    "    'r_enc':'UTF-8',\n",
    "    'r_unicode': 0,\n",
    "    't_koreng': 1,\n",
    "    'run': 2,\n",
    "    'rev': 4,\n",
    "    'q_enc':'UTF-8',\n",
    "    'st':100\n",
    "}\n",
    "# r_format 바꾸면 확장자 바뀔지도?\n",
    "# _call_back의 있고 없고 차이가 있을 것임\n",
    "# 즉, call_back은 여기서 다른 함수로 보내는 역할을 함\n",
    "# \n",
    "ua = 'Mozilla/5.0 (Windows NT 10.0; Win64; x64) AppleWebKit/537.36 (KHTML, like Gecko) Chrome/122.0.0.0 Safari/537.36'\n",
    "\n",
    "resp = request('GET', url, params=params, headers={'user-agent':ua})\n",
    "resp.status_code, resp.headers['content-type']"
   ]
  },
  {
   "cell_type": "code",
   "execution_count": null,
   "metadata": {},
   "outputs": [],
   "source": [
    "list(map(lambda r: r[0], resp.json()['items'][0]))"
   ]
  },
  {
   "cell_type": "code",
   "execution_count": null,
   "metadata": {},
   "outputs": [],
   "source": [
    "# 네이버 웹툰 수집\n",
    "url = 'https://comic.naver.com/webtoon?tab=tue'\n",
    "ua = 'Mozilla/5.0 (Windows NT 10.0; Win64; x64) AppleWebKit/537.36 (KHTML, like Gecko) Chrome/122.0.0.0 Safari/537.36'\n",
    "resp = request('GET', url, headers={'user-agent':ua})\n",
    "resp.status_code, resp.headers['content-type']"
   ]
  },
  {
   "cell_type": "code",
   "execution_count": null,
   "metadata": {},
   "outputs": [],
   "source": [
    "url = 'https://comic.naver.com/api/webtoon/titlelist/weekday' \n",
    "params = {\n",
    "    'week':'tue',\n",
    "    'order':'user'\n",
    "}\n",
    "resp = request('GET', url, params=params)\n",
    "resp.status_code, resp.headers['content-type']"
   ]
  },
  {
   "cell_type": "code",
   "execution_count": null,
   "metadata": {},
   "outputs": [],
   "source": [
    "list(map(lambda r: r['titleId'], resp.json()['titleList']))"
   ]
  },
  {
   "cell_type": "code",
   "execution_count": null,
   "metadata": {},
   "outputs": [],
   "source": [
    "for node in resp.json()['titleList']:\n",
    "    wurl = 'https://comic.naver.com/webtoon/list?titleId={}&tab=tue'.format(\n",
    "        node['titleId']\n",
    "    )\n",
    "    count = 1\n",
    "    new_url = 'https://comic.naver.com/api/article/list?titleId={}&page={}'.format(\n",
    "        node['titleId'],\n",
    "        count\n",
    "    )\n",
    "    resp = request('GET', new_url)\n",
    "    num = resp.json()['articleList'][0]['no']\n",
    "    too_url = 'https://comic.naver.com/webtoon/detail?titleId={}&no={}&week=tue'.format(\n",
    "        node['titleId'],\n",
    "        num\n",
    "    )\n",
    "    resp = request('GET', too_url)\n",
    "    dom = BeautifulSoup(resp.text, 'html.parser')\n",
    "    dom.select('#sectionContWide > img[src]')\n",
    "# 이거 돌리면 웹툰 이미지 가져올 수 있음"
   ]
  },
  {
   "cell_type": "code",
   "execution_count": 178,
   "metadata": {},
   "outputs": [],
   "source": [
    "# 웹툰 리스트 가져오는 함수\n",
    "def webList(week):\n",
    "    url = 'https://comic.naver.com/api/webtoon/titlelist/weekday' \n",
    "    params = {\n",
    "        'week':'tue',\n",
    "        'order':'user'\n",
    "    }\n",
    "    resp = request('GET', url, params=params)\n",
    "    if resp.status_code == 200 and re.search(r'application\\/json', resp.headers['content-type']):\n",
    "        return resp.json()\n",
    "    return None\n",
    "\n",
    "# 웹툰 이름으로 찾기\n",
    "def webNameSear(title,wl):\n",
    "    for tag in filter(lambda r:r['titleName'] == title, wl['titleList']):\n",
    "        return dict(tag['titleId'], tag['titleName'])"
   ]
  },
  {
   "cell_type": "code",
   "execution_count": null,
   "metadata": {},
   "outputs": [],
   "source": [
    "# 웹툰 페이지 수로 가져오기\n",
    "def webNo(tid, page=1):\n",
    "    url = 'https://comic.naver.com/api/article/list?titleId={}&page={}'.format(\n",
    "        tid,\n",
    "        page\n",
    "    )\n",
    "    resp = request('GET', url)\n",
    "    if resp.status_code == 200 and re.search(r'application\\/json', resp.headers['content-type']):\n",
    "        return resp.json()\n",
    "    return None"
   ]
  },
  {
   "cell_type": "code",
   "execution_count": null,
   "metadata": {},
   "outputs": [],
   "source": [
    "# 이미지 다운로더\n",
    "def imgDown(tid, no):\n",
    "    url = 'https://comic.naver.com/webtoon/detail?titleId={}&no={}'.format(\n",
    "        tid,\n",
    "        no\n",
    "    )\n",
    "    resp = request('GET', url)\n",
    "    \n",
    "    if resp.status_code == 200 and re.search(r'text.html',resp.headers['content-type']):\n",
    "        dom = BeautifulSoup(resp.text, 'html.parser')\n",
    "        return list(map(lambda r:urljoin(resp.request.url, r.attrs['src']), dom.select('#sectionContWide > img[src]')))\n",
    "    return None"
   ]
  },
  {
   "cell_type": "code",
   "execution_count": 180,
   "metadata": {},
   "outputs": [],
   "source": [
    "# -----------------------------------------------------\n",
    "# -----------------------------------------------------\n",
    "# -----------------------------------------------------\n",
    "# -----------------------------------------------------\n",
    "# -----------------------------------------------------\n",
    "# -----------------------------------------------------\n",
    "# -----------------------------------------------------\n",
    "# -----------------------------------------------------"
   ]
  },
  {
   "cell_type": "code",
   "execution_count": 181,
   "metadata": {},
   "outputs": [
    {
     "data": {
      "text/plain": [
       "'<form method=\"post\" action=\"login.php\">\\nUsername: <input type=\"text\" name=\"username\"><br>\\nPassword: <input type=\"text\" name=\"password\"><br>\\n<input type=\"submit\" value=\"Submit\">\\n</form>'"
      ]
     },
     "execution_count": 181,
     "metadata": {},
     "output_type": "execute_result"
    }
   ],
   "source": [
    "# login\n",
    "url = 'https://pythonscraping.com/pages/login.html'\n",
    "resp = request('GET', url)\n",
    "resp.text"
   ]
  },
  {
   "cell_type": "code",
   "execution_count": 182,
   "metadata": {},
   "outputs": [],
   "source": [
    "# 결국 로그인이란, 필요한 정보를 기입해서 서버에 요청을 보내는 행동\n",
    "# 보내는 method는 post로 보낼 것\n",
    "# POST: HTTP.Request.Body를 통해서 보냄\n",
    "# body를 사용하므로 formdata를 찾으면 됨"
   ]
  },
  {
   "cell_type": "code",
   "execution_count": 185,
   "metadata": {},
   "outputs": [
    {
     "name": "stdout",
     "output_type": "stream",
     "text": [
      "username\n",
      "password\n"
     ]
    },
    {
     "data": {
      "text/plain": [
       "('login.php', 'post')"
      ]
     },
     "execution_count": 185,
     "metadata": {},
     "output_type": "execute_result"
    }
   ],
   "source": [
    "dom = BeautifulSoup(resp.text, 'html.parser')\n",
    "for tag in dom.select('form input[name]'):\n",
    "    print(tag['name'])\n",
    "form = dom.select_one('form')\n",
    "form.attrs['action'], form.attrs['method']"
   ]
  },
  {
   "cell_type": "code",
   "execution_count": 187,
   "metadata": {},
   "outputs": [
    {
     "data": {
      "text/plain": [
       "(200,\n",
       " 'username=who&password=ppwwdd',\n",
       " {'Server': 'nginx', 'Date': 'Tue, 19 Mar 2024 03:24:43 GMT', 'Content-Type': 'text/html; charset=UTF-8', 'Content-Length': '27015', 'Connection': 'keep-alive', 'X-Powered-By': 'PHP/7.4.33, PleskLin', 'Vary': 'Accept-Encoding', 'Content-Encoding': 'gzip'},\n",
       " 'text/html; charset=UTF-8')"
      ]
     },
     "execution_count": 187,
     "metadata": {},
     "output_type": "execute_result"
    }
   ],
   "source": [
    "url = urljoin(url, form.attrs['action'])\n",
    "params = {\n",
    "    'username': 'who',\n",
    "    'password': 'ppwwdd'\n",
    "}\n",
    "resp = request('POST', url, data=params)\n",
    "resp.status_code, resp.request.body, resp.headers\n",
    "# header를 봐야하는 이유는 == 쿠키 세팅을 봐야하기 때문 그리고 session 또한 확인 필요"
   ]
  }
 ],
 "metadata": {
  "kernelspec": {
   "display_name": "KoreaUniv",
   "language": "python",
   "name": "python3"
  },
  "language_info": {
   "codemirror_mode": {
    "name": "ipython",
    "version": 3
   },
   "file_extension": ".py",
   "mimetype": "text/x-python",
   "name": "python",
   "nbconvert_exporter": "python",
   "pygments_lexer": "ipython3",
   "version": "3.9.18"
  }
 },
 "nbformat": 4,
 "nbformat_minor": 2
}
