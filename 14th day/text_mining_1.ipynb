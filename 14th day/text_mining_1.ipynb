{
 "cells": [
  {
   "cell_type": "code",
   "execution_count": null,
   "metadata": {},
   "outputs": [],
   "source": [
    "# driver.switch_to.window(driver.window_handles[-1])\n",
    "# 떠있는 탭을 바꿔서 들어갈 수 있다\n",
    "# iframe에 숨겨져 있을때는 mainFrame으로 찾고\n",
    "# driver.switch_to.frame(frame)으로 바꿔주고\n",
    "# element를 찾아줘야한다\n",
    "# 단점: dom을 변경해서 parsing 하는 것이므로\n",
    "# 다시 dom을 바꿔줘야 한다\n",
    "# dom 구분은 개발자 도구에서 DOCTYPE이 다시 나올 것\n",
    "# 이때는 dom을 바꿔서 접근해야한다\n",
    "\n",
    "# javascript로 찾을 수도 있다\n",
    "# 잘 사용해야함\n",
    "# driver.execute_script를 사용\n",
    "# onclick 안에 js가 존재하는데\n",
    "# driver.execute_script(SelectSeat('parameter'))\n",
    "# 이때 SelectSeat은 js function 이름이다\n",
    "# 개발자도구에서 확인하고 맞는 값들을 같이 넣어주면 된다"
   ]
  }
 ],
 "metadata": {
  "language_info": {
   "name": "python"
  }
 },
 "nbformat": 4,
 "nbformat_minor": 2
}
