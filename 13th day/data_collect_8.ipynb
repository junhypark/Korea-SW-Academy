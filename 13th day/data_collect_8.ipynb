{
 "cells": [
  {
   "cell_type": "code",
   "execution_count": 1,
   "metadata": {},
   "outputs": [],
   "source": [
    "# 주의사항\n",
    "# 1. robots.txt\n",
    "# 2. 과도한 트래픽 안됨\n",
    "# 3. 저작권 (DB)에 있는거 뽑으면 안됨\n",
    "\n",
    "# [기본개념]\n",
    "# HTTP => Request / Response 쌍으로 구성되어 있다\n",
    "#         Header / Body (*)\n",
    "#         ------------------\n",
    "# Request status_code, reason, content-type, set-cookie 등 확인해야함\n",
    "#         Referer, X-...., UUID 등등 알아야 함 (왜? 사이트마다 다르니깐)\n",
    "#         POST / PUT body => 안에 존재 이때, paramsKey = parmasValue&... (Bytes로 넘어감)\n",
    "#         GET과 POST는 주소에 params가 들어가는지 구분 해야함\n",
    "# Response Body => content-type ( text/plain, text/html, application/json, xml, javascript, )\n",
    "#               => text => str 객체, html => dom 객체, xml => dom 객체\n",
    "#               => json => json 객체, MIME => bytes로 저장\n",
    "# Session (Cookie) | Cookie의 관리는 Client가 하니까\n",
    "# Crawler => Hyper Link를 끊임없이 탐험하는 얘\n",
    "# Scraper => 특정 페이지, 특정 요소 (데이터) 추출\n",
    "# DHTML (AJAX-XHR) => DOM 생성되는 시점 최초에만, 그 이후에는 data만 주고 받는다"
   ]
  },
  {
   "cell_type": "code",
   "execution_count": 2,
   "metadata": {},
   "outputs": [],
   "source": [
    "from requests.sessions import Session\n",
    "from requests import request\n",
    "from bs4 import BeautifulSoup\n",
    "from datetime import datetime\n",
    "import re\n",
    "\n",
    "# 시크릿탭 (창) - 로그인을 위해서\n",
    "# 이때 시크릿탭에서 로그인을 진행한 후에\n",
    "# 맞는 file을 찾아서 params 넣어주고\n",
    "# cookie값을 세팅한다\n",
    "    # 이때 모르는 params 값은 검색하여 규칙 파악"
   ]
  },
  {
   "cell_type": "code",
   "execution_count": 12,
   "metadata": {},
   "outputs": [],
   "source": [
    "from selenium.webdriver import Chrome"
   ]
  },
  {
   "cell_type": "code",
   "execution_count": 14,
   "metadata": {},
   "outputs": [],
   "source": [
    "from selenium.webdriver.common.by import By"
   ]
  },
  {
   "cell_type": "code",
   "execution_count": 18,
   "metadata": {},
   "outputs": [],
   "source": [
    "# XPATH = ., .., /, //, [@속성='']\n",
    "# 자손중에 찾아라 => //\n",
    "# root에서 바로 자식을 찾을때는 /\n",
    "url = 'https://nid.naver.com/nidlogin.login'\n",
    "driver = Chrome()\n",
    "driver.get(url)"
   ]
  },
  {
   "cell_type": "code",
   "execution_count": 19,
   "metadata": {},
   "outputs": [],
   "source": [
    "uid = driver.find_element(By.XPATH, '//form//input[@name=\"id\"]')\n",
    "upw = driver.find_element(By.XPATH, '//input[@name=\"pw\"]')"
   ]
  },
  {
   "cell_type": "code",
   "execution_count": 22,
   "metadata": {},
   "outputs": [],
   "source": [
    "from selenium.webdriver.common.keys import Keys"
   ]
  },
  {
   "cell_type": "code",
   "execution_count": 23,
   "metadata": {},
   "outputs": [],
   "source": [
    "uid.clear()\n",
    "upw.clear()\n",
    "uid.send_keys('idididididid')\n",
    "upw.send_keys('pwpwpwpwpwpwpw')"
   ]
  },
  {
   "cell_type": "code",
   "execution_count": 24,
   "metadata": {},
   "outputs": [],
   "source": [
    "driver.find_element(By.XPATH, '//form//button[@type=\"submit\"]').click()"
   ]
  },
  {
   "cell_type": "code",
   "execution_count": 25,
   "metadata": {},
   "outputs": [],
   "source": [
    "driver.get('https://mail.naver.com')"
   ]
  },
  {
   "cell_type": "code",
   "execution_count": 26,
   "metadata": {},
   "outputs": [
    {
     "name": "stdout",
     "output_type": "stream",
     "text": [
      "메일 제목\n",
      "새로운 환경에서 로그인 되었습니다.\n",
      "메일 제목\n",
      "(광고) 👀사우디도 주목하는 글로벌 테크기업\n",
      "메일 제목\n",
      "[네이버 클라우드 플랫폼] 3월 정기 상품 출시 및 점검 안내 (3/21)\n",
      "메일 제목\n",
      "[네이버 클라우드 플랫폼] [수정 공지] [중요] 민간 네이버 클라우드 플랫폼 API Gateway 서비스에서 제공하는 HTTP/TLS 버전 업데이트 공지 (업데이트 일시 요일 수정)\n",
      "메일 제목\n",
      "(광고) 🌷3월 네이버클라우드 교육 웨비나 캘린더\n",
      "메일 제목\n",
      "[GS&POINT] 일부 서비스 일시 중단 안내(03/16 03시~03/18 05시)\n",
      "메일 제목\n",
      "[네이버 클라우드 플랫폼] [중요] API Gateway 서비스에서 제공하는 HTTP/TLS 버전 업데이트 공지\n",
      "메일 제목\n",
      "[옥션] 이용약관 개정 안내드립니다.\n",
      "메일 제목\n",
      "[몰테일] 서비스 이용약관, 개인정보 처리방침 개정 사전 공지안내\n",
      "메일 제목\n",
      "(광고) 🗓️3월 네이버클라우드 교육 웨비나 캘린더\n",
      "메일 제목\n",
      "【IMPORTANT】Notice Concerning Official Home Page Renewal of Good Smile Company\n",
      "메일 제목\n",
      "(광고) 🍀2월 네이버클라우드 교육 웨비나 캘린더\n",
      "메일 제목\n",
      "새로운 환경에서 로그인 되었습니다.\n",
      "메일 제목\n",
      "(광고) 💡AI 도입과 교육, 한 번에 무료로 해결하는 법\n",
      "메일 제목\n",
      "트위터 보안 경고: 새로운 로그인 또는 비정상적인 로그인 발생\n",
      "메일 제목\n",
      "트위터 보안 경고: 새로운 로그인 또는 비정상적인 로그인 발생\n",
      "메일 제목\n",
      "(광고) [신년 프로모션🎁] 생성형 AI, 교육부터 도입까지 무료 시작\n",
      "메일 제목\n",
      "트위터 보안 경고: 새로운 로그인 또는 비정상적인 로그인 발생\n",
      "메일 제목\n",
      "(광고) 🗓️2월 네이버클라우드 교육 웨비나 캘린더\n",
      "메일 제목\n",
      "네이버 클라우드 플랫폼 개인정보처리방침 개정안내 (1/25)\n",
      "메일 제목\n",
      "(광고) 🔥AI 공모전 마감 D-5! 4천만 원 크레딧 놓치지 마세요\n",
      "메일 제목\n",
      "(광고) 1월 네이버웍스∙워크플레이스∙워크박스 무료 오프라인 교육 신청 (1/30-31)\n",
      "메일 제목\n",
      "【IMPORTANT】Notice Concerning Official Home Page Renewal of Good Smile Company\n",
      "메일 제목\n",
      "[네이버 클라우드 플랫폼] 1월 정기 상품 출시 및 점검 안내 (1/25)\n",
      "메일 제목\n",
      "(광고) ⏳10일 만에 AI 프로젝트, 할 수 있을까?\n",
      "메일 제목\n",
      "(광고) 🙋🏻AI 아이디어만 있다면? 4천만 원 지원받으세요\n",
      "메일 제목\n",
      "【IMPORTANT】Postponement of Official Good Smile Company Home Page Renewal and Launch\n",
      "메일 제목\n",
      "(광고) ☀️1월 네이버클라우드 교육 웨비나 캘린더\n",
      "메일 제목\n",
      "Welcome to CELPIP!\n",
      "메일 제목\n",
      "트위터 보안 경고: 새로운 로그인 또는 비정상적인 로그인 발생\n"
     ]
    }
   ],
   "source": [
    "for node in driver.find_elements(By.XPATH, '//a[@class=\"mail_title_link\"]'):\n",
    "    print(node.text)"
   ]
  },
  {
   "cell_type": "code",
   "execution_count": 29,
   "metadata": {},
   "outputs": [],
   "source": [
    "driver.find_elements(By.XPATH, '//a[@class=\"mail_title_link\"]')[0].click()"
   ]
  },
  {
   "cell_type": "code",
   "execution_count": 32,
   "metadata": {},
   "outputs": [],
   "source": [
    "driver.execute_script('history.back()')"
   ]
  },
  {
   "cell_type": "code",
   "execution_count": 33,
   "metadata": {},
   "outputs": [],
   "source": [
    "item = driver.find_elements(By.XPATH, '//a[@class=\"mail_title_link\"]')[0]"
   ]
  },
  {
   "cell_type": "code",
   "execution_count": 41,
   "metadata": {},
   "outputs": [
    {
     "data": {
      "text/plain": [
       "<selenium.webdriver.remote.webelement.WebElement (session=\"1186b9364ff1fa3846b079845d7f6e6d\", element=\"f.84105971C5439892F252B14CBD1CD152.d.E34142C224B0B74A3250C1353D7728D6.e.9790\")>"
      ]
     },
     "execution_count": 41,
     "metadata": {},
     "output_type": "execute_result"
    }
   ],
   "source": [
    "item.find_element(By.XPATH, '../../../../../../../../..//a[@class=\"mail_title_link\"]')"
   ]
  },
  {
   "cell_type": "code",
   "execution_count": 51,
   "metadata": {},
   "outputs": [],
   "source": [
    "from selenium.webdriver import ActionChains\n",
    "ActionChains(driver)\\\n",
    "    .move_by_offset( 13, 15)\\\n",
    "    .perform()\n",
    "# mouse 움직이기"
   ]
  },
  {
   "cell_type": "code",
   "execution_count": 52,
   "metadata": {},
   "outputs": [
    {
     "data": {
      "text/plain": [
       "(True, True, False)"
      ]
     },
     "execution_count": 52,
     "metadata": {},
     "output_type": "execute_result"
    }
   ],
   "source": [
    "item.is_displayed(), item.is_enabled(), item.is_selected()\n",
    "# -> 화면에 보이는지   -> a, btn disabled 처리 -> select 옵션 있는 구문"
   ]
  },
  {
   "cell_type": "code",
   "execution_count": 53,
   "metadata": {},
   "outputs": [],
   "source": [
    "driver.get('https://lms.sunde41.net')"
   ]
  },
  {
   "cell_type": "code",
   "execution_count": 65,
   "metadata": {},
   "outputs": [],
   "source": [
    "for node in driver.find_elements(By.XPATH, '//form//input'):\n",
    "    if node.get_attribute('name') == \"email\":\n",
    "        email = node\n",
    "    elif node.get_attribute('name') == \"password\":\n",
    "        password = node"
   ]
  },
  {
   "cell_type": "code",
   "execution_count": 60,
   "metadata": {},
   "outputs": [
    {
     "name": "stdout",
     "output_type": "stream",
     "text": [
      "[<selenium.webdriver.remote.webelement.WebElement (session=\"1186b9364ff1fa3846b079845d7f6e6d\", element=\"f.84105971C5439892F252B14CBD1CD152.d.FC074F21700B9AF65E1D1787E8C309FE.e.13\")>]\n"
     ]
    }
   ],
   "source": [
    "email = driver.find_elements(By.XPATH, '//form//input[@name=\"email\"]')\n",
    "password = driver.find_elements(By.XPATH, '//form//input[@name=\"password\"]')"
   ]
  },
  {
   "cell_type": "code",
   "execution_count": 66,
   "metadata": {},
   "outputs": [],
   "source": [
    "email.clear()\n",
    "password.clear()\n",
    "email.send_keys('phjpurpleoob@gmail.com')\n",
    "password.send_keys('01091488248')"
   ]
  },
  {
   "cell_type": "code",
   "execution_count": 67,
   "metadata": {},
   "outputs": [],
   "source": [
    "driver.find_element(By.XPATH, '//form//*[@type=\"submit\"]').click()"
   ]
  },
  {
   "cell_type": "code",
   "execution_count": 68,
   "metadata": {},
   "outputs": [],
   "source": [
    "driver.find_element(By.XPATH, '//ul[@class=\"navbar-nav\"]/li').click()"
   ]
  },
  {
   "cell_type": "code",
   "execution_count": 80,
   "metadata": {},
   "outputs": [
    {
     "name": "stdout",
     "output_type": "stream",
     "text": [
      "https://lms.sunde41.net/static/uploads/lectures/6/Database.pdf\n",
      "https://lms.sunde41.net/static/uploads/lectures/6/Functional%20Programming%20in%20Python.pdf\n",
      "https://lms.sunde41.net/static/uploads/lectures/6/SQLite.pdf\n",
      "https://lms.sunde41.net/static/uploads/lectures/6/0306.html\n",
      "https://lms.sunde41.net/static/uploads/lectures/6/PEP8.pdf\n",
      "https://lms.sunde41.net/static/uploads/lectures/6/ORM.pdf\n",
      "https://lms.sunde41.net/static/uploads/lectures/6/0307.html\n",
      "https://lms.sunde41.net/static/uploads/lectures/6/0308.html\n",
      "https://lms.sunde41.net/static/uploads/lectures/6/%EA%B0%9D%EC%B2%B4%EC%A7%80%ED%96%A5.pdf\n",
      "https://lms.sunde41.net/static/uploads/lectures/6/Regular%20Expression.pdf\n",
      "https://lms.sunde41.net/static/uploads/lectures/6/0311.html\n",
      "https://lms.sunde41.net/static/uploads/lectures/6/OOP.zip\n",
      "https://lms.sunde41.net/static/uploads/lectures/6/HTTP.pdf\n",
      "https://lms.sunde41.net/static/uploads/lectures/6/0312.html\n",
      "https://lms.sunde41.net/static/uploads/lectures/6/Why%20Functional%20Programming%20Matters.pdf\n",
      "https://lms.sunde41.net/static/uploads/lectures/6/aop.pdf\n",
      "https://lms.sunde41.net/static/uploads/lectures/6/Mastering%20Python%20Decorators.pdf\n",
      "https://lms.sunde41.net/static/uploads/lectures/6/DOM.pdf\n",
      "https://lms.sunde41.net/static/uploads/lectures/6/0313.html\n",
      "https://lms.sunde41.net/static/uploads/lectures/6/Crawling.pdf\n",
      "https://lms.sunde41.net/static/uploads/lectures/6/0314.html\n",
      "https://lms.sunde41.net/static/uploads/lectures/6/0315.html\n",
      "https://lms.sunde41.net/static/uploads/lectures/6/Scraping.pdf\n",
      "https://lms.sunde41.net/static/uploads/lectures/6/0318.html\n",
      "https://lms.sunde41.net/static/uploads/lectures/6/NumPy.pdf\n",
      "https://lms.sunde41.net/static/uploads/lectures/6/0319.html\n",
      "https://lms.sunde41.net/static/uploads/lectures/6/0320.html\n"
     ]
    }
   ],
   "source": [
    "for node in driver.find_elements(By.XPATH, '//table[@id=\"lesson\"]//a[@class=\"dropdown-item d-block\"]'):\n",
    "    print(node.get_attribute('href'))\n",
    "    # driver.get(node.get_attribute('href'))\n",
    "# is_displayed()를 통해 화면에 보이는 것만 control이 가능할때가 존재한다"
   ]
  },
  {
   "cell_type": "code",
   "execution_count": 81,
   "metadata": {},
   "outputs": [],
   "source": [
    "# wait은 뒤에서 돌고 있고 그저 load를 기다리는 것\n",
    "# sleep은 동작을 멈추는 것, 프로세스가 멈춤\n",
    "# explicit_wait => 누군가가 어떤 이벤트가 사라질때까지 기다리는 것\n",
    "# implicit_wait => 대상이 없고 모든 경우에 암묵적으로 기다리는 것\n",
    "driver.implicitly_wait = 10"
   ]
  },
  {
   "cell_type": "code",
   "execution_count": 82,
   "metadata": {},
   "outputs": [],
   "source": [
    "from selenium.webdriver.support.expected_conditions import *\n",
    "from selenium.webdriver.support.wait import WebDriverWait"
   ]
  },
  {
   "cell_type": "code",
   "execution_count": 83,
   "metadata": {},
   "outputs": [],
   "source": [
    "wait = WebDriverWait(driver, 10, 0.5, [element_to_be_clickable])"
   ]
  },
  {
   "cell_type": "code",
   "execution_count": null,
   "metadata": {},
   "outputs": [],
   "source": [
    "a = driver.find_element(By.CSS_SELECTOR, 'a.dropdown-toggle + .dropdown-menu')\n",
    "wait.until()\n",
    "# 여기에 exception error를 넣으면 뜰 때까지 기다림"
   ]
  }
 ],
 "metadata": {
  "kernelspec": {
   "display_name": "KoreaUniv",
   "language": "python",
   "name": "python3"
  },
  "language_info": {
   "codemirror_mode": {
    "name": "ipython",
    "version": 3
   },
   "file_extension": ".py",
   "mimetype": "text/x-python",
   "name": "python",
   "nbconvert_exporter": "python",
   "pygments_lexer": "ipython3",
   "version": "3.9.12"
  }
 },
 "nbformat": 4,
 "nbformat_minor": 2
}
