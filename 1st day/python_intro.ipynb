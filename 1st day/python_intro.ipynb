{
  "nbformat": 4,
  "nbformat_minor": 0,
  "metadata": {
    "colab": {
      "provenance": [],
      "authorship_tag": "ABX9TyOY4NGJLfuOboTtpk5X0jCK",
      "include_colab_link": true
    },
    "kernelspec": {
      "name": "python3",
      "display_name": "Python 3"
    },
    "language_info": {
      "name": "python"
    }
  },
  "cells": [
    {
      "cell_type": "markdown",
      "metadata": {
        "id": "view-in-github",
        "colab_type": "text"
      },
      "source": [
        "<a href=\"https://colab.research.google.com/github/junhypark/Korea-SW-Academy/blob/main/1st%20day/python_intro.ipynb\" target=\"_parent\"><img src=\"https://colab.research.google.com/assets/colab-badge.svg\" alt=\"Open In Colab\"/></a>"
      ]
    },
    {
      "cell_type": "code",
      "execution_count": null,
      "metadata": {
        "id": "h0VB--JBCzer"
      },
      "outputs": [],
      "source": [
        "a = 1\n",
        "#이떄 a는 변수가 아니라 식별자다.\n",
        "#파이썬은 상수가 없기 떄문이다\n",
        "#프로그래밍으로썬 a는 변수가 맞지만 python에서는 식별자가 아니다"
      ]
    },
    {
      "cell_type": "code",
      "source": [
        "#keyword는 이름에 못붙인다\n",
        "#ex) True, False, 등\n",
        "#keyword 확인을 위해서는\n",
        "import keyword\n",
        "\n",
        "keyword.kwlist"
      ],
      "metadata": {
        "colab": {
          "base_uri": "https://localhost:8080/"
        },
        "id": "uOOWqwE1DRYc",
        "outputId": "a76b3099-88c4-41f9-f314-507ed06da83b"
      },
      "execution_count": null,
      "outputs": [
        {
          "output_type": "execute_result",
          "data": {
            "text/plain": [
              "['False',\n",
              " 'None',\n",
              " 'True',\n",
              " 'and',\n",
              " 'as',\n",
              " 'assert',\n",
              " 'async',\n",
              " 'await',\n",
              " 'break',\n",
              " 'class',\n",
              " 'continue',\n",
              " 'def',\n",
              " 'del',\n",
              " 'elif',\n",
              " 'else',\n",
              " 'except',\n",
              " 'finally',\n",
              " 'for',\n",
              " 'from',\n",
              " 'global',\n",
              " 'if',\n",
              " 'import',\n",
              " 'in',\n",
              " 'is',\n",
              " 'lambda',\n",
              " 'nonlocal',\n",
              " 'not',\n",
              " 'or',\n",
              " 'pass',\n",
              " 'raise',\n",
              " 'return',\n",
              " 'try',\n",
              " 'while',\n",
              " 'with',\n",
              " 'yield']"
            ]
          },
          "metadata": {},
          "execution_count": 2
        }
      ]
    },
    {
      "cell_type": "code",
      "source": [
        "#Simple statement와 Complex statement로 나눈다\n",
        "#peg_parser, async, await은 다루지 않는다\n",
        "#분산 처리에서 사용되는 애들이므로 필요없음\n",
        "\n",
        "#PEP 8 (naming 규칙) => 필요한 이유? 커뮤니케이션 시에 시간 단축 가능하므로\n",
        "#_(언더바) => fucntion이란 의미\n",
        "#대문자 => class란 의미\n",
        "#_ 붙이는 것을 snake 방식이라고 한다\n",
        "\n",
        "#moonBeauty => camel 방식\n",
        "#MoonBeauty => pascal / caps word\n",
        "#파이썬에서는 둘 다 혼용해서 사용한다. 보통 class 명명 시에 사용한다\n",
        "\n",
        "# = 뒤에는 expression이 온다\n",
        "#하나의 결과값으로 축약가능한 것을 expression이라고 한다\n",
        "#따라서 lambda가 올 수 있다\n",
        "\n",
        "#integer => 성능 문제가 존재하므로 C언어를 사용하는 library를 사용 (numpy)\n",
        "\n",
        "#float => binary 근사적 빨리 계산하므로 0.1+0.1+0.1 시에 0.3이 안나온다\n",
        "#이때, 1e2를 사용하면 정확해지진 않지만 더 빨라지기 때문에 사용하는 것이다\n",
        "#max값을 넘어가면 inf 로 무한대가 나온다\n",
        "#즉, python에서는 무한대를 사용 가능하다\n",
        "#따라서, a == a+1이 True가 나온다. 이러한 문제가 많기에 numpy를 사용한다\n",
        "\n",
        "#literal => 특수 기호, 데이터 타입을 결정해주는 보조 문자\n",
        "# 점(.) 혹은 e 와 같은 아이들을 의미함\n",
        "# 진법에 따라서 나뉜다\n",
        "#ex) 0b01 2진수, 0o01 8진수, 0x03 16진수 이때, b,o,x 도 literal이다\n",
        "#이때, 무한대는 float(`inf`)라고 한다 / instance화 라고 한다\n",
        "\n",
        "#complex number 복소수는 j로 표기한다\n",
        "\n",
        "#boolean True False / 0,1로 나눌 수 있기 때문에 숫자형에 포함된다\n",
        "#True는 print에서만 예외적으로 숫자로 표기되지 않는다\n",
        "\n",
        "#nan은 float 형태로 존재한다 하지만 number가 아니다\n",
        "\n",
        "#숫자 (integer, float, boolean, complex number)\n",
        "#숫자를 쪼개기 위해서는 언더바 (_)를 사용한다\n",
        "#8 + 0.3 = 8.3으로 계산되는데 그 이유는 coercion으로 내부적으로 형태를 바꿔주기 때문이다.\n",
        "\n",
        "#문자열 또한 4가지 literal에 따라서\n",
        "#b'asd' binray / 유니코드는 인코딩 디코딩이 존재하는데 전 세계적으로 규정된 byte를 맞춰야 하기 때문에 맞춰야함\n",
        "#u'문근영' unicode\n",
        "#memory view, byte array\n",
        "\n",
        "#Sequential data => 순서가 있는 container\n",
        "#String에서 곱하기는 반복수를 의미한다\n",
        "#Sequence data는 type이 서로 같게 나온다 (homo data)\n",
        "\n",
        "#range가 array 따라서 range(1,3)[1]이 나올 수 있다\n",
        "\n",
        "#list는 순서 있음 indexing, slicing 가능\n",
        "#list는 hetero이다.\n",
        "\n",
        "#tupple => mutable (1,2)\n",
        "\n",
        "#set => 순서가 없고, 중복 x {1,2} / 중복 체크 시 중복 다 제거한다 / 그리고 순서가 존재한다 (낮은 수 부터 큰 순서대로)\n",
        "#set은 순서가 없기에 indexing, slicing이 되질 않는다\n",
        "#b = {} 시에는 공집합이 아니라 dictionary로 들어가게 된다\n",
        "\n",
        "#dictionary는 key와 value로 나뉨\n",
        "#key는 hashable 한 애들만 올 수 있다\n",
        "#value = data type + data (type을 중요시하게 봐야함)\n",
        "#data = data\n",
        "\n",
        "#조건 반복 예외처리\n",
        "#조건"
      ],
      "metadata": {
        "id": "ZbWNePcxDwuD"
      },
      "execution_count": null,
      "outputs": []
    },
    {
      "cell_type": "code",
      "source": [
        "a =''\n",
        "if a:\n",
        "  print('a')\n",
        "else:\n",
        "  print('b')\n",
        "\n",
        "#조건문은 존재론적인 문제에서 따진다\n",
        "#literal / instance 방식 두가지가 존재한다\n",
        "#많이 사용하는 애들만 literal 존재\n",
        "#instance는 a = int(3)\n",
        "\n",
        "#즉, default 값은 존재론적으로 존재하면 그 값을 넣어주고 그게 아니라면 0 즉, false를 return하게 된다\n",
        "#따라서, 존재하면 True / 존재하지 않으면 False\n",
        "\n",
        "#else는 for와 while에 else를 붙일 시에 break으로 멈추지 않을 떄 else로 찍히기에 적용된다\n",
        "#try에도 else가 가능하다\n",
        "try:\n",
        "  1\n",
        "except:\n",
        "  print('a')\n",
        "else:\n",
        "  print('b')\n",
        "\n",
        "#short circuit 논리 연산자, 비교 연산자에서 앞에 친구 먼저 결정해버리면 뒤의 값을 안본다\n",
        "\n",
        "#set의 경우에는 자동으로 오름차순으로 바꿔주기 때문에 논리 연산자에서 값이 바뀔 수 있다.\n",
        "\n",
        "#NaN은 False이다\n",
        "#ex) False == None은 False"
      ],
      "metadata": {
        "colab": {
          "base_uri": "https://localhost:8080/"
        },
        "id": "lU2_F46Rb58Z",
        "outputId": "a57a53ea-371d-4e47-c9c4-86d13eda133d"
      },
      "execution_count": null,
      "outputs": [
        {
          "output_type": "stream",
          "name": "stdout",
          "text": [
            "b\n"
          ]
        }
      ]
    },
    {
      "cell_type": "code",
      "source": [
        "#and or\n",
        "3 and 4\n",
        "\n",
        "#and는 앞에게 참일때는 뒷에걸 반환함\n",
        "#앞에가 거짓이면 앞에를 반환함\n",
        "\n",
        "#or는 반대\n",
        "3 or 4\n",
        "\n",
        "#앞에가 참이면 앞에걸 반환함\n",
        "#앞에가 거짓이면 뒤에를 반환함\n",
        "\n",
        "#shorcut에 의해서 앞에 연산하고 뒤에 연산하는데 or에서는 뒤에가 에러더라도 에러가 생기지 않는다\n",
        "\n",
        "#조건문 식\n",
        "3 if 0 else 1"
      ],
      "metadata": {
        "colab": {
          "base_uri": "https://localhost:8080/"
        },
        "id": "TeItOOJTmPtt",
        "outputId": "ddfd720d-321b-4712-ef78-f6e106be4d62"
      },
      "execution_count": null,
      "outputs": [
        {
          "output_type": "execute_result",
          "data": {
            "text/plain": [
              "3"
            ]
          },
          "metadata": {},
          "execution_count": 5
        }
      ]
    },
    {
      "cell_type": "code",
      "source": [
        "#반복문에는 두개 존재 for, while\n",
        "#for는 메모리 효율성이 높다\n",
        "#while은 무한루프일 때 사용한다\n",
        "\n",
        "#in\n",
        "#있는지 없는지 따지는 test를 수행함\n",
        "#in 뒤에는 container가 와야함\n",
        "#따라서 숫자는 되지 않는다\n",
        "\n",
        "a in [1,2,3]            #1\n",
        "if a==1 or a==2 or a==3:#2\n",
        "  print('x')\n",
        "#두 문장은 서로 같다\n",
        "#1번 문장이 더 선호됨\n",
        "\n",
        "#iterator는 한 개씩 뽑는 것을 의미함\n",
        "#iterable은 한 개씩 뽑을 수 있는 것을 의미함\n",
        "\n",
        "#iterable을 python에서 iterator로 변환\n",
        "\n",
        "#duck typing => 오리처럼 보이고 오리처럼 울면 걔는 오리다 (?)\n",
        "#sequence 타입이 아니라도 sequnce 타입처럼 행동할 수 있으면 걔는 sequence다\n",
        "#tensor와 pytorch에서 사용한다\n",
        "#즉, container가 아닌 형태라도 container로써 기능할 수 있게 만들어야 한다"
      ],
      "metadata": {
        "id": "6DWfggjknsb3"
      },
      "execution_count": null,
      "outputs": []
    },
    {
      "cell_type": "code",
      "source": [
        "a = 1\n",
        "dir(a)\n",
        "\n",
        "#__iter__가 없으면 iter로써 사용할 수 없다\n",
        "#__iter__가 있으면 iter로써 사용 가능 하다\n",
        "\n",
        "a = [1,2,3]\n",
        "'__iter__' in dir(a)\n",
        "\n",
        "#True가 되면 iter로써 사용 가능하다\n",
        "#따라서, for에서 사용 가능하다\n",
        "\n",
        "all()\n",
        "any()\n",
        "map()\n",
        "enumerate()\n",
        "\n",
        "#해당 함수들은 iterable한 얘들을 사용한다\n",
        "\n",
        "for i in {'a':1, 'b':2, 'c':3}:\n",
        "  print(i)\n",
        "\n",
        "#key만 찍힌다 (a,b,c)\n",
        "#value는 어케?\n",
        "\n",
        "for i in {'a':1, 'b':2, 'c':3}.values():\n",
        "  print(i)\n",
        "#원하는 관점으로 바꿀 수 있다.\n",
        "#이를 dictuinary view라고 한다\n",
        "#.values()말고 .keys(), .items()로 바꾸면 원하는 데이터만 나온다\n",
        "\n",
        "class A:\n",
        "  a = 1\n",
        "  def __iter__(self):\n",
        "    return [1,2,3]\n",
        "\n",
        "aa = A()\n",
        "\n",
        "for i in aa:\n",
        "  print(i)\n",
        "\n",
        "#def __iter__를 만들었을 땐, iterator 에러가 나왔음\n",
        "#즉, iterable한 데이터 형태를 return 해주면 for문으로써 사용할 수 있다\n",
        "#따라서, [1,2,3]을 return해주면 되는 것이"
      ],
      "metadata": {
        "colab": {
          "base_uri": "https://localhost:8080/"
        },
        "id": "1mJDQSplrQ60",
        "outputId": "dc46ff26-03a2-4671-cb24-53ddbc41d9fb"
      },
      "execution_count": null,
      "outputs": [
        {
          "output_type": "execute_result",
          "data": {
            "text/plain": [
              "True"
            ]
          },
          "metadata": {},
          "execution_count": 8
        }
      ]
    }
  ]
}