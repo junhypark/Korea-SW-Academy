{
 "cells": [
  {
   "cell_type": "code",
   "execution_count": 1,
   "metadata": {},
   "outputs": [],
   "source": [
    "# 본래의 transformer는 nlp에서 사용되는 것\n",
    "# 하지만, 이미지로 맞춰서 만들고 싶어서\n",
    "# 많은 데이터들을 사용한다\n",
    "\n",
    "# 머신러닝 - 1차 데이터를 받는다 (feature vecotor)\n",
    "# 하지만, 이미지는 1차 데이터가 아님 따라서, convolution이 이 패러다임을 바꿈\n",
    "\n",
    "# 뉴럴 네트워크의 문제점\n",
    "# FC이므로 모든 상황을 고려하기 때문에\n",
    "# 크기나 위치, 이런 것을 조금만 바꿔도 인식을 잘 못한다\n",
    "# convolution의 연산 결과가 크면 이런 특성이 있다고 판별 가능함\n",
    "# 특성의 존재 유무의 represenation을 하는 것\n",
    "# 1차로 바꿨을 때, 독립성 과정이 확보가 되므로 성능이 좋아진다\n",
    "# convolution은 태생적으로 이미지 처리에 최적화됨"
   ]
  },
  {
   "cell_type": "code",
   "execution_count": 2,
   "metadata": {},
   "outputs": [],
   "source": [
    "# fc와 다른 locally connected라는 애가 있음\n",
    "# 특정 부분만 연결함\n",
    "# 모든 것을 연결하는 것이 아니라\n",
    "# 각 노드는 특정 부분만 본다\n",
    "# 장점: params 수가 작아지고 필요한 데이터 양이 줄어들고 있음\n",
    "# 1990년대 초반부터 사용\n",
    "# 똑같은 weight를 사용\n",
    "# 따라서, locally connected shared weighted라고 함\n",
    "\n",
    "# 전체적인 구성이 중요할떄는 fc layer를 사용하는 것이 좋을 수도 있다\n",
    "# vectorization 때문에 잘라서 한번에 동시에 넣어서 연산함\n",
    "\n",
    "# 하지만, 문제점: 어느정도의 window size여야 특성을 볼 수 있는가?\n",
    "# 특징이 없는 애들은 값이 0에 가까워진다\n",
    "# 따라서, conv에서 값이 큰 애들은 특징을 가지는 얘고 유사한 친구이다\n",
    "# Conv의 장점: 위치에 상관없이 특징이 있는지 없는지 알 수 있다\n",
    "\n",
    "# Conv는 위치 문제만 해결 가능했다\n",
    "# 어느정도 다른 애들을 해결할 수 있다 => layer, pooling으로 인한 해결\n",
    "\n",
    "# Technically, Conv는 레이어와 pooling 때문에 scale, rotation, and translation의 문제점을\n",
    "# 어느정도 해결하였다.\n",
    "# 레이어를 쌓는 것 자체가 성능을 향상시켜줌\n",
    "# 이를 통해서 위치, 회전, 크기의 문제점들을 해결가능해졌다\n",
    "\n",
    "# 다시, 2가지 해결책\n",
    "# 1. 레이어를 많이 쌓아라\n",
    "# 2. pooling tech"
   ]
  },
  {
   "cell_type": "code",
   "execution_count": null,
   "metadata": {},
   "outputs": [],
   "source": [
    "# pooling이란?\n",
    "# sub-sampling이라고 한다 (통계학과 관점)\n",
    "# 어떤 영역에서 대표값 뽑는 것\n",
    "# reduction = pooling\n",
    "# overlapping pooling / 최신은 pooling을 안씀 / stride를 사용\n",
    "# 단점: 정보를 많이 손실한다\n",
    "\n",
    "# 문제를 해결하기 위해서 두가지 관점으로 가능하다\n",
    "# 1. 알고리즘 관점\n",
    "# 2. 데이터 관점\n",
    "\n",
    "# data augmentation"
   ]
  }
 ],
 "metadata": {
  "kernelspec": {
   "display_name": "KoreaUniv",
   "language": "python",
   "name": "python3"
  },
  "language_info": {
   "codemirror_mode": {
    "name": "ipython",
    "version": 3
   },
   "file_extension": ".py",
   "mimetype": "text/x-python",
   "name": "python",
   "nbconvert_exporter": "python",
   "pygments_lexer": "ipython3",
   "version": "3.9.18"
  }
 },
 "nbformat": 4,
 "nbformat_minor": 2
}
