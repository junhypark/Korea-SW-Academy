{
 "cells": [
  {
   "cell_type": "code",
   "execution_count": 3,
   "metadata": {},
   "outputs": [],
   "source": [
    "import pickle\n",
    "import pandas as pd"
   ]
  },
  {
   "cell_type": "code",
   "execution_count": 4,
   "metadata": {},
   "outputs": [],
   "source": [
    "data = pd.read_pickle('../19th day/reco')"
   ]
  },
  {
   "cell_type": "code",
   "execution_count": null,
   "metadata": {},
   "outputs": [],
   "source": [
    "data"
   ]
  },
  {
   "cell_type": "code",
   "execution_count": 6,
   "metadata": {},
   "outputs": [],
   "source": [
    "def sim(user_id, n=5):\n",
    "    return data[user_id].sort_values(ascending=False)[1:n+1]"
   ]
  },
  {
   "cell_type": "code",
   "execution_count": 7,
   "metadata": {},
   "outputs": [
    {
     "data": {
      "text/plain": [
       "UserID\n",
       "1       1.000000\n",
       "5343    0.405356\n",
       "5190    0.404446\n",
       "1481    0.380623\n",
       "1283    0.379054\n",
       "Name: 1, dtype: float64"
      ]
     },
     "execution_count": 7,
     "metadata": {},
     "output_type": "execute_result"
    }
   ],
   "source": [
    "data.loc[1].nlargest(5)"
   ]
  },
  {
   "cell_type": "code",
   "execution_count": 8,
   "metadata": {},
   "outputs": [
    {
     "data": {
      "text/plain": [
       "UserID\n",
       "5343    0.405356\n",
       "5190    0.404446\n",
       "1481    0.380623\n",
       "1283    0.379054\n",
       "5705    0.346293\n",
       "Name: 1, dtype: float64"
      ]
     },
     "execution_count": 8,
     "metadata": {},
     "output_type": "execute_result"
    }
   ],
   "source": [
    "data.loc[1].sort_values(ascending=False)[1:6]"
   ]
  },
  {
   "cell_type": "code",
   "execution_count": 9,
   "metadata": {},
   "outputs": [],
   "source": [
    "import seaborn as sns"
   ]
  },
  {
   "cell_type": "code",
   "execution_count": 10,
   "metadata": {},
   "outputs": [],
   "source": [
    "tips = sns.load_dataset('tips')"
   ]
  },
  {
   "cell_type": "code",
   "execution_count": 11,
   "metadata": {},
   "outputs": [
    {
     "data": {
      "text/plain": [
       "RangeIndex(start=0, stop=244, step=1)"
      ]
     },
     "execution_count": 11,
     "metadata": {},
     "output_type": "execute_result"
    }
   ],
   "source": [
    "tips.index"
   ]
  },
  {
   "cell_type": "code",
   "execution_count": 12,
   "metadata": {},
   "outputs": [
    {
     "data": {
      "text/plain": [
       "Index(['total_bill', 'tip', 'sex', 'smoker', 'day', 'time', 'size'], dtype='object')"
      ]
     },
     "execution_count": 12,
     "metadata": {},
     "output_type": "execute_result"
    }
   ],
   "source": [
    "tips.columns"
   ]
  },
  {
   "cell_type": "code",
   "execution_count": 14,
   "metadata": {},
   "outputs": [
    {
     "data": {
      "text/plain": [
       "array([10.34, 1.66, 'Male', 'No', 'Sun', 'Dinner', 3], dtype=object)"
      ]
     },
     "execution_count": 14,
     "metadata": {},
     "output_type": "execute_result"
    }
   ],
   "source": [
    "# structured array로 부를 수 있음 / 문제점: dot notation으로 접근 불가능 따라서 record array로 사용\n",
    "tips.set_index() # index를 다른것으로 바꿔서 보여줄 수 있다\n",
    "# 이후 index sort가능\n",
    "tips.set_index('sex').sort_index()\n",
    "# 특정 값만 뽑고 싶으면 loc사용\n",
    "tips.set_index('sex').sort_index().loc['Male']"
   ]
  },
  {
   "cell_type": "code",
   "execution_count": 16,
   "metadata": {},
   "outputs": [
    {
     "data": {
      "text/plain": [
       "Index([3000, 479, 5691], dtype='int64', name='UserID')"
      ]
     },
     "execution_count": 16,
     "metadata": {},
     "output_type": "execute_result"
    }
   ],
   "source": [
    "sim(3,3).index"
   ]
  },
  {
   "cell_type": "code",
   "execution_count": null,
   "metadata": {},
   "outputs": [],
   "source": [
    "rating[(rating.UserID==3000)|(rating.UserID==479)|(rating.UserID==5691)]\n",
    "# boolean indexing으로 찾아오기\n",
    "\n",
    "# or는 in으로 대체할 수 있다\n",
    "a==3 or a==6\n",
    "a in [3,6]\n",
    "\n",
    "# 따라서, 이렇게 변경 가능하다\n",
    "rating[rating.UserID in [3000, 479, 5691]]  # overloading이 keyword에 적용되지 않으므로 불가능\n",
    "rating[rating.UserID.isin([3000, 479, 5691])]"
   ]
  },
  {
   "cell_type": "code",
   "execution_count": 17,
   "metadata": {},
   "outputs": [
    {
     "name": "stderr",
     "output_type": "stream",
     "text": [
      "C:\\Users\\SAMSUNG\\AppData\\Local\\Temp\\ipykernel_46900\\3163660120.py:1: ParserWarning: Falling back to the 'python' engine because the 'c' engine does not support regex separators (separators > 1 char and different from '\\s+' are interpreted as regex); you can avoid this warning by specifying engine='python'.\n",
      "  rating = pd.read_csv('../19th day/ml-1m/ratings.dat', sep='::', header=None, names=['UserID','MovieID', 'Rating','Timestamp'])\n"
     ]
    }
   ],
   "source": [
    "rating = pd.read_csv('../19th day/ml-1m/ratings.dat', sep='::', header=None, names=['UserID','MovieID', 'Rating','Timestamp'])"
   ]
  },
  {
   "cell_type": "code",
   "execution_count": 40,
   "metadata": {},
   "outputs": [
    {
     "name": "stderr",
     "output_type": "stream",
     "text": [
      "C:\\Users\\SAMSUNG\\AppData\\Local\\Temp\\ipykernel_46900\\780918132.py:1: ParserWarning: Falling back to the 'python' engine because the 'c' engine does not support regex separators (separators > 1 char and different from '\\s+' are interpreted as regex); you can avoid this warning by specifying engine='python'.\n",
      "  movie = pd.read_csv('../19th day/ml-1m/movies.dat', sep='::', header=None, names=['MovieID','Title','Genres'], encoding='latin1')\n"
     ]
    }
   ],
   "source": [
    "movie = pd.read_csv('../19th day/ml-1m/movies.dat', sep='::', header=None, names=['MovieID','Title','Genres'], encoding='latin1')"
   ]
  },
  {
   "cell_type": "code",
   "execution_count": 42,
   "metadata": {},
   "outputs": [],
   "source": [
    "def sim_movie(user_id, n=6):\n",
    "    index = data[user_id].sort_values(ascending=False)[1:n+1].index\n",
    "    movie_ = rating[(rating.UserID.isin(index))&(rating.Rating==5)]['MovieID'].values\n",
    "    movie_id = np.unique(movie_)\n",
    "    return movie[movie.MovieID.isin(movie_id)]"
   ]
  },
  {
   "cell_type": "code",
   "execution_count": 33,
   "metadata": {},
   "outputs": [],
   "source": [
    "import numpy as np"
   ]
  },
  {
   "cell_type": "code",
   "execution_count": 34,
   "metadata": {},
   "outputs": [
    {
     "data": {
      "text/plain": [
       "array([   1,   10,   11,   32,   34,  110,  144,  150,  153,  161,  260,\n",
       "        318,  339,  349,  362,  380,  440,  457,  480,  527,  553,  588,\n",
       "        589,  590,  592,  593,  597,  648,  733,  858,  919,  934, 1015,\n",
       "       1017, 1019, 1028, 1036, 1073, 1097, 1127, 1136, 1193, 1196, 1197,\n",
       "       1198, 1199, 1201, 1210, 1221, 1222, 1234, 1240, 1246, 1254, 1259,\n",
       "       1262, 1265, 1266, 1270, 1272, 1275, 1278, 1291, 1294, 1304, 1307,\n",
       "       1356, 1373, 1376, 1387, 1569, 1580, 1610, 1653, 1663, 1704, 1747,\n",
       "       1779, 1953, 1954, 1968, 2000, 2054, 2078, 2080, 2081, 2115, 2194,\n",
       "       2302, 2355, 2470, 2571, 2615, 2640, 2716, 2797, 2858, 2871, 2872,\n",
       "       2915, 2944, 2951, 2968, 3037, 3039, 3040, 3098, 3114, 3168, 3244,\n",
       "       3358, 3360, 3361, 3408, 3421, 3479, 3494, 3501, 3526, 3552, 3578,\n",
       "       3671, 3948], dtype=int64)"
      ]
     },
     "execution_count": 34,
     "metadata": {},
     "output_type": "execute_result"
    }
   ],
   "source": [
    "np.unique(sim_movie(3)) # 중복 거르기\n",
    "np.unique([1,2,2,2,1,1,1,2,1], return_counts=True)  # value count 해서 알려줌"
   ]
  },
  {
   "cell_type": "code",
   "execution_count": 37,
   "metadata": {},
   "outputs": [
    {
     "data": {
      "text/plain": [
       "(array([5, 0, 2], dtype=int64),\n",
       " array([1.        , 1.33333333, 1.66666667, 2.        ]))"
      ]
     },
     "execution_count": 37,
     "metadata": {},
     "output_type": "execute_result"
    }
   ],
   "source": [
    "np.histogram([1,2,1,2,1,1,1], bins=3)   # bins는 몇등분할지 정해주는 것"
   ]
  },
  {
   "cell_type": "code",
   "execution_count": 43,
   "metadata": {},
   "outputs": [
    {
     "data": {
      "text/html": [
       "<div>\n",
       "<style scoped>\n",
       "    .dataframe tbody tr th:only-of-type {\n",
       "        vertical-align: middle;\n",
       "    }\n",
       "\n",
       "    .dataframe tbody tr th {\n",
       "        vertical-align: top;\n",
       "    }\n",
       "\n",
       "    .dataframe thead th {\n",
       "        text-align: right;\n",
       "    }\n",
       "</style>\n",
       "<table border=\"1\" class=\"dataframe\">\n",
       "  <thead>\n",
       "    <tr style=\"text-align: right;\">\n",
       "      <th></th>\n",
       "      <th>MovieID</th>\n",
       "      <th>Title</th>\n",
       "      <th>Genres</th>\n",
       "    </tr>\n",
       "  </thead>\n",
       "  <tbody>\n",
       "    <tr>\n",
       "      <th>0</th>\n",
       "      <td>1</td>\n",
       "      <td>Toy Story (1995)</td>\n",
       "      <td>Animation|Children's|Comedy</td>\n",
       "    </tr>\n",
       "    <tr>\n",
       "      <th>9</th>\n",
       "      <td>10</td>\n",
       "      <td>GoldenEye (1995)</td>\n",
       "      <td>Action|Adventure|Thriller</td>\n",
       "    </tr>\n",
       "    <tr>\n",
       "      <th>10</th>\n",
       "      <td>11</td>\n",
       "      <td>American President, The (1995)</td>\n",
       "      <td>Comedy|Drama|Romance</td>\n",
       "    </tr>\n",
       "    <tr>\n",
       "      <th>31</th>\n",
       "      <td>32</td>\n",
       "      <td>Twelve Monkeys (1995)</td>\n",
       "      <td>Drama|Sci-Fi</td>\n",
       "    </tr>\n",
       "    <tr>\n",
       "      <th>33</th>\n",
       "      <td>34</td>\n",
       "      <td>Babe (1995)</td>\n",
       "      <td>Children's|Comedy|Drama</td>\n",
       "    </tr>\n",
       "    <tr>\n",
       "      <th>...</th>\n",
       "      <td>...</td>\n",
       "      <td>...</td>\n",
       "      <td>...</td>\n",
       "    </tr>\n",
       "    <tr>\n",
       "      <th>3457</th>\n",
       "      <td>3526</td>\n",
       "      <td>Parenthood (1989)</td>\n",
       "      <td>Comedy|Drama</td>\n",
       "    </tr>\n",
       "    <tr>\n",
       "      <th>3483</th>\n",
       "      <td>3552</td>\n",
       "      <td>Caddyshack (1980)</td>\n",
       "      <td>Comedy</td>\n",
       "    </tr>\n",
       "    <tr>\n",
       "      <th>3509</th>\n",
       "      <td>3578</td>\n",
       "      <td>Gladiator (2000)</td>\n",
       "      <td>Action|Drama</td>\n",
       "    </tr>\n",
       "    <tr>\n",
       "      <th>3602</th>\n",
       "      <td>3671</td>\n",
       "      <td>Blazing Saddles (1974)</td>\n",
       "      <td>Comedy|Western</td>\n",
       "    </tr>\n",
       "    <tr>\n",
       "      <th>3878</th>\n",
       "      <td>3948</td>\n",
       "      <td>Meet the Parents (2000)</td>\n",
       "      <td>Comedy</td>\n",
       "    </tr>\n",
       "  </tbody>\n",
       "</table>\n",
       "<p>123 rows × 3 columns</p>\n",
       "</div>"
      ],
      "text/plain": [
       "      MovieID                           Title                       Genres\n",
       "0           1                Toy Story (1995)  Animation|Children's|Comedy\n",
       "9          10                GoldenEye (1995)    Action|Adventure|Thriller\n",
       "10         11  American President, The (1995)         Comedy|Drama|Romance\n",
       "31         32           Twelve Monkeys (1995)                 Drama|Sci-Fi\n",
       "33         34                     Babe (1995)      Children's|Comedy|Drama\n",
       "...       ...                             ...                          ...\n",
       "3457     3526               Parenthood (1989)                 Comedy|Drama\n",
       "3483     3552               Caddyshack (1980)                       Comedy\n",
       "3509     3578                Gladiator (2000)                 Action|Drama\n",
       "3602     3671          Blazing Saddles (1974)               Comedy|Western\n",
       "3878     3948         Meet the Parents (2000)                       Comedy\n",
       "\n",
       "[123 rows x 3 columns]"
      ]
     },
     "execution_count": 43,
     "metadata": {},
     "output_type": "execute_result"
    }
   ],
   "source": [
    "sim_movie(3)"
   ]
  },
  {
   "cell_type": "code",
   "execution_count": null,
   "metadata": {},
   "outputs": [],
   "source": [
    "# 문제가 경제적 공익적 학문적 가치가 있으면 있을수록 더 높은 점수를 받을 가능성이 존재한다\n",
    "# 문제도 클수록 좋은 점수를 받는다\n",
    "# 설득의 영역은 우리한테 맡겨진다\n",
    "# "
   ]
  }
 ],
 "metadata": {
  "kernelspec": {
   "display_name": "KoreaUniv",
   "language": "python",
   "name": "python3"
  },
  "language_info": {
   "codemirror_mode": {
    "name": "ipython",
    "version": 3
   },
   "file_extension": ".py",
   "mimetype": "text/x-python",
   "name": "python",
   "nbconvert_exporter": "python",
   "pygments_lexer": "ipython3",
   "version": "3.9.18"
  }
 },
 "nbformat": 4,
 "nbformat_minor": 2
}
