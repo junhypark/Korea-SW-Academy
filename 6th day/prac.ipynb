{
 "cells": [
  {
   "cell_type": "code",
   "execution_count": 28,
   "metadata": {},
   "outputs": [],
   "source": [
    "from collections.abc import Sequence\n",
    "from functools import singledispatchmethod"
   ]
  },
  {
   "cell_type": "code",
   "execution_count": 33,
   "metadata": {},
   "outputs": [],
   "source": [
    "class A(Sequence):\n",
    "    def __getitem__(self, x):\n",
    "        return [i if Sequence.index(i) == x else None for i in range(Sequence.__len__(self))]\n",
    "    \n",
    "    @singledispatchmethod\n",
    "    def __len__(x, arg: int):\n",
    "        return \"Not list or dict\"\n",
    "\n",
    "    @__len__.register\n",
    "    def _(x, arg: dict):\n",
    "        return \"dict\"\n",
    "    \n",
    "    @__len__.register\n",
    "    def _(x, arg: list):\n",
    "        return \"list\""
   ]
  },
  {
   "cell_type": "code",
   "execution_count": 37,
   "metadata": {},
   "outputs": [
    {
     "data": {
      "text/plain": [
       "'Not list or dict'"
      ]
     },
     "execution_count": 37,
     "metadata": {},
     "output_type": "execute_result"
    }
   ],
   "source": [
    "a = A()\n",
    "a.__len__(1)"
   ]
  },
  {
   "cell_type": "code",
   "execution_count": 35,
   "metadata": {},
   "outputs": [
    {
     "data": {
      "text/plain": [
       "'list'"
      ]
     },
     "execution_count": 35,
     "metadata": {},
     "output_type": "execute_result"
    }
   ],
   "source": [
    "aa = [1,2,3]\n",
    "a.__len__(aa)"
   ]
  },
  {
   "cell_type": "code",
   "execution_count": 38,
   "metadata": {},
   "outputs": [
    {
     "data": {
      "text/plain": [
       "'dict'"
      ]
     },
     "execution_count": 38,
     "metadata": {},
     "output_type": "execute_result"
    }
   ],
   "source": [
    "a.__len__({'a': 1, 'b':2})"
   ]
  },
  {
   "cell_type": "code",
   "execution_count": 40,
   "metadata": {},
   "outputs": [],
   "source": [
    "# 3.12.2의 python 공식 문서를 보면\n",
    "# generic function을 위해서\n",
    "# singledispatchmethod를 사용한다\n",
    "# 해당 method를 사용하면 arg를 직접적으로 넣음으로 class를 정할 수 있고\n",
    "# 이를 통해서 원래 안되는 list와 같은 애들을 사용할 수 있다\n",
    "# https://docs.python.org/3/library/functools.html#functools.singledispatchmethod\n",
    "# 근데 이때 verbose가 뭔지 모르겠다\n",
    "\n",
    "# verbose란 상세한 로깅을 출력할지 말지 조정하는 파라미터\n",
    "# verbose = 0 - 출력x\n",
    "# verbose = 1 - 자세히 출력\n",
    "# verbose = 2 - 함축적인 정보만 출력\n",
    "\n",
    "# singledispatch에서는 다른 타입들도 사용 가능하다\n",
    "# 예를들어, Union과 같은\n",
    "# complex의 경우에는 맞지 않는 type으로 걸리게 해주는 역할"
   ]
  },
  {
   "cell_type": "code",
   "execution_count": null,
   "metadata": {},
   "outputs": [],
   "source": [
    "from functools import singledispatch, update_wrapper\n",
    "\n",
    "def methdispatch(func):\n",
    "    dispatcher = singledispatch(func)\n",
    "    def wrapper(*args, **kw):\n",
    "        return dispatcher.dispatch(args[1].__class__)(*args, **kw)\n",
    "    wrapper.register = dispatcher.register\n",
    "    update_wrapper(wrapper, func)\n",
    "    return wrapper\n",
    "\n",
    "# 해당 방법은 python 3.8 이전에 오류가 날 경우 사용하는 예제이다\n",
    "# 잊어도 좋다"
   ]
  },
  {
   "cell_type": "code",
   "execution_count": 41,
   "metadata": {},
   "outputs": [
    {
     "ename": "TypeError",
     "evalue": "'list' object is not an iterator",
     "output_type": "error",
     "traceback": [
      "\u001b[1;31m---------------------------------------------------------------------------\u001b[0m",
      "\u001b[1;31mTypeError\u001b[0m                                 Traceback (most recent call last)",
      "Input \u001b[1;32mIn [41]\u001b[0m, in \u001b[0;36m<cell line: 2>\u001b[1;34m()\u001b[0m\n\u001b[0;32m      1\u001b[0m a \u001b[38;5;241m=\u001b[39m [\u001b[38;5;241m1\u001b[39m,\u001b[38;5;241m2\u001b[39m,\u001b[38;5;241m3\u001b[39m,\u001b[38;5;241m4\u001b[39m]\n\u001b[1;32m----> 2\u001b[0m \u001b[38;5;28;43mnext\u001b[39;49m\u001b[43m(\u001b[49m\u001b[43ma\u001b[49m\u001b[43m)\u001b[49m\n",
      "\u001b[1;31mTypeError\u001b[0m: 'list' object is not an iterator"
     ]
    }
   ],
   "source": [
    "a = [1,2,3,4]\n",
    "next(a)"
   ]
  },
  {
   "cell_type": "code",
   "execution_count": 43,
   "metadata": {},
   "outputs": [
    {
     "data": {
      "text/plain": [
       "1"
      ]
     },
     "execution_count": 43,
     "metadata": {},
     "output_type": "execute_result"
    }
   ],
   "source": [
    "# 즉, list 그 자체는 iterator가 아니라 iterable한 놈이니깐 iter로 감싸줘야함\n",
    "# 따라서\n",
    "a = iter(a)\n",
    "next(a)\n",
    "# 이것이 가능한 것이다"
   ]
  },
  {
   "cell_type": "code",
   "execution_count": 45,
   "metadata": {},
   "outputs": [],
   "source": [
    "# Bound vs Unbound\n",
    "# bound - 관련된 object가 있는 경우\n",
    "# unbound - 관련된 object가 없는 경우\n",
    "# 즉 두 method가 서로 관련된 object가 있는 경우 bound\n",
    "# 아닌 경우 unbound\n",
    "\n",
    "class Parent:\n",
    "    def __init__(self, name):\n",
    "        print('조상 생성자')\n",
    "        self.parentName = name\n",
    "\n",
    "class Chile(Parent):\n",
    "    def __init__(self, name):\n",
    "        Parent.__init__(self, name)\n",
    "        print('자식 생성자')\n",
    "# 1. unbound의 경우"
   ]
  },
  {
   "cell_type": "code",
   "execution_count": 46,
   "metadata": {},
   "outputs": [
    {
     "name": "stdout",
     "output_type": "stream",
     "text": [
      "조상 생성자\n",
      "자식 생성자\n",
      "김부모\n"
     ]
    }
   ],
   "source": [
    "child = Chile('김부모')\n",
    "print(child.parentName)"
   ]
  },
  {
   "cell_type": "code",
   "execution_count": 47,
   "metadata": {},
   "outputs": [
    {
     "ename": "TypeError",
     "evalue": "Cannot create a consistent method resolution\norder (MRO) for bases A, B, C",
     "output_type": "error",
     "traceback": [
      "\u001b[1;31m---------------------------------------------------------------------------\u001b[0m",
      "\u001b[1;31mTypeError\u001b[0m                                 Traceback (most recent call last)",
      "Input \u001b[1;32mIn [47]\u001b[0m, in \u001b[0;36m<cell line: 17>\u001b[1;34m()\u001b[0m\n\u001b[0;32m     14\u001b[0m \u001b[38;5;28;01mclass\u001b[39;00m \u001b[38;5;21;01mC\u001b[39;00m(A):\n\u001b[0;32m     15\u001b[0m     \u001b[38;5;28;01mpass\u001b[39;00m\n\u001b[1;32m---> 17\u001b[0m \u001b[38;5;28;01mclass\u001b[39;00m \u001b[38;5;21;01mD\u001b[39;00m(A, B, C): \u001b[38;5;66;03m# 에러 발생!\u001b[39;00m\n\u001b[0;32m     18\u001b[0m     \u001b[38;5;28;01mpass\u001b[39;00m\n",
      "\u001b[1;31mTypeError\u001b[0m: Cannot create a consistent method resolution\norder (MRO) for bases A, B, C"
     ]
    }
   ],
   "source": [
    "# 2. bound의 경우가 super다\n",
    "# super를 위해서는 다중상속과 MRO를 깨달아야함\n",
    "# 이때 문제는 부모 클래스들이 똑같은 이름의 메소드를 가지면 안됨 - the deadly diamond of death\n",
    "# MRO 는 parameter의 순서가 중요한 것이 맞다\n",
    "# 상속을 먼저 받아서 우선순위가 높음\n",
    "\n",
    "# 순서를 정하는 방법: 먼저 상속을 받는 것을 고려하여 만들어야 함\n",
    "class A:\n",
    "    pass\n",
    "\n",
    "class B(A):\n",
    "    pass\n",
    "\n",
    "class C(A):\n",
    "    pass\n",
    "\n",
    "class D(A, B, C): # 에러 발생!\n",
    "    pass"
   ]
  },
  {
   "cell_type": "code",
   "execution_count": 48,
   "metadata": {},
   "outputs": [],
   "source": [
    "# 해결하려면\n",
    "class A:\n",
    "    pass\n",
    "\n",
    "class B(A):\n",
    "    pass\n",
    "\n",
    "class C(A):\n",
    "    pass\n",
    "\n",
    "class D(B, C, A): # 에러 발생!\n",
    "    pass\n",
    "# 이러면 해결된다\n",
    "# 반대로 순서를 특정하지 못하게 서로 물려놓으면 답이 없다\n",
    "# https://tibetsandfox.tistory.com/26"
   ]
  },
  {
   "cell_type": "code",
   "execution_count": 52,
   "metadata": {},
   "outputs": [],
   "source": [
    "class Dog:\n",
    "    def __init__(self):\n",
    "        print(\"I'm a dog.\")\n",
    "\n",
    "\n",
    "class Husky(Dog):\n",
    "    def __init__(self):\n",
    "        super().__init__()\n",
    "        print(\"I'm a Husky.\")\n",
    "\n",
    "\n",
    "class Corgi(Dog):\n",
    "    def __init__(self):\n",
    "        super().__init__()\n",
    "        print(\"I'm a Corgi.\")  \n",
    "\n",
    "class Cat(Dog):\n",
    "    def __init__(self):\n",
    "        super().__init__()\n",
    "        print(\"Mewo\")\n",
    "\n",
    "class Horgi(Husky, Corgi, Cat):\n",
    "    def __init__(self):\n",
    "        super().__init__()\n",
    "        print(\"I'm a Horgi\")"
   ]
  },
  {
   "cell_type": "code",
   "execution_count": 53,
   "metadata": {},
   "outputs": [
    {
     "data": {
      "text/plain": [
       "(__main__.Horgi,\n",
       " __main__.Husky,\n",
       " __main__.Corgi,\n",
       " __main__.Cat,\n",
       " __main__.Dog,\n",
       " object)"
      ]
     },
     "execution_count": 53,
     "metadata": {},
     "output_type": "execute_result"
    }
   ],
   "source": [
    "Horgi.__mro__"
   ]
  },
  {
   "cell_type": "code",
   "execution_count": 41,
   "metadata": {},
   "outputs": [],
   "source": [
    "def solution(keymap, targets):\n",
    "    answer = []\n",
    "    dict = {}\n",
    "    for i in keymap:\n",
    "        str = list(i)\n",
    "        for j, (X) in enumerate(str):\n",
    "            try:\n",
    "                if dict[X] < j and dict[X]:\n",
    "                    pass\n",
    "                elif dict[X] > j:\n",
    "                    dict[X] = j\n",
    "            except KeyError:\n",
    "                dict[X] = j\n",
    "    for i, (X) in enumerate(targets):\n",
    "        st = list(X)\n",
    "        for j in st:\n",
    "            try:\n",
    "                dict[j]\n",
    "                try:\n",
    "                    answer[i] += dict[j]+1\n",
    "                except IndexError:\n",
    "                    answer.append(dict[j]+1)\n",
    "            except:\n",
    "                try:\n",
    "                    answer[i] -= 1\n",
    "                except IndexError:\n",
    "                    answer.append(-1)\n",
    "    return answer"
   ]
  },
  {
   "cell_type": "code",
   "execution_count": 42,
   "metadata": {},
   "outputs": [
    {
     "data": {
      "text/plain": [
       "[2]"
      ]
     },
     "execution_count": 42,
     "metadata": {},
     "output_type": "execute_result"
    }
   ],
   "source": [
    "solution([\"AB\"],[\"ABC\"])"
   ]
  }
 ],
 "metadata": {
  "kernelspec": {
   "display_name": "base",
   "language": "python",
   "name": "python3"
  },
  "language_info": {
   "codemirror_mode": {
    "name": "ipython",
    "version": 3
   },
   "file_extension": ".py",
   "mimetype": "text/x-python",
   "name": "python",
   "nbconvert_exporter": "python",
   "pygments_lexer": "ipython3",
   "version": "3.9.12"
  }
 },
 "nbformat": 4,
 "nbformat_minor": 2
}
