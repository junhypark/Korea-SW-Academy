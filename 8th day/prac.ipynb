{
 "cells": [
  {
   "cell_type": "code",
   "execution_count": 5,
   "metadata": {},
   "outputs": [
    {
     "ename": "TypeError",
     "evalue": "x() missing 1 required positional argument: 'b'",
     "output_type": "error",
     "traceback": [
      "\u001b[1;31m---------------------------------------------------------------------------\u001b[0m",
      "\u001b[1;31mTypeError\u001b[0m                                 Traceback (most recent call last)",
      "Cell \u001b[1;32mIn[5], line 6\u001b[0m\n\u001b[0;32m      3\u001b[0m \u001b[38;5;28;01mdef\u001b[39;00m \u001b[38;5;21mx\u001b[39m(a, b):\n\u001b[0;32m      4\u001b[0m     \u001b[38;5;28mprint\u001b[39m(a)\n\u001b[1;32m----> 6\u001b[0m \u001b[43mx\u001b[49m\u001b[43m(\u001b[49m\u001b[38;5;241;43m1\u001b[39;49m\u001b[43m)\u001b[49m\n\u001b[0;32m      7\u001b[0m x(\u001b[38;5;241m1\u001b[39m, b\u001b[38;5;241m=\u001b[39m\u001b[38;5;241m2\u001b[39m)\n",
      "\u001b[1;31mTypeError\u001b[0m: x() missing 1 required positional argument: 'b'"
     ]
    }
   ],
   "source": [
    "def x(a, b=None):\n",
    "    print('second')\n",
    "def x(a, b):\n",
    "    print(a)\n",
    "\n",
    "x(1)\n",
    "x(1)"
   ]
  },
  {
   "cell_type": "code",
   "execution_count": 6,
   "metadata": {},
   "outputs": [
    {
     "name": "stdout",
     "output_type": "stream",
     "text": [
      "Polymorphism\n",
      "Polymorphism\n"
     ]
    }
   ],
   "source": [
    "def x(a, b=None):\n",
    "    print(\"Polymorphism\")\n",
    "\n",
    "x(1)\n",
    "x(1, 2)"
   ]
  },
  {
   "cell_type": "code",
   "execution_count": 1,
   "metadata": {},
   "outputs": [],
   "source": [
    "from requests.compat import urljoin\n",
    "from bs4 import BeautifulSoup\n",
    "import re\n",
    "from requests import get"
   ]
  },
  {
   "cell_type": "code",
   "execution_count": 44,
   "metadata": {},
   "outputs": [],
   "source": [
    "url = 'https://www.google.com/search?q=수지'\n",
    "ua = 'Mozilla/5.0 (Windows NT 10.0; Win64; x64) AppleWebKit/537.36 (KHTML, like Gecko) Chrome/122.0.0.0 Safari/537.36'\n",
    "resp = get(url, headers={'user-agent': ua})\n",
    "dom = BeautifulSoup(resp.content, 'html.parser')"
   ]
  },
  {
   "cell_type": "code",
   "execution_count": 45,
   "metadata": {},
   "outputs": [
    {
     "data": {
      "text/plain": [
       "[<a data-ved=\"2ahUKEwiTqOTOzPOEAxWqha8BHYCWApAQFnoECB0QAQ\" href=\"https://namu.wiki/w/%EC%88%98%EC%A7%80(1994)\" jsname=\"UWckNb\" ping=\"/url?sa=t&amp;source=web&amp;rct=j&amp;opi=89978449&amp;url=https://namu.wiki/w/%25EC%2588%2598%25EC%25A7%2580(1994)&amp;ved=2ahUKEwiTqOTOzPOEAxWqha8BHYCWApAQFnoECB0QAQ\"><br/><h3 class=\"LC20lb MBeuO DKV0Md\">수지(1994)</h3><div class=\"notranslate HGLrXd NJjxre iUh30 ojE3Fb\"><div class=\"q0vns\"><span class=\"DDKf1c\"><div aria-hidden=\"true\" class=\"eqA2re UnOTSe Vwoesf\"><img alt=\"\" class=\"XNo5Ab\" src=\"data:image/png;base64,iVBORw0KGgoAAAANSUhEUgAAABwAAAAcCAMAAABF0y+mAAAAq1BMVEUBp5oDp5kEp5gFqJYGqJUJqZMKqZEOq40PrIwRrIoTrYgUrYcWroUXroMYr4Iar4AcsH8dsH4esXwfsXoisngisncks3Uls3QntHMAo4kApodqwrPx+vmLz78nsJ3////J5+Gw3s9UvKUApoMApWeV0cN3yLPg8u4+tp284tuR0rpLuKfV7eil2chZwJaAzat7ybhIupew3sY9uYEAone44s0Nr21pxKig1s+V4eOvAAAA5klEQVR4AdXRRQLCMBAFUNzdEwZ+DHfn/hfDqbdr2OZlPBaLJ5KpdCaTzebyhWKpXKnW6o1mq93p9no/ihnGeSj2iQY8BIcQEiqvH+bHPtIGIz0GZNWfFhOBaQ6zOcbVJ7baDlwsMdMKQ4PVE1vrTbtrj8K24Jpogt0DG3sAB8ecDAOdndHk+KyJURWnswMlaX3cYfcI3DyQbMwwloVS4tnunLB0pZ2R5BNAqAuAVd2sN61vQ6kZ5PMxVyyWSTbqrlFSuB73j5KP9ZVXqLuXkBJYYfbebWnl25CA+J6s6kPGWOSx/wLvEPY0IwyYaiYAAAAASUVORK5CYII=\" style=\"height:26px;width:26px\"/></div></span><div class=\"GTRloc\"><span class=\"VuuXrf\">나무위키</span><div class=\"byrV5b\"><cite class=\"qLRx3b tjvcx GvPZzd cHaqb\" role=\"text\">https://namu.wiki<span class=\"ylgVCe ob9lvb\" role=\"text\"> › 수지(1994)</span></cite></div></div></div></div><span jsaction=\"rcuQ6b:npT2md\" jscontroller=\"IX53Tb\" style=\"display:none\"></span></a>,\n",
       " <a data-ved=\"2ahUKEwiTqOTOzPOEAxWqha8BHYCWApAQFnoECBsQAQ\" href=\"https://ko.wikipedia.org/wiki/%EC%88%98%EC%A7%80_(1994%EB%85%84)\" jsname=\"UWckNb\" ping=\"/url?sa=t&amp;source=web&amp;rct=j&amp;opi=89978449&amp;url=https://ko.wikipedia.org/wiki/%25EC%2588%2598%25EC%25A7%2580_(1994%25EB%2585%2584)&amp;ved=2ahUKEwiTqOTOzPOEAxWqha8BHYCWApAQFnoECBsQAQ\"><br/><h3 class=\"LC20lb MBeuO DKV0Md\">수지 (1994년) - 위키백과, 우리 모두의 백과사전</h3><div class=\"notranslate HGLrXd NJjxre iUh30 ojE3Fb\"><div class=\"q0vns\"><span class=\"DDKf1c\"><div aria-hidden=\"true\" class=\"eqA2re UnOTSe Vwoesf\"><img alt=\"\" class=\"XNo5Ab\" src=\"data:image/png;base64,iVBORw0KGgoAAAANSUhEUgAAABwAAAAcCAAAAABXZoBIAAAAnklEQVR4AeTNIQiDQABG4b+u17X1aF6PK3YEO9iMJqPVau82y4FgMezS0oVLhqsHtrcqeqzDXv3CEz/6L4yTtZM3dnHmPTtjzXZAXKYVo4agkU2GI2Lloc6JDez1+flswMu1EQZ3xlE7lK8eKDkjtwE+crBMV+wesKmCiisGGepZIfQJpMj9SNb2MYWrChjVkULuCyCfRvsdmBieyQQAsoDk/9ryhFMAAAAASUVORK5CYII=\" style=\"height:26px;width:26px\"/></div></span><div class=\"GTRloc\"><span class=\"VuuXrf\">Wikipedia</span><div class=\"byrV5b\"><cite class=\"qLRx3b tjvcx GvPZzd cHaqb\" role=\"text\">https://ko.wikipedia.org<span class=\"ylgVCe ob9lvb\" role=\"text\"> › wiki › 수지_(1994년)</span></cite></div></div></div></div><span jsaction=\"rcuQ6b:npT2md\" jscontroller=\"IX53Tb\" style=\"display:none\"></span></a>,\n",
       " <a data-ved=\"2ahUKEwiTqOTOzPOEAxWqha8BHYCWApAQFnoECBcQAQ\" href=\"https://namu.wiki/w/%EC%88%98%EC%A7%80\" jsname=\"UWckNb\" ping=\"/url?sa=t&amp;source=web&amp;rct=j&amp;opi=89978449&amp;url=https://namu.wiki/w/%25EC%2588%2598%25EC%25A7%2580&amp;ved=2ahUKEwiTqOTOzPOEAxWqha8BHYCWApAQFnoECBcQAQ\"><br/><h3 class=\"LC20lb MBeuO DKV0Md\">수지</h3><div class=\"notranslate HGLrXd NJjxre iUh30 ojE3Fb\"><div class=\"q0vns\"><span class=\"DDKf1c\"><div aria-hidden=\"true\" class=\"eqA2re UnOTSe Vwoesf\"><img alt=\"\" class=\"XNo5Ab\" src=\"data:image/png;base64,iVBORw0KGgoAAAANSUhEUgAAABwAAAAcCAMAAABF0y+mAAAAq1BMVEUBp5oDp5kEp5gFqJYGqJUJqZMKqZEOq40PrIwRrIoTrYgUrYcWroUXroMYr4Iar4AcsH8dsH4esXwfsXoisngisncks3Uls3QntHMAo4kApodqwrPx+vmLz78nsJ3////J5+Gw3s9UvKUApoMApWeV0cN3yLPg8u4+tp284tuR0rpLuKfV7eil2chZwJaAzat7ybhIupew3sY9uYEAone44s0Nr21pxKig1s+V4eOvAAAA5klEQVR4AdXRRQLCMBAFUNzdEwZ+DHfn/hfDqbdr2OZlPBaLJ5KpdCaTzebyhWKpXKnW6o1mq93p9no/ihnGeSj2iQY8BIcQEiqvH+bHPtIGIz0GZNWfFhOBaQ6zOcbVJ7baDlwsMdMKQ4PVE1vrTbtrj8K24Jpogt0DG3sAB8ecDAOdndHk+KyJURWnswMlaX3cYfcI3DyQbMwwloVS4tnunLB0pZ2R5BNAqAuAVd2sN61vQ6kZ5PMxVyyWSTbqrlFSuB73j5KP9ZVXqLuXkBJYYfbebWnl25CA+J6s6kPGWOSx/wLvEPY0IwyYaiYAAAAASUVORK5CYII=\" style=\"height:26px;width:26px\"/></div></span><div class=\"GTRloc\"><span class=\"VuuXrf\">나무위키</span><div class=\"byrV5b\"><cite class=\"qLRx3b tjvcx GvPZzd cHaqb\" role=\"text\">https://namu.wiki<span class=\"ylgVCe ob9lvb\" role=\"text\"> › 수지</span></cite></div></div></div></div><span jsaction=\"rcuQ6b:npT2md\" jscontroller=\"IX53Tb\" style=\"display:none\"></span></a>,\n",
       " <a data-ved=\"2ahUKEwiTqOTOzPOEAxWqha8BHYCWApAQFnoECBoQAQ\" href=\"https://www.instagram.com/skuukzky/\" jsname=\"UWckNb\" ping=\"/url?sa=t&amp;source=web&amp;rct=j&amp;opi=89978449&amp;url=https://www.instagram.com/skuukzky/&amp;ved=2ahUKEwiTqOTOzPOEAxWqha8BHYCWApAQFnoECBoQAQ\"><br/><h3 class=\"LC20lb MBeuO DKV0Md\">숮이 💄💅👡👠🎀👙🌂👗🌂🎀💋💌 (@skuukzky) • Instagram photos ...</h3><div class=\"notranslate HGLrXd NJjxre iUh30 ojE3Fb\"><div class=\"q0vns\"><span class=\"DDKf1c\"><div aria-hidden=\"true\" class=\"eqA2re UnOTSe Vwoesf\"><img alt=\"\" class=\"XNo5Ab\" src=\"data:image/png;base64,iVBORw0KGgoAAAANSUhEUgAAABwAAAAcCAMAAABF0y+mAAABRFBMVEVHcEz4D5n9oAf9lAftEKn7lBXhA8VwFf3TPJF3Fv39tgX9egV9GvnpA7b9OFx2GPn7SUH9KXX9UjH////+AWH+Arv+wQPkANL+ygD9BKv+AZP+A27+Mkj/9fP+AYj+XS3+aRj+AXr+cJn+7/ubEvz+YQHUANn+J3Z6FPyIFPv+jQL+Tg/CAd6rAuX/vMT/17P0Asn/ruj+sQD+G3/+Pj3+SjX+dhz/vOD0bt3+ugD+Kmb+dwThGun+PST/y8r+xG3+GpL/rMr9D57+hAKUBuv+LlX+ghX+GGT+Bkb+IVb/s9b+X8P+nwHtAL3+pwH+lgOxEPvGGPXfYeb/xLbzFtHzAKr+N1r/6OH+Kzb7GLf+clD+fIL2uPH+WqP93/f+0O/+Vmb+im/oSOH+LLf+nTT+ylv+qV39Qcj+znvSgfr+mYnWgvrfdhN0AAAAE3RSTlMAx8/PX13K/gnMxsZdzdJhXcrGWouHNAAAAjlJREFUKJFN0utXokAYwOFptzL31u6+mMtVEImC1UxADRYjvGtq5a2Laff28v9/33ewzun3YTiHB2YGzhBCyGY8Fovt7OzWarVsNvsT295eXyW0jXgku6+yTUsmk+sbiPEdSpkaleXtqF7vMyGfIspkT8+wMu1ulM/ne73eeJXEKWX+qPAmtZxPJMbjFYKSOZkBzGf7L83mAPsJlh2H5AT7B+pdMo9Pv/SsQpkNOY6cYircJUfUWErdxfM9qBzHSeQXBvPkKHHBsvfd7j3LLmARziGUJIXiGcx6SGGJbqbEdhddrgTXkqKQ0ShfxjthGKigdjo44GJcB64VnicXF2wXOpKllKAkSRy+U8LVjiDN8wwJgiANR7yug6hYViBJKgSSgsgg6nozDbl2GwdG1y1LiWakyDCkXheuIHdOh7br6jqPyDMvKAjnVzD07RsQhcnEdZsi6Mwr2r5P0fErUBGEehsvTLMVIU9837yFoZlKpUQQczkc6u12K7dE0zQvYU+TZTlVoT+hMhEEAfGG4RVialoRpppXLBbly9vbS8exbaE1BZeihonwUK02Gg10nN5xznF3rSYvEc3zvEMQH4yBYVSrnifLuI4I6VbT4ojsVQ1jD2C6t2w4rEwBP7zetALysWoMjo9/i2+PifjXt+uutULW0PqFQmHr8fEw6umpqJmOLbg6Ht33aAcHW1EHhUJ/YDRwW44w+UYP9bsCpR80yv1BAzft2F82ojO/9mFJS+0f01e/f0X4DzXfhmzQgNUBAAAAAElFTkSuQmCC\" style=\"height:26px;width:26px\"/></div></span><div class=\"GTRloc\"><span class=\"VuuXrf\">Instagram</span><div class=\"byrV5b\"><cite class=\"qLRx3b tjvcx GvPZzd cHaqb\" role=\"text\">https://www.instagram.com<span class=\"ylgVCe ob9lvb\" role=\"text\"> › skuukzky</span></cite></div></div></div></div><span jsaction=\"rcuQ6b:npT2md\" jscontroller=\"IX53Tb\" style=\"display:none\"></span></a>,\n",
       " <a data-ved=\"2ahUKEwiTqOTOzPOEAxWqha8BHYCWApAQFnoECCoQAQ\" href=\"https://m2.melon.com/artist/song.htm?artistId=514741\" jsname=\"UWckNb\" ping=\"/url?sa=t&amp;source=web&amp;rct=j&amp;opi=89978449&amp;url=https://m2.melon.com/artist/song.htm%3FartistId%3D514741&amp;ved=2ahUKEwiTqOTOzPOEAxWqha8BHYCWApAQFnoECCoQAQ\"><br/><h3 class=\"LC20lb MBeuO DKV0Md\">수지 (Suzy)- 아티스트채널 - 멜론</h3><div class=\"notranslate HGLrXd NJjxre iUh30 ojE3Fb\"><div class=\"q0vns\"><span class=\"DDKf1c\"><div aria-hidden=\"true\" class=\"eqA2re UnOTSe Vwoesf\"><img alt=\"\" class=\"XNo5Ab\" src=\"data:image/png;base64,iVBORw0KGgoAAAANSUhEUgAAABwAAAAcCAMAAABF0y+mAAAAdVBMVEX////v/PFm6XY2509464X8/v0T5DkA5SQA5i0A5R5W6GjX99sA5BEE5jIA4wD4/vrk+edu6n6b76XU+Nk451OH7pPh+uTB9MeS750A5Sd+7Y1e6nEA5R+m8a/0/fZL6GHM99Gu87a59cGY8KOg8apD6Fpz7IMBSR7MAAAAvklEQVR4AcyRNRbDQAwF1yhtogkz8/1vaGyMfX41TwzuPxSEUZyMOVNRPxnxTQ2YzYedixngx+ouTWarrnEdR+lmu3Nuf1h3faEdVVVmJ9fXRqjlzz3f6QJq5hXs2vHdZnC8T+ePSEE7zucFjSoC7NF2bo9cnhUdCurUPRWmV0VvQT5t50c4hhV9Ff/qH9R/CthewG6ure8RLukdAfn1zm0KqoAy739KBUB9Gri+5lvMLH3nw5UGBLgZBzyRAgApSAsL5Ta0CwAAAABJRU5ErkJggg==\" style=\"height:26px;width:26px\"/></div></span><div class=\"GTRloc\"><span class=\"VuuXrf\">Melon</span><div class=\"byrV5b\"><cite class=\"qLRx3b tjvcx GvPZzd cHaqb\" role=\"text\">https://m2.melon.com<span class=\"ylgVCe ob9lvb\" role=\"text\"> › artist › song</span></cite></div></div></div></div><span jsaction=\"rcuQ6b:npT2md\" jscontroller=\"IX53Tb\" style=\"display:none\"></span></a>,\n",
       " <a data-ved=\"2ahUKEwiTqOTOzPOEAxWqha8BHYCWApAQFnoECCkQAQ\" href=\"https://www.sujigu.go.kr/\" jsname=\"UWckNb\" ping=\"/url?sa=t&amp;source=web&amp;rct=j&amp;opi=89978449&amp;url=https://www.sujigu.go.kr/&amp;ved=2ahUKEwiTqOTOzPOEAxWqha8BHYCWApAQFnoECCkQAQ\"><br/><h3 class=\"LC20lb MBeuO DKV0Md\">수지구청</h3><div class=\"notranslate HGLrXd NJjxre iUh30 ojE3Fb\"><div class=\"q0vns\"><span class=\"H9lube fJOpI\"><div aria-hidden=\"true\" class=\"eqA2re NjwKYd Vwoesf\"><span class=\"Jj3Uob XNo5Ab z1asCe\" style=\"height:18px;line-height:18px;width:18px\"><svg focusable=\"false\" viewbox=\"0 0 24 24\" xmlns=\"http://www.w3.org/2000/svg\"><path d=\"M12 2C6.48 2 2 6.48 2 12s4.48 10 10 10 10-4.48 10-10S17.52 2 12 2zm-1 17.93c-3.95-.49-7-3.85-7-7.93 0-.62.08-1.21.21-1.79L9 15v1c0 1.1.9 2 2 2v1.93zm6.9-2.54c-.26-.81-1-1.39-1.9-1.39h-1v-3c0-.55-.45-1-1-1H8v-2h2c.55 0 1-.45 1-1V7h2c1.1 0 2-.9 2-2v-.41c2.93 1.19 5 4.06 5 7.41 0 2.08-.8 3.97-2.1 5.39z\"></path></svg></span></div></span><div class=\"GTRloc\"><span class=\"VuuXrf\">수지구청</span><div class=\"byrV5b\"><cite class=\"tjvcx GvPZzd cHaqb\" role=\"text\">https://www.sujigu.go.kr</cite></div></div></div></div><span jsaction=\"rcuQ6b:npT2md\" jscontroller=\"IX53Tb\" style=\"display:none\"></span></a>,\n",
       " <a data-ved=\"2ahUKEwiTqOTOzPOEAxWqha8BHYCWApAQFnoECCgQAQ\" href=\"https://ko.wikipedia.org/wiki/%EC%88%98%EC%A7%80\" jsname=\"UWckNb\" ping=\"/url?sa=t&amp;source=web&amp;rct=j&amp;opi=89978449&amp;url=https://ko.wikipedia.org/wiki/%25EC%2588%2598%25EC%25A7%2580&amp;ved=2ahUKEwiTqOTOzPOEAxWqha8BHYCWApAQFnoECCgQAQ\"><br/><h3 class=\"LC20lb MBeuO DKV0Md\">수지 - 위키백과, 우리 모두의 백과사전</h3><div class=\"notranslate HGLrXd NJjxre iUh30 ojE3Fb\"><div class=\"q0vns\"><span class=\"DDKf1c\"><div aria-hidden=\"true\" class=\"eqA2re UnOTSe Vwoesf\"><img alt=\"\" class=\"XNo5Ab\" src=\"data:image/png;base64,iVBORw0KGgoAAAANSUhEUgAAABwAAAAcCAAAAABXZoBIAAAAnklEQVR4AeTNIQiDQABG4b+u17X1aF6PK3YEO9iMJqPVau82y4FgMezS0oVLhqsHtrcqeqzDXv3CEz/6L4yTtZM3dnHmPTtjzXZAXKYVo4agkU2GI2Lloc6JDez1+flswMu1EQZ3xlE7lK8eKDkjtwE+crBMV+wesKmCiisGGepZIfQJpMj9SNb2MYWrChjVkULuCyCfRvsdmBieyQQAsoDk/9ryhFMAAAAASUVORK5CYII=\" style=\"height:26px;width:26px\"/></div></span><div class=\"GTRloc\"><span class=\"VuuXrf\">Wikipedia</span><div class=\"byrV5b\"><cite class=\"qLRx3b tjvcx GvPZzd cHaqb\" role=\"text\">https://ko.wikipedia.org<span class=\"ylgVCe ob9lvb\" role=\"text\"> › wiki › 수지</span></cite></div></div></div></div><span jsaction=\"rcuQ6b:npT2md\" jscontroller=\"IX53Tb\" style=\"display:none\"></span></a>,\n",
       " <a data-ved=\"2ahUKEwiTqOTOzPOEAxWqha8BHYCWApAQFnoECCwQAQ\" href=\"https://www.autotribune.co.kr/news/articleView.html?idxno=12365\" jsname=\"UWckNb\" ping=\"/url?sa=t&amp;source=web&amp;rct=j&amp;opi=89978449&amp;url=https://www.autotribune.co.kr/news/articleView.html%3Fidxno%3D12365&amp;ved=2ahUKEwiTqOTOzPOEAxWqha8BHYCWApAQFnoECCwQAQ\"><br/><h3 class=\"LC20lb MBeuO DKV0Md\">\"제가 죽어야겠네요\"... 가수 수지, 연예인 동료들에 눈물 ...</h3><div class=\"notranslate HGLrXd NJjxre iUh30 ojE3Fb\"><div class=\"q0vns\"><span class=\"DDKf1c\"><div aria-hidden=\"true\" class=\"eqA2re UnOTSe Vwoesf\"><img alt=\"\" class=\"XNo5Ab\" src=\"data:image/png;base64,iVBORw0KGgoAAAANSUhEUgAAACAAAAAgCAMAAABEpIrGAAAANlBMVEVHcEwjHyAiMjsjHyAfqeIjHyAjHyAjHyAjHR0jHyAjHyAjHh8jHyAerOYfqeEjHBojHyAfr+nhbJr8AAAAEnRSTlMAAwwVFLYxjEudaXYfKbRYO0AFrR//AAAAWUlEQVR4Ae1OtQEEQQjEYX2//2LfLbv0bHAHTuwO+DLEDPTJici3TkpgbsEpLJfK9e5G6719GooXKqME58xePXIZ98xfw4SRbUSGaRjZcpjZuEiT5ddObAo3LWACl4OstCkAAAAASUVORK5CYII=\" style=\"height:26px;width:26px\"/></div></span><div class=\"GTRloc\"><span class=\"VuuXrf\">오토트리뷴</span><div class=\"byrV5b\"><cite class=\"qLRx3b tjvcx GvPZzd cHaqb\" role=\"text\">https://www.autotribune.co.kr<span class=\"ylgVCe ob9lvb\" role=\"text\"> › news › articleView</span></cite></div></div></div></div><span jsaction=\"rcuQ6b:npT2md\" jscontroller=\"IX53Tb\" style=\"display:none\"></span></a>,\n",
       " <a data-ved=\"2ahUKEwiTqOTOzPOEAxWqha8BHYCWApAQFnoECC4QAQ\" href=\"https://www.hani.co.kr/arti/culture/culture_general/1112601.html\" jsname=\"UWckNb\" ping=\"/url?sa=t&amp;source=web&amp;rct=j&amp;opi=89978449&amp;url=https://www.hani.co.kr/arti/culture/culture_general/1112601.html&amp;ved=2ahUKEwiTqOTOzPOEAxWqha8BHYCWApAQFnoECC4QAQ\"><br/><h3 class=\"LC20lb MBeuO DKV0Md\">다시 아이돌 된 수지 “상처 많은 '이두나' 안아주고 싶어”</h3><div class=\"notranslate HGLrXd NJjxre iUh30 ojE3Fb\"><div class=\"q0vns\"><span class=\"DDKf1c\"><div aria-hidden=\"true\" class=\"eqA2re UnOTSe Vwoesf\"><img alt=\"\" class=\"XNo5Ab\" src=\"data:image/png;base64,iVBORw0KGgoAAAANSUhEUgAAABwAAAAcCAYAAAByDd+UAAAA90lEQVR4AWJwL/AhCjOsWQZopw4wGIbBMAwXICfoIdIbFBSgoLtDKTtFhzDYMQowYbtBLjFAAQNqoAOyLwQxrSSSdBvDA1p9Jc2fDviintfO3/EIHkCu6LYMPv/BHw9CmuCRk+x0zhfhWUAwJR18sIxAAztoEqiAmMECbnBPYIIL5O/BCWQKXxOUWwYJVAkVQD42Fn7Dv79SKDWaLKgDDASMmgDmE/aJCZArBqBRguqutMSUGQb1bniw57UlZkZpUFAfEgbSURsjOHgEWfCWeq0Q2x8jWMLsEByBRjmljtvK1C+INYfUEjVGIjxorrQFAbMmoHWKaS83XHvxDRq4OQAAAABJRU5ErkJggg==\" style=\"height:26px;width:26px\"/></div></span><div class=\"GTRloc\"><span class=\"VuuXrf\">한겨레</span><div class=\"byrV5b\"><cite class=\"qLRx3b tjvcx GvPZzd cHaqb\" role=\"text\">https://www.hani.co.kr<span class=\"ylgVCe ob9lvb\" role=\"text\"> › arti › culture › culture_general</span></cite></div></div></div></div><span jsaction=\"rcuQ6b:npT2md\" jscontroller=\"IX53Tb\" style=\"display:none\"></span></a>,\n",
       " <a aria-label=\"결과 더보기\" class=\"T7sFge sW9g3e VknLRd\" data-hveid=\"CAcQBA\" data-ve-view=\"\" data-ved=\"2ahUKEwiTqOTOzPOEAxWqha8BHYCWApAQqq4CegQIBxAE\" href=\"/search?q=%EC%88%98%EC%A7%80&amp;sca_esv=fb15e9ca2cde264d&amp;ei=ntjyZZPhIKqLvr0PgK2KgAk&amp;start=10&amp;sa=N\" jsaction=\"qBEZuc\" jsname=\"oHxHid\" role=\"button\" style=\"transform:scale(1)\"><hr aria-hidden=\"true\" class=\"KXbwLb\"/><h3 aria-hidden=\"true\"><div class=\"GNJvt ipz2Oe\"><span class=\"kQdGHd\"><span class=\"OTvAmd z1asCe QFl0Ff\"><svg focusable=\"false\" viewbox=\"0 0 24 24\" xmlns=\"http://www.w3.org/2000/svg\"><path d=\"M16.59 8.59L12 13.17 7.41 8.59 6 10l6 6 6-6z\"></path></svg></span></span><span class=\"RVQdVd\">결과 더보기</span></div></h3></a>,\n",
       " <a aria-live=\"polite\" class=\"VknLRd\" data-hveid=\"CAcQBQ\" data-ved=\"2ahUKEwiTqOTOzPOEAxWqha8BHYCWApAQvvYCegQIBxAF\" jsaction=\"nF6QQd\" jsname=\"a79Lwf\" role=\"button\" style=\"display:none\" tabindex=\"0\"><hr aria-hidden=\"true\" class=\"KXbwLb\"/><h3><span class=\"GNJvt\">다시 시도</span></h3></a>]"
      ]
     },
     "execution_count": 45,
     "metadata": {},
     "output_type": "execute_result"
    }
   ],
   "source": [
    "dom.select('a:has(> h3)')"
   ]
  },
  {
   "cell_type": "code",
   "execution_count": null,
   "metadata": {},
   "outputs": [],
   "source": []
  },
  {
   "cell_type": "code",
   "execution_count": 8,
   "metadata": {},
   "outputs": [],
   "source": [
    "x =1"
   ]
  },
  {
   "cell_type": "code",
   "execution_count": 40,
   "metadata": {},
   "outputs": [
    {
     "name": "stdout",
     "output_type": "stream",
     "text": [
      "cls\n",
      "init\n"
     ]
    }
   ],
   "source": [
    "class AA(metaclass=type):\n",
    "    def __new__(cls,x):\n",
    "        print('cls')\n",
    "        return super().__new__(cls)\n",
    "    def __init__(self, x):\n",
    "        print('init')\n",
    "\n",
    "class A:\n",
    "    def __new__(cls):\n",
    "        print('cls')\n",
    "        return super().__new__(cls)\n",
    "    def __init__(self):\n",
    "        print('init')\n",
    "\n",
    "a = AA(1)\n",
    "\n",
    "# new 선언 시 호출 및 return 을 무조건 실행\n",
    "# init은 인스턴스 만들면서 호출하는 것"
   ]
  },
  {
   "cell_type": "code",
   "execution_count": 39,
   "metadata": {},
   "outputs": [],
   "source": [
    "a"
   ]
  },
  {
   "cell_type": "code",
   "execution_count": null,
   "metadata": {},
   "outputs": [],
   "source": []
  }
 ],
 "metadata": {
  "kernelspec": {
   "display_name": "KoreaUniv",
   "language": "python",
   "name": "python3"
  },
  "language_info": {
   "codemirror_mode": {
    "name": "ipython",
    "version": 3
   },
   "file_extension": ".py",
   "mimetype": "text/x-python",
   "name": "python",
   "nbconvert_exporter": "python",
   "pygments_lexer": "ipython3",
   "version": "3.9.18"
  }
 },
 "nbformat": 4,
 "nbformat_minor": 2
}
