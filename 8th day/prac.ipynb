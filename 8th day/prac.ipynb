{
 "cells": [
  {
   "cell_type": "code",
   "execution_count": 5,
   "metadata": {},
   "outputs": [
    {
     "ename": "TypeError",
     "evalue": "x() missing 1 required positional argument: 'b'",
     "output_type": "error",
     "traceback": [
      "\u001b[1;31m---------------------------------------------------------------------------\u001b[0m",
      "\u001b[1;31mTypeError\u001b[0m                                 Traceback (most recent call last)",
      "Cell \u001b[1;32mIn[5], line 6\u001b[0m\n\u001b[0;32m      3\u001b[0m \u001b[38;5;28;01mdef\u001b[39;00m \u001b[38;5;21mx\u001b[39m(a, b):\n\u001b[0;32m      4\u001b[0m     \u001b[38;5;28mprint\u001b[39m(a)\n\u001b[1;32m----> 6\u001b[0m \u001b[43mx\u001b[49m\u001b[43m(\u001b[49m\u001b[38;5;241;43m1\u001b[39;49m\u001b[43m)\u001b[49m\n\u001b[0;32m      7\u001b[0m x(\u001b[38;5;241m1\u001b[39m, b\u001b[38;5;241m=\u001b[39m\u001b[38;5;241m2\u001b[39m)\n",
      "\u001b[1;31mTypeError\u001b[0m: x() missing 1 required positional argument: 'b'"
     ]
    }
   ],
   "source": [
    "def x(a, b=None):\n",
    "    print('second')\n",
    "def x(a, b):\n",
    "    print(a)\n",
    "\n",
    "x(1)\n",
    "x(1)"
   ]
  },
  {
   "cell_type": "code",
   "execution_count": 6,
   "metadata": {},
   "outputs": [
    {
     "name": "stdout",
     "output_type": "stream",
     "text": [
      "Polymorphism\n",
      "Polymorphism\n"
     ]
    }
   ],
   "source": [
    "def x(a, b=None):\n",
    "    print(\"Polymorphism\")\n",
    "\n",
    "x(1)\n",
    "x(1, 2)"
   ]
  },
  {
   "cell_type": "code",
   "execution_count": 1,
   "metadata": {},
   "outputs": [],
   "source": [
    "from requests.compat import urljoin\n",
    "from bs4 import BeautifulSoup\n",
    "import re\n",
    "from requests import get"
   ]
  },
  {
   "cell_type": "code",
   "execution_count": 71,
   "metadata": {},
   "outputs": [],
   "source": [
    "html = '''\n",
    "<!DOCTYPE html>\n",
    "<html>\n",
    "<head>\n",
    "    <title class=\"main-title\">Educative - Learn, Explore, and Grow</title>\n",
    "</head>\n",
    "<body>\n",
    "    <header class=\"header\">\n",
    "        <h1 class=\"header-title header\" id='welcome'>Welcome to Educative</h1>\n",
    "        <nav class=\"main-nav nav\">\n",
    "            <div class='description main-description'>\n",
    "                First~\n",
    "                <ul class=\"nav-item\">\n",
    "                    Found!\n",
    "                </ul>\n",
    "            </div>\n",
    "            <ul>\n",
    "                <li class=\"nav-item\">Courses with Assessments</li>\n",
    "                <li class=\"nav-item\">Assessments</li>\n",
    "                <li class=\"nav-item\">Blog</li>\n",
    "                <li class=\"nav-item\">About Us</li>\n",
    "                <ul>\n",
    "                    <div>11111111</div>\n",
    "                </ul>\n",
    "            </ul>\n",
    "            <ul>\n",
    "                <li class=\"nav-item\">Courses with Assessments2</li>\n",
    "                <li class=\"nav-item\">Assessments2</li>\n",
    "                <li class=\"nav-item\">Blog2</li>\n",
    "                <li class=\"nav-item\">About Us2\n",
    "                    <div>22222222</div>\n",
    "                </li>\n",
    "            </ul>\n",
    "            <ul>\n",
    "                <li class=\"nav-item\">Courses with Assessments3</li>\n",
    "                <li class=\"nav-item\">Assessments3</li>\n",
    "                <li class=\"nav-item\">Blog3</li>\n",
    "                <li class=\"nav-item\">About Us3\n",
    "                    <div>33333333</div>\n",
    "                </li>\n",
    "            </ul>\n",
    "            <ul>\n",
    "                <li class=\"nav-item\">Courses with Assessments4</li>\n",
    "                <li class=\"nav-item\">Assessments4</li>\n",
    "                <li class=\"nav-item\">Blog4</li>\n",
    "                <li class=\"nav-item\">About Us4\n",
    "                    <div>444444444</div>\n",
    "                </li>\n",
    "            </ul>\n",
    "            <div class='description main-description'>\n",
    "                Educative provides interactive courses for software developers. We are changing how \n",
    "                developers continue their education and stay relevant by providing pre-configured \n",
    "                learning environments that adapt to match a developer's skill level.\n",
    "            </div>\n",
    "        </nav>\n",
    "    </header>\n",
    "    <div class='description main-description'>\n",
    "      outer\n",
    "    </div>\n",
    "    <ul>\n",
    "        <li>Instagram</li>\n",
    "        <li>Facebook</li>\n",
    "        <li>Linkedin</li>\n",
    "        <li>Contact Us</li>\n",
    "    </ul>\n",
    "</body>\n",
    "</html>\n",
    "'''"
   ]
  },
  {
   "cell_type": "code",
   "execution_count": 72,
   "metadata": {},
   "outputs": [],
   "source": [
    "url = 'https://www.google.com/search?q=수지'\n",
    "ua = 'Mozilla/5.0 (Windows NT 10.0; Win64; x64) AppleWebKit/537.36 (KHTML, like Gecko) Chrome/122.0.0.0 Safari/537.36'\n",
    "# resp = get(html, headers={'user-agent': ua})\n",
    "dom = BeautifulSoup(html, 'html.parser')"
   ]
  },
  {
   "cell_type": "code",
   "execution_count": 58,
   "metadata": {},
   "outputs": [
    {
     "data": {
      "text/plain": [
       "[]"
      ]
     },
     "execution_count": 58,
     "metadata": {},
     "output_type": "execute_result"
    }
   ],
   "source": [
    "dom.select('nav > div:first-child')\n",
    "# nav의 div 중 첫번째만 반환 X\n",
    "\n",
    "dom.select('nav > ul:first-child')  # 이건 ul의 첫번째 child가 절대 아님 / 그냥 자기 자식의 첫번째 return임"
   ]
  },
  {
   "cell_type": "code",
   "execution_count": 19,
   "metadata": {},
   "outputs": [
    {
     "data": {
      "text/plain": [
       "[<ul>\n",
       " <li class=\"nav-item\">Courses with Assessments2</li>\n",
       " <li class=\"nav-item\">Assessments2</li>\n",
       " <li class=\"nav-item\">Blog2</li>\n",
       " <li class=\"nav-item\">About Us2</li>\n",
       " </ul>]"
      ]
     },
     "execution_count": 19,
     "metadata": {},
     "output_type": "execute_result"
    }
   ],
   "source": [
    "dom.select('nav > ul:nth-child(2)')\n",
    "# nth-child(#) 이때 #에는 숫자가 들어가야함"
   ]
  },
  {
   "cell_type": "code",
   "execution_count": 47,
   "metadata": {},
   "outputs": [
    {
     "data": {
      "text/plain": [
       "[<div class=\"description main-description\">\n",
       "       outer\n",
       "     </div>]"
      ]
     },
     "execution_count": 47,
     "metadata": {},
     "output_type": "execute_result"
    }
   ],
   "source": [
    "dom.select('nav > ul ~ div')\n",
    "# 같은 라인 선상에서 ul까지 제외하고 div를 만나면 다 저장\n",
    "\n",
    "dom.select('header ~ div')\n",
    "# 이 코드의 결과를 보면 이해가 될 것임\n",
    "# 두개 비교하면 편함"
   ]
  },
  {
   "cell_type": "code",
   "execution_count": 63,
   "metadata": {},
   "outputs": [
    {
     "data": {
      "text/plain": [
       "[<ul>\n",
       " <li class=\"nav-item\">Courses with Assessments</li>\n",
       " <li class=\"nav-item\">Assessments</li>\n",
       " <li class=\"nav-item\">Blog</li>\n",
       " <li class=\"nav-item\">About Us</li>\n",
       " <ul>\n",
       " <div>11111111</div>\n",
       " </ul>\n",
       " </ul>]"
      ]
     },
     "execution_count": 63,
     "metadata": {},
     "output_type": "execute_result"
    }
   ],
   "source": [
    "dom.select('nav > ul:nth-of-type(1)')\n",
    "# 얘가 진짜 ul만 찾는 것"
   ]
  },
  {
   "cell_type": "code",
   "execution_count": 73,
   "metadata": {},
   "outputs": [
    {
     "data": {
      "text/plain": [
       "[<body>\n",
       " <header class=\"header\">\n",
       " <h1 class=\"header-title header\" id=\"welcome\">Welcome to Educative</h1>\n",
       " <nav class=\"main-nav nav\">\n",
       " <div class=\"description main-description\">\n",
       "                 First~\n",
       "                 <ul class=\"nav-item\">\n",
       "                     Found!\n",
       "                 </ul>\n",
       " </div>\n",
       " <ul>\n",
       " <li class=\"nav-item\">Courses with Assessments</li>\n",
       " <li class=\"nav-item\">Assessments</li>\n",
       " <li class=\"nav-item\">Blog</li>\n",
       " <li class=\"nav-item\">About Us</li>\n",
       " <ul>\n",
       " <div>11111111</div>\n",
       " </ul>\n",
       " </ul>\n",
       " <ul>\n",
       " <li class=\"nav-item\">Courses with Assessments2</li>\n",
       " <li class=\"nav-item\">Assessments2</li>\n",
       " <li class=\"nav-item\">Blog2</li>\n",
       " <li class=\"nav-item\">About Us2\n",
       "                     <div>22222222</div>\n",
       " </li>\n",
       " </ul>\n",
       " <ul>\n",
       " <li class=\"nav-item\">Courses with Assessments3</li>\n",
       " <li class=\"nav-item\">Assessments3</li>\n",
       " <li class=\"nav-item\">Blog3</li>\n",
       " <li class=\"nav-item\">About Us3\n",
       "                     <div>33333333</div>\n",
       " </li>\n",
       " </ul>\n",
       " <ul>\n",
       " <li class=\"nav-item\">Courses with Assessments4</li>\n",
       " <li class=\"nav-item\">Assessments4</li>\n",
       " <li class=\"nav-item\">Blog4</li>\n",
       " <li class=\"nav-item\">About Us4\n",
       "                     <div>444444444</div>\n",
       " </li>\n",
       " </ul>\n",
       " <div class=\"description main-description\">\n",
       "                 Educative provides interactive courses for software developers. We are changing how \n",
       "                 developers continue their education and stay relevant by providing pre-configured \n",
       "                 learning environments that adapt to match a developer's skill level.\n",
       "             </div>\n",
       " </nav>\n",
       " </header>\n",
       " <div class=\"description main-description\">\n",
       "       outer\n",
       "     </div>\n",
       " <ul>\n",
       " <li>Instagram</li>\n",
       " <li>Facebook</li>\n",
       " <li>Linkedin</li>\n",
       " <li>Contact Us</li>\n",
       " </ul>\n",
       " </body>]"
      ]
     },
     "execution_count": 73,
     "metadata": {},
     "output_type": "execute_result"
    }
   ],
   "source": [
    "dom.select('body:has(.nav-item)')"
   ]
  },
  {
   "cell_type": "code",
   "execution_count": 8,
   "metadata": {},
   "outputs": [],
   "source": [
    "x =1"
   ]
  },
  {
   "cell_type": "code",
   "execution_count": 40,
   "metadata": {},
   "outputs": [
    {
     "name": "stdout",
     "output_type": "stream",
     "text": [
      "cls\n",
      "init\n"
     ]
    }
   ],
   "source": [
    "class AA(metaclass=type):\n",
    "    def __new__(cls,x):\n",
    "        print('cls')\n",
    "        return super().__new__(cls)\n",
    "    def __init__(self, x):\n",
    "        print('init')\n",
    "\n",
    "class A:\n",
    "    def __new__(cls):\n",
    "        print('cls')\n",
    "        return super().__new__(cls)\n",
    "    def __init__(self):\n",
    "        print('init')\n",
    "\n",
    "a = AA(1)\n",
    "\n",
    "# new 선언 시 호출 및 return 을 무조건 실행\n",
    "# init은 인스턴스 만들면서 호출하는 것"
   ]
  },
  {
   "cell_type": "code",
   "execution_count": 39,
   "metadata": {},
   "outputs": [],
   "source": [
    "a"
   ]
  },
  {
   "cell_type": "code",
   "execution_count": null,
   "metadata": {},
   "outputs": [],
   "source": []
  }
 ],
 "metadata": {
  "kernelspec": {
   "display_name": "KoreaUniv",
   "language": "python",
   "name": "python3"
  },
  "language_info": {
   "codemirror_mode": {
    "name": "ipython",
    "version": 3
   },
   "file_extension": ".py",
   "mimetype": "text/x-python",
   "name": "python",
   "nbconvert_exporter": "python",
   "pygments_lexer": "ipython3",
   "version": "3.9.12"
  }
 },
 "nbformat": 4,
 "nbformat_minor": 2
}
