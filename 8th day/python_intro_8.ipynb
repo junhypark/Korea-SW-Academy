{
 "cells": [
  {
   "cell_type": "code",
   "execution_count": 1,
   "metadata": {},
   "outputs": [],
   "source": [
    "# polymoephism\n",
    "# 다형성\n",
    "# 만약에 다항 함수를 만들때\n",
    "# C언어는 데이터 타입에 따라서 다 다르게 만들어야함\n",
    "# 문맥에 따라서 다르게 처리해주는게 다형성\n",
    "# 문맥 = 데이터 타입\n",
    "# 즉, 상황에 맞게 처리해주는 하나의 함수를 의미함\n",
    "# Generic Function = Single Dispatch\n",
    "# Python은 polymorphism을 지원해준다\n",
    "\n",
    "# ex)\n",
    "def sum_(a,b):\n",
    "    return a+b"
   ]
  },
  {
   "cell_type": "code",
   "execution_count": 2,
   "metadata": {},
   "outputs": [
    {
     "data": {
      "text/plain": [
       "'abbb'"
      ]
     },
     "execution_count": 2,
     "metadata": {},
     "output_type": "execute_result"
    }
   ],
   "source": [
    "sum_('a', 'bbb')"
   ]
  },
  {
   "cell_type": "code",
   "execution_count": 3,
   "metadata": {},
   "outputs": [
    {
     "data": {
      "text/plain": [
       "[<function __main__.<lambda>(x, n=0)>,\n",
       " <function __main__.<lambda>(x, n=1)>,\n",
       " <function __main__.<lambda>(x, n=2)>,\n",
       " <function __main__.<lambda>(x, n=3)>,\n",
       " <function __main__.<lambda>(x, n=4)>]"
      ]
     },
     "execution_count": 3,
     "metadata": {},
     "output_type": "execute_result"
    }
   ],
   "source": [
    "# @override = delegate (없으면 찾아가는거)\n",
    "# override도 polymorphism이다\n",
    "# 다른 형태이지만 같은 행동하는게 polymorphim = override\n",
    "# type이 다르지만 같은 함수를 지원한다 = polymorphism\n",
    "# override는 상속\n",
    "# overloading은 두가지 종류가 있\n",
    "# 1. operator overloading \n",
    "#    +와 같이 다양한 형태에서 같은 기능을 하는 것 / 즉, 상속과 관련이 없기 떄문이다\n",
    "# 2. funciton overaloding = 같은 이름이지만 parameter 개수가 다르면 뒤에 있는 것을 실행함\n",
    "#    사람을 골치 아프게 한다 / Python은 기본적으로 지원하지 않는다\n",
    "#    왜? 지원을 안하는가? => 뒤에 나오는 x가 다시 선언되기 때문이다\n",
    "#    그래서 함수의 default tech를 지원해준다 ? => default 값으로 넣어주면\n",
    "#    해당 값이 없더라도 사용 가능하기 떄문이다 (prac을 참조)\n",
    "def x(a):\n",
    "    print(a)\n",
    "def x(a,b):\n",
    "    print(a,b)\n",
    "def x(a, b=None):\n",
    "    print('')\n",
    "\n",
    "temp = []\n",
    "for n in range(5):\n",
    "    temp.append(lambda x,n=n: x+n)\n",
    "temp    # 이러면 뒤에 n값이 서로 달라짐\n",
    "# lambda에서는 뒤의 인자가 다르면 다른 함수로 본다\n",
    "# 사진 참조\n",
    "\n",
    "# 예외적인 상황\n",
    "# 1. 람다\n",
    "# 2. 데코레이터\n",
    "# 위의 두가지 상황 말고는 뒤엎어버린다\n",
    "\n",
    "# 즉, polymorphism은\n",
    "# 1. 다른 인자 개수 => default 값 넣기 / 얘는 같은 이름으로 다시 선언되면 덮여씌워짐\n",
    "# 2. 다른 타입 => 람다, 데코레이터, Single(Multiple) Dispatch / 얘네는 아니다\n",
    "# 을 지원해주는 것을 polymorphism이다"
   ]
  },
  {
   "cell_type": "code",
   "execution_count": 4,
   "metadata": {},
   "outputs": [],
   "source": [
    "# Meta Class\n",
    "\n",
    "# 모든게 어긋난다\n",
    "class A(object, metaclass=type):\n",
    "    pass\n",
    "\n",
    "# 원래는 metaclass 또한 생략되어있다\n",
    "# 물려받는데 아니다\n",
    "# 위임하는 것이다\n",
    "# mro = class들 간의 관계를 볼 수 있는\n",
    "# 근데, 상속은 클래스가 하는게 아니라 인스턴스가 하는 기능을 가지는 것\n",
    "# 분리 되어 있다\n",
    "# 상속이 안되게 할 수도 있다\n",
    "# 이런걸 다 metaclass에서 한다\n",
    "# 추상화 또한 metaclass에서 관리한다\n",
    "# 추상화 개념이 metaclass에서\n",
    "# 상속은 instance에서"
   ]
  },
  {
   "cell_type": "code",
   "execution_count": 5,
   "metadata": {},
   "outputs": [
    {
     "data": {
      "text/plain": [
       "2"
      ]
     },
     "execution_count": 5,
     "metadata": {},
     "output_type": "execute_result"
    }
   ],
   "source": [
    "# Type\n",
    "# 뭐할때 씀? 어떤 애의 data type이 뭔지 알기 위해서 사용\n",
    "# 작게는 3가지 크게는 2가지 일을 함\n",
    "# type의 설명을 보면 클래스 타입을 반환하는 애다 / 즉, class를 반환해주는 class가 type()이다\n",
    "# type은 init함수가 존재하기 때문이다\n",
    "# 그래서 이렇게 사용 가능\n",
    "a = 1\n",
    "b = type(a)(3)\n",
    "# 이것을 사용하면 사용자에게 입력받아서 원하는 class를 만들 수도 있다\n",
    "c = type('int2', (int,), {})\n",
    "# 이렇게 만들면 int2라는 class를 만들었다\n",
    "c(2)\n",
    "# 근데! dir(c)를 보면 call이 없음 근데 왜 call이 됨?\n",
    "# metaclass에는 call이 있기 때문\n",
    "# 아 그러면 c는 metaclass에 위임이네. 즉, class 관련 일은 metaclass에게 위임시킨다\n",
    "# 즉, type을 만드는 클래스가 type이다\n",
    "# 다시한번, type은 class를 관리하는 애\n",
    "# class는 object, type은 metaclass\n",
    "# 역할을 분리 시키는 것은 간신 분리를 하는 것 (몰라도 될듯)\n",
    "# \n",
    "\n",
    "# abstract class를 붙이면 abstractmethod를 안넣어도 된다"
   ]
  },
  {
   "cell_type": "code",
   "execution_count": 7,
   "metadata": {},
   "outputs": [],
   "source": [
    "# Metaclass 만드는 방법\n",
    "# 3단계로 만들어라? 너무 복잡해서\n",
    "# 1. Metaclass를 상속받아서 새로운 metaclass 만들고\n",
    "# 2. 그것을 metaclass 이 꼴에 집어넣는다\n",
    "class Meta(type):\n",
    "    pass\n",
    "# 3. 이것을 사용하세요\n",
    "class MyClass(metaclass=Meta):\n",
    "    pass"
   ]
  },
  {
   "cell_type": "code",
   "execution_count": 8,
   "metadata": {},
   "outputs": [],
   "source": [
    "# Singletone?\n",
    "# 단 한개의 인스턴스를 만들 수 있는 class를 의미함\n",
    "# 1. Metaclass를 상속받는다\n",
    "# * class의 __call__은 인스턴스에 괄호\n",
    "# * metaclass의 __call__은 class에 괄호\n",
    "# \n",
    "class Singleton(type):\n",
    "    instance = None\n",
    "    def __call__(cls, *args, **kw):\n",
    "        if not cls.instance:\n",
    "            cls.instance = super(Singleton, cls).__call__(*args, **kw)\n",
    "            # instance 없으면 metaclass의 instance 생성\n",
    "        return cls.instance\n",
    "# 2. 상속 하는것\n",
    "class ASingleton(metaclass=Singleton):\n",
    "    pass"
   ]
  },
  {
   "cell_type": "code",
   "execution_count": 9,
   "metadata": {},
   "outputs": [],
   "source": [
    "a = ASingleton()    # 이때 새로 만들고\n",
    "b = ASingleton()    # 새로 만든건 a로 대체가 되는것"
   ]
  },
  {
   "cell_type": "code",
   "execution_count": 10,
   "metadata": {},
   "outputs": [],
   "source": [
    "a.x = 1"
   ]
  },
  {
   "cell_type": "code",
   "execution_count": 11,
   "metadata": {},
   "outputs": [
    {
     "data": {
      "text/plain": [
       "1"
      ]
     },
     "execution_count": 11,
     "metadata": {},
     "output_type": "execute_result"
    }
   ],
   "source": [
    "b.x"
   ]
  },
  {
   "cell_type": "code",
   "execution_count": 12,
   "metadata": {},
   "outputs": [
    {
     "data": {
      "text/plain": [
       "(1519727471104, 1519727471104)"
      ]
     },
     "execution_count": 12,
     "metadata": {},
     "output_type": "execute_result"
    }
   ],
   "source": [
    "# 왜 같은 값이 나오는가?\n",
    "# id를 보면 둘이 같다\n",
    "id(a), id(b)"
   ]
  },
  {
   "cell_type": "code",
   "execution_count": 16,
   "metadata": {},
   "outputs": [
    {
     "data": {
      "text/plain": [
       "<__main__.A at 0x161d7f73100>"
      ]
     },
     "execution_count": 16,
     "metadata": {},
     "output_type": "execute_result"
    }
   ],
   "source": [
    "# 위의 셀을 다시 보면 왜 그런지 설명 되어 있음\n",
    "\n",
    "# 왜 중요함?\n",
    "# 처음부터 끝까지 manage 하기 위해서 \n",
    "# 객체가 여러개 존재하면 불편해서 거기에 값을 계속 저장해놓음\n",
    "\n",
    "# __new__\n",
    "# 메타클래스를 클래스에서 사용할 수 있게 만들어줌\n",
    "\n",
    "class A:\n",
    "    def __init__(self, x):\n",
    "        self.x = x\n",
    "\n",
    "a = A(2)\n",
    "A(2)"
   ]
  },
  {
   "cell_type": "code",
   "execution_count": 17,
   "metadata": {},
   "outputs": [
    {
     "name": "stdout",
     "output_type": "stream",
     "text": [
      "new\n"
     ]
    }
   ],
   "source": [
    "# __init__ return이 없다\n",
    "# 자동적으로 return None이 붙는다\n",
    "# __init__에 return을 붙이면 에러가 생김\n",
    "# __init__ 왜 씀?\n",
    "# 1. instance 선언 혼동을 줄이기 위해서 사용\n",
    "\n",
    "class A:\n",
    "    def __new__(self):\n",
    "        print('new')\n",
    "    def __init__(self, x):\n",
    "        print('init')\n",
    "\n",
    "a = A()"
   ]
  },
  {
   "cell_type": "code",
   "execution_count": 19,
   "metadata": {},
   "outputs": [
    {
     "name": "stdout",
     "output_type": "stream",
     "text": [
      "new\n",
      "init\n"
     ]
    }
   ],
   "source": [
    "# __new___의 의문점 cls? 왜 값이 나옴(new)\n",
    "# 우선 metaclass type에 __call__이 숨겨져 있음\n",
    "# 그리고 class에 metaclass=type이 숨겨져 있음\n",
    "# 그래서 __new__는 본래 metaclass가 가진 기능이다\n",
    "# 그래서 __new__를 선언함으로써 metaclass에게 가는게 아니라\n",
    "# 자기 자신이 갖고있는 __new__를 사용한것\n",
    "\n",
    "# class의 첫번째 행동 = instance를 만드는 것\n",
    "# \n",
    "class A:\n",
    "    def __new__(cls):\n",
    "        print('new')\n",
    "        return super().__new__(cls)\n",
    "    def __init__(self):\n",
    "        print('init')\n",
    "\n",
    "a = A()\n",
    "# 괄호 하는 순간 metaclass에게 찾아가서 instance 생성 요청\n",
    "# 메타 클래스에서 생성된 값을 __init__에서 초기화 시키는 것\n",
    "# 다시 한번, init은 class라는 뜻이다"
   ]
  },
  {
   "cell_type": "code",
   "execution_count": 21,
   "metadata": {},
   "outputs": [],
   "source": [
    "# 추상화를 메타클래스로 만들 수 있다\n",
    "from abc import ABCMeta, ABC, abstractmethod\n",
    "# ABC = abstractbaseclass\n",
    "# ABCMeta = class 형태로 추상화를 하고 싶으면\n",
    "# 클래스에서 모든 것을 관리하고 싶으면 = metaclass에서 \n",
    "# 인스턴스를 관리하고 싶다 = class에서"
   ]
  },
  {
   "cell_type": "code",
   "execution_count": 24,
   "metadata": {},
   "outputs": [],
   "source": [
    "class A(ABC):\n",
    "    @abstractmethod\n",
    "    def x(self):\n",
    "        pass\n",
    "\n",
    "class B(A):\n",
    "    pass"
   ]
  },
  {
   "cell_type": "code",
   "execution_count": 25,
   "metadata": {},
   "outputs": [
    {
     "ename": "TypeError",
     "evalue": "Can't instantiate abstract class B with abstract method x",
     "output_type": "error",
     "traceback": [
      "\u001b[1;31m---------------------------------------------------------------------------\u001b[0m",
      "\u001b[1;31mTypeError\u001b[0m                                 Traceback (most recent call last)",
      "Cell \u001b[1;32mIn[25], line 1\u001b[0m\n\u001b[1;32m----> 1\u001b[0m b \u001b[38;5;241m=\u001b[39m \u001b[43mB\u001b[49m\u001b[43m(\u001b[49m\u001b[43m)\u001b[49m\n",
      "\u001b[1;31mTypeError\u001b[0m: Can't instantiate abstract class B with abstract method x"
     ]
    }
   ],
   "source": [
    "b = B()"
   ]
  },
  {
   "cell_type": "code",
   "execution_count": 28,
   "metadata": {},
   "outputs": [
    {
     "ename": "TypeError",
     "evalue": "Can't instantiate abstract class AA with abstract method x",
     "output_type": "error",
     "traceback": [
      "\u001b[1;31m---------------------------------------------------------------------------\u001b[0m",
      "\u001b[1;31mTypeError\u001b[0m                                 Traceback (most recent call last)",
      "Cell \u001b[1;32mIn[28], line 6\u001b[0m\n\u001b[0;32m      2\u001b[0m     \u001b[38;5;129m@abstractmethod\u001b[39m\n\u001b[0;32m      3\u001b[0m     \u001b[38;5;28;01mdef\u001b[39;00m \u001b[38;5;21mx\u001b[39m(\u001b[38;5;28mself\u001b[39m):\n\u001b[0;32m      4\u001b[0m         \u001b[38;5;28;01mpass\u001b[39;00m\n\u001b[1;32m----> 6\u001b[0m aa \u001b[38;5;241m=\u001b[39m \u001b[43mAA\u001b[49m\u001b[43m(\u001b[49m\u001b[43m)\u001b[49m\n",
      "\u001b[1;31mTypeError\u001b[0m: Can't instantiate abstract class AA with abstract method x"
     ]
    }
   ],
   "source": [
    "class AA(metaclass=ABCMeta):\n",
    "    @abstractmethod\n",
    "    def x(self):\n",
    "        pass\n",
    "\n",
    "aa = AA()"
   ]
  },
  {
   "cell_type": "code",
   "execution_count": 30,
   "metadata": {},
   "outputs": [],
   "source": [
    "# Higher order function\n",
    "# map, filter, reduce\n",
    "\n",
    "# Map\n",
    "a = [1,2,3,4,5]\n",
    "[i+1 for i in a]    # comprehension 방식 문법이 우아하지 않음\n",
    "# what에 집중해보자\n",
    "b = map(lambda x: x+1, a)\n",
    "# 두개를 연결시켜준다\n",
    "# a,라는 데이터를 lambda라는 함수에 연결시켜준다\n",
    "\n",
    "# map 내부 규칙\n",
    "# iterable넣어줘야함, function 넣어줘야함\n",
    "# 이때, __next__가 있으면 iterator인데 map은 iterator로 바꿔준다\n",
    "# 그래서 next를 사용 가능하다\n",
    "\n",
    "# Filter\n",
    "c = filter(lambda x:x>3, a)\n",
    "# 거르는 역할\n",
    "# 통과되는 애들만 남겨준다\n",
    "# 얘도 iterator로 만들어줌\n",
    "\n",
    "# map과 filter는 계산을 효율적으로 사용 가능하다\n",
    "# 따라서, comprehension에서 메모리를 너무 많이 사용하는 문제점을\n",
    "# map으로 iterator로 바꾼 후 next()로 빼서 활용 가능하다\n",
    "# 핵심은 함수 lambda를 어떻게 만드느냐가 쟁점이다!\n",
    "\n",
    "# 함수를 인자로 집어넣은 것을 higher order function이라고 한다\n",
    "# \n",
    "\n",
    "# Reduce\n",
    "# 기다려.."
   ]
  },
  {
   "cell_type": "code",
   "execution_count": 31,
   "metadata": {},
   "outputs": [
    {
     "data": {
      "text/plain": [
       "['__class__',\n",
       " '__delattr__',\n",
       " '__dir__',\n",
       " '__doc__',\n",
       " '__eq__',\n",
       " '__format__',\n",
       " '__ge__',\n",
       " '__getattribute__',\n",
       " '__gt__',\n",
       " '__hash__',\n",
       " '__init__',\n",
       " '__init_subclass__',\n",
       " '__iter__',\n",
       " '__le__',\n",
       " '__lt__',\n",
       " '__ne__',\n",
       " '__new__',\n",
       " '__next__',\n",
       " '__reduce__',\n",
       " '__reduce_ex__',\n",
       " '__repr__',\n",
       " '__setattr__',\n",
       " '__sizeof__',\n",
       " '__str__',\n",
       " '__subclasshook__']"
      ]
     },
     "execution_count": 31,
     "metadata": {},
     "output_type": "execute_result"
    }
   ],
   "source": [
    "dir(c)"
   ]
  }
 ],
 "metadata": {
  "kernelspec": {
   "display_name": "KoreaUniv",
   "language": "python",
   "name": "python3"
  },
  "language_info": {
   "codemirror_mode": {
    "name": "ipython",
    "version": 3
   },
   "file_extension": ".py",
   "mimetype": "text/x-python",
   "name": "python",
   "nbconvert_exporter": "python",
   "pygments_lexer": "ipython3",
   "version": "3.9.18"
  }
 },
 "nbformat": 4,
 "nbformat_minor": 2
}
