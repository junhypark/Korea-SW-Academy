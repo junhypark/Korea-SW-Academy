{
 "cells": [
  {
   "cell_type": "code",
   "execution_count": 1,
   "metadata": {},
   "outputs": [],
   "source": [
    "# 문제정의 / 필요성\n",
    "# 차별성\n",
    "# 기대효과 / 가치\n",
    "# 실현 가능성\n",
    "# - 기술\n",
    "# - 시나리오"
   ]
  },
  {
   "cell_type": "code",
   "execution_count": null,
   "metadata": {},
   "outputs": [],
   "source": [
    "# 평가\n",
    "# Micro, macro avg\n",
    "\n",
    "# Micro Avg\n",
    "# 각각 평균잡는 것\n",
    "\n",
    "# Macro\n",
    "# one vs rest면 이거와 이거 나머지니깐\n",
    "# 평귡 잡는 것\n",
    "# 행렬을 각 크기로 나눠서 평균을 다시 잡음\n",
    "\n",
    "# 각 avg는 상황에 맞게 사용해야함\n",
    "# 어떤 때 macro가 어떤 때 micro가 좋을 때가 존재\n",
    "# 한쪽이 너무 클때는 Macro 방법 사용\n",
    "\n",
    "# 비율이 다를떄는\n",
    "# 하나의 class의 데이터 양을 높이거나\n",
    "# 많은 class의 데이터에서 samplin하여 비율을 맞춘다\n",
    "\n",
    "# 데이터가 불균해지면 acc보다 다른 척도가 더 중요해짐\n",
    "\n"
   ]
  }
 ],
 "metadata": {
  "kernelspec": {
   "display_name": "KoreaUniv",
   "language": "python",
   "name": "python3"
  },
  "language_info": {
   "codemirror_mode": {
    "name": "ipython",
    "version": 3
   },
   "file_extension": ".py",
   "mimetype": "text/x-python",
   "name": "python",
   "nbconvert_exporter": "python",
   "pygments_lexer": "ipython3",
   "version": "3.9.18"
  }
 },
 "nbformat": 4,
 "nbformat_minor": 2
}
