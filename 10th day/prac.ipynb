{
 "cells": [
  {
   "cell_type": "code",
   "execution_count": 6,
   "metadata": {},
   "outputs": [],
   "source": [
    "from sqlalchemy.orm import relationship, sessionmaker\n",
    "from sqlalchemy.engine import create_engine\n",
    "from sqlalchemy.ext.declarative import declarative_base\n",
    "from sqlalchemy.schema import Column, ForeignKey\n",
    "from sqlalchemy.types import Integer, Text\n",
    "from sqlalchemy import Table"
   ]
  },
  {
   "cell_type": "code",
   "execution_count": 19,
   "metadata": {},
   "outputs": [],
   "source": [
    "engine = create_engine('sqlite:///:memory:', echo=True)\n",
    "session = sessionmaker(engine)\n",
    "sess = session()\n",
    "base = declarative_base()"
   ]
  },
  {
   "cell_type": "code",
   "execution_count": 4,
   "metadata": {},
   "outputs": [],
   "source": [
    "from sqlalchemy import MetaData\n",
    "\n",
    "meta_obj = MetaData()"
   ]
  },
  {
   "cell_type": "code",
   "execution_count": 20,
   "metadata": {},
   "outputs": [],
   "source": [
    "class Artist(base):\n",
    "    __tablename__ = 'T_ARTIST'\n",
    "    __table_args__ = {'extend_existing': True}\n",
    "\n",
    "    pk = Column(\"PK\", Integer, primary_key = True)\n",
    "    name = Column(\"NAME\", Text)\n",
    "    albums = relationship('Album', back_populates='artists', uselist=True)\n",
    "\n",
    "    def addAlbum(self, s, name):\n",
    "        a = s.query(Artist).filter(Artist.pk==self.pk).one()\n",
    "        a.albums.append(Album(name=name))\n",
    "        s.commit()\n",
    "    \n",
    "    def delAlbum(self, s, name):\n",
    "        a = s.query(Artist).filter(Artist.pk==self.pk).one()\n",
    "        a.albums.remove(list(filter(self.name==name, self.albums))[0])\n",
    "        s.commit()\n",
    "\n",
    "    def __repr__(self):\n",
    "        return f'pk={self.pk}, name={self.name}'\n",
    "    \n",
    "class Album(base):\n",
    "    __tablename__ = 'T_ALBUM'\n",
    "    __table_args__ = {'extend_existing': True}\n",
    "    \n",
    "    pk = Column(\"PK\", Integer, primary_key = True)\n",
    "    name = Column(\"NAME\", Text)\n",
    "    fk = Column(\"FK\", None, ForeignKey(Artist.pk))\n",
    "    artists = relationship('Artist', back_populates='albums', uselist=False)\n",
    "\n",
    "    def __repr__(self):\n",
    "        return f'pk={self.pk}, name={self.name}'"
   ]
  },
  {
   "cell_type": "code",
   "execution_count": 21,
   "metadata": {},
   "outputs": [
    {
     "name": "stdout",
     "output_type": "stream",
     "text": [
      "2024-03-18 19:45:18,106 INFO sqlalchemy.engine.Engine BEGIN (implicit)\n",
      "2024-03-18 19:45:18,107 INFO sqlalchemy.engine.Engine PRAGMA main.table_info(\"T_ARTIST\")\n",
      "2024-03-18 19:45:18,107 INFO sqlalchemy.engine.Engine [raw sql] ()\n",
      "2024-03-18 19:45:18,109 INFO sqlalchemy.engine.Engine PRAGMA temp.table_info(\"T_ARTIST\")\n",
      "2024-03-18 19:45:18,109 INFO sqlalchemy.engine.Engine [raw sql] ()\n",
      "2024-03-18 19:45:18,110 INFO sqlalchemy.engine.Engine PRAGMA main.table_info(\"T_ALBUM\")\n",
      "2024-03-18 19:45:18,111 INFO sqlalchemy.engine.Engine [raw sql] ()\n",
      "2024-03-18 19:45:18,112 INFO sqlalchemy.engine.Engine PRAGMA temp.table_info(\"T_ALBUM\")\n",
      "2024-03-18 19:45:18,112 INFO sqlalchemy.engine.Engine [raw sql] ()\n",
      "2024-03-18 19:45:18,114 INFO sqlalchemy.engine.Engine \n",
      "CREATE TABLE \"T_ARTIST\" (\n",
      "\t\"PK\" INTEGER NOT NULL, \n",
      "\t\"NAME\" TEXT, \n",
      "\tPRIMARY KEY (\"PK\")\n",
      ")\n",
      "\n",
      "\n",
      "2024-03-18 19:45:18,115 INFO sqlalchemy.engine.Engine [no key 0.00070s] ()\n",
      "2024-03-18 19:45:18,116 INFO sqlalchemy.engine.Engine \n",
      "CREATE TABLE \"T_ALBUM\" (\n",
      "\t\"PK\" INTEGER NOT NULL, \n",
      "\t\"NAME\" TEXT, \n",
      "\t\"FK\" INTEGER, \n",
      "\tPRIMARY KEY (\"PK\"), \n",
      "\tFOREIGN KEY(\"FK\") REFERENCES \"T_ARTIST\" (\"PK\")\n",
      ")\n",
      "\n",
      "\n",
      "2024-03-18 19:45:18,116 INFO sqlalchemy.engine.Engine [no key 0.00041s] ()\n",
      "2024-03-18 19:45:18,117 INFO sqlalchemy.engine.Engine COMMIT\n"
     ]
    }
   ],
   "source": [
    "base.metadata.create_all(engine)"
   ]
  },
  {
   "cell_type": "code",
   "execution_count": 22,
   "metadata": {},
   "outputs": [],
   "source": [
    "a = Artist(name='가수1')"
   ]
  },
  {
   "cell_type": "code",
   "execution_count": 23,
   "metadata": {},
   "outputs": [
    {
     "name": "stdout",
     "output_type": "stream",
     "text": [
      "2024-03-18 19:46:46,076 INFO sqlalchemy.engine.Engine BEGIN (implicit)\n",
      "2024-03-18 19:46:46,079 INFO sqlalchemy.engine.Engine INSERT INTO \"T_ARTIST\" (\"NAME\") VALUES (?)\n",
      "2024-03-18 19:46:46,080 INFO sqlalchemy.engine.Engine [generated in 0.00094s] ('가수1',)\n",
      "2024-03-18 19:46:46,081 INFO sqlalchemy.engine.Engine COMMIT\n"
     ]
    }
   ],
   "source": [
    "sess.add(a)\n",
    "sess.commit()"
   ]
  },
  {
   "cell_type": "code",
   "execution_count": 24,
   "metadata": {},
   "outputs": [
    {
     "name": "stdout",
     "output_type": "stream",
     "text": [
      "2024-03-18 19:47:27,583 INFO sqlalchemy.engine.Engine SELECT \"T_ARTIST\".\"PK\" AS \"T_ARTIST_PK\", \"T_ARTIST\".\"NAME\" AS \"T_ARTIST_NAME\" \n",
      "FROM \"T_ARTIST\" \n",
      "WHERE \"T_ARTIST\".\"PK\" = ?\n",
      "2024-03-18 19:47:27,584 INFO sqlalchemy.engine.Engine [generated in 0.00082s] (1,)\n",
      "2024-03-18 19:47:27,587 INFO sqlalchemy.engine.Engine INSERT INTO \"T_ALBUM\" (\"NAME\", \"FK\") VALUES (?, ?)\n",
      "2024-03-18 19:47:27,588 INFO sqlalchemy.engine.Engine [generated in 0.00083s] ('가수1의 앨범1', 1)\n",
      "2024-03-18 19:47:27,589 INFO sqlalchemy.engine.Engine COMMIT\n"
     ]
    }
   ],
   "source": [
    "a.addAlbum(sess, '가수1의 앨범1')"
   ]
  },
  {
   "cell_type": "code",
   "execution_count": 26,
   "metadata": {},
   "outputs": [
    {
     "name": "stdout",
     "output_type": "stream",
     "text": [
      "2024-03-18 19:49:22,251 INFO sqlalchemy.engine.Engine BEGIN (implicit)\n",
      "2024-03-18 19:49:22,253 INFO sqlalchemy.engine.Engine SELECT \"T_ALBUM\".\"PK\" AS \"T_ALBUM_PK\", \"T_ALBUM\".\"NAME\" AS \"T_ALBUM_NAME\", \"T_ALBUM\".\"FK\" AS \"T_ALBUM_FK\" \n",
      "FROM \"T_ALBUM\"\n",
      "2024-03-18 19:49:22,254 INFO sqlalchemy.engine.Engine [generated in 0.00130s] ()\n"
     ]
    },
    {
     "data": {
      "text/plain": [
       "[pk=1, name=가수1의 앨범1]"
      ]
     },
     "execution_count": 26,
     "metadata": {},
     "output_type": "execute_result"
    }
   ],
   "source": [
    "sess.query(Album).all()"
   ]
  },
  {
   "cell_type": "code",
   "execution_count": 18,
   "metadata": {},
   "outputs": [],
   "source": [
    "sess.close()\n",
    "base.registry.dispose()\n",
    "base.metadata.clear()\n",
    "engine.dispose()"
   ]
  }
 ],
 "metadata": {
  "kernelspec": {
   "display_name": "KoreaUniv",
   "language": "python",
   "name": "python3"
  },
  "language_info": {
   "codemirror_mode": {
    "name": "ipython",
    "version": 3
   },
   "file_extension": ".py",
   "mimetype": "text/x-python",
   "name": "python",
   "nbconvert_exporter": "python",
   "pygments_lexer": "ipython3",
   "version": "3.9.18"
  }
 },
 "nbformat": 4,
 "nbformat_minor": 2
}
