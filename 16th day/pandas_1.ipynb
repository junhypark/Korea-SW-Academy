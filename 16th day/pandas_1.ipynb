{
 "cells": [
  {
   "cell_type": "code",
   "execution_count": 1,
   "metadata": {},
   "outputs": [],
   "source": [
    "# data messy\n",
    "import pandas as pd"
   ]
  },
  {
   "cell_type": "code",
   "execution_count": 7,
   "metadata": {},
   "outputs": [],
   "source": [
    "data = pd.read_csv('police.csv', encoding='cp949')\n",
    "# 한글 데이터는 cp949로 encoding 해야하는 경우가 존재한다"
   ]
  },
  {
   "cell_type": "code",
   "execution_count": 9,
   "metadata": {},
   "outputs": [
    {
     "name": "stdout",
     "output_type": "stream",
     "text": [
      "<class 'pandas.core.frame.DataFrame'>\n",
      "RangeIndex: 38 entries, 0 to 37\n",
      "Data columns (total 90 columns):\n",
      " #   Column  Non-Null Count  Dtype \n",
      "---  ------  --------------  ----- \n",
      " 0   범죄대분류   38 non-null     object\n",
      " 1   범죄중분류   38 non-null     object\n",
      " 2   서울      38 non-null     int64 \n",
      " 3   부산      38 non-null     int64 \n",
      " 4   대구      38 non-null     int64 \n",
      " 5   인천      38 non-null     int64 \n",
      " 6   광주      38 non-null     int64 \n",
      " 7   대전      38 non-null     int64 \n",
      " 8   울산      38 non-null     int64 \n",
      " 9   세종      38 non-null     int64 \n",
      " 10  경기 고양   38 non-null     int64 \n",
      " 11  경기 과천   38 non-null     int64 \n",
      " 12  경기 광명   38 non-null     int64 \n",
      " 13  경기 광주   38 non-null     int64 \n",
      " 14  경기 구리   38 non-null     int64 \n",
      " 15  경기 군포   38 non-null     int64 \n",
      " 16  경기 김포   38 non-null     int64 \n",
      " 17  경기 남양주  38 non-null     int64 \n",
      " 18  경기 동두천  38 non-null     int64 \n",
      " 19  경기 부천   38 non-null     int64 \n",
      " 20  경기 성남   38 non-null     int64 \n",
      " 21  경기 수원   38 non-null     int64 \n",
      " 22  경기 시흥   38 non-null     int64 \n",
      " 23  경기 안산   38 non-null     int64 \n",
      " 24  경기 안성   38 non-null     int64 \n",
      " 25  경기 안양   38 non-null     int64 \n",
      " 26  경기 양주   38 non-null     int64 \n",
      " 27  경기 여주   38 non-null     int64 \n",
      " 28  경기 오산   38 non-null     int64 \n",
      " 29  경기 용인   38 non-null     int64 \n",
      " 30  경기 의왕   38 non-null     int64 \n",
      " 31  경기 의정부  38 non-null     int64 \n",
      " 32  경기 이천   38 non-null     int64 \n",
      " 33  경기 파주   38 non-null     int64 \n",
      " 34  경기 평택   38 non-null     int64 \n",
      " 35  경기 포천   38 non-null     int64 \n",
      " 36  경기 하남   38 non-null     int64 \n",
      " 37  경기 화성   38 non-null     int64 \n",
      " 38  강원 강릉   38 non-null     int64 \n",
      " 39  강원 동해   38 non-null     int64 \n",
      " 40  강원 삼척   38 non-null     int64 \n",
      " 41  강원 속초   38 non-null     int64 \n",
      " 42  강원 원주   38 non-null     int64 \n",
      " 43  강원 춘천   38 non-null     int64 \n",
      " 44  강원 태백   38 non-null     int64 \n",
      " 45  충북 제천   38 non-null     int64 \n",
      " 46  충북 청주   38 non-null     int64 \n",
      " 47  충북 충주   38 non-null     int64 \n",
      " 48  충남 계룡   38 non-null     int64 \n",
      " 49  충남 공주   38 non-null     int64 \n",
      " 50  충남 논산   38 non-null     int64 \n",
      " 51  충남 당진   38 non-null     int64 \n",
      " 52  충남 보령   38 non-null     int64 \n",
      " 53  충남 서산   38 non-null     int64 \n",
      " 54  충남 아산   38 non-null     int64 \n",
      " 55  충남 천안   38 non-null     int64 \n",
      " 56  전북 군산   38 non-null     int64 \n",
      " 57  전북 김제   38 non-null     int64 \n",
      " 58  전북 남원   38 non-null     int64 \n",
      " 59  전북 익산   38 non-null     int64 \n",
      " 60  전북 전주   38 non-null     int64 \n",
      " 61  전북 정읍   38 non-null     int64 \n",
      " 62  전남 광양   38 non-null     int64 \n",
      " 63  전남 나주   38 non-null     int64 \n",
      " 64  전남 목포   38 non-null     int64 \n",
      " 65  전남 순천   38 non-null     int64 \n",
      " 66  전남 여수   38 non-null     int64 \n",
      " 67  경북 경산   38 non-null     int64 \n",
      " 68  경북 경주   38 non-null     int64 \n",
      " 69  경북 구미   38 non-null     int64 \n",
      " 70  경북 김천   38 non-null     int64 \n",
      " 71  경북 문경   38 non-null     int64 \n",
      " 72  경북 상주   38 non-null     int64 \n",
      " 73  경북 안동   38 non-null     int64 \n",
      " 74  경북 영주   38 non-null     int64 \n",
      " 75  경북 영천   38 non-null     int64 \n",
      " 76  경북 포항   38 non-null     int64 \n",
      " 77  경남 거제   38 non-null     int64 \n",
      " 78  경남 김해   38 non-null     int64 \n",
      " 79  경남 마산   38 non-null     int64 \n",
      " 80  경남 밀양   38 non-null     int64 \n",
      " 81  경남 사천   38 non-null     int64 \n",
      " 82  경남 양산   38 non-null     int64 \n",
      " 83  경남 진주   38 non-null     int64 \n",
      " 84  경남 창원   38 non-null     int64 \n",
      " 85  경남 통영   38 non-null     int64 \n",
      " 86  제주 서귀포  38 non-null     int64 \n",
      " 87  제주 제주   38 non-null     int64 \n",
      " 88  기타도시    38 non-null     int64 \n",
      " 89  도시이외    38 non-null     int64 \n",
      "dtypes: int64(88), object(2)\n",
      "memory usage: 26.8+ KB\n"
     ]
    }
   ],
   "source": [
    "data.info()\n",
    "# 여기서 object는 문자열\n",
    "# 얘는 무조건 64가 붙는다"
   ]
  },
  {
   "cell_type": "code",
   "execution_count": null,
   "metadata": {},
   "outputs": [],
   "source": [
    "data.rename({'서울': '서울특별시'})\n",
    "# axis를 사용하는 경우가 이렇게 바뀌지 않아서"
   ]
  },
  {
   "cell_type": "code",
   "execution_count": null,
   "metadata": {},
   "outputs": [],
   "source": [
    "data.rename({'서울': '서울특별시'}, axis=1)\n",
    "# 이때, axis는 0이 default이다\n",
    "# 얘는 재할당으로 메모리를 많이 차지한다"
   ]
  },
  {
   "cell_type": "code",
   "execution_count": 19,
   "metadata": {},
   "outputs": [],
   "source": [
    "data.rename({'서울특별시': '서울'}, axis=1, inplace=True)\n",
    "# 이때, inplcae가 파일에 반영하는 방법이다\n",
    "# 언제 사용? mutable 아닐때 재할당할때 사용함\n",
    "# 근데 inplace라는 기능으로 바꿀 수 있음"
   ]
  },
  {
   "cell_type": "code",
   "execution_count": null,
   "metadata": {},
   "outputs": [],
   "source": [
    "data.rename( columns={'서울': '서울특별시'},inplace=True)\n",
    "# column에 axis 1이 내재되어 있기때문에\n",
    "# axis를 넣지 않아도 상관이 없다\n",
    "# functional overloading의 종류 중 하나\n",
    "data"
   ]
  },
  {
   "cell_type": "code",
   "execution_count": null,
   "metadata": {},
   "outputs": [],
   "source": [
    "data.rename(index={0: '서울'})"
   ]
  },
  {
   "cell_type": "code",
   "execution_count": null,
   "metadata": {},
   "outputs": [],
   "source": [
    "data.rename(columns={'부산': '부산광역시'})"
   ]
  },
  {
   "cell_type": "code",
   "execution_count": null,
   "metadata": {},
   "outputs": [],
   "source": [
    "data.rename(index={1: '가나다라'})"
   ]
  },
  {
   "cell_type": "code",
   "execution_count": null,
   "metadata": {},
   "outputs": [],
   "source": [
    "data.rename(index={1:'가가가'}, columns={'서울특별시': '서울'})"
   ]
  },
  {
   "cell_type": "code",
   "execution_count": null,
   "metadata": {},
   "outputs": [],
   "source": [
    "data.drop(columns = '서울특별시')\n",
    "# 마찬가지로 index 혹은 columns로 drop이 가능하다\n",
    "# drop 또한 axis로 버리는 것이 가능하다\n",
    "# 여러개로 하는것도 가능 이때는 list로"
   ]
  },
  {
   "cell_type": "code",
   "execution_count": null,
   "metadata": {},
   "outputs": [],
   "source": [
    "data.drop(columns=['서울특별시', '부산'])"
   ]
  },
  {
   "cell_type": "code",
   "execution_count": null,
   "metadata": {},
   "outputs": [],
   "source": [
    "data.drop(index=1)"
   ]
  },
  {
   "cell_type": "code",
   "execution_count": null,
   "metadata": {},
   "outputs": [],
   "source": [
    "data['부산']\n",
    "# structured array"
   ]
  },
  {
   "cell_type": "code",
   "execution_count": null,
   "metadata": {},
   "outputs": [],
   "source": [
    "data.부산\n",
    "# record array\n",
    "# 이름에 특수문자 혹은 공백 있을 때 사용 불가능하다\n",
    "# 특수문자 혹은 공백은 위의 structured array로 사용"
   ]
  },
  {
   "cell_type": "code",
   "execution_count": 40,
   "metadata": {},
   "outputs": [],
   "source": [
    "# 전체 데이터를 바꾸는 경우가 더 많을 것이다\n",
    "import seaborn as sns"
   ]
  },
  {
   "cell_type": "code",
   "execution_count": 41,
   "metadata": {},
   "outputs": [],
   "source": [
    "tips = sns.load_dataset('tips')"
   ]
  },
  {
   "cell_type": "code",
   "execution_count": 45,
   "metadata": {},
   "outputs": [],
   "source": [
    "mog = sns.load_dataset('mpg')"
   ]
  },
  {
   "cell_type": "code",
   "execution_count": 47,
   "metadata": {},
   "outputs": [
    {
     "data": {
      "text/plain": [
       "name\n",
       "ford pinto             6\n",
       "toyota corolla         5\n",
       "amc matador            5\n",
       "ford maverick          5\n",
       "chevrolet chevette     4\n",
       "                      ..\n",
       "chevrolet monza 2+2    1\n",
       "ford mustang ii        1\n",
       "pontiac astro          1\n",
       "amc pacer              1\n",
       "chevy s-10             1\n",
       "Name: count, Length: 305, dtype: int64"
      ]
     },
     "execution_count": 47,
     "metadata": {},
     "output_type": "execute_result"
    }
   ],
   "source": [
    "mog.name.value_counts()\n",
    "# 1. 전체 특징들을 보는 것이 가능하다\n",
    "# subgroup - value count\n",
    "#            아래와 같이 ford pinto가 몇개인지 subgroup 후에 count 하는 것을 value count라고 한다"
   ]
  },
  {
   "cell_type": "code",
   "execution_count": 49,
   "metadata": {},
   "outputs": [
    {
     "data": {
      "text/html": [
       "<div>\n",
       "<style scoped>\n",
       "    .dataframe tbody tr th:only-of-type {\n",
       "        vertical-align: middle;\n",
       "    }\n",
       "\n",
       "    .dataframe tbody tr th {\n",
       "        vertical-align: top;\n",
       "    }\n",
       "\n",
       "    .dataframe thead th {\n",
       "        text-align: right;\n",
       "    }\n",
       "</style>\n",
       "<table border=\"1\" class=\"dataframe\">\n",
       "  <thead>\n",
       "    <tr style=\"text-align: right;\">\n",
       "      <th></th>\n",
       "      <th>total_bill</th>\n",
       "      <th>tip</th>\n",
       "      <th>size</th>\n",
       "    </tr>\n",
       "  </thead>\n",
       "  <tbody>\n",
       "    <tr>\n",
       "      <th>count</th>\n",
       "      <td>244.000000</td>\n",
       "      <td>244.000000</td>\n",
       "      <td>244.000000</td>\n",
       "    </tr>\n",
       "    <tr>\n",
       "      <th>mean</th>\n",
       "      <td>19.785943</td>\n",
       "      <td>2.998279</td>\n",
       "      <td>2.569672</td>\n",
       "    </tr>\n",
       "    <tr>\n",
       "      <th>std</th>\n",
       "      <td>8.902412</td>\n",
       "      <td>1.383638</td>\n",
       "      <td>0.951100</td>\n",
       "    </tr>\n",
       "    <tr>\n",
       "      <th>min</th>\n",
       "      <td>3.070000</td>\n",
       "      <td>1.000000</td>\n",
       "      <td>1.000000</td>\n",
       "    </tr>\n",
       "    <tr>\n",
       "      <th>25%</th>\n",
       "      <td>13.347500</td>\n",
       "      <td>2.000000</td>\n",
       "      <td>2.000000</td>\n",
       "    </tr>\n",
       "    <tr>\n",
       "      <th>50%</th>\n",
       "      <td>17.795000</td>\n",
       "      <td>2.900000</td>\n",
       "      <td>2.000000</td>\n",
       "    </tr>\n",
       "    <tr>\n",
       "      <th>75%</th>\n",
       "      <td>24.127500</td>\n",
       "      <td>3.562500</td>\n",
       "      <td>3.000000</td>\n",
       "    </tr>\n",
       "    <tr>\n",
       "      <th>max</th>\n",
       "      <td>50.810000</td>\n",
       "      <td>10.000000</td>\n",
       "      <td>6.000000</td>\n",
       "    </tr>\n",
       "  </tbody>\n",
       "</table>\n",
       "</div>"
      ],
      "text/plain": [
       "       total_bill         tip        size\n",
       "count  244.000000  244.000000  244.000000\n",
       "mean    19.785943    2.998279    2.569672\n",
       "std      8.902412    1.383638    0.951100\n",
       "min      3.070000    1.000000    1.000000\n",
       "25%     13.347500    2.000000    2.000000\n",
       "50%     17.795000    2.900000    2.000000\n",
       "75%     24.127500    3.562500    3.000000\n",
       "max     50.810000   10.000000    6.000000"
      ]
     },
     "execution_count": 49,
     "metadata": {},
     "output_type": "execute_result"
    }
   ],
   "source": [
    "tips.describe()\n",
    "# numpy 에서의 count는 none이 아닌 개수\n",
    "# 값의 범위를 subgroup을 통해 알 수 있다"
   ]
  },
  {
   "cell_type": "code",
   "execution_count": 50,
   "metadata": {},
   "outputs": [
    {
     "data": {
      "text/html": [
       "<div>\n",
       "<style scoped>\n",
       "    .dataframe tbody tr th:only-of-type {\n",
       "        vertical-align: middle;\n",
       "    }\n",
       "\n",
       "    .dataframe tbody tr th {\n",
       "        vertical-align: top;\n",
       "    }\n",
       "\n",
       "    .dataframe thead th {\n",
       "        text-align: right;\n",
       "    }\n",
       "</style>\n",
       "<table border=\"1\" class=\"dataframe\">\n",
       "  <thead>\n",
       "    <tr style=\"text-align: right;\">\n",
       "      <th></th>\n",
       "      <th>total_bill</th>\n",
       "      <th>tip</th>\n",
       "      <th>sex</th>\n",
       "      <th>smoker</th>\n",
       "      <th>day</th>\n",
       "      <th>time</th>\n",
       "      <th>size</th>\n",
       "    </tr>\n",
       "  </thead>\n",
       "  <tbody>\n",
       "    <tr>\n",
       "      <th>67</th>\n",
       "      <td>3.07</td>\n",
       "      <td>1.0</td>\n",
       "      <td>Female</td>\n",
       "      <td>Yes</td>\n",
       "      <td>Sat</td>\n",
       "      <td>Dinner</td>\n",
       "      <td>1</td>\n",
       "    </tr>\n",
       "  </tbody>\n",
       "</table>\n",
       "</div>"
      ],
      "text/plain": [
       "    total_bill  tip     sex smoker  day    time  size\n",
       "67        3.07  1.0  Female    Yes  Sat  Dinner     1"
      ]
     },
     "execution_count": 50,
     "metadata": {},
     "output_type": "execute_result"
    }
   ],
   "source": [
    "tips[tips.total_bill==3.07]"
   ]
  },
  {
   "cell_type": "code",
   "execution_count": 51,
   "metadata": {},
   "outputs": [
    {
     "data": {
      "text/plain": [
       "0      F\n",
       "1      M\n",
       "2      M\n",
       "3      M\n",
       "4      F\n",
       "      ..\n",
       "239    M\n",
       "240    F\n",
       "241    M\n",
       "242    M\n",
       "243    F\n",
       "Name: sex, Length: 244, dtype: category\n",
       "Categories (2, object): ['M', 'F']"
      ]
     },
     "execution_count": 51,
     "metadata": {},
     "output_type": "execute_result"
    }
   ],
   "source": [
    "# pandas의 map은 확장된 기능이 존재함\n",
    "# 본래의 functional paradaigm에서\n",
    "# func + dict로 사용 가능하다 (한 줄에만 적용 가능)\n",
    "tips.sex.map({'Female': 'F', 'Male': 'M'})"
   ]
  },
  {
   "cell_type": "code",
   "execution_count": 52,
   "metadata": {},
   "outputs": [
    {
     "data": {
      "text/plain": [
       "0      F\n",
       "1      M\n",
       "2      M\n",
       "3      M\n",
       "4      F\n",
       "      ..\n",
       "239    M\n",
       "240    F\n",
       "241    M\n",
       "242    M\n",
       "243    F\n",
       "Name: sex, Length: 244, dtype: category\n",
       "Categories (2, object): ['M', 'F']"
      ]
     },
     "execution_count": 52,
     "metadata": {},
     "output_type": "execute_result"
    }
   ],
   "source": [
    "# 함수로\n",
    "tips.sex.map(lambda x:x[0])\n",
    "# 이런식으로 lambda를 사용해서"
   ]
  },
  {
   "cell_type": "code",
   "execution_count": 54,
   "metadata": {},
   "outputs": [
    {
     "data": {
      "text/plain": [
       "name\n",
       "ford             51\n",
       "chevrolet        43\n",
       "plymouth         31\n",
       "amc              28\n",
       "dodge            28\n",
       "toyota           25\n",
       "datsun           23\n",
       "buick            17\n",
       "pontiac          16\n",
       "volkswagen       15\n",
       "honda            13\n",
       "mercury          11\n",
       "mazda            10\n",
       "oldsmobile       10\n",
       "fiat              8\n",
       "peugeot           8\n",
       "audi              7\n",
       "chrysler          6\n",
       "vw                6\n",
       "volvo             6\n",
       "renault           5\n",
       "saab              4\n",
       "subaru            4\n",
       "opel              4\n",
       "chevy             3\n",
       "bmw               2\n",
       "cadillac          2\n",
       "maxda             2\n",
       "mercedes-benz     2\n",
       "triumph           1\n",
       "vokswagen         1\n",
       "mercedes          1\n",
       "hi                1\n",
       "capri             1\n",
       "chevroelt         1\n",
       "toyouta           1\n",
       "nissan            1\n",
       "Name: count, dtype: int64"
      ]
     },
     "execution_count": 54,
     "metadata": {},
     "output_type": "execute_result"
    }
   ],
   "source": [
    "mog.name.map(lambda x:x.split(' ')[0]).value_counts()\n",
    "# split 사용하여 회사만 뽑기\n",
    "# split 사용하여 공백으로 분리해서 회사명만 뽑는 것도 가능하다"
   ]
  },
  {
   "cell_type": "code",
   "execution_count": 55,
   "metadata": {},
   "outputs": [
    {
     "data": {
      "text/plain": [
       "False"
      ]
     },
     "execution_count": 55,
     "metadata": {},
     "output_type": "execute_result"
    }
   ],
   "source": [
    "'ford' in mog.name\n",
    "# 안됨 왜? string으로 묶여서 안에 있는지 확인이 불가능하기 때문이다"
   ]
  },
  {
   "cell_type": "code",
   "execution_count": 56,
   "metadata": {},
   "outputs": [],
   "source": [
    "import numpy as np"
   ]
  },
  {
   "cell_type": "code",
   "execution_count": 62,
   "metadata": {},
   "outputs": [
    {
     "data": {
      "text/plain": [
       "Series([], Name: count, dtype: int64)"
      ]
     },
     "execution_count": 62,
     "metadata": {},
     "output_type": "execute_result"
    }
   ],
   "source": [
    "mog[mog.name.isin(['ford'])].value_counts()\n",
    "# 다시한번 string 내에서 있는 것을 비교하는게 equal 처리로 들어가므로\n",
    "# 맞는 것이 아무것도 없다"
   ]
  },
  {
   "cell_type": "code",
   "execution_count": 64,
   "metadata": {},
   "outputs": [
    {
     "data": {
      "text/plain": [
       "False    398\n",
       "Name: count, dtype: int64"
      ]
     },
     "execution_count": 64,
     "metadata": {},
     "output_type": "execute_result"
    }
   ],
   "source": [
    "# duplicated\n",
    "mog.duplicated().value_counts()\n",
    "# 중복값이 몇개인지 알 수있게 해준다"
   ]
  },
  {
   "cell_type": "code",
   "execution_count": 65,
   "metadata": {},
   "outputs": [],
   "source": [
    "iris = sns.load_dataset('iris')"
   ]
  },
  {
   "cell_type": "code",
   "execution_count": 66,
   "metadata": {},
   "outputs": [
    {
     "data": {
      "text/plain": [
       "False    149\n",
       "True       1\n",
       "Name: count, dtype: int64"
      ]
     },
     "execution_count": 66,
     "metadata": {},
     "output_type": "execute_result"
    }
   ],
   "source": [
    "iris.duplicated().value_counts()\n",
    "# 중복이 거슬림\n",
    "# 중복을 표현하는 방식이 여러개다"
   ]
  },
  {
   "cell_type": "code",
   "execution_count": 67,
   "metadata": {},
   "outputs": [
    {
     "data": {
      "text/plain": [
       "False    148\n",
       "True       2\n",
       "Name: count, dtype: int64"
      ]
     },
     "execution_count": 67,
     "metadata": {},
     "output_type": "execute_result"
    }
   ],
   "source": [
    "iris.duplicated(keep=False).value_counts()\n",
    "# default는 첫번째와 마지막 나온 애들 중 하나는 안쳐주기 때문에\n",
    "# 1만 나온다"
   ]
  },
  {
   "cell_type": "code",
   "execution_count": 68,
   "metadata": {},
   "outputs": [
    {
     "data": {
      "text/html": [
       "<div>\n",
       "<style scoped>\n",
       "    .dataframe tbody tr th:only-of-type {\n",
       "        vertical-align: middle;\n",
       "    }\n",
       "\n",
       "    .dataframe tbody tr th {\n",
       "        vertical-align: top;\n",
       "    }\n",
       "\n",
       "    .dataframe thead th {\n",
       "        text-align: right;\n",
       "    }\n",
       "</style>\n",
       "<table border=\"1\" class=\"dataframe\">\n",
       "  <thead>\n",
       "    <tr style=\"text-align: right;\">\n",
       "      <th></th>\n",
       "      <th>sepal_length</th>\n",
       "      <th>sepal_width</th>\n",
       "      <th>petal_length</th>\n",
       "      <th>petal_width</th>\n",
       "      <th>species</th>\n",
       "    </tr>\n",
       "  </thead>\n",
       "  <tbody>\n",
       "    <tr>\n",
       "      <th>101</th>\n",
       "      <td>5.8</td>\n",
       "      <td>2.7</td>\n",
       "      <td>5.1</td>\n",
       "      <td>1.9</td>\n",
       "      <td>virginica</td>\n",
       "    </tr>\n",
       "    <tr>\n",
       "      <th>142</th>\n",
       "      <td>5.8</td>\n",
       "      <td>2.7</td>\n",
       "      <td>5.1</td>\n",
       "      <td>1.9</td>\n",
       "      <td>virginica</td>\n",
       "    </tr>\n",
       "  </tbody>\n",
       "</table>\n",
       "</div>"
      ],
      "text/plain": [
       "     sepal_length  sepal_width  petal_length  petal_width    species\n",
       "101           5.8          2.7           5.1          1.9  virginica\n",
       "142           5.8          2.7           5.1          1.9  virginica"
      ]
     },
     "execution_count": 68,
     "metadata": {},
     "output_type": "execute_result"
    }
   ],
   "source": [
    "iris[iris.duplicated(keep=False)]\n",
    "# 1. subgrouping\n",
    "# 2. boolean indexing으로 잘못된 것을 뽑아낸다\n",
    "# 3. isin은 numpy에서 만든 애들이므로 다른 함수 사용해서 해야함"
   ]
  },
  {
   "cell_type": "code",
   "execution_count": null,
   "metadata": {},
   "outputs": [],
   "source": [
    "# 중복된 애들 drop하는 방법\n",
    "iris.drop_duplicates()"
   ]
  },
  {
   "cell_type": "code",
   "execution_count": 70,
   "metadata": {},
   "outputs": [
    {
     "data": {
      "text/html": [
       "<div>\n",
       "<style scoped>\n",
       "    .dataframe tbody tr th:only-of-type {\n",
       "        vertical-align: middle;\n",
       "    }\n",
       "\n",
       "    .dataframe tbody tr th {\n",
       "        vertical-align: top;\n",
       "    }\n",
       "\n",
       "    .dataframe thead th {\n",
       "        text-align: right;\n",
       "    }\n",
       "</style>\n",
       "<table border=\"1\" class=\"dataframe\">\n",
       "  <thead>\n",
       "    <tr style=\"text-align: right;\">\n",
       "      <th></th>\n",
       "      <th>sepal_length</th>\n",
       "      <th>sepal_width</th>\n",
       "      <th>petal_length</th>\n",
       "      <th>petal_width</th>\n",
       "      <th>species</th>\n",
       "    </tr>\n",
       "  </thead>\n",
       "  <tbody>\n",
       "    <tr>\n",
       "      <th>142</th>\n",
       "      <td>5.8</td>\n",
       "      <td>2.7</td>\n",
       "      <td>5.1</td>\n",
       "      <td>1.9</td>\n",
       "      <td>virginica</td>\n",
       "    </tr>\n",
       "  </tbody>\n",
       "</table>\n",
       "</div>"
      ],
      "text/plain": [
       "     sepal_length  sepal_width  petal_length  petal_width    species\n",
       "142           5.8          2.7           5.1          1.9  virginica"
      ]
     },
     "execution_count": 70,
     "metadata": {},
     "output_type": "execute_result"
    }
   ],
   "source": [
    "# 일부만 뽑기\n",
    "iris[iris.iloc[:,:-1].duplicated()]\n",
    "# 만약 하나의 attr만 다르면 좀 골치가 아프다"
   ]
  },
  {
   "cell_type": "code",
   "execution_count": null,
   "metadata": {},
   "outputs": [],
   "source": []
  }
 ],
 "metadata": {
  "kernelspec": {
   "display_name": "KoreaUniv",
   "language": "python",
   "name": "python3"
  },
  "language_info": {
   "codemirror_mode": {
    "name": "ipython",
    "version": 3
   },
   "file_extension": ".py",
   "mimetype": "text/x-python",
   "name": "python",
   "nbconvert_exporter": "python",
   "pygments_lexer": "ipython3",
   "version": "3.9.18"
  }
 },
 "nbformat": 4,
 "nbformat_minor": 2
}
