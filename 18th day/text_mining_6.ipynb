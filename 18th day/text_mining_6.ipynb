{
 "cells": [
  {
   "cell_type": "code",
   "execution_count": 1,
   "metadata": {},
   "outputs": [],
   "source": [
    "# 영어에서도 구두점으로 문장을 나누고 분석하는데\n",
    "# 이때 most frequent words를 stopwords로 만듦\n",
    "# 이 stopwords를 어케 만듦? => zipf 함수에 맞게 만듦\n",
    "\n",
    "# 한글에서는 [to be or not to be] => ngram 사용\n",
    "# 한글에서 또한 욕설 제거하는 것이 중요하다\n",
    "# 이 이후에 edit distance를 볼 것\n",
    "# 무엇인가하면 오타가 남으로해서 원래 모양이 변하는 경우가 존재\n",
    "# hamming, Levin 이 두가지 distance 알고리즘을 배울 것\n",
    "# 위의 두가지 알고를 사용해서 오타를 탐지하고 맞는 형태로 검색\n",
    "\n",
    "# ngram => 띄어쓰기, 다음단어 예측"
   ]
  },
  {
   "cell_type": "code",
   "execution_count": 2,
   "metadata": {},
   "outputs": [],
   "source": [
    "from konlpy.tag import Hannanum, Kkma, Komoran, Okt"
   ]
  },
  {
   "cell_type": "code",
   "execution_count": 3,
   "metadata": {},
   "outputs": [],
   "source": [
    "ma = list()\n",
    "ma.append(Hannanum())\n",
    "ma.append(Kkma())\n",
    "ma.append(Komoran())\n",
    "ma.append(Okt())"
   ]
  },
  {
   "cell_type": "code",
   "execution_count": 4,
   "metadata": {},
   "outputs": [],
   "source": [
    "d = '''\n",
    "이는 향후 소아 비만의 예방 및 치료를 위한 새로운 차원의 접근 방안에 활용될 것으로 보인다. 또한 미세플라스틱 오염 문제해결을 위한 정책 및 제도 마련에 필요한 과학적 근거다.\n",
    "\n",
    "28일 생명공학연구원에 따르면, 크기가 5㎜ 이하인 미세플라스틱은 하수처리과정에서 걸러지지 않고 그대로 강과 바다로 흘러들어 환경 문제를 일으킨다. 또 이 미세플라스틱을 직간접적으로 섭취한 사람에게까지 악영향을 미치기도 한다. 특히 초미세플라스틱은 미세플라스틱이 쪼개져 1㎛(마이크로미터, 100만분의 1m) 이하로 매우 작아 관찰 또는 검출이 거의 불가능하다.\n",
    "'''"
   ]
  },
  {
   "cell_type": "code",
   "execution_count": 5,
   "metadata": {},
   "outputs": [
    {
     "data": {
      "text/plain": [
       "['이',\n",
       " '는',\n",
       " '향후',\n",
       " '소아',\n",
       " '비',\n",
       " '만의',\n",
       " '예방',\n",
       " '및',\n",
       " '치료',\n",
       " '를',\n",
       " '위하',\n",
       " 'ㄴ',\n",
       " '새롭',\n",
       " '은',\n",
       " '차원',\n",
       " '의',\n",
       " '접근',\n",
       " '방안',\n",
       " '에',\n",
       " '활용',\n",
       " '되',\n",
       " 'ㄹ',\n",
       " '것',\n",
       " '으로',\n",
       " '보이',\n",
       " 'ㄴ다',\n",
       " '.',\n",
       " '또한',\n",
       " '미세플라스틱',\n",
       " '오염',\n",
       " '문제해결',\n",
       " '을',\n",
       " '위하',\n",
       " 'ㄴ',\n",
       " '정책',\n",
       " '및',\n",
       " '제',\n",
       " '도',\n",
       " '마련',\n",
       " '에',\n",
       " '필요',\n",
       " '하',\n",
       " 'ㄴ',\n",
       " '과학적',\n",
       " '근거',\n",
       " '이',\n",
       " '다',\n",
       " '.',\n",
       " '28일',\n",
       " '생명공학연구원',\n",
       " '에',\n",
       " '따르',\n",
       " '면',\n",
       " ',',\n",
       " '크',\n",
       " '기',\n",
       " '가',\n",
       " '5㎜',\n",
       " '이하',\n",
       " '이',\n",
       " 'ㄴ',\n",
       " '미세플라스틱',\n",
       " '은',\n",
       " '하수처리과정',\n",
       " '에서',\n",
       " '거르',\n",
       " '어',\n",
       " '지',\n",
       " '지',\n",
       " '않',\n",
       " '고',\n",
       " '그대로',\n",
       " '강',\n",
       " '과',\n",
       " '바다',\n",
       " '로',\n",
       " '흘러들',\n",
       " '어',\n",
       " '환경',\n",
       " '문제',\n",
       " '를',\n",
       " '일으키',\n",
       " 'ㄴ다',\n",
       " '.',\n",
       " '또',\n",
       " '이',\n",
       " '미세플라스틱',\n",
       " '을',\n",
       " '직간접적',\n",
       " '으로',\n",
       " '섭취',\n",
       " '하',\n",
       " 'ㄴ',\n",
       " '사람',\n",
       " '에게까지',\n",
       " '악영향',\n",
       " '을',\n",
       " '미치',\n",
       " '기',\n",
       " '도',\n",
       " '하',\n",
       " 'ㄴ다',\n",
       " '.',\n",
       " '특히',\n",
       " '초미세플라스틱',\n",
       " '은',\n",
       " '미세플라스틱',\n",
       " '이',\n",
       " '쪼개지',\n",
       " '어',\n",
       " '1㎛(마이크로미터,',\n",
       " '100만분',\n",
       " '의',\n",
       " '1m)',\n",
       " '이하',\n",
       " '로',\n",
       " '매우',\n",
       " '작',\n",
       " '아',\n",
       " '관찰',\n",
       " '또는',\n",
       " '검출',\n",
       " '이',\n",
       " '거의',\n",
       " '불가능',\n",
       " '하',\n",
       " '다',\n",
       " '.']"
      ]
     },
     "execution_count": 5,
     "metadata": {},
     "output_type": "execute_result"
    }
   ],
   "source": [
    "ma[0].morphs(d)"
   ]
  },
  {
   "cell_type": "code",
   "execution_count": 9,
   "metadata": {},
   "outputs": [
    {
     "data": {
      "text/plain": [
       "Counter({'N': 43, 'J': 28, 'M': 11, 'P': 15, 'E': 21, 'X': 4, 'S': 6})"
      ]
     },
     "execution_count": 9,
     "metadata": {},
     "output_type": "execute_result"
    }
   ],
   "source": [
    "from collections import Counter\n",
    "\n",
    "dc = Counter([pos[1] for pos in ma[0].pos(d)])\n",
    "dc"
   ]
  },
  {
   "cell_type": "code",
   "execution_count": 8,
   "metadata": {},
   "outputs": [
    {
     "data": {
      "text/plain": [
       "{'E': '어미',\n",
       " 'EC': '연결 어미',\n",
       " 'EF': '종결 어미',\n",
       " 'EP': '선어말어미',\n",
       " 'ET': '전성 어미',\n",
       " 'F': '외국어',\n",
       " 'I': '독립언',\n",
       " 'II': '감탄사',\n",
       " 'J': '관계언',\n",
       " 'JC': '격조사',\n",
       " 'JP': '서술격 조사',\n",
       " 'JX': '보조사',\n",
       " 'M': '수식언',\n",
       " 'MA': '부사',\n",
       " 'MM': '관형사',\n",
       " 'N': '체언',\n",
       " 'NB': '의존명사',\n",
       " 'NC': '보통명사',\n",
       " 'NN': '수사',\n",
       " 'NP': '대명사',\n",
       " 'NQ': '고유명사',\n",
       " 'P': '용언',\n",
       " 'PA': '형용사',\n",
       " 'PV': '동사',\n",
       " 'PX': '보조 용언',\n",
       " 'S': '기호',\n",
       " 'X': '접사',\n",
       " 'XP': '접두사',\n",
       " 'XS': '접미사'}"
      ]
     },
     "execution_count": 8,
     "metadata": {},
     "output_type": "execute_result"
    }
   ],
   "source": [
    "ma[0].tagset"
   ]
  },
  {
   "cell_type": "code",
   "execution_count": 11,
   "metadata": {},
   "outputs": [
    {
     "data": {
      "text/plain": [
       "Counter({'는': 1,\n",
       "         '만의': 1,\n",
       "         '를': 2,\n",
       "         '의': 2,\n",
       "         '에': 3,\n",
       "         '으로': 2,\n",
       "         '을': 3,\n",
       "         '도': 2,\n",
       "         '이': 4,\n",
       "         '가': 1,\n",
       "         '은': 2,\n",
       "         '에서': 1,\n",
       "         '과': 1,\n",
       "         '로': 2,\n",
       "         '에게까지': 1})"
      ]
     },
     "execution_count": 11,
     "metadata": {},
     "output_type": "execute_result"
    }
   ],
   "source": [
    "Counter([pos[0] for pos in ma[0].pos(d) if pos[1] == 'J'])\n",
    "# 이 단어만으로는 잘 모름 의미가 담겨있지 않음"
   ]
  },
  {
   "cell_type": "code",
   "execution_count": 12,
   "metadata": {},
   "outputs": [
    {
     "data": {
      "text/plain": [
       "Counter({'ㄴ': 5,\n",
       "         '은': 1,\n",
       "         'ㄹ': 1,\n",
       "         'ㄴ다': 3,\n",
       "         '다': 2,\n",
       "         '면': 1,\n",
       "         '기': 2,\n",
       "         '어': 3,\n",
       "         '지': 1,\n",
       "         '고': 1,\n",
       "         '아': 1})"
      ]
     },
     "execution_count": 12,
     "metadata": {},
     "output_type": "execute_result"
    }
   ],
   "source": [
    "Counter([pos[0] for pos in ma[0].pos(d) if pos[1] == 'E'])\n",
    "# 이게 어미\n",
    "# 용언 앞에 붙어야함\n",
    "# 형식형태소이면서 의존형태소이므로 무슨 의미를 가지는 지 모름"
   ]
  },
  {
   "cell_type": "code",
   "execution_count": 18,
   "metadata": {},
   "outputs": [
    {
     "data": {
      "text/plain": [
       "'이소아비예방치료위하새롭차원접근방안활용것보이.미세플라스틱오염문제해결위하정책제마련필요과학적근거.28일생명공학연구원따르,크5㎜이하미세플라스틱하수처리과정거르지않강바다흘러들환경문제일으키.미세플라스틱직간접적섭취사람악영향미치하.초미세플라스틱미세플라스틱쪼개지1㎛(마이크로미터,100만분1m)이하작관찰검출불가능.'"
      ]
     },
     "execution_count": 18,
     "metadata": {},
     "output_type": "execute_result"
    }
   ],
   "source": [
    "stopwords = ['J', 'E', 'X', 'M']\n",
    "''.join([pos[0] for pos in ma[0].pos(d) if pos[1] not in stopwords])"
   ]
  },
  {
   "cell_type": "code",
   "execution_count": 19,
   "metadata": {},
   "outputs": [
    {
     "data": {
      "text/plain": [
       "Counter({'NP': 1,\n",
       "         'JX': 5,\n",
       "         'NNG': 50,\n",
       "         'JKG': 3,\n",
       "         'MAG': 9,\n",
       "         'JKO': 5,\n",
       "         'VV': 11,\n",
       "         'ETD': 8,\n",
       "         'XSA': 2,\n",
       "         'JKM': 9,\n",
       "         'XSV': 3,\n",
       "         'NNB': 1,\n",
       "         'EFN': 5,\n",
       "         'SF': 5,\n",
       "         'VCP': 2,\n",
       "         'NR': 6,\n",
       "         'NNM': 4,\n",
       "         'ECE': 2,\n",
       "         'SP': 2,\n",
       "         'JKS': 3,\n",
       "         'ECS': 2,\n",
       "         'VXV': 2,\n",
       "         'ECD': 3,\n",
       "         'JC': 1,\n",
       "         'MDT': 1,\n",
       "         'XSN': 1,\n",
       "         'ETN': 1,\n",
       "         'SS': 2,\n",
       "         'OL': 1,\n",
       "         'VA': 1})"
      ]
     },
     "execution_count": 19,
     "metadata": {},
     "output_type": "execute_result"
    }
   ],
   "source": [
    "Counter([pos[1] for pos in ma[1].pos(d)])\n",
    "# 형태소 분석기에 따라서 나오는 형태소의 개수가 달라지며\n",
    "# 이때 명사 혹은 동사 들도 바뀐다"
   ]
  },
  {
   "cell_type": "code",
   "execution_count": 20,
   "metadata": {},
   "outputs": [
    {
     "data": {
      "text/plain": [
       "'이 향후 소아 비만 예방 치료 위하 새 차원 접근 방안 활용 것 보이 하 미세 플라스틱 오염 문제 해결 위하 정책 제도 마련 필요 과학적 근거 이 28 일 생명 공학 연구원 따르 크기 5 ㎜ 이하 이 미세 플라스틱 하수 처리 과정 걸르 지 않 강 바다 흘러들 환경 문제 일으키 미세 플라스틱 직간접 섭취 사람 악영향 미치 하 초미세 플라스틱 미세 플라스틱 쪼개지 1 ㎛ 마이크로미터 100 만 분 1 이하 작 관찰 검출 불가능'"
      ]
     },
     "execution_count": 20,
     "metadata": {},
     "output_type": "execute_result"
    }
   ],
   "source": [
    "import re\n",
    "\n",
    "' '.join([pos[0] for pos in ma[1].pos(d) if re.match(r'N|V', pos[1])])\n",
    "# N혹은 V로 시작하는 애들 / 전체 애들 => 확률 확인해야할 필요가 있다"
   ]
  },
  {
   "cell_type": "code",
   "execution_count": 24,
   "metadata": {},
   "outputs": [
    {
     "data": {
      "text/plain": [
       "72"
      ]
     },
     "execution_count": 24,
     "metadata": {},
     "output_type": "execute_result"
    }
   ],
   "source": [
    "# 한글일때, zipf법치 사용 가능, 품사 형태로도 분석 가능\n",
    "len([pos[0] for pos in ma[1].pos(d) if len(pos[0]) > 1])\n",
    "# 1음절짜리만 뺀거"
   ]
  },
  {
   "cell_type": "code",
   "execution_count": 27,
   "metadata": {},
   "outputs": [
    {
     "data": {
      "text/plain": [
       "'향후 소아 비만 예방 치료 위하 차원 접근 방안 활용 보이 미세 플라스틱 오염 문제 해결 위하 정책 제도 마련 필요 과학적 근거 28 생명 공학 연구원 따르 크기 이하 미세 플라스틱 하수 처리 과정 걸르 바다 흘러들 환경 문제 일으키 미세 플라스틱 직간접 섭취 사람 악영향 미치 초미세 플라스틱 미세 플라스틱 쪼개지 마이크로미터 100 이하 관찰 검출 불가능'"
      ]
     },
     "execution_count": 27,
     "metadata": {},
     "output_type": "execute_result"
    }
   ],
   "source": [
    "len([pos[0] for pos in ma[1].pos(d) if len(pos[0]) > 1 and re.match(r'N|V', pos[1])])\n",
    "# 많이줄었음\n",
    "' '.join([pos[0] for pos in ma[1].pos(d) if len(pos[0]) > 1 and re.match(r'N|V', pos[1])])\n",
    "# 의미가 조금 변절되긴함"
   ]
  },
  {
   "cell_type": "code",
   "execution_count": 28,
   "metadata": {},
   "outputs": [
    {
     "data": {
      "text/plain": [
       "'**'"
      ]
     },
     "execution_count": 28,
     "metadata": {},
     "output_type": "execute_result"
    }
   ],
   "source": [
    "# 비속어 거르기 간단한 예제\n",
    "# 1. 사전 베이스\n",
    "\n",
    "stopwords = ['시발']\n",
    "\n",
    "d = '시발'\n",
    "' '.join([t for t in d.split() if t not in stopwords])\n",
    "\n",
    "r = list()\n",
    "for t in d.split():\n",
    "    if t in stopwords:\n",
    "        r.append('*'*len(t))\n",
    "    else:\n",
    "        r.append(t)\n",
    "' '.join(r)\n",
    "\n",
    "# 시발을 씨발 이라고 입력하면 필터링이 안됨\n",
    "# ㄸㅏ라서 욕설 로그 보면서 계속 넣어줌\n",
    "# 너무 무의미함"
   ]
  },
  {
   "cell_type": "code",
   "execution_count": 34,
   "metadata": {},
   "outputs": [
    {
     "data": {
      "text/plain": [
       "'** ** ** **놈'"
      ]
     },
     "execution_count": 34,
     "metadata": {},
     "output_type": "execute_result"
    }
   ],
   "source": [
    "# 2. 정규식\n",
    "stopwords = re.compile('(시발|씨발|시방)')\n",
    "\n",
    "d = '시발 씨발 시방 시발놈'\n",
    "# ' '.join([t for t in d.split() if t not in stopwords])\n",
    "r = list()\n",
    "for t in d.split():\n",
    "    r.append(stopwords.sub('*'*len(stopwords.search(t).group(1)), t))\n",
    "' '.join(r)"
   ]
  },
  {
   "cell_type": "code",
   "execution_count": null,
   "metadata": {},
   "outputs": [],
   "source": [
    "# 3. BPE\n",
    "stopwords = re.compile('(시발|씨발|시방)')\n",
    "\n",
    "d = '시발 씨발 시방 시발놈 ㅅㅣ발'\n",
    "# ' '.join([t for t in d.split() if t not in stopwords])\n",
    "r = list()\n",
    "for t in d.split():\n",
    "    r.append(stopwords.sub('*'*len(stopwords.search(t).group(1)), t))\n",
    "' '.join(r)"
   ]
  },
  {
   "cell_type": "code",
   "execution_count": 48,
   "metadata": {},
   "outputs": [],
   "source": [
    "from nltk.tokenize import word_tokenize\n",
    "\n",
    "data = 'low low low low low lOwer Lower newest newest newest newest newest newest widest widest widest'\n",
    "def getData(d):\n",
    "    vocab = {}\n",
    "    for token in word_tokenize(data.lower()):\n",
    "        token = ' '.join(token) + '</w>'\n",
    "        if token in vocab.keys():\n",
    "            vocab[token] += 1\n",
    "        else:\n",
    "            vocab[token] = 1\n",
    "\n",
    "    return vocab"
   ]
  },
  {
   "cell_type": "code",
   "execution_count": 39,
   "metadata": {},
   "outputs": [
    {
     "data": {
      "text/plain": [
       "{'l o': 7,\n",
       " 'o w</w>': 5,\n",
       " 'o w': 2,\n",
       " 'w e': 8,\n",
       " 'e r</w>': 2,\n",
       " 'n e': 6,\n",
       " 'e w': 6,\n",
       " 'e s': 9,\n",
       " 's t</w>': 9,\n",
       " 'w i': 3,\n",
       " 'i d': 3,\n",
       " 'd e': 3}"
      ]
     },
     "execution_count": 39,
     "metadata": {},
     "output_type": "execute_result"
    }
   ],
   "source": [
    "def getPairs(v, n=2):\n",
    "    pairs = dict()\n",
    "    for k, v in v.items():\n",
    "        tokens = k.split()\n",
    "        for i in range(len(tokens)-(n-1)):  # ngram 방식 pair 찾는 부분 사용\n",
    "            token = ' '.join(tokens[i:i+n])\n",
    "            \n",
    "            if token not in pairs:\n",
    "                pairs[token] = v\n",
    "            else:\n",
    "                pairs[token] += v\n",
    "\n",
    "    return pairs\n",
    "getPairs(vocab)"
   ]
  },
  {
   "cell_type": "code",
   "execution_count": 44,
   "metadata": {},
   "outputs": [],
   "source": [
    "pairs = getPairs(vocab)\n",
    "# sorted(pairs, key=pairs.get, reverse=True)[0]\n",
    "best = max(pairs, key=pairs.get)"
   ]
  },
  {
   "cell_type": "code",
   "execution_count": 46,
   "metadata": {},
   "outputs": [],
   "source": [
    "def mergePairs(b, v):\n",
    "    vocab = dict()\n",
    "\n",
    "    for k, v in v.items():\n",
    "        newk = re.sub(b, re.sub(' ', '', b), k)\n",
    "        vocab[newk] = v\n",
    "\n",
    "    return vocab"
   ]
  },
  {
   "cell_type": "code",
   "execution_count": 49,
   "metadata": {},
   "outputs": [],
   "source": [
    "vocab = getData(data)\n",
    "for i in range(10):\n",
    "    pairs = getPairs(vocab)\n",
    "    best = max(pairs, key=pairs.get)\n",
    "    vocab = mergePairs(best, vocab)"
   ]
  },
  {
   "cell_type": "code",
   "execution_count": 50,
   "metadata": {},
   "outputs": [
    {
     "data": {
      "text/plain": [
       "[['low</w>'], ['lo', 'w', 'e', 'r</w>'], ['newest</w>'], ['widest</w>']]"
      ]
     },
     "execution_count": 50,
     "metadata": {},
     "output_type": "execute_result"
    }
   ],
   "source": [
    "[t.split() for t in vocab.keys()]"
   ]
  },
  {
   "cell_type": "code",
   "execution_count": null,
   "metadata": {},
   "outputs": [],
   "source": []
  }
 ],
 "metadata": {
  "kernelspec": {
   "display_name": "KoreaUniv",
   "language": "python",
   "name": "python3"
  },
  "language_info": {
   "codemirror_mode": {
    "name": "ipython",
    "version": 3
   },
   "file_extension": ".py",
   "mimetype": "text/x-python",
   "name": "python",
   "nbconvert_exporter": "python",
   "pygments_lexer": "ipython3",
   "version": "3.9.18"
  }
 },
 "nbformat": 4,
 "nbformat_minor": 2
}
