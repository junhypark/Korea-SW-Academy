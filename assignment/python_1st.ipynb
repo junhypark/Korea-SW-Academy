{
 "cells": [
  {
   "cell_type": "code",
   "execution_count": 1,
   "metadata": {},
   "outputs": [
    {
     "data": {
      "text/plain": [
       "3"
      ]
     },
     "execution_count": 1,
     "metadata": {},
     "output_type": "execute_result"
    }
   ],
   "source": [
    "# //\n",
    "11 // 3"
   ]
  },
  {
   "cell_type": "code",
   "execution_count": 2,
   "metadata": {},
   "outputs": [
    {
     "data": {
      "text/plain": [
       "-4"
      ]
     },
     "execution_count": 2,
     "metadata": {},
     "output_type": "execute_result"
    }
   ],
   "source": [
    "-11 // 3"
   ]
  },
  {
   "cell_type": "code",
   "execution_count": 3,
   "metadata": {},
   "outputs": [],
   "source": [
    "# //는 음수에서 floor division에 의해 내림시킨다"
   ]
  },
  {
   "cell_type": "code",
   "execution_count": 4,
   "metadata": {},
   "outputs": [
    {
     "data": {
      "text/plain": [
       "-9"
      ]
     },
     "execution_count": 4,
     "metadata": {},
     "output_type": "execute_result"
    }
   ],
   "source": [
    "-3**2\n",
    "# **은 숫자를 음스로 바꾸는 것보다 상위에 존재하므로 -3을 제곱하는 것이 아니라\n",
    "# -(3**2)로 해석된다"
   ]
  },
  {
   "cell_type": "code",
   "execution_count": 2,
   "metadata": {},
   "outputs": [],
   "source": [
    "a = 3+5j"
   ]
  },
  {
   "cell_type": "code",
   "execution_count": 4,
   "metadata": {},
   "outputs": [
    {
     "data": {
      "text/plain": [
       "complex"
      ]
     },
     "execution_count": 4,
     "metadata": {},
     "output_type": "execute_result"
    }
   ],
   "source": [
    "type(a)\n",
    "# real, image 값을 전달시에 복소수를 반환하는데 이떄 type이 complex이다\n",
    "# complex는 function이 아니라 class이며 method가 많이 존재한다"
   ]
  },
  {
   "cell_type": "code",
   "execution_count": 5,
   "metadata": {},
   "outputs": [
    {
     "data": {
      "text/plain": [
       "['__abs__',\n",
       " '__add__',\n",
       " '__bool__',\n",
       " '__class__',\n",
       " '__delattr__',\n",
       " '__dir__',\n",
       " '__divmod__',\n",
       " '__doc__',\n",
       " '__eq__',\n",
       " '__float__',\n",
       " '__floordiv__',\n",
       " '__format__',\n",
       " '__ge__',\n",
       " '__getattribute__',\n",
       " '__getnewargs__',\n",
       " '__gt__',\n",
       " '__hash__',\n",
       " '__init__',\n",
       " '__init_subclass__',\n",
       " '__int__',\n",
       " '__le__',\n",
       " '__lt__',\n",
       " '__mod__',\n",
       " '__mul__',\n",
       " '__ne__',\n",
       " '__neg__',\n",
       " '__new__',\n",
       " '__pos__',\n",
       " '__pow__',\n",
       " '__radd__',\n",
       " '__rdivmod__',\n",
       " '__reduce__',\n",
       " '__reduce_ex__',\n",
       " '__repr__',\n",
       " '__rfloordiv__',\n",
       " '__rmod__',\n",
       " '__rmul__',\n",
       " '__rpow__',\n",
       " '__rsub__',\n",
       " '__rtruediv__',\n",
       " '__setattr__',\n",
       " '__sizeof__',\n",
       " '__str__',\n",
       " '__sub__',\n",
       " '__subclasshook__',\n",
       " '__truediv__',\n",
       " 'conjugate',\n",
       " 'imag',\n",
       " 'real']"
      ]
     },
     "execution_count": 5,
     "metadata": {},
     "output_type": "execute_result"
    }
   ],
   "source": [
    "dir(complex)"
   ]
  },
  {
   "cell_type": "code",
   "execution_count": 7,
   "metadata": {},
   "outputs": [
    {
     "name": "stdout",
     "output_type": "stream",
     "text": [
      "asd\\nasd\n"
     ]
    }
   ],
   "source": [
    "# r'' raw 로 들어감"
   ]
  },
  {
   "cell_type": "code",
   "execution_count": 8,
   "metadata": {},
   "outputs": [
    {
     "data": {
      "text/plain": [
       "''"
      ]
     },
     "execution_count": 8,
     "metadata": {},
     "output_type": "execute_result"
    }
   ],
   "source": [
    "# slicing에서는 index out of range를 자동적으로 맨 끝으로 처리해준다\n",
    "word = 'python'\n",
    "word[42:]"
   ]
  },
  {
   "cell_type": "code",
   "execution_count": 53,
   "metadata": {},
   "outputs": [
    {
     "name": "stdout",
     "output_type": "stream",
     "text": [
      "1He said his name is 'Fred'\n",
      "2result:  1102.3\n",
      "line = \"The mill's closed\"\n",
      "line = The mill's closed                                 \n",
      "line = \"The mill's closed\"                               \n"
     ]
    }
   ],
   "source": [
    "name = \"Fred\"\n",
    "print(\"1\" + f\"He said his name is {name!r}\")\n",
    "# 여기서 !r과 !s는 각각 repr() 그리고 str() 두개로 나눌 수 있다\n",
    "# str()과 repr()은 서로 차이점이 존재하는데\n",
    "# str() - 사용자가 보기 쉽게 만들어줌 / 비공식적인 문자열 출력\n",
    "# repr() - 문자열로 객체를 다시 생성 따라서, eval()을 같이 사용 / 객체 출력\n",
    "# 이때, str()에 eval을 사용할 경우 EOF 가 없어서 에러가 뜨는데 ''를 넣어주면 해결된다\n",
    "# class에서의 우선순위는 str()이 없으면 repr()을 찾고 실행시킨다\n",
    "# 하지만 반대로 repr()이 없고 str()만 존재하면 repr() 사용시 oj를 출력한다\n",
    "\n",
    "import decimal\n",
    "\n",
    "width = 5\n",
    "precision = 5\n",
    "value = decimal.Decimal(\"1102.34527\")\n",
    "print(\"2\" + f\"result: {value: {width}.{precision}}\")\n",
    "# f-string이란 string 안에 동적으로 값을 넣을 수 있게 만들어주는 문자열 포매팅입니다\n",
    "# {}에 넣어주면 됩니다 예를 들어\n",
    "# f'문자열{변수}문자열' \n",
    "# 정렬 옵션도 존재하는데 <, ^, > 으로 각각 좌측, 중앙, 우측 정렬입니다\n",
    "# f'{w1:<10}'\n",
    "# 이떄, precision은 자리수를 의미하며 반올림을 진행한다\n",
    "# width의 경우에는 띄어지는 indent를 의미하며 5의 배수로 들어가게 됩니다\n",
    "# 당연히 %B, %d,.. 등과 같은 format 함수와 기능을 공유합니다\n",
    "# #을 넣으면 binary hexa 등등으로 integer을 바꿀 수 있습니다\n",
    "# 또한 아무 값도 안넣고 변수만 string 값 전체가 반환됩니다\n",
    "line = \"The mill's closed\"\n",
    "print(f\"{line = }\")\n",
    "# 숫자를 넣으면 띄어쓰기가 들어갑니다\n",
    "print(f\"{line = :50}\")\n",
    "# repr() 넣고 50만큼 띄어쓰기 존재\n",
    "print(f\"{line = !r:50}\")\n"
   ]
  },
  {
   "cell_type": "code",
   "execution_count": 58,
   "metadata": {},
   "outputs": [
    {
     "name": "stdout",
     "output_type": "stream",
     "text": [
      "['a', 'b', 'c', 'e', 'f', 'g']\n",
      "['a', 'b', 'g']\n"
     ]
    },
    {
     "data": {
      "text/plain": [
       "[1, 2, 3, 'a', 'b', 'g']"
      ]
     },
     "execution_count": 58,
     "metadata": {},
     "output_type": "execute_result"
    }
   ],
   "source": [
    "letters = ['a', 'b', 'c', 'd', 'e', 'f', 'g']\n",
    "letters.pop(3)  # 하나 remove 할 때\n",
    "print(letters)\n",
    "letters[2:5] = []   # 어느 구간 remove할 때\n",
    "print(letters)\n",
    "\n",
    "numbers = [1,2,3]\n",
    "x = numbers+letters\n",
    "x"
   ]
  },
  {
   "cell_type": "code",
   "execution_count": 59,
   "metadata": {},
   "outputs": [],
   "source": [
    "# python에서는 switch case 와 같은 문이 존재하지 않고 match case 가 존재한다\n",
    "# 사용법은 동일하다\n",
    "# match에서는 살짝 다르게 작동하는데 일단 wildcard 가 _로 대체되었다\n",
    "# 하지만 3.10 이상 python에서부터 지원한다\n",
    "# 이때 눈여겨 볼 점은 x와 y가 변수로써 들어갈 수 있다는 것이다\n",
    "# __match_args__를 통해 match case 문을 사용 가능하다\n",
    "# class에 넣음으로써 매칭 순서를 결정하게 해준다\n",
    "# 마지막으로 case안에 if문을 추가적으로 사용 가능하다\n",
    "\n",
    "# point is an (x,y) tupple\n",
    "match point:\n",
    "    case (0, 0):\n",
    "        print(\"Origin\")\n",
    "    case (0, y):\n",
    "        print(f\"Y={y}\")\n",
    "    case (x, 0):\n",
    "        print(f\"X={x}\")\n",
    "    case (x, y):\n",
    "        print(f\"X={x}, Y={y}\")\n",
    "    case _:\n",
    "        raise ValueError(\"Not a point\")\n",
    "    \n",
    "class Point2D:\n",
    "    __match_args__ = ('data', 'position')  # 위치 인수 사용, 매칭 순서 설정\n",
    "    def __init__(self, position, data):\n",
    "        self.position = position\n",
    "        self.data = data\n",
    " \n",
    "points = [\n",
    "    Point2D((10, 20), 'hello'),\n",
    "    Point2D((300, 400), 'world'),\n",
    "    Point2D((70, 80), 'Python')\n",
    "]\n",
    " \n",
    "for point in points:\n",
    "    match point:\n",
    "        case Point2D('Python', (70, 80)):      # __match_args__의 순서대로 속성 지정\n",
    "            print(point.position, point.data)\n",
    "        case Point2D('world', value):          # 매칭된 값의 속성 position을 value에 저장\n",
    "            print(value, point.data)\n",
    "        case Point2D(position=(10, 20)):       # __match_args__의 순서에 따라 매칭되지 않음\n",
    "            print(point.position, point.data)\n",
    "        case Point2D(data='hello'):            # __match_args__의 순서에 따라 먼저 매칭됨\n",
    "            print(point.position, point.data)\n",
    "# retrieved https://dojang.io/mod/page/view.php?id=2481\n",
    "            \n",
    "# *rest와 *_ 둘 다 앞의 몇개의 item만 받고 나머지는 bind 하지 않는다는 뜻이다\n",
    "# **_은 허용되지 않음\n"
   ]
  },
  {
   "cell_type": "code",
   "execution_count": 73,
   "metadata": {},
   "outputs": [
    {
     "name": "stdout",
     "output_type": "stream",
     "text": [
      "0 a\n",
      "1 b\n",
      "2 g\n",
      "2 is a prime number\n",
      "3 is a prime number\n",
      "4\n",
      "5 is a prime number\n",
      "6\n",
      "7 is a prime number\n",
      "8\n",
      "9\n",
      "4\n",
      "6\n",
      "8\n",
      "9\n"
     ]
    }
   ],
   "source": [
    "for i, (X) in enumerate(letters):\n",
    "    print(i ,X)\n",
    "\n",
    "# enumerate에서 i, x와 i,(x) 이 두개의 경우를 잘 모르겠음\n",
    "# 언제 쓰는지 이해가 잘 안됨\n",
    "    \n",
    "# range는 list가 아니라 object이며 list를 return 하는 것 처럼 보이지만 \n",
    "# sequence를 주며 list가 아니므로 space를 절약한다\n",
    "    \n",
    "# for, while 과 else는 같이 사용 가능하다\n",
    "for n in range(2,10):\n",
    "    for x in range(2, n):\n",
    "        if n%x == 0:\n",
    "            print(n)\n",
    "            break\n",
    "    else:\n",
    "        print(n, 'is a prime number')\n",
    "# hadling exception에 의해 try 와 비슷하게 작동된다\n",
    "# continue의 경우 C와 비슷하게 아래의 구문을 무시하고 작동한다\n",
    "for num in range(2, 10):\n",
    "    if num % 2 == 0:\n",
    "        print(\"Found an even number\", num)\n",
    "        continue\n",
    "    print(\"Found an odd number\", num)\n",
    "\n"
   ]
  },
  {
   "cell_type": "code",
   "execution_count": 95,
   "metadata": {},
   "outputs": [
    {
     "name": "stdout",
     "output_type": "stream",
     "text": [
      "{'name': 2, 'base': 2}\n"
     ]
    },
    {
     "data": {
      "text/plain": [
       "True"
      ]
     },
     "execution_count": 95,
     "metadata": {},
     "output_type": "execute_result"
    }
   ],
   "source": [
    "def foo(a, **kwds):\n",
    "    print(kwds)\n",
    "    return 'name' in kwds\n",
    "\n",
    "foo(1, name = 2, base = 2)\n",
    "# **kwds는 dict로 받아오는데 개수가 상관이 없음\n",
    "# 이때, name = 2로 받으면 이를 key, value로 받아와서 넣어버린다\n",
    "# 다른 방식으로는 **을 앞에 넣어서 넣을 수 있는데 이때는 /가 무조건 필요하다"
   ]
  },
  {
   "cell_type": "code",
   "execution_count": 101,
   "metadata": {},
   "outputs": [
    {
     "name": "stdout",
     "output_type": "stream",
     "text": [
      "{'name': 2, 'avc': 4, 'value': 3}\n"
     ]
    },
    {
     "data": {
      "text/plain": [
       "True"
      ]
     },
     "execution_count": 101,
     "metadata": {},
     "output_type": "execute_result"
    }
   ],
   "source": [
    "def foo(name, /, **kwds):\n",
    "    print(kwds)\n",
    "    return 'name' in kwds\n",
    "\n",
    "foo(1, **{'name': 2,'avc':4}, **{'value':3})\n",
    "# 이렇게 두개 넣고 싶으면 **을 붙여서 ㅓ넣으면 된다\n",
    "# **을 뺴게되면 unpacking 에러가 뜬다\n",
    "\n",
    "# 즉, **은 unpack을 시도해야하므로 unpack이 되어 있는 list나 tuple은 문제가 된다"
   ]
  },
  {
   "cell_type": "code",
   "execution_count": 102,
   "metadata": {},
   "outputs": [
    {
     "name": "stdout",
     "output_type": "stream",
     "text": [
      "-- This parrot wouldn't VOOM if you put four million volts through it. E's bleedin' demised !\n"
     ]
    }
   ],
   "source": [
    "# 다시말해, 여러개의 params를 dict 형태로 넣고 싶으면 **을 사용하는 것을 추천하다\n",
    "# 예를 들어서\n",
    "def parrot(voltage, state='a stiff', action='voom'):\n",
    "    print(\"-- This parrot wouldn't\", action, end=' ')\n",
    "    print(\"if you put\", voltage, \"volts through it.\", end=' ')\n",
    "    print(\"E's\", state, \"!\")\n",
    "\n",
    "d = {\"voltage\": \"four million\", \"state\": \"bleedin' demised\", \"action\": \"VOOM\"}\n",
    "parrot(**d)\n",
    "# retrieved from https://docs.python.org/3/tutorial/controlflow.html"
   ]
  },
  {
   "cell_type": "code",
   "execution_count": 129,
   "metadata": {},
   "outputs": [
    {
     "data": {
      "text/plain": [
       "[(4, 'four'), (1, 'one'), (3, 'three'), (2, 'two')]"
      ]
     },
     "execution_count": 129,
     "metadata": {},
     "output_type": "execute_result"
    }
   ],
   "source": [
    "pairs = [(1, 'one'), (2, 'two'), (3, 'three'), (4, 'four')]\n",
    "pairs.sort(key=lambda pair: pair[1])\n",
    "pairs\n",
    "\n",
    "# key에 lambda 식을 넣을 수 있는데\n",
    "# 이때 pair는 pairs 안의 tupple 에서 두번째 item을 의미하며\n",
    "# item들을 기준으로 list 안의 tuple들을 sort한다"
   ]
  },
  {
   "cell_type": "code",
   "execution_count": 141,
   "metadata": {},
   "outputs": [
    {
     "name": "stdout",
     "output_type": "stream",
     "text": [
      "Annotations: {'ham': <class 'str'>, 'eggs': <class 'str'>, 'return': <class 'str'>}\n",
      "Arguments: spam eggs\n"
     ]
    },
    {
     "data": {
      "text/plain": [
       "'spam and eggs'"
      ]
     },
     "execution_count": 141,
     "metadata": {},
     "output_type": "execute_result"
    }
   ],
   "source": [
    "def f(ham: str, eggs: str = 'eggs') -> str:\n",
    "    print(\"Annotations:\", f.__annotations__)\n",
    "    print(\"Arguments:\", ham, eggs)\n",
    "    return ham + ' and ' + eggs\n",
    "\n",
    "f('spam')\n",
    "# 여기서 annotation이 그냥 설명을 위한 추가적인 기능인지?\n",
    "\n",
    "# 마지막으로 탭을 사용하지 말라고 권고하는 이유가\n",
    "# tab을 쓸 경우 혼동을 일으킨다고 되어있다"
   ]
  },
  {
   "cell_type": "code",
   "execution_count": 17,
   "metadata": {},
   "outputs": [
    {
     "name": "stdout",
     "output_type": "stream",
     "text": [
      "[1, 2, 3, 4] [5, 6, 7, 8] [9, 10, 11, 12]\n",
      "hello\n",
      "{'b', 'l', 'r', 'd', 'u', 'o', 'c', 'e'}\n",
      "{'i', 'g', 'l', 'r', 'd', 'u', 's', 'o', 'n', 'c', 't', 'f'}\n",
      "gallahad the pure\n",
      "robin the brave\n",
      "What is your name?  It is lancelot.\n",
      "What is your quest?  It is the holy grail.\n",
      "What is your favorite color?  It is blue.\n"
     ]
    },
    {
     "data": {
      "text/plain": [
       "False"
      ]
     },
     "execution_count": 17,
     "metadata": {},
     "output_type": "execute_result"
    }
   ],
   "source": [
    "# 5\n",
    "\n",
    "a = [1,2,3,4]\n",
    "a.extend([1,2,3,4])\n",
    "# append와 extend의 차이점은?\n",
    "\n",
    "# complex type이 list에 존재할 경우에는 sort가 되지 않는다\n",
    "\n",
    "# list를 stack처럼 사용하고 싶으면 append(value)와 pop()을 순차적으로 사용하면 된다\n",
    "# queue처럼 사용 시에는 popleft()를 사용하면 된다\n",
    "\n",
    "# 두개의 for문을 comprehension으로 사용하고 싶으면\n",
    "vec = [[1,2,3], [4,5,6], [7,8,9]]\n",
    "[num for elem in vec for num in elem]\n",
    "\n",
    "matrix = [\n",
    "    [1, 2, 3, 4],\n",
    "    [5, 6, 7, 8],\n",
    "    [9, 10, 11, 12],\n",
    "]\n",
    "\n",
    "print(*matrix)\n",
    "# 이때, *은 unpack하는 것을 기억하자\n",
    "\n",
    "singleton = 'hello', 'python', 'fun'\n",
    "x,y,z = singleton\n",
    "print(x)\n",
    "# tuple로 만들면 알아서 unpack해서 할당 가능하다\n",
    "\n",
    "# set의 경우 string을 set으로 만들면 unpack해서 각 element들을 set으로 넣어준다\n",
    "# 예를 들어\n",
    "a = set('blueredcolor')\n",
    "b = set('colorfulisnotgood')\n",
    "print(a)\n",
    "print(b)\n",
    "\n",
    "# set 또한 comprehensions으로 가능하다\n",
    "# 예를 들어\n",
    "a = {x for x in 'abracadbra' if x not in 'abc'}\n",
    "a\n",
    "\n",
    "# dict 또한 comprehension으로 만들 수 있다\n",
    "# 예를 들어\n",
    "c = {x: x**2 for x in (2,4,6)}\n",
    "# 혹은\n",
    "c = dict(sape=123, guido=45, jack=789)\n",
    "\n",
    "knights = {'gallahad': 'the pure', 'robin': 'the brave'}\n",
    "for k, v in knights.items():\n",
    "    print(k, v)\n",
    "\n",
    "questions = ['name', 'quest', 'favorite color']\n",
    "answers = ['lancelot', 'the holy grail', 'blue']\n",
    "for q, a in zip(questions, answers):\n",
    "    print('What is your {0}?  It is {1}.'.format(q, a))\n",
    "    # 여기서 0과 1은 각각 q와 a를 의미한다\n",
    "\n",
    "# := 이 expression이 제일 궁금합니다\n",
    "(1,2,3) < (1,2,1)"
   ]
  },
  {
   "cell_type": "code",
   "execution_count": 20,
   "metadata": {},
   "outputs": [],
   "source": [
    "# 6\n",
    "# from name import * ==> 모든 것을 import하는 것이 아니라 _로 시작하는 애들 제외하고 불러오는 것\n",
    "# 이때, submodule 불러오는 것은 __all__에 정의되어 있는 submodule만 불러올 수 있다\n",
    "\n",
    "# 그러면 import 시에 submodule까지 dot notation으로 불러오는 이유는 쓰기 편하게 하기 위해서?\n",
    "# 아니면 submodule 중에서 겹치는 경우가 존재하기 때문에?"
   ]
  },
  {
   "cell_type": "code",
   "execution_count": 1,
   "metadata": {},
   "outputs": [
    {
     "name": "stdout",
     "output_type": "stream",
     "text": [
      "0.0014007321025448116\n",
      "Jack: 4098; Sjoerd: 4127; Dcab: 8637678\n",
      "Jack: 4098; Sjoerd: 4127; Dcab: 8637678\n"
     ]
    }
   ],
   "source": [
    "yes_votes = 15646132\n",
    "no_votes = 11154321324\n",
    "percentage = yes_votes / (yes_votes + no_votes)\n",
    "print(percentage)\n",
    "'{:-9} YES votes  {:4.2%}'.format(yes_votes, percentage)\n",
    "# 이떄, :-9는 9자리를 할당하고 빈자리는 space로 채운다\n",
    "# :2.2%는 뒤의 2는 소수점 뒷자리 개수를 의미하며 \n",
    "# 앞의 2는 소수점 앞의 자리수를 의미하는데 넘거나 적어도 상관없다 (?)\n",
    "\n",
    "# format string 다시 정리\n",
    "# .3f => 소수점\n",
    "# :10 => : 다음 오는 숫자만큼 자리를 만들어놓음\n",
    "# !a, !s !r => 각각 ascii, str, repr을 의미함\n",
    "# = => = 을 표기하고 value를 출력함\n",
    "\n",
    "# format() 정리\n",
    "# {} 안의 숫자는 각 argument의 position을 의미함\n",
    "# {} 안에 keyword 방식으로 넣을 수 있음\n",
    "# 두개를 혼용해서 사용 가능함\n",
    "# 또는 dict를 사용가능하다, 이때, value 꺼내는 방식이 두가지로 나뉨\n",
    "table = {'Sjoerd': 4127, 'Jack': 4098, 'Dcab': 8637678}\n",
    "print('Jack: {0[Jack]:d}; Sjoerd: {0[Sjoerd]:d}; '\n",
    "      'Dcab: {0[Dcab]:d}'.format(table))\n",
    "# {} 안에 0과 이름을 같이 넣어 value 꺼내기\n",
    "table = {'Sjoerd': 4127, 'Jack': 4098, 'Dcab': 8637678}\n",
    "print('Jack: {Jack:d}; Sjoerd: {Sjoerd:d}; Dcab: {Dcab:d}'.format(**table))\n",
    "# {} 안에 name을 붙여버리면 value를 꺼낼 수 있음\n",
    "\n",
    "# rjust() => 오른쪽 정렬, ljust() => 왼쪽 정렬, center() => 중앙 정렬\n",
    "# zfill() => argument 숫자 만큼 비어있는 곳을 0으로 채움\n",
    "\n",
    "# open() => option r = read, w = write, a = append, r+ = read and write, \n",
    "# with를 사용하면 자동적으로 close를 한다\n",
    "\n",
    "# isatty() => return trun if the stream is interactive\n",
    "# truncate() => 파일 크기를 지정 byte로 조정하며 그 이하의 내용은 사라짐"
   ]
  },
  {
   "cell_type": "code",
   "execution_count": 16,
   "metadata": {},
   "outputs": [
    {
     "data": {
      "text/plain": [
       "0.9999999999999999"
      ]
     },
     "execution_count": 16,
     "metadata": {},
     "output_type": "execute_result"
    }
   ],
   "source": [
    "# 15 바이트와 관련된 숫자\n",
    "0.1 + 0.1 + 0.1 == 0.3\n",
    "# 왜 false 일까?\n",
    "# 이것을 알려면 컴퓨터가 0.1을 정확하게 0.1로 인지하는 것이 아니라\n",
    "# 근사값으로 인식해서 들어오기 때문에 값이 정확하게 3으로 나오지 않는다는 것에서 기인합니다\n",
    "# 즉, 우리가 python을 통해 보고 있는 값들은 전부 round되어 보이는 값들입니다\n",
    "\n",
    "# 만약 해야한다면?\n",
    "sum([0.1]*10)\n",
    "# decimal 모듈 혹은 frations 그리고 str.format으로 해결이 가능하다"
   ]
  },
  {
   "cell_type": "code",
   "execution_count": 1,
   "metadata": {},
   "outputs": [],
   "source": [
    "# 8, 9, 10, 11 보면 끝\n",
    "# 8\n",
    "# exception을 출력하면 왜 args를 출력해주나요?\n",
    "\n",
    "# try 시에 function 안에서 일어나는 exception 또한 알 수 있다\n",
    "# raise와 from을 같이 사용하여 에러문에 관해 추가적인 설명이 가능하다\n",
    "# finally 는 기본적으로 try문의 관계없이 무조건적으로 실행된다\n",
    "# 이때 else는 거치게되며 try또한 거치게 된다\n",
    "# finally 는 return을 만나면 try의 return을 실행시키지 않고 finally의 return을 실행한다\n",
    "# exceptiongroup은 여러가지의 exception을 그룹으로 묶어 한번에 raise를 실행하는 등의 기능이 가능하다\n",
    "# exceptiongroup 사용 시에 except* 을 사용하여 특정 exception만 내보낼 수 있다\n",
    "# Exception들을 list로 append해서 사용할 수 있다"
   ]
  },
  {
   "cell_type": "code",
   "execution_count": null,
   "metadata": {},
   "outputs": [],
   "source": [
    "# 9\n"
   ]
  }
 ],
 "metadata": {
  "kernelspec": {
   "display_name": "base",
   "language": "python",
   "name": "python3"
  },
  "language_info": {
   "codemirror_mode": {
    "name": "ipython",
    "version": 3
   },
   "file_extension": ".py",
   "mimetype": "text/x-python",
   "name": "python",
   "nbconvert_exporter": "python",
   "pygments_lexer": "ipython3",
   "version": "3.9.18"
  }
 },
 "nbformat": 4,
 "nbformat_minor": 2
}
