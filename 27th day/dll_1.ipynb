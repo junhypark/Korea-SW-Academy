{
 "cells": [
  {
   "cell_type": "code",
   "execution_count": 1,
   "metadata": {},
   "outputs": [],
   "source": [
    "# node를 지날수록 데이터들이 클래스에 맞게 서로 맞춰진다\n",
    "# 새로운 공간으로 매핑시켜서 최종적으로 linear seperable한 공간으로 만들어줄 수 있기때문\n",
    "# 따라서, deep learning이 중요하다\n",
    "\n",
    "# 즉, node를 지날수록 두개의 함수들이 합성하여\n",
    "# non-linear로 만들 수 있다\n",
    "\n",
    "# Universal Approximation Theorem\n",
    "# 이론적으로는 되지만 실제는 다르다\n",
    "\n",
    "# Activation function (=Nonlinearity)\n",
    "# Linear끼리 합쳐도 linear기 때문에 non-linear가 있어야하므로\n",
    "\n",
    "# layer가 많으면 꼭 좋은건 아님\n",
    "# 1. overfitting 문제점\n",
    "# 2. 오캄의 면도날\n",
    "\n",
    "# hebbian principle\n",
    "# 같은 연관된 애들은 활성화를 많이된다\n",
    "\n",
    "# layer는 보통 2의 배수인데 왜?\n",
    "# GPU에서 4의 배수로 돌리는데\n",
    "# 이에 맞지 않으면 나머지 애들이 아무것도 안하고 놀게 되기 때문이다\n",
    "\n",
    "# AutoML 아주 많은 공간에서 아주 좋은 layer 개수를 선택해줌\n",
    "\n",
    "# 딥러닝은 합성함수이다\n",
    "# 합성함수가 제일 효과적일수 밖에 없다\n",
    "# 이론적인 중요한 상황\n",
    "# 수학 함수기때문에 증명 가능해야함 "
   ]
  }
 ],
 "metadata": {
  "kernelspec": {
   "display_name": "KoreaUniv",
   "language": "python",
   "name": "python3"
  },
  "language_info": {
   "codemirror_mode": {
    "name": "ipython",
    "version": 3
   },
   "file_extension": ".py",
   "mimetype": "text/x-python",
   "name": "python",
   "nbconvert_exporter": "python",
   "pygments_lexer": "ipython3",
   "version": "3.9.18"
  }
 },
 "nbformat": 4,
 "nbformat_minor": 2
}
