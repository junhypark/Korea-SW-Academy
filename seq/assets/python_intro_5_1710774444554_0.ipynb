{
 "cells": [
  {
   "cell_type": "code",
   "execution_count": 1,
   "metadata": {},
   "outputs": [],
   "source": [
    "# 함수형 프로그래밍\n",
    "# 함수: 재사용하기 위해서 정의 - 중간에 외부에서 내부로 접근을 못함 \n",
    "# - 다른 조건이 있음 수학 함수 (증명 가능 여부가 생긴다)\n",
    "# 클래스: 재사용하기 위해서 정의 - 행동과 값을 동시에 가질 수 있다\n",
    "# encapsulation - 접근 제한 여부를 결정할 수 있다\n",
    "# python의 클래스: 클래스의 encapsulation은 접근 제한자가 없다\n",
    "# descriptor - 클래스의 encapsulation의 기본적인 접근 제한자가 없는 것을 방지하기 위함"
   ]
  },
  {
   "cell_type": "code",
   "execution_count": 2,
   "metadata": {},
   "outputs": [],
   "source": [
    "class A:\n",
    "    pass"
   ]
  },
  {
   "cell_type": "code",
   "execution_count": 3,
   "metadata": {},
   "outputs": [],
   "source": [
    "a = A()"
   ]
  },
  {
   "cell_type": "code",
   "execution_count": 4,
   "metadata": {},
   "outputs": [],
   "source": [
    "a.x = 1"
   ]
  },
  {
   "cell_type": "code",
   "execution_count": 6,
   "metadata": {},
   "outputs": [
    {
     "data": {
      "text/plain": [
       "1"
      ]
     },
     "execution_count": 6,
     "metadata": {},
     "output_type": "execute_result"
    }
   ],
   "source": [
    "a.x"
   ]
  },
  {
   "cell_type": "code",
   "execution_count": 7,
   "metadata": {},
   "outputs": [],
   "source": [
    "# 용어 정리 (클래스)\n",
    "class A:\n",
    "    x = 1\n",
    "    def xx(self, t):\n",
    "        self.t = t\n",
    "        print(self.t)\n",
    "\n",
    "# class 안의 function을 method라고 한다\n",
    "# class variable\n",
    "# method (self.) - self.~ 이런 애들이 instance variable라고 한다\n",
    "# attribut - 클래스 안에 있는 모든 것을 attribute라고 한다\n",
    "# class에서 구체적인 값을 instance 혹은 object라고 한다"
   ]
  },
  {
   "cell_type": "code",
   "execution_count": 8,
   "metadata": {},
   "outputs": [],
   "source": [
    "a = A() # instance화 구체적인 값을 정해줌\n",
    "# 이렇게 instance화 해서 사용하는 것을 객체지향프로그래밍이라고 한다"
   ]
  },
  {
   "cell_type": "code",
   "execution_count": 9,
   "metadata": {},
   "outputs": [],
   "source": [
    "a = 1 # <- literal\n",
    "a = int(1) # <- 원래 기본적인 방식"
   ]
  },
  {
   "cell_type": "code",
   "execution_count": 10,
   "metadata": {},
   "outputs": [],
   "source": [
    "# class int:\n",
    "#     pass\n",
    "# 이것은 int형의 데이터를 만든다는 class이다\n",
    "# 즉, class = 데이터 타입\n",
    "# 유지보수를 하기 편하기 때문이다"
   ]
  },
  {
   "cell_type": "code",
   "execution_count": 11,
   "metadata": {},
   "outputs": [],
   "source": [
    "#list 형태의 data\n",
    "a = list()"
   ]
  },
  {
   "cell_type": "code",
   "execution_count": 13,
   "metadata": {},
   "outputs": [
    {
     "data": {
      "text/plain": [
       "['__add__',\n",
       " '__class__',\n",
       " '__class_getitem__',\n",
       " '__contains__',\n",
       " '__delattr__',\n",
       " '__delitem__',\n",
       " '__dir__',\n",
       " '__doc__',\n",
       " '__eq__',\n",
       " '__format__',\n",
       " '__ge__',\n",
       " '__getattribute__',\n",
       " '__getitem__',\n",
       " '__gt__',\n",
       " '__hash__',\n",
       " '__iadd__',\n",
       " '__imul__',\n",
       " '__init__',\n",
       " '__init_subclass__',\n",
       " '__iter__',\n",
       " '__le__',\n",
       " '__len__',\n",
       " '__lt__',\n",
       " '__mul__',\n",
       " '__ne__',\n",
       " '__new__',\n",
       " '__reduce__',\n",
       " '__reduce_ex__',\n",
       " '__repr__',\n",
       " '__reversed__',\n",
       " '__rmul__',\n",
       " '__setattr__',\n",
       " '__setitem__',\n",
       " '__sizeof__',\n",
       " '__str__',\n",
       " '__subclasshook__',\n",
       " 'append',\n",
       " 'clear',\n",
       " 'copy',\n",
       " 'count',\n",
       " 'extend',\n",
       " 'index',\n",
       " 'insert',\n",
       " 'pop',\n",
       " 'remove',\n",
       " 'reverse',\n",
       " 'sort']"
      ]
     },
     "execution_count": 13,
     "metadata": {},
     "output_type": "execute_result"
    }
   ],
   "source": [
    "dir(a)  # 모든 attribute를 알려주는 명령어"
   ]
  },
  {
   "cell_type": "code",
   "execution_count": 14,
   "metadata": {},
   "outputs": [
    {
     "ename": "TypeError",
     "evalue": "int() takes no arguments",
     "output_type": "error",
     "traceback": [
      "\u001b[1;31m---------------------------------------------------------------------------\u001b[0m",
      "\u001b[1;31mTypeError\u001b[0m                                 Traceback (most recent call last)",
      "Cell \u001b[1;32mIn[14], line 3\u001b[0m\n\u001b[0;32m      1\u001b[0m \u001b[38;5;66;03m# class 내에 맞는 함수가 없으면 attribute error가 뜬다\u001b[39;00m\n\u001b[0;32m      2\u001b[0m \u001b[38;5;66;03m# class 내에서는 변수가 무한개다\u001b[39;00m\n\u001b[1;32m----> 3\u001b[0m a \u001b[38;5;241m=\u001b[39m \u001b[38;5;28;43mint\u001b[39;49m\u001b[43m(\u001b[49m\u001b[38;5;241;43m1\u001b[39;49m\u001b[43m)\u001b[49m\n\u001b[0;32m      4\u001b[0m b \u001b[38;5;241m=\u001b[39m \u001b[38;5;28mint\u001b[39m(\u001b[38;5;241m2\u001b[39m)\n\u001b[0;32m      5\u001b[0m c \u001b[38;5;241m=\u001b[39m \u001b[38;5;28mint\u001b[39m(\u001b[38;5;241m3\u001b[39m) \u001b[38;5;66;03m# 이런 것을 instace라고 함\u001b[39;00m\n",
      "\u001b[1;31mTypeError\u001b[0m: int() takes no arguments"
     ]
    }
   ],
   "source": [
    "# class 내에 맞는 함수가 없으면 attribute error가 뜬다\n",
    "# class 내에서는 변수가 무한개다\n",
    "a = int(1)\n",
    "b = int(2)\n",
    "c = int(3) # 이런 것을 instace라고 함\n",
    "# instance끼리 공유할 수 있는 값을 "
   ]
  },
  {
   "cell_type": "code",
   "execution_count": 15,
   "metadata": {},
   "outputs": [],
   "source": [
    "class A:\n",
    "    x = 1"
   ]
  },
  {
   "cell_type": "code",
   "execution_count": 16,
   "metadata": {},
   "outputs": [],
   "source": [
    "# 얘는 클래스 변수고 인스턴스 a1을 만들었다고 해보자\n",
    "a1 = A()\n",
    "a2 = A()\n",
    "a3 = A()"
   ]
  },
  {
   "cell_type": "code",
   "execution_count": 17,
   "metadata": {},
   "outputs": [],
   "source": [
    "a1.t = 3\n",
    "a2.t = 4\n",
    "a3.t = 'a'"
   ]
  },
  {
   "cell_type": "code",
   "execution_count": 18,
   "metadata": {},
   "outputs": [
    {
     "data": {
      "text/plain": [
       "1"
      ]
     },
     "execution_count": 18,
     "metadata": {},
     "output_type": "execute_result"
    }
   ],
   "source": [
    "# 인스턴스 안에 저장된 값을 인스턴스 변수라고 한다\n",
    "# 서로 다른 값 가질 수 있다\n",
    "a1.x"
   ]
  },
  {
   "cell_type": "code",
   "execution_count": 19,
   "metadata": {},
   "outputs": [
    {
     "data": {
      "text/plain": [
       "1"
      ]
     },
     "execution_count": 19,
     "metadata": {},
     "output_type": "execute_result"
    }
   ],
   "source": [
    "a2.x"
   ]
  },
  {
   "cell_type": "code",
   "execution_count": 102,
   "metadata": {},
   "outputs": [],
   "source": [
    "# class 변수는 instacne 사에이서 공유하는 값이다.\n",
    "# class를 정의해도 같은 class 내에서는 공유를 한다는 뜻이다\n",
    "# 자바에서의 static 변수가 python에서는 class 변수이다\n",
    "\n",
    "# instance 변수\n",
    "# method가 실행 후 생성된다\n",
    "class B:\n",
    "    x = 1\n",
    "    def bb(self):\n",
    "        self.t = 1"
   ]
  },
  {
   "cell_type": "code",
   "execution_count": 108,
   "metadata": {},
   "outputs": [],
   "source": [
    "b = B()\n",
    "bb = B()\n",
    "bb.x = 2\n",
    "b.bb()\n",
    "bb.bb()"
   ]
  },
  {
   "cell_type": "code",
   "execution_count": 110,
   "metadata": {},
   "outputs": [
    {
     "name": "stdout",
     "output_type": "stream",
     "text": [
      "1 2\n",
      "1 1\n",
      "2 2\n"
     ]
    }
   ],
   "source": [
    "print(b.x, bb.x)\n",
    "print(b.t, bb.t)\n",
    "b.t += 1\n",
    "bb.t += 1\n",
    "print(b.t, bb.t)"
   ]
  },
  {
   "cell_type": "code",
   "execution_count": 22,
   "metadata": {},
   "outputs": [
    {
     "data": {
      "text/plain": [
       "['__class__',\n",
       " '__delattr__',\n",
       " '__dict__',\n",
       " '__dir__',\n",
       " '__doc__',\n",
       " '__eq__',\n",
       " '__format__',\n",
       " '__ge__',\n",
       " '__getattribute__',\n",
       " '__gt__',\n",
       " '__hash__',\n",
       " '__init__',\n",
       " '__init_subclass__',\n",
       " '__le__',\n",
       " '__lt__',\n",
       " '__module__',\n",
       " '__ne__',\n",
       " '__new__',\n",
       " '__reduce__',\n",
       " '__reduce_ex__',\n",
       " '__repr__',\n",
       " '__setattr__',\n",
       " '__sizeof__',\n",
       " '__str__',\n",
       " '__subclasshook__',\n",
       " '__weakref__',\n",
       " 'bb']"
      ]
     },
     "execution_count": 22,
     "metadata": {},
     "output_type": "execute_result"
    }
   ],
   "source": [
    "dir(b)"
   ]
  },
  {
   "cell_type": "code",
   "execution_count": 23,
   "metadata": {},
   "outputs": [],
   "source": [
    "b.bb()"
   ]
  },
  {
   "cell_type": "code",
   "execution_count": 24,
   "metadata": {},
   "outputs": [
    {
     "data": {
      "text/plain": [
       "['__class__',\n",
       " '__delattr__',\n",
       " '__dict__',\n",
       " '__dir__',\n",
       " '__doc__',\n",
       " '__eq__',\n",
       " '__format__',\n",
       " '__ge__',\n",
       " '__getattribute__',\n",
       " '__gt__',\n",
       " '__hash__',\n",
       " '__init__',\n",
       " '__init_subclass__',\n",
       " '__le__',\n",
       " '__lt__',\n",
       " '__module__',\n",
       " '__ne__',\n",
       " '__new__',\n",
       " '__reduce__',\n",
       " '__reduce_ex__',\n",
       " '__repr__',\n",
       " '__setattr__',\n",
       " '__sizeof__',\n",
       " '__str__',\n",
       " '__subclasshook__',\n",
       " '__weakref__',\n",
       " 'bb',\n",
       " 't']"
      ]
     },
     "execution_count": 24,
     "metadata": {},
     "output_type": "execute_result"
    }
   ],
   "source": [
    "dir(b)"
   ]
  },
  {
   "cell_type": "code",
   "execution_count": 25,
   "metadata": {},
   "outputs": [],
   "source": [
    "# t가 이제 생긴다\n",
    "# 즉,\n",
    "class AA():\n",
    "    # 여기에 들어가는 변수가 class 변수\n",
    "    def ads(self):\n",
    "        self.x = 1 # 이게 instance variable이라고 한다\n",
    "\n",
    "# instacne 변수가 무엇인지 체크하는 기능이 필요함\n",
    "# 그게 바로 vars()\n",
    "\n",
    "# 즉, 알아야 할 함수 3가지는 dir, type, vars 가 있다"
   ]
  },
  {
   "cell_type": "code",
   "execution_count": 26,
   "metadata": {},
   "outputs": [],
   "source": [
    "class C:\n",
    "    def __init__(self):\n",
    "        print('A')"
   ]
  },
  {
   "cell_type": "code",
   "execution_count": 27,
   "metadata": {},
   "outputs": [
    {
     "name": "stdout",
     "output_type": "stream",
     "text": [
      "A\n"
     ]
    }
   ],
   "source": [
    "# functional overloading\n",
    "# __init__은\n",
    "c = C() # 이때, 내부적으로 __init__이 실행된다 / 이걸 operator overloading 또는 functional overloading이라고 한다\n",
    "# 즉, 연산자가 실행될때 내부적으로 __init__이 실행되는 것을 의미함"
   ]
  },
  {
   "cell_type": "code",
   "execution_count": 28,
   "metadata": {},
   "outputs": [],
   "source": [
    "class D:\n",
    "    def xx(self, x):\n",
    "        self.x = 1\n",
    "    def xxx(self):\n",
    "        print(self.x)"
   ]
  },
  {
   "cell_type": "code",
   "execution_count": 29,
   "metadata": {},
   "outputs": [],
   "source": [
    "dd = D()"
   ]
  },
  {
   "cell_type": "code",
   "execution_count": 30,
   "metadata": {},
   "outputs": [
    {
     "data": {
      "text/plain": [
       "{}"
      ]
     },
     "execution_count": 30,
     "metadata": {},
     "output_type": "execute_result"
    }
   ],
   "source": [
    "vars(dd)"
   ]
  },
  {
   "cell_type": "code",
   "execution_count": 34,
   "metadata": {},
   "outputs": [],
   "source": [
    "dd.xx(1)"
   ]
  },
  {
   "cell_type": "code",
   "execution_count": 36,
   "metadata": {},
   "outputs": [
    {
     "data": {
      "text/plain": [
       "{'x': 1}"
      ]
     },
     "execution_count": 36,
     "metadata": {},
     "output_type": "execute_result"
    }
   ],
   "source": [
    "vars(dd)"
   ]
  },
  {
   "cell_type": "code",
   "execution_count": 37,
   "metadata": {},
   "outputs": [
    {
     "name": "stdout",
     "output_type": "stream",
     "text": [
      "1\n"
     ]
    }
   ],
   "source": [
    "# instance (dd) 는 첫번째 인자 생략 그 후 method 사용\n",
    "dd.xxx()"
   ]
  },
  {
   "cell_type": "code",
   "execution_count": 38,
   "metadata": {},
   "outputs": [],
   "source": [
    "# instance 변수는 instance 내에서 공유됨\n",
    "# class 변수는 instance 간에 공유됨\n",
    "\n",
    "# Meta Class -> class의 class\n",
    "# class는 meta class 관점에서는 값이다\n",
    "\n",
    "class X:\n",
    "    a = 1\n",
    "    def x(self):\n",
    "        print(self.a)\n",
    "    def xx(self):\n",
    "        print(self.a)"
   ]
  },
  {
   "cell_type": "code",
   "execution_count": 44,
   "metadata": {},
   "outputs": [],
   "source": [
    "# instance화 하지 않고 class 자체 사용이 원래 가능하다\n",
    "# 왜? Meta class라고 존재하기 때문이다\n",
    "class X:\n",
    "    def t(self, x):\n",
    "        self.x = x\n",
    "    def tt(self):\n",
    "        print(self.x)"
   ]
  },
  {
   "cell_type": "code",
   "execution_count": 45,
   "metadata": {},
   "outputs": [],
   "source": [
    "# self ==> a = X()\n",
    "a = X() # instance화 한 얘가 self이다\n",
    "X.t(a, 3)"
   ]
  },
  {
   "cell_type": "code",
   "execution_count": 47,
   "metadata": {},
   "outputs": [
    {
     "data": {
      "text/plain": [
       "<function __main__.X.t(self, x)>"
      ]
     },
     "execution_count": 47,
     "metadata": {},
     "output_type": "execute_result"
    }
   ],
   "source": [
    "X.t"
   ]
  },
  {
   "cell_type": "code",
   "execution_count": 46,
   "metadata": {},
   "outputs": [
    {
     "data": {
      "text/plain": [
       "<bound method X.t of <__main__.X object at 0x0000013998C63790>>"
      ]
     },
     "execution_count": 46,
     "metadata": {},
     "output_type": "execute_result"
    }
   ],
   "source": [
    "a.t"
   ]
  },
  {
   "cell_type": "code",
   "execution_count": 48,
   "metadata": {},
   "outputs": [],
   "source": [
    "# class가 쓰면 function X.t\n",
    "# instance가 쓰면 method a.t\n",
    "\n",
    "# init signature -> 클래스다\n",
    "# 따라서 괄호를 붙여야 한다\n",
    "\n",
    "# function 괄호는 실행\n",
    "# class 괄호는 생성"
   ]
  },
  {
   "cell_type": "code",
   "execution_count": 49,
   "metadata": {},
   "outputs": [],
   "source": [
    "# instance에 괄호 붙일때\n",
    "class T:\n",
    "    def __init__(self):\n",
    "        self.a = 1\n",
    "        print('init')"
   ]
  },
  {
   "cell_type": "code",
   "execution_count": 50,
   "metadata": {},
   "outputs": [
    {
     "name": "stdout",
     "output_type": "stream",
     "text": [
      "init\n"
     ]
    }
   ],
   "source": [
    "t = T()"
   ]
  },
  {
   "cell_type": "code",
   "execution_count": 52,
   "metadata": {},
   "outputs": [],
   "source": [
    "# t()를 위해서\n",
    "class TT:\n",
    "    def __init__(self):\n",
    "        self.a = 1\n",
    "        print('init')\n",
    "    def __call__(self): # duck typing\n",
    "        print('call')"
   ]
  },
  {
   "cell_type": "code",
   "execution_count": 53,
   "metadata": {},
   "outputs": [
    {
     "name": "stdout",
     "output_type": "stream",
     "text": [
      "init\n"
     ]
    }
   ],
   "source": [
    "tt = TT()"
   ]
  },
  {
   "cell_type": "code",
   "execution_count": 54,
   "metadata": {},
   "outputs": [
    {
     "name": "stdout",
     "output_type": "stream",
     "text": [
      "call\n"
     ]
    }
   ],
   "source": [
    "tt()    # __call__은 instance도 괄호를 붙일 수 있게 만들어 준것이다"
   ]
  },
  {
   "cell_type": "code",
   "execution_count": 55,
   "metadata": {},
   "outputs": [
    {
     "name": "stdout",
     "output_type": "stream",
     "text": [
      "init\n",
      "call\n"
     ]
    }
   ],
   "source": [
    "TT()()"
   ]
  },
  {
   "cell_type": "code",
   "execution_count": 56,
   "metadata": {},
   "outputs": [],
   "source": [
    "class S:\n",
    "    def __init__(self, a):\n",
    "        self.a = a\n",
    "        print('init')\n",
    "    def __call__(self, b):\n",
    "        return self.a+b\n",
    "        print('Call')"
   ]
  },
  {
   "cell_type": "code",
   "execution_count": 57,
   "metadata": {},
   "outputs": [
    {
     "name": "stdout",
     "output_type": "stream",
     "text": [
      "init\n"
     ]
    },
    {
     "data": {
      "text/plain": [
       "5"
      ]
     },
     "execution_count": 57,
     "metadata": {},
     "output_type": "execute_result"
    }
   ],
   "source": [
    "S(1)(4)"
   ]
  },
  {
   "cell_type": "code",
   "execution_count": 58,
   "metadata": {},
   "outputs": [],
   "source": [
    "# import tensorflow as tf\n",
    "# ss = tf.keras.models.Sequential\n",
    "# 이런데서 사용되는 것이 functional paradaigm\n",
    "\n",
    "# 따라서, instance도 함수처럼 사용할 수 있다\n",
    "\n",
    "# callable 가능한 것들\n",
    "# 1. function\n",
    "# 2. class\n",
    "# 3. class who has __call__\n",
    "\n",
    "# 확장\n",
    "# class에 괄호 붙이는 것들이 세분화 된다 - method의 세분화\n",
    "# 이름이 method인 애들이 몇 있다\n",
    "# 1. instance method\n",
    "# 2. Accessor - decorator\n",
    "# 3. Operator - decorator\n",
    "# 4. static method\n",
    "\n",
    "# class를 name space로도 사용 가능하다 - name space란 class 선언시 아래에 있는 함수들에 접근할 시에는 클래스가 name space가 된다\n",
    "# static method란 함수인데 클래스의 name space만 빌려서 사용하는 함수\n",
    "# 따라서, instance 기능 없이 사용\n",
    "# 즉, self 없이 사용하는 것이다\n",
    "\n",
    "class T:\n",
    "    @staticmethod\n",
    "    def ss():\n",
    "        print('static')\n"
   ]
  },
  {
   "cell_type": "code",
   "execution_count": 59,
   "metadata": {},
   "outputs": [
    {
     "name": "stdout",
     "output_type": "stream",
     "text": [
      "static\n"
     ]
    }
   ],
   "source": [
    "T.ss()"
   ]
  },
  {
   "cell_type": "code",
   "execution_count": 60,
   "metadata": {},
   "outputs": [
    {
     "ename": "TypeError",
     "evalue": "ss() takes 0 positional arguments but 1 was given",
     "output_type": "error",
     "traceback": [
      "\u001b[1;31m---------------------------------------------------------------------------\u001b[0m",
      "\u001b[1;31mTypeError\u001b[0m                                 Traceback (most recent call last)",
      "Cell \u001b[1;32mIn[60], line 6\u001b[0m\n\u001b[0;32m      4\u001b[0m         \u001b[38;5;28mprint\u001b[39m(\u001b[38;5;124m'\u001b[39m\u001b[38;5;124mstatic\u001b[39m\u001b[38;5;124m'\u001b[39m)\n\u001b[0;32m      5\u001b[0m t \u001b[38;5;241m=\u001b[39m T()\n\u001b[1;32m----> 6\u001b[0m \u001b[43mt\u001b[49m\u001b[38;5;241;43m.\u001b[39;49m\u001b[43mss\u001b[49m\u001b[43m(\u001b[49m\u001b[43m)\u001b[49m\n",
      "\u001b[1;31mTypeError\u001b[0m: ss() takes 0 positional arguments but 1 was given"
     ]
    }
   ],
   "source": [
    "# 하지만 static method 가 없으면\n",
    "class T:\n",
    "    def ss():\n",
    "        print('static')\n",
    "t = T()\n",
    "t.ss()"
   ]
  },
  {
   "cell_type": "code",
   "execution_count": 61,
   "metadata": {},
   "outputs": [],
   "source": [
    "# 이렇게 에러가 난다\n",
    "# 왜냐하면 static method가 없으면 첫번째 인자로 self를 꼭 받아야 하기 때문이다"
   ]
  },
  {
   "cell_type": "code",
   "execution_count": 62,
   "metadata": {},
   "outputs": [],
   "source": [
    "class T:\n",
    "    x = 1"
   ]
  },
  {
   "cell_type": "code",
   "execution_count": 63,
   "metadata": {},
   "outputs": [],
   "source": [
    "t = T()"
   ]
  },
  {
   "cell_type": "code",
   "execution_count": 64,
   "metadata": {},
   "outputs": [
    {
     "data": {
      "text/plain": [
       "1"
      ]
     },
     "execution_count": 64,
     "metadata": {},
     "output_type": "execute_result"
    }
   ],
   "source": [
    "t.x # instance 변수에 없으면 class 변수를 참조한다"
   ]
  },
  {
   "cell_type": "code",
   "execution_count": 65,
   "metadata": {},
   "outputs": [
    {
     "data": {
      "text/plain": [
       "{}"
      ]
     },
     "execution_count": 65,
     "metadata": {},
     "output_type": "execute_result"
    }
   ],
   "source": [
    "vars(t)"
   ]
  },
  {
   "cell_type": "code",
   "execution_count": 66,
   "metadata": {},
   "outputs": [
    {
     "data": {
      "text/plain": [
       "{'x': 2}"
      ]
     },
     "execution_count": 66,
     "metadata": {},
     "output_type": "execute_result"
    }
   ],
   "source": [
    "# x가 없지만, instance 변수가 없으면 class 변수에서 찾는다\n",
    "t.x = 2\n",
    "vars(t)"
   ]
  },
  {
   "cell_type": "code",
   "execution_count": 67,
   "metadata": {},
   "outputs": [
    {
     "data": {
      "text/plain": [
       "1"
      ]
     },
     "execution_count": 67,
     "metadata": {},
     "output_type": "execute_result"
    }
   ],
   "source": [
    "# 왜? t.x = 2 하면서 instance 변수가 생겼기 때문이다\n",
    "s = T()\n",
    "s.x"
   ]
  },
  {
   "cell_type": "code",
   "execution_count": 131,
   "metadata": {},
   "outputs": [],
   "source": [
    "class Y:\n",
    "    x = 1\n",
    "    # @classmethod    # class가 쓰는 method\n",
    "    def z(self): # 관례상 cls를 사용한다 self와 같이\n",
    "        self.y = 1"
   ]
  },
  {
   "cell_type": "code",
   "execution_count": 128,
   "metadata": {},
   "outputs": [
    {
     "ename": "TypeError",
     "evalue": "z() missing 1 required positional argument: 'self'",
     "output_type": "error",
     "traceback": [
      "\u001b[1;31m---------------------------------------------------------------------------\u001b[0m",
      "\u001b[1;31mTypeError\u001b[0m                                 Traceback (most recent call last)",
      "Cell \u001b[1;32mIn[128], line 1\u001b[0m\n\u001b[1;32m----> 1\u001b[0m \u001b[43mY\u001b[49m\u001b[38;5;241;43m.\u001b[39;49m\u001b[43mz\u001b[49m\u001b[43m(\u001b[49m\u001b[43m)\u001b[49m\n",
      "\u001b[1;31mTypeError\u001b[0m: z() missing 1 required positional argument: 'self'"
     ]
    }
   ],
   "source": [
    "Y.z()"
   ]
  },
  {
   "cell_type": "code",
   "execution_count": 132,
   "metadata": {},
   "outputs": [],
   "source": [
    "# 이때, cls에 해당하는 argument는 비워놔야한다\n",
    "# cls가 class 자기 자신을 가르키고 있기 때문이다\n",
    "yy = Y()\n",
    "yy.z()"
   ]
  },
  {
   "cell_type": "code",
   "execution_count": 133,
   "metadata": {},
   "outputs": [
    {
     "data": {
      "text/plain": [
       "{'y': 1}"
      ]
     },
     "execution_count": 133,
     "metadata": {},
     "output_type": "execute_result"
    }
   ],
   "source": [
    "# instance 가 없으면 class에 있는것을 사용하기 떄문에 똑같이 classmethod를 사용한 것이다\n",
    "vars(yy)"
   ]
  },
  {
   "cell_type": "code",
   "execution_count": 76,
   "metadata": {},
   "outputs": [
    {
     "name": "stdout",
     "output_type": "stream",
     "text": [
      "static\n",
      "static\n"
     ]
    },
    {
     "ename": "TypeError",
     "evalue": "ss() missing 1 required positional argument: 'a'",
     "output_type": "error",
     "traceback": [
      "\u001b[1;31m---------------------------------------------------------------------------\u001b[0m",
      "\u001b[1;31mTypeError\u001b[0m                                 Traceback (most recent call last)",
      "Cell \u001b[1;32mIn[76], line 9\u001b[0m\n\u001b[0;32m      7\u001b[0m t \u001b[38;5;241m=\u001b[39m T()\n\u001b[0;32m      8\u001b[0m t\u001b[38;5;241m.\u001b[39mss(\u001b[38;5;241m1\u001b[39m)\n\u001b[1;32m----> 9\u001b[0m \u001b[43mt\u001b[49m\u001b[38;5;241;43m.\u001b[39;49m\u001b[43mss\u001b[49m\u001b[43m(\u001b[49m\u001b[43m)\u001b[49m\n",
      "\u001b[1;31mTypeError\u001b[0m: ss() missing 1 required positional argument: 'a'"
     ]
    }
   ],
   "source": [
    "class T:\n",
    "    @staticmethod\n",
    "    def ss(a):\n",
    "        print('static')\n",
    "\n",
    "T.ss(1)\n",
    "t = T()\n",
    "t.ss(1)\n",
    "t.ss()  # 이게 staticmethod이기 때문에 첫번째 argument 생략 불가능하다"
   ]
  },
  {
   "cell_type": "code",
   "execution_count": 78,
   "metadata": {},
   "outputs": [
    {
     "ename": "TypeError",
     "evalue": "ss() missing 1 required positional argument: 'self'",
     "output_type": "error",
     "traceback": [
      "\u001b[1;31m---------------------------------------------------------------------------\u001b[0m",
      "\u001b[1;31mTypeError\u001b[0m                                 Traceback (most recent call last)",
      "Cell \u001b[1;32mIn[78], line 7\u001b[0m\n\u001b[0;32m      4\u001b[0m         \u001b[38;5;28mprint\u001b[39m(\u001b[38;5;124m'\u001b[39m\u001b[38;5;124mstatic\u001b[39m\u001b[38;5;124m'\u001b[39m)\n\u001b[0;32m      6\u001b[0m t \u001b[38;5;241m=\u001b[39m T()\n\u001b[1;32m----> 7\u001b[0m \u001b[43mt\u001b[49m\u001b[38;5;241;43m.\u001b[39;49m\u001b[43mss\u001b[49m\u001b[43m(\u001b[49m\u001b[43m)\u001b[49m\n",
      "\u001b[1;31mTypeError\u001b[0m: ss() missing 1 required positional argument: 'self'"
     ]
    }
   ],
   "source": [
    "class T:\n",
    "    @staticmethod   # decorator 기능을 바꿔준다\n",
    "    def ss(self):   # 이때, self는 첫번째 인자\n",
    "        print('static')\n",
    "\n",
    "t = T()\n",
    "t.ss()  # deligator / 내가 없으면 저기 애도 찾아가보세요, 이렇게 다른 class를 참조하므로 느리다"
   ]
  },
  {
   "cell_type": "code",
   "execution_count": 99,
   "metadata": {},
   "outputs": [],
   "source": [
    "# Python 은 single dispatch 지원 multiple dispatch는 없음\n",
    "# Single dispatch는 ?\n",
    "# 1. Generic Function = 같은 함수지만 다른 행동을 할때\n",
    "# len의 비밀을 봐보자\n",
    "len({'a': 1, 'b': 2})\n",
    "# python은 type에 따라 다르게 행동한다\n",
    "# 같은 함수 또는 메소드에서도\n",
    "from functools import singledispatch\n",
    "@singledispatch\n",
    "def x(a):\n",
    "    print(a)\n",
    "\n",
    "@x.register(int)\n",
    "def _(a):\n",
    "    print('int')    # dispatch로 인해 x의 param인 a에 int가 들어오면 두번째 function이 실행되게 dispatch 한다\n",
    "                    # 즉, type에 따라서 다른 행동 하도록 할 수 있다\n",
    "@x.register(str)    # 두개 인자 받아서 두개 실행될 수 있도록 하는 것이 multiple dispatch\n",
    "def _(a):           # 하지만 python은 single dispatch만 지원한다\n",
    "    print('str')    # python에서 multiple dispatch를 사용하려면 module을 사용해야 한다"
   ]
  },
  {
   "cell_type": "code",
   "execution_count": 82,
   "metadata": {},
   "outputs": [
    {
     "name": "stdout",
     "output_type": "stream",
     "text": [
      "3.0\n"
     ]
    }
   ],
   "source": [
    "x(3.)"
   ]
  },
  {
   "cell_type": "code",
   "execution_count": 91,
   "metadata": {},
   "outputs": [
    {
     "name": "stdout",
     "output_type": "stream",
     "text": [
      "str\n"
     ]
    }
   ],
   "source": [
    "x(\"3\")"
   ]
  },
  {
   "cell_type": "code",
   "execution_count": 101,
   "metadata": {},
   "outputs": [
    {
     "data": {
      "text/plain": [
       "False"
      ]
     },
     "execution_count": 101,
     "metadata": {},
     "output_type": "execute_result"
    }
   ],
   "source": [
    "# is로 시작하거나 -able로 끝나는 애\n",
    "# return 값이 보통 True나 False다\n",
    "# callable > True, False: predicate라고 한다\n",
    "# 다시 말해, True 또는 False를 반환 하는 것을 predicate라고 한다\n",
    "isinstance(3, int)\n",
    "issubclass(bool, int)\n",
    "# 얘네 둘 다 predicate 라고 한다"
   ]
  },
  {
   "cell_type": "markdown",
   "metadata": {},
   "source": [
    "# Functional Programming\n",
    "\n",
    "#### Rollback\n",
    "\n",
    "Encapsulation can determine the access control\n",
    "\n",
    "In python\n",
    "\n",
    "1. class        - when we encapsulation the class, there is no access controller\n",
    "2. descriptor   - for class access controller, we make descriptor\n",
    "\n",
    "#### Term in Class\n",
    "\n",
    "```\n",
    "class A:\n",
    "    x = 1\n",
    "    def xx(self, t):\n",
    "        self.t = t\n",
    "        print(self.t)\n",
    "```\n",
    "\n",
    "1. Method is a term of a function inside of class\n",
    "2. class variable - each instance share same value / a static variable in java\n",
    "3. instance variable - a variable such like self.~ / each instances can have different value\n",
    "4. instance, object - detail value in class\n",
    "\n",
    "```\n",
    "class A:\n",
    "    x = 1   # class variable\n",
    "    def xx(self, a):\n",
    "        self.a = a  # instance variable\n",
    "\n",
    "\n",
    "a = A()             # This is called being instance (instance화)\n",
    "                    # This usage is called Object Oriented Programming\n",
    "                    # So, in this case, the instance is a\n",
    "                    # instance value is made after method activate\n",
    "```\n",
    "\n",
    "If you want to check the instance variable run vars()\n",
    "\n",
    "**SO, THE IMPORTANT FUNCTIONS ARE THESE dir, type, vars TO CHECK THE VARIABLES**\n",
    "\n",
    "Instance variable shares within instance\n",
    "\n",
    "Class variable shares with each instances\n",
    "\n",
    "Meta Class - class of class, so class is value in point view of meta class\n",
    "\n",
    "Because of Meta Class you can just call class and use them\n",
    "\n",
    "```\n",
    "class X:\n",
    "    def t(self, x):\n",
    "        self.x = x\n",
    "    def tt(self):\n",
    "        print(self.x)\n",
    "\n",
    "X.t(a,3)\n",
    "a = X() # instance\n",
    "```\n",
    "\n",
    "So if class use 't' it is called function, X.t\n",
    "\n",
    "If instance use 't' it is called method, a.t\n",
    "\n",
    "#### Functional Overloading\n",
    "\n",
    "\\_\\_init\\_\\_ - when you allocate class, automatically init method runs\n",
    "\n",
    "init signature is a class so we have to put bracket\n",
    "\n",
    "This is functional overloading or operator overloading\n",
    "\n",
    "```\n",
    "class T:\n",
    "    def __init__(self):\n",
    "        self.a = 1\n",
    "        print('init')\n",
    "\n",
    "t = T() # automatically, runs init method\n",
    "\n",
    "class TT:\n",
    "    def __init__(self):\n",
    "        self.a = 1\n",
    "        print('init')\n",
    "    def __call__(self):\n",
    "        print('call')\n",
    "\n",
    "tt = TT()\n",
    "tt()    # __call__ allows instance to add brackets\n",
    "TT()()  # no __call__\n",
    "TT()(4)\n",
    "```\n",
    "\n",
    "#### Callable things\n",
    "\n",
    "1. function\n",
    "2. class\n",
    "3. class who has \\_\\_call_\\_\\\n",
    "\n",
    "###### More\n",
    "\n",
    "**Various Method**\n",
    "1. instance method - can use self as parameter / self indicates instance itself\n",
    "2. static method - cannot use self as parameter\n",
    "3. class method - use cls instead of self / cls indicates class itself\n",
    "\n",
    "We can use class as name space\n",
    "\n",
    "When we use static method, we borrow class's name space and use it\n",
    "\n",
    "So, we can use without self (in static method)\n",
    "\n",
    "```\n",
    "# 1 classmethod\n",
    "class Figure:\n",
    "    @classmethod\n",
    "    def set_name(cls, name):\n",
    "        cls.name = name\n",
    "\n",
    "# Inheritage\n",
    "class Circle(Figure):\n",
    "    pass\n",
    "\n",
    "\n",
    "Figure.set_name(\"figure\")\n",
    "print(Figure.name, Circle.name) # 결과값 : figure figure\n",
    "\n",
    "Circle.set_name(\"circle\")\n",
    "print(Figure.name, Circle.name) # 결과값 : figure circle\n",
    "\n",
    "# 2 staticmethod\n",
    "class Figure:\n",
    "    @staticmethod\n",
    "    def set_name(name):\n",
    "        Figure.name = name\n",
    "\n",
    "# Inheritage\n",
    "class Circle(Figure):\n",
    "    pass\n",
    "\n",
    "\n",
    "Figure.set_name(\"figure\")\n",
    "print(Figure.name, Circle.name) # 결과값 : figure figure\n",
    "\n",
    "Circle.set_name(\"circle\")\n",
    "print(Figure.name, Circle.name) # 결과값 : circle circle\n",
    "\n",
    "# 3 instance method\n",
    "class Figure:\n",
    "    def set_name(self, name):\n",
    "        self.name = name\n",
    "\n",
    "# Inheritage\n",
    "class Circle(Figure):\n",
    "    pass\n",
    "\n",
    "Figure.set_name(\"figure\")\n",
    "print(Figure.name, Circle.name)\n",
    "#                       ^\n",
    "#                       |_ Error came out\n",
    "```\n",
    "\n",
    "1. instance method - cannot access to the inheritaged class\n",
    "2. static method - modify instance (class Circle) itself\n",
    "3. class method - modify class itself\n",
    "\n",
    "\n",
    "#### Decorator\n",
    "\n",
    "Decorator is like...\n",
    "\n",
    "@staticmethod, @classmethod ...\n",
    "\n",
    "It modify functional task\n",
    "\n",
    "#### Deligator\n",
    "\n",
    "If there is no instance value, we get class value\n",
    "\n",
    "Such like...\n",
    "\n",
    "```\n",
    "class Y():\n",
    "    x = 1\n",
    "    def set(self):\n",
    "        self.t = 1\n",
    "\n",
    "a = Y()\n",
    "a.set()\n",
    "vars(a) # => give only instance value which is t\n",
    "a.x     # => give 1 which is class value becuase of deligator\n",
    "```\n",
    "\n",
    "#### Single Dispatch\n",
    "\n",
    "Single dispatch is a generic function like len()\n",
    "\n",
    "len() performs different task with different data type\n",
    "\n",
    "```\n",
    "len({'a':1, 'b':2})\n",
    "len([1,2,3,4])\n",
    "\n",
    "# both has different type and perform differently\n",
    "```\n",
    "\n",
    "To use single dispatch\n",
    "\n",
    "```\n",
    "from functools import singledispatch\n",
    "@singledispatch\n",
    "\n",
    "def x(a):\n",
    "    print(a)\n",
    "\n",
    "@x.register(int)    # Due to dispatch, in x param, int comes, python dispatches to run second function\n",
    "def _(a):           # So we can perform differently by different data type\n",
    "    print('int')    # If we want various parameters, use multiple dispatch\n",
    "                    # But, python does not support multiple dispatch\n",
    "@x.register(str)    # If we want to use multiple dispatch, use module\n",
    "def _(a):\n",
    "    print('str')\n",
    "```\n",
    "\n",
    "###### Predicate\n",
    "\n",
    "Start with is and end with -able often returns True or False\n",
    "\n",
    "callable > True, False: it is predicate\n",
    "\n",
    "Agian, returning True or False is called predicate\n",
    "\n",
    "```\n",
    "isinstance(3, int)\n",
    "issubclass(bool, int)\n",
    "```"
   ]
  }
 ],
 "metadata": {
  "kernelspec": {
   "display_name": "KoreaUniv",
   "language": "python",
   "name": "python3"
  },
  "language_info": {
   "codemirror_mode": {
    "name": "ipython",
    "version": 3
   },
   "file_extension": ".py",
   "mimetype": "text/x-python",
   "name": "python",
   "nbconvert_exporter": "python",
   "pygments_lexer": "ipython3",
   "version": "3.9.18"
  }
 },
 "nbformat": 4,
 "nbformat_minor": 2
}
