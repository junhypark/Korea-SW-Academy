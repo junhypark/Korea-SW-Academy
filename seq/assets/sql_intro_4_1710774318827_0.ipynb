{
 "cells": [
  {
   "cell_type": "code",
   "execution_count": 2,
   "metadata": {},
   "outputs": [],
   "source": [
    "#ORM how to use orm in python?\n",
    "#ORM이 sql문 대신해서 해석해서 보내줌\n",
    "#table을 하나의 class로 가져옴\n",
    "#클래스에 속한 변수들을 가져옴\n",
    "#데이터 관리할때는 orm을 사용하지 않는 것이 좋다\n",
    "\n",
    "#What is SQLAlchemy?\n",
    "#toolkit - containig various functions\n",
    "#자동적으로 필요한 db api를 설정해주고 connection 또한 지원해줌\n",
    "#객체(table)는 schema / types에 지정되어 있다\n",
    "#객체에 변수로서 접근가능하다\n",
    "#Engine - (Pool, Dialect) - DBAPI - Database 이때 engine이 start point가 된다\n",
    "#dialect가 sql문으로 바꿔주는 역할 / Pool이 connection 역할\n",
    "\n",
    "#engine 만드는 것 부터\n",
    "#engine = create_engine('sqlite:///foo.db')\n",
    "#path is relative\n",
    "#dialect+driver//username:password@host:port/database\n",
    "#우리는 username, password가 없기에 / 슬래쉬를 넣는 것\n",
    "#echo 옵션 어떻게 sql문으로 바꿔서 작업했는지 history를 보여줌\n",
    "#Lazy connecting - 그 자리에서 바로 파일 디비가 생성되었지만 lazy는 실제 작업을해서 연결을 할 때 즉, 나중에 생성됨\n",
    "import sqlalchemy"
   ]
  },
  {
   "cell_type": "code",
   "execution_count": 80,
   "metadata": {},
   "outputs": [
    {
     "name": "stderr",
     "output_type": "stream",
     "text": [
      "'sqlalchemy'��(��) ���� �Ǵ� �ܺ� ����, ������ �� �ִ� ���α׷�, �Ǵ�\n",
      "��ġ ������ �ƴմϴ�.\n"
     ]
    }
   ],
   "source": [
    "!sqlalchemy"
   ]
  },
  {
   "cell_type": "code",
   "execution_count": 7,
   "metadata": {},
   "outputs": [],
   "source": [
    "from sqlalchemy.engine import create_engine\n",
    "from sqlalchemy.schema import Table, Column, ForeignKey\n",
    "from sqlalchemy.types import Integer, Text\n",
    "from sqlalchemy.sql import select, insert, update"
   ]
  },
  {
   "cell_type": "code",
   "execution_count": 8,
   "metadata": {},
   "outputs": [
    {
     "name": "stdout",
     "output_type": "stream",
     "text": [
      " C ����̺��� �������� �̸��� �����ϴ�.\n",
      " ���� �Ϸ� ��ȣ: 9E59-9DF1\n",
      "\n",
      " c:\\Users\\SAMSUNG\\Desktop\\SW_Korea\\data ���͸�\n",
      "\n",
      "2024-03-07  ���� 12:09            32,768 playlist.db\n",
      "2024-03-07  ���� 01:50            16,384 sns.db\n",
      "2024-03-06  ���� 12:02            20,480 test.db\n",
      "               3�� ����              69,632 ����Ʈ\n",
      "               0�� ���͸�  829,281,857,536 ����Ʈ ����\n"
     ]
    }
   ],
   "source": [
    "!dir *.db"
   ]
  },
  {
   "cell_type": "code",
   "execution_count": 9,
   "metadata": {},
   "outputs": [],
   "source": [
    "engine = create_engine('sqlite:///ordm.db', echo=True)"
   ]
  },
  {
   "cell_type": "code",
   "execution_count": 10,
   "metadata": {},
   "outputs": [
    {
     "name": "stdout",
     "output_type": "stream",
     "text": [
      " C ����̺��� �������� �̸��� �����ϴ�.\n",
      " ���� �Ϸ� ��ȣ: 9E59-9DF1\n",
      "\n",
      " c:\\Users\\SAMSUNG\\Desktop\\SW_Korea\\data ���͸�\n",
      "\n",
      "2024-03-07  ���� 12:09            32,768 playlist.db\n",
      "2024-03-07  ���� 01:50            16,384 sns.db\n",
      "2024-03-06  ���� 12:02            20,480 test.db\n",
      "               3�� ����              69,632 ����Ʈ\n",
      "               0�� ���͸�  829,281,132,544 ����Ʈ ����\n"
     ]
    }
   ],
   "source": [
    "!dir *.db"
   ]
  },
  {
   "cell_type": "code",
   "execution_count": null,
   "metadata": {},
   "outputs": [],
   "source": [
    "#Python         RDBMS               Database\n",
    "#Python         ORM                 RDBMS               Database\n",
    "#------         Core                SQLite              FILE\n",
    "#       Obj -->\n",
    "#       (class => MetaData에게 class 등록하게 만듬 / 그러고 core가 sql문 해석하게 한다)\n",
    "#\n",
    "#본래에는 RDBMS 사이에 SQL이 존재했지만 이제는 python과 orm 사이에 obj(class)로 작성해서 넣는다"
   ]
  },
  {
   "cell_type": "code",
   "execution_count": 11,
   "metadata": {},
   "outputs": [],
   "source": [
    "from sqlalchemy.schema import MetaData"
   ]
  },
  {
   "cell_type": "code",
   "execution_count": 12,
   "metadata": {},
   "outputs": [],
   "source": [
    "meta = MetaData() #MetaData는 python에 있음"
   ]
  },
  {
   "cell_type": "code",
   "execution_count": 13,
   "metadata": {},
   "outputs": [
    {
     "data": {
      "text/plain": [
       "FacadeDict({})"
      ]
     },
     "execution_count": 13,
     "metadata": {},
     "output_type": "execute_result"
    }
   ],
   "source": [
    "meta.clear() #metadata에 등록된 obj를 다 지운다는 뜻 / 여기서 지우면 코드에 존재하는 obj들을 지우는 것이지 db에 존재하느 data를 지우는것이아니다"
   ]
  },
  {
   "cell_type": "code",
   "execution_count": 22,
   "metadata": {},
   "outputs": [],
   "source": [
    "# mytable = Table()\n",
    "pk = Column('PK', Integer, primary_key = True)\n",
    "# pk는 객체다"
   ]
  },
  {
   "cell_type": "code",
   "execution_count": 23,
   "metadata": {},
   "outputs": [
    {
     "data": {
      "text/plain": [
       "Table('user', MetaData(), Column('PK', Integer(), table=<user>, primary_key=True, nullable=False), Column('NAME', Text(), table=<user>, nullable=False), schema=None)"
      ]
     },
     "execution_count": 23,
     "metadata": {},
     "output_type": "execute_result"
    }
   ],
   "source": [
    "Table('user', meta, pk, Column('NAME', Text, nullable=False))"
   ]
  },
  {
   "cell_type": "code",
   "execution_count": 18,
   "metadata": {},
   "outputs": [
    {
     "data": {
      "text/plain": [
       "FacadeDict({})"
      ]
     },
     "execution_count": 18,
     "metadata": {},
     "output_type": "execute_result"
    }
   ],
   "source": [
    "meta.tables"
   ]
  },
  {
   "cell_type": "code",
   "execution_count": 17,
   "metadata": {},
   "outputs": [],
   "source": [
    "meta.clear()"
   ]
  },
  {
   "cell_type": "code",
   "execution_count": 24,
   "metadata": {},
   "outputs": [
    {
     "name": "stdout",
     "output_type": "stream",
     "text": [
      "2024-03-08 09:37:45,207 INFO sqlalchemy.engine.Engine BEGIN (implicit)\n",
      "2024-03-08 09:37:45,208 INFO sqlalchemy.engine.Engine PRAGMA main.table_info(\"user\")\n",
      "2024-03-08 09:37:45,208 INFO sqlalchemy.engine.Engine [raw sql] ()\n",
      "2024-03-08 09:37:45,211 INFO sqlalchemy.engine.Engine PRAGMA temp.table_info(\"user\")\n",
      "2024-03-08 09:37:45,211 INFO sqlalchemy.engine.Engine [raw sql] ()\n",
      "2024-03-08 09:37:45,213 INFO sqlalchemy.engine.Engine \n",
      "CREATE TABLE user (\n",
      "\t\"PK\" INTEGER NOT NULL, \n",
      "\t\"NAME\" TEXT NOT NULL, \n",
      "\tPRIMARY KEY (\"PK\")\n",
      ")\n",
      "\n",
      "\n",
      "2024-03-08 09:37:45,218 INFO sqlalchemy.engine.Engine [no key 0.00056s] ()\n",
      "2024-03-08 09:37:45,223 INFO sqlalchemy.engine.Engine COMMIT\n"
     ]
    }
   ],
   "source": [
    "meta.create_all(engine)   #bind option 아직까지는 db랑 아무 연결이 없는 상황이다"
   ]
  },
  {
   "cell_type": "code",
   "execution_count": 28,
   "metadata": {},
   "outputs": [
    {
     "name": "stdout",
     "output_type": "stream",
     "text": [
      " C ����̺��� �������� �̸��� �����ϴ�.\n",
      " ���� �Ϸ� ��ȣ: 9E59-9DF1\n",
      "\n",
      " c:\\Users\\SAMSUNG\\Desktop\\SW_Korea\\data ���͸�\n",
      "\n",
      "2024-03-08  ���� 09:37             8,192 ordm.db\n",
      "2024-03-07  ���� 12:09            32,768 playlist.db\n",
      "2024-03-07  ���� 01:50            16,384 sns.db\n",
      "2024-03-06  ���� 12:02            20,480 test.db\n",
      "               4�� ����              77,824 ����Ʈ\n",
      "               0�� ���͸�  829,281,112,064 ����Ʈ ����\n"
     ]
    }
   ],
   "source": [
    "!dir *.db"
   ]
  },
  {
   "cell_type": "code",
   "execution_count": 31,
   "metadata": {},
   "outputs": [],
   "source": [
    "User = meta.tables['user']"
   ]
  },
  {
   "cell_type": "code",
   "execution_count": 32,
   "metadata": {},
   "outputs": [
    {
     "name": "stdout",
     "output_type": "stream",
     "text": [
      "SELECT \"user\".\"PK\", \"user\".\"NAME\" \n",
      "FROM \"user\"\n",
      "SELECT \"user\".\"PK\", \"user\".\"NAME\" \n",
      "FROM \"user\"\n"
     ]
    },
    {
     "data": {
      "text/plain": [
       "(None, None)"
      ]
     },
     "execution_count": 32,
     "metadata": {},
     "output_type": "execute_result"
    }
   ],
   "source": [
    "print(select(User)), print(User.select())"
   ]
  },
  {
   "cell_type": "code",
   "execution_count": 33,
   "metadata": {},
   "outputs": [
    {
     "name": "stdout",
     "output_type": "stream",
     "text": [
      "2024-03-08 09:43:29,758 INFO sqlalchemy.engine.Engine SELECT user.\"PK\", user.\"NAME\" \n",
      "FROM user\n",
      "2024-03-08 09:43:29,759 INFO sqlalchemy.engine.Engine [generated in 0.00107s] ()\n"
     ]
    }
   ],
   "source": [
    "rst = engine.execute(select(User)) #cursor result 가 된다"
   ]
  },
  {
   "cell_type": "code",
   "execution_count": 34,
   "metadata": {},
   "outputs": [
    {
     "data": {
      "text/plain": [
       "[]"
      ]
     },
     "execution_count": 34,
     "metadata": {},
     "output_type": "execute_result"
    }
   ],
   "source": [
    "rst.fetchall() #똑같이 불러오는 역할"
   ]
  },
  {
   "cell_type": "code",
   "execution_count": 35,
   "metadata": {},
   "outputs": [
    {
     "name": "stdout",
     "output_type": "stream",
     "text": [
      "INSERT INTO \"user\" (\"PK\", \"NAME\") VALUES (:PK, :NAME)\n",
      "INSERT INTO \"user\" (\"NAME\") VALUES (:NAME)\n",
      "{'NAME': '어쩌고'}\n"
     ]
    }
   ],
   "source": [
    "print(insert(User)) #해당 테이블에 해당하는 데이터 전체를 요구\n",
    "print(insert(User).values(NAME=\"어쩌고\"))   #해당 테이블에서 해당하는 attribute를 가진 데이터를 요구\n",
    "print(insert(User).values(NAME=\"어쩌고\").compile().params)  #넘어간 value와 type 및 attribute를 알 수 있다 (complie().params)"
   ]
  },
  {
   "cell_type": "code",
   "execution_count": 36,
   "metadata": {},
   "outputs": [
    {
     "name": "stdout",
     "output_type": "stream",
     "text": [
      "2024-03-08 09:43:33,504 INFO sqlalchemy.engine.Engine INSERT INTO user (\"NAME\") VALUES (?)\n",
      "2024-03-08 09:43:33,505 INFO sqlalchemy.engine.Engine [generated in 0.00096s] ('어쩌고',)\n",
      "2024-03-08 09:43:33,514 INFO sqlalchemy.engine.Engine COMMIT\n"
     ]
    },
    {
     "data": {
      "text/plain": [
       "<sqlalchemy.engine.cursor.LegacyCursorResult at 0x1de7cab27f0>"
      ]
     },
     "execution_count": 36,
     "metadata": {},
     "output_type": "execute_result"
    }
   ],
   "source": [
    "engine.execute(insert(User).values(NAME='어쩌고'))"
   ]
  },
  {
   "cell_type": "code",
   "execution_count": 38,
   "metadata": {},
   "outputs": [
    {
     "name": "stdout",
     "output_type": "stream",
     "text": [
      "2024-03-08 09:44:38,220 INFO sqlalchemy.engine.Engine SELECT user.\"PK\", user.\"NAME\" \n",
      "FROM user\n",
      "2024-03-08 09:44:38,223 INFO sqlalchemy.engine.Engine [cached since 68.47s ago] ()\n"
     ]
    }
   ],
   "source": [
    "userList = engine.execute(select(User)).fetchall()"
   ]
  },
  {
   "cell_type": "code",
   "execution_count": 39,
   "metadata": {},
   "outputs": [
    {
     "data": {
      "text/plain": [
       "(1, '어쩌고')"
      ]
     },
     "execution_count": 39,
     "metadata": {},
     "output_type": "execute_result"
    }
   ],
   "source": [
    "userList[0] #즉 아직은 python 코드 상에서 class로 저장되어 들어가있는 것임 / 여기서 1은 pk, 어쩌고가 value"
   ]
  },
  {
   "cell_type": "code",
   "execution_count": 40,
   "metadata": {},
   "outputs": [
    {
     "name": "stdout",
     "output_type": "stream",
     "text": [
      "2024-03-08 09:47:24,603 INFO sqlalchemy.engine.Engine INSERT INTO user (\"NAME\") VALUES (?)\n",
      "2024-03-08 09:47:24,605 INFO sqlalchemy.engine.Engine [cached since 231.1s ago] ('사람1',)\n",
      "2024-03-08 09:47:24,613 INFO sqlalchemy.engine.Engine COMMIT\n",
      "2024-03-08 09:47:24,619 INFO sqlalchemy.engine.Engine INSERT INTO user (\"NAME\") VALUES (?)\n",
      "2024-03-08 09:47:24,621 INFO sqlalchemy.engine.Engine [cached since 231.1s ago] ('사람2',)\n",
      "2024-03-08 09:47:24,625 INFO sqlalchemy.engine.Engine COMMIT\n",
      "2024-03-08 09:47:24,631 INFO sqlalchemy.engine.Engine INSERT INTO user (\"NAME\") VALUES (?)\n",
      "2024-03-08 09:47:24,631 INFO sqlalchemy.engine.Engine [cached since 231.1s ago] ('사람3',)\n",
      "2024-03-08 09:47:24,633 INFO sqlalchemy.engine.Engine COMMIT\n"
     ]
    }
   ],
   "source": [
    "for person in ['사람1', '사람2', '사람3']:\n",
    "    engine.execute(User.insert().values(NAME=person))"
   ]
  },
  {
   "cell_type": "code",
   "execution_count": null,
   "metadata": {},
   "outputs": [],
   "source": [
    "meta.tables['user'].c   #column 확인 가능\n",
    "meta.tables['user'].columns.PK  #PK구조 확인 및 객체 확인\n",
    "meta.tables['user'].c['PK'] == 1 #비교 연산 가능 이때, ==1 전까지가 PK에 관한 값 의미"
   ]
  },
  {
   "cell_type": "code",
   "execution_count": 41,
   "metadata": {},
   "outputs": [],
   "source": [
    "from sqlalchemy.sql import or_, and_"
   ]
  },
  {
   "cell_type": "code",
   "execution_count": 42,
   "metadata": {},
   "outputs": [
    {
     "name": "stdout",
     "output_type": "stream",
     "text": [
      "\"user\".\"PK\" = :PK_1\n"
     ]
    }
   ],
   "source": [
    "print(User.columns.PK == 2 or User.columns.PK == 3) #조건문에 or, and 둘 다 가능하다"
   ]
  },
  {
   "cell_type": "code",
   "execution_count": 46,
   "metadata": {},
   "outputs": [
    {
     "name": "stdout",
     "output_type": "stream",
     "text": [
      "SELECT \"user\".\"PK\", \"user\".\"NAME\" \n",
      "FROM \"user\" \n",
      "WHERE \"user\".\"PK\" = :PK_1\n",
      "{'PK_1': 1}\n"
     ]
    }
   ],
   "source": [
    "print(select(User).where(User.c['PK'] == 1))\n",
    "print(select(User).where(User.c['PK'] == 1).compile().params)"
   ]
  },
  {
   "cell_type": "code",
   "execution_count": 49,
   "metadata": {},
   "outputs": [
    {
     "name": "stdout",
     "output_type": "stream",
     "text": [
      "2024-03-08 09:54:18,932 INFO sqlalchemy.engine.Engine SELECT user.\"PK\", user.\"NAME\" \n",
      "FROM user \n",
      "WHERE user.\"PK\" = ?\n",
      "2024-03-08 09:54:18,938 INFO sqlalchemy.engine.Engine [cached since 72.07s ago] (1,)\n",
      "2024-03-08 09:54:18,940 INFO sqlalchemy.engine.Engine SELECT user.\"PK\", user.\"NAME\" \n",
      "FROM user \n",
      "WHERE user.\"PK\" = ? OR user.\"PK\" = ?\n",
      "2024-03-08 09:54:18,942 INFO sqlalchemy.engine.Engine [generated in 0.00100s] (1, 2)\n"
     ]
    },
    {
     "data": {
      "text/plain": [
       "[(1, '어쩌고'), (2, '사람1')]"
      ]
     },
     "execution_count": 49,
     "metadata": {},
     "output_type": "execute_result"
    }
   ],
   "source": [
    "engine.execute(User.select().where(User.c['PK'] == 1)).fetchall()\n",
    "engine.execute(User.select().where(or_(User.c['PK'] == 1, User.c['PK'] == 2))).fetchall()\n"
   ]
  },
  {
   "cell_type": "code",
   "execution_count": 51,
   "metadata": {},
   "outputs": [
    {
     "ename": "AttributeError",
     "evalue": "'Select' object has no attribute 'fetchall'",
     "output_type": "error",
     "traceback": [
      "\u001b[1;31m---------------------------------------------------------------------------\u001b[0m",
      "\u001b[1;31mAttributeError\u001b[0m                            Traceback (most recent call last)",
      "Cell \u001b[1;32mIn[51], line 1\u001b[0m\n\u001b[1;32m----> 1\u001b[0m \u001b[38;5;28mprint\u001b[39m(\u001b[43mUser\u001b[49m\u001b[38;5;241;43m.\u001b[39;49m\u001b[43mselect\u001b[49m\u001b[43m(\u001b[49m\u001b[43m)\u001b[49m\u001b[38;5;241;43m.\u001b[39;49m\u001b[43morder_by\u001b[49m\u001b[43m(\u001b[49m\u001b[43mUser\u001b[49m\u001b[38;5;241;43m.\u001b[39;49m\u001b[43mc\u001b[49m\u001b[43m[\u001b[49m\u001b[38;5;124;43m'\u001b[39;49m\u001b[38;5;124;43mPK\u001b[39;49m\u001b[38;5;124;43m'\u001b[39;49m\u001b[43m]\u001b[49m\u001b[43m)\u001b[49m\u001b[38;5;241;43m.\u001b[39;49m\u001b[43mfetchall\u001b[49m()) \u001b[38;5;66;03m#누구를 기준으로 할 것인지\u001b[39;00m\n",
      "\u001b[1;31mAttributeError\u001b[0m: 'Select' object has no attribute 'fetchall'"
     ]
    }
   ],
   "source": [
    "print(User.select().order_by(User.c['PK'])) #누구를 기준으로 할 것인지"
   ]
  },
  {
   "cell_type": "code",
   "execution_count": 52,
   "metadata": {},
   "outputs": [],
   "source": [
    "#Table 날리기\n",
    "meta.clear() #객체를 지우는거\n",
    "# meta.drop_all() #물리적 데이터 전체 지우기"
   ]
  },
  {
   "cell_type": "code",
   "execution_count": 53,
   "metadata": {},
   "outputs": [
    {
     "name": "stdout",
     "output_type": "stream",
     "text": [
      "2024-03-08 09:56:50,087 INFO sqlalchemy.engine.Engine SELECT name FROM sqlite_master WHERE type='table' ORDER BY name\n",
      "2024-03-08 09:56:50,092 INFO sqlalchemy.engine.Engine [raw sql] ()\n",
      "2024-03-08 09:56:50,095 INFO sqlalchemy.engine.Engine PRAGMA main.table_xinfo(\"user\")\n",
      "2024-03-08 09:56:50,096 INFO sqlalchemy.engine.Engine [raw sql] ()\n",
      "2024-03-08 09:56:50,099 INFO sqlalchemy.engine.Engine SELECT sql FROM  (SELECT * FROM sqlite_master UNION ALL   SELECT * FROM sqlite_temp_master) WHERE name = ? AND type = 'table'\n",
      "2024-03-08 09:56:50,100 INFO sqlalchemy.engine.Engine [raw sql] ('user',)\n",
      "2024-03-08 09:56:50,101 INFO sqlalchemy.engine.Engine PRAGMA main.foreign_key_list(\"user\")\n",
      "2024-03-08 09:56:50,102 INFO sqlalchemy.engine.Engine [raw sql] ()\n",
      "2024-03-08 09:56:50,102 INFO sqlalchemy.engine.Engine PRAGMA temp.foreign_key_list(\"user\")\n",
      "2024-03-08 09:56:50,102 INFO sqlalchemy.engine.Engine [raw sql] ()\n",
      "2024-03-08 09:56:50,102 INFO sqlalchemy.engine.Engine SELECT sql FROM  (SELECT * FROM sqlite_master UNION ALL   SELECT * FROM sqlite_temp_master) WHERE name = ? AND type = 'table'\n",
      "2024-03-08 09:56:50,102 INFO sqlalchemy.engine.Engine [raw sql] ('user',)\n",
      "2024-03-08 09:56:50,108 INFO sqlalchemy.engine.Engine PRAGMA main.index_list(\"user\")\n",
      "2024-03-08 09:56:50,108 INFO sqlalchemy.engine.Engine [raw sql] ()\n",
      "2024-03-08 09:56:50,108 INFO sqlalchemy.engine.Engine PRAGMA temp.index_list(\"user\")\n",
      "2024-03-08 09:56:50,108 INFO sqlalchemy.engine.Engine [raw sql] ()\n",
      "2024-03-08 09:56:50,108 INFO sqlalchemy.engine.Engine PRAGMA main.index_list(\"user\")\n",
      "2024-03-08 09:56:50,108 INFO sqlalchemy.engine.Engine [raw sql] ()\n",
      "2024-03-08 09:56:50,108 INFO sqlalchemy.engine.Engine PRAGMA temp.index_list(\"user\")\n",
      "2024-03-08 09:56:50,108 INFO sqlalchemy.engine.Engine [raw sql] ()\n",
      "2024-03-08 09:56:50,116 INFO sqlalchemy.engine.Engine SELECT sql FROM  (SELECT * FROM sqlite_master UNION ALL   SELECT * FROM sqlite_temp_master) WHERE name = ? AND type = 'table'\n",
      "2024-03-08 09:56:50,116 INFO sqlalchemy.engine.Engine [raw sql] ('user',)\n"
     ]
    }
   ],
   "source": [
    "meta.reflect(engine)  #물리적인 db에 있는 것을 코드상에서 쓸 수 있게끔 복사해오는 것을 의미함"
   ]
  },
  {
   "cell_type": "code",
   "execution_count": 55,
   "metadata": {},
   "outputs": [
    {
     "name": "stdout",
     "output_type": "stream",
     "text": [
      "SELECT \"user\".\"PK\", \"user\".\"NAME\" \n",
      "FROM \"user\"\n"
     ]
    }
   ],
   "source": [
    "print(meta.tables['user'].select())"
   ]
  },
  {
   "cell_type": "code",
   "execution_count": 56,
   "metadata": {},
   "outputs": [
    {
     "data": {
      "text/plain": [
       "Table('Info', MetaData(), Column('PK', Integer(), table=<Info>, primary_key=True, nullable=False), Column('EMAIL', Text(), table=<Info>, nullable=False), schema=None)"
      ]
     },
     "execution_count": 56,
     "metadata": {},
     "output_type": "execute_result"
    }
   ],
   "source": [
    "Table('Info', meta, Column('PK', Integer, primary_key=True), Column('EMAIL', Text, nullable=False))"
   ]
  },
  {
   "cell_type": "code",
   "execution_count": null,
   "metadata": {},
   "outputs": [],
   "source": [
    "# Meta            ORM         RDBMS\n",
    "\n",
    "# User(table 객체)\n",
    "# Info(table 객체)\n",
    "\n",
    "#                 ----> (생성하라고 알려줘야함)"
   ]
  },
  {
   "cell_type": "code",
   "execution_count": 57,
   "metadata": {},
   "outputs": [
    {
     "name": "stdout",
     "output_type": "stream",
     "text": [
      "2024-03-08 10:00:23,892 INFO sqlalchemy.engine.Engine BEGIN (implicit)\n",
      "2024-03-08 10:00:23,892 INFO sqlalchemy.engine.Engine PRAGMA main.table_info(\"Info\")\n",
      "2024-03-08 10:00:23,899 INFO sqlalchemy.engine.Engine [raw sql] ()\n",
      "2024-03-08 10:00:23,901 INFO sqlalchemy.engine.Engine PRAGMA temp.table_info(\"Info\")\n",
      "2024-03-08 10:00:23,901 INFO sqlalchemy.engine.Engine [raw sql] ()\n",
      "2024-03-08 10:00:23,904 INFO sqlalchemy.engine.Engine \n",
      "CREATE TABLE \"Info\" (\n",
      "\t\"PK\" INTEGER NOT NULL, \n",
      "\t\"EMAIL\" TEXT NOT NULL, \n",
      "\tPRIMARY KEY (\"PK\")\n",
      ")\n",
      "\n",
      "\n",
      "2024-03-08 10:00:23,906 INFO sqlalchemy.engine.Engine [no key 0.00120s] ()\n",
      "2024-03-08 10:00:23,908 INFO sqlalchemy.engine.Engine COMMIT\n"
     ]
    }
   ],
   "source": [
    "meta.create_all(engine, [meta.tables['Info']])"
   ]
  },
  {
   "cell_type": "code",
   "execution_count": null,
   "metadata": {},
   "outputs": [],
   "source": [
    "# Meta            ORM         RDBMS\n",
    "\n",
    "# User(table 객체)\n",
    "# Info(table 객체)\n",
    "\n",
    "#                 ---->       Info (존재)"
   ]
  },
  {
   "cell_type": "code",
   "execution_count": 58,
   "metadata": {},
   "outputs": [],
   "source": [
    "from sqlalchemy.schema import ForeignKey"
   ]
  },
  {
   "cell_type": "code",
   "execution_count": 59,
   "metadata": {},
   "outputs": [
    {
     "data": {
      "text/plain": [
       "Table('Info3', MetaData(), Column('PK', Integer(), table=<Info3>, primary_key=True, nullable=False), Column('FK', Text(), ForeignKey('user.PK'), table=<Info3>), schema=None)"
      ]
     },
     "execution_count": 59,
     "metadata": {},
     "output_type": "execute_result"
    }
   ],
   "source": [
    "Table('Info2', meta, Column('PK', Integer, primary_key=True), Column('NAME', Text), Column('FK', Text, nullable=False))\n",
    "Table('Info3', meta, Column('PK', Integer, primary_key=True), Column('FK', Text, ForeignKey(meta.tables['user'].c['PK'])))"
   ]
  },
  {
   "cell_type": "code",
   "execution_count": 60,
   "metadata": {},
   "outputs": [
    {
     "data": {
      "text/plain": [
       "dict_keys(['user', 'Info', 'Info2', 'Info3'])"
      ]
     },
     "execution_count": 60,
     "metadata": {},
     "output_type": "execute_result"
    }
   ],
   "source": [
    "meta.tables.keys()"
   ]
  },
  {
   "cell_type": "code",
   "execution_count": 61,
   "metadata": {},
   "outputs": [
    {
     "name": "stdout",
     "output_type": "stream",
     "text": [
      "2024-03-08 10:05:25,217 INFO sqlalchemy.engine.Engine BEGIN (implicit)\n",
      "2024-03-08 10:05:25,218 INFO sqlalchemy.engine.Engine PRAGMA main.table_info(\"user\")\n",
      "2024-03-08 10:05:25,219 INFO sqlalchemy.engine.Engine [raw sql] ()\n",
      "2024-03-08 10:05:25,221 INFO sqlalchemy.engine.Engine PRAGMA main.table_info(\"Info\")\n",
      "2024-03-08 10:05:25,222 INFO sqlalchemy.engine.Engine [raw sql] ()\n",
      "2024-03-08 10:05:25,224 INFO sqlalchemy.engine.Engine PRAGMA main.table_info(\"Info2\")\n",
      "2024-03-08 10:05:25,225 INFO sqlalchemy.engine.Engine [raw sql] ()\n",
      "2024-03-08 10:05:25,227 INFO sqlalchemy.engine.Engine PRAGMA temp.table_info(\"Info2\")\n",
      "2024-03-08 10:05:25,228 INFO sqlalchemy.engine.Engine [raw sql] ()\n",
      "2024-03-08 10:05:25,229 INFO sqlalchemy.engine.Engine PRAGMA main.table_info(\"Info3\")\n",
      "2024-03-08 10:05:25,229 INFO sqlalchemy.engine.Engine [raw sql] ()\n",
      "2024-03-08 10:05:25,231 INFO sqlalchemy.engine.Engine PRAGMA temp.table_info(\"Info3\")\n",
      "2024-03-08 10:05:25,233 INFO sqlalchemy.engine.Engine [raw sql] ()\n",
      "2024-03-08 10:05:25,234 INFO sqlalchemy.engine.Engine \n",
      "CREATE TABLE \"Info2\" (\n",
      "\t\"PK\" INTEGER NOT NULL, \n",
      "\t\"NAME\" TEXT, \n",
      "\t\"FK\" TEXT NOT NULL, \n",
      "\tPRIMARY KEY (\"PK\")\n",
      ")\n",
      "\n",
      "\n",
      "2024-03-08 10:05:25,234 INFO sqlalchemy.engine.Engine [no key 0.00056s] ()\n",
      "2024-03-08 10:05:25,234 INFO sqlalchemy.engine.Engine \n",
      "CREATE TABLE \"Info3\" (\n",
      "\t\"PK\" INTEGER NOT NULL, \n",
      "\t\"FK\" TEXT, \n",
      "\tPRIMARY KEY (\"PK\"), \n",
      "\tFOREIGN KEY(\"FK\") REFERENCES user (\"PK\")\n",
      ")\n",
      "\n",
      "\n",
      "2024-03-08 10:05:25,234 INFO sqlalchemy.engine.Engine [no key 0.00112s] ()\n",
      "2024-03-08 10:05:25,245 INFO sqlalchemy.engine.Engine COMMIT\n"
     ]
    }
   ],
   "source": [
    "meta.create_all(engine)"
   ]
  },
  {
   "cell_type": "code",
   "execution_count": 62,
   "metadata": {},
   "outputs": [
    {
     "name": "stdout",
     "output_type": "stream",
     "text": [
      "2024-03-08 10:06:02,078 INFO sqlalchemy.engine.Engine SELECT user.\"PK\", user.\"NAME\" \n",
      "FROM user\n",
      "2024-03-08 10:06:02,080 INFO sqlalchemy.engine.Engine [cached since 1352s ago] ()\n"
     ]
    },
    {
     "data": {
      "text/plain": [
       "[(1, '어쩌고'), (2, '사람1'), (3, '사람2'), (4, '사람3')]"
      ]
     },
     "execution_count": 62,
     "metadata": {},
     "output_type": "execute_result"
    }
   ],
   "source": [
    "engine.execute(User.select()).fetchall()"
   ]
  },
  {
   "cell_type": "code",
   "execution_count": 63,
   "metadata": {},
   "outputs": [
    {
     "data": {
      "text/plain": [
       "<sqlalchemy.sql.dml.Insert object at 0x000001DE7CAA42B0>"
      ]
     },
     "execution_count": 63,
     "metadata": {},
     "output_type": "execute_result"
    }
   ],
   "source": [
    "meta.tables['Info2'].insert().values(NAME='어쩌고 정보', FK=1)\n"
   ]
  },
  {
   "cell_type": "code",
   "execution_count": 64,
   "metadata": {},
   "outputs": [
    {
     "data": {
      "text/plain": [
       "<sqlalchemy.sql.dml.Insert object at 0x000001DE7CAA41F0>"
      ]
     },
     "execution_count": 64,
     "metadata": {},
     "output_type": "execute_result"
    }
   ],
   "source": [
    "meta.tables['Info3'].insert().values(NAME='어쩌고 정보', 라=1)"
   ]
  },
  {
   "cell_type": "code",
   "execution_count": 65,
   "metadata": {},
   "outputs": [
    {
     "name": "stdout",
     "output_type": "stream",
     "text": [
      "2024-03-08 10:07:57,206 INFO sqlalchemy.engine.Engine INSERT INTO \"Info2\" (\"NAME\", \"FK\") VALUES (?, ?)\n",
      "2024-03-08 10:07:57,207 INFO sqlalchemy.engine.Engine [generated in 0.00126s] ('어쩌고 정보', 1)\n",
      "2024-03-08 10:07:57,216 INFO sqlalchemy.engine.Engine COMMIT\n"
     ]
    },
    {
     "data": {
      "text/plain": [
       "<sqlalchemy.engine.cursor.LegacyCursorResult at 0x1de7cb957f0>"
      ]
     },
     "execution_count": 65,
     "metadata": {},
     "output_type": "execute_result"
    }
   ],
   "source": [
    "engine.execute(meta.tables['Info2'].insert().values(NAME='어쩌고 정보', FK=1))"
   ]
  },
  {
   "cell_type": "code",
   "execution_count": 70,
   "metadata": {},
   "outputs": [
    {
     "name": "stdout",
     "output_type": "stream",
     "text": [
      "2024-03-08 10:08:59,796 INFO sqlalchemy.engine.Engine INSERT INTO \"Info3\" (\"FK\") VALUES (?)\n",
      "2024-03-08 10:08:59,797 INFO sqlalchemy.engine.Engine [generated in 0.00106s] (1,)\n",
      "2024-03-08 10:08:59,807 INFO sqlalchemy.engine.Engine COMMIT\n"
     ]
    },
    {
     "data": {
      "text/plain": [
       "<sqlalchemy.engine.cursor.LegacyCursorResult at 0x1de7dd4afd0>"
      ]
     },
     "execution_count": 70,
     "metadata": {},
     "output_type": "execute_result"
    }
   ],
   "source": [
    "engine.execute(meta.tables['Info3'].insert().values( FK=1))"
   ]
  },
  {
   "cell_type": "code",
   "execution_count": 69,
   "metadata": {},
   "outputs": [],
   "source": [
    "from sqlalchemy.sql import join"
   ]
  },
  {
   "cell_type": "code",
   "execution_count": 71,
   "metadata": {},
   "outputs": [
    {
     "ename": "NoForeignKeysError",
     "evalue": "Can't find any foreign key relationships between 'user' and 'Info2'.",
     "output_type": "error",
     "traceback": [
      "\u001b[1;31m---------------------------------------------------------------------------\u001b[0m",
      "\u001b[1;31mNoForeignKeysError\u001b[0m                        Traceback (most recent call last)",
      "Cell \u001b[1;32mIn[71], line 1\u001b[0m\n\u001b[1;32m----> 1\u001b[0m \u001b[38;5;28mprint\u001b[39m(\u001b[43mjoin\u001b[49m\u001b[43m(\u001b[49m\u001b[43mUser\u001b[49m\u001b[43m,\u001b[49m\u001b[43m \u001b[49m\u001b[43mmeta\u001b[49m\u001b[38;5;241;43m.\u001b[39;49m\u001b[43mtables\u001b[49m\u001b[43m[\u001b[49m\u001b[38;5;124;43m'\u001b[39;49m\u001b[38;5;124;43mInfo2\u001b[39;49m\u001b[38;5;124;43m'\u001b[39;49m\u001b[43m]\u001b[49m\u001b[43m)\u001b[49m)\n",
      "File \u001b[1;32m<string>:2\u001b[0m, in \u001b[0;36mjoin\u001b[1;34m(left, right, onclause, isouter, full)\u001b[0m\n",
      "File \u001b[1;32mc:\\Users\\SAMSUNG\\anaconda3\\envs\\KoreaUniv\\lib\\site-packages\\sqlalchemy\\sql\\selectable.py:1099\u001b[0m, in \u001b[0;36mJoin._create_join\u001b[1;34m(cls, left, right, onclause, isouter, full)\u001b[0m\n\u001b[0;32m   1047\u001b[0m \u001b[38;5;129m@classmethod\u001b[39m\n\u001b[0;32m   1048\u001b[0m \u001b[38;5;28;01mdef\u001b[39;00m \u001b[38;5;21m_create_join\u001b[39m(\n\u001b[0;32m   1049\u001b[0m     \u001b[38;5;28mcls\u001b[39m, left, right, onclause\u001b[38;5;241m=\u001b[39m\u001b[38;5;28;01mNone\u001b[39;00m, isouter\u001b[38;5;241m=\u001b[39m\u001b[38;5;28;01mFalse\u001b[39;00m, full\u001b[38;5;241m=\u001b[39m\u001b[38;5;28;01mFalse\u001b[39;00m\n\u001b[0;32m   1050\u001b[0m ):\n\u001b[0;32m   1051\u001b[0m \u001b[38;5;250m    \u001b[39m\u001b[38;5;124;03m\"\"\"Produce a :class:`_expression.Join` object, given two\u001b[39;00m\n\u001b[0;32m   1052\u001b[0m \u001b[38;5;124;03m    :class:`_expression.FromClause`\u001b[39;00m\n\u001b[0;32m   1053\u001b[0m \u001b[38;5;124;03m    expressions.\u001b[39;00m\n\u001b[1;32m   (...)\u001b[0m\n\u001b[0;32m   1096\u001b[0m \n\u001b[0;32m   1097\u001b[0m \u001b[38;5;124;03m    \"\"\"\u001b[39;00m\n\u001b[1;32m-> 1099\u001b[0m     \u001b[38;5;28;01mreturn\u001b[39;00m \u001b[38;5;28;43mcls\u001b[39;49m\u001b[43m(\u001b[49m\u001b[43mleft\u001b[49m\u001b[43m,\u001b[49m\u001b[43m \u001b[49m\u001b[43mright\u001b[49m\u001b[43m,\u001b[49m\u001b[43m \u001b[49m\u001b[43monclause\u001b[49m\u001b[43m,\u001b[49m\u001b[43m \u001b[49m\u001b[43misouter\u001b[49m\u001b[43m,\u001b[49m\u001b[43m \u001b[49m\u001b[43mfull\u001b[49m\u001b[43m)\u001b[49m\n",
      "File \u001b[1;32mc:\\Users\\SAMSUNG\\anaconda3\\envs\\KoreaUniv\\lib\\site-packages\\sqlalchemy\\sql\\selectable.py:1010\u001b[0m, in \u001b[0;36mJoin.__init__\u001b[1;34m(self, left, right, onclause, isouter, full)\u001b[0m\n\u001b[0;32m   1005\u001b[0m \u001b[38;5;28mself\u001b[39m\u001b[38;5;241m.\u001b[39mright \u001b[38;5;241m=\u001b[39m coercions\u001b[38;5;241m.\u001b[39mexpect(\n\u001b[0;32m   1006\u001b[0m     roles\u001b[38;5;241m.\u001b[39mFromClauseRole, right, deannotate\u001b[38;5;241m=\u001b[39m\u001b[38;5;28;01mTrue\u001b[39;00m\n\u001b[0;32m   1007\u001b[0m )\u001b[38;5;241m.\u001b[39mself_group()\n\u001b[0;32m   1009\u001b[0m \u001b[38;5;28;01mif\u001b[39;00m onclause \u001b[38;5;129;01mis\u001b[39;00m \u001b[38;5;28;01mNone\u001b[39;00m:\n\u001b[1;32m-> 1010\u001b[0m     \u001b[38;5;28mself\u001b[39m\u001b[38;5;241m.\u001b[39monclause \u001b[38;5;241m=\u001b[39m \u001b[38;5;28;43mself\u001b[39;49m\u001b[38;5;241;43m.\u001b[39;49m\u001b[43m_match_primaries\u001b[49m\u001b[43m(\u001b[49m\u001b[38;5;28;43mself\u001b[39;49m\u001b[38;5;241;43m.\u001b[39;49m\u001b[43mleft\u001b[49m\u001b[43m,\u001b[49m\u001b[43m \u001b[49m\u001b[38;5;28;43mself\u001b[39;49m\u001b[38;5;241;43m.\u001b[39;49m\u001b[43mright\u001b[49m\u001b[43m)\u001b[49m\n\u001b[0;32m   1011\u001b[0m \u001b[38;5;28;01melse\u001b[39;00m:\n\u001b[0;32m   1012\u001b[0m     \u001b[38;5;66;03m# note: taken from If91f61527236fd4d7ae3cad1f24c38be921c90ba\u001b[39;00m\n\u001b[0;32m   1013\u001b[0m     \u001b[38;5;66;03m# not merged yet\u001b[39;00m\n\u001b[0;32m   1014\u001b[0m     \u001b[38;5;28mself\u001b[39m\u001b[38;5;241m.\u001b[39monclause \u001b[38;5;241m=\u001b[39m coercions\u001b[38;5;241m.\u001b[39mexpect(\n\u001b[0;32m   1015\u001b[0m         roles\u001b[38;5;241m.\u001b[39mOnClauseRole, onclause\n\u001b[0;32m   1016\u001b[0m     )\u001b[38;5;241m.\u001b[39mself_group(against\u001b[38;5;241m=\u001b[39moperators\u001b[38;5;241m.\u001b[39m_asbool)\n",
      "File \u001b[1;32mc:\\Users\\SAMSUNG\\anaconda3\\envs\\KoreaUniv\\lib\\site-packages\\sqlalchemy\\sql\\selectable.py:1184\u001b[0m, in \u001b[0;36mJoin._match_primaries\u001b[1;34m(self, left, right)\u001b[0m\n\u001b[0;32m   1182\u001b[0m \u001b[38;5;28;01melse\u001b[39;00m:\n\u001b[0;32m   1183\u001b[0m     left_right \u001b[38;5;241m=\u001b[39m \u001b[38;5;28;01mNone\u001b[39;00m\n\u001b[1;32m-> 1184\u001b[0m \u001b[38;5;28;01mreturn\u001b[39;00m \u001b[38;5;28;43mself\u001b[39;49m\u001b[38;5;241;43m.\u001b[39;49m\u001b[43m_join_condition\u001b[49m\u001b[43m(\u001b[49m\u001b[43mleft\u001b[49m\u001b[43m,\u001b[49m\u001b[43m \u001b[49m\u001b[43mright\u001b[49m\u001b[43m,\u001b[49m\u001b[43m \u001b[49m\u001b[43ma_subset\u001b[49m\u001b[38;5;241;43m=\u001b[39;49m\u001b[43mleft_right\u001b[49m\u001b[43m)\u001b[49m\n",
      "File \u001b[1;32mc:\\Users\\SAMSUNG\\anaconda3\\envs\\KoreaUniv\\lib\\site-packages\\sqlalchemy\\sql\\selectable.py:1229\u001b[0m, in \u001b[0;36mJoin._join_condition\u001b[1;34m(cls, a, b, a_subset, consider_as_foreign_keys)\u001b[0m\n\u001b[0;32m   1227\u001b[0m     \u001b[38;5;28;01melse\u001b[39;00m:\n\u001b[0;32m   1228\u001b[0m         hint \u001b[38;5;241m=\u001b[39m \u001b[38;5;124m\"\u001b[39m\u001b[38;5;124m\"\u001b[39m\n\u001b[1;32m-> 1229\u001b[0m     \u001b[38;5;28;01mraise\u001b[39;00m exc\u001b[38;5;241m.\u001b[39mNoForeignKeysError(\n\u001b[0;32m   1230\u001b[0m         \u001b[38;5;124m\"\u001b[39m\u001b[38;5;124mCan\u001b[39m\u001b[38;5;124m'\u001b[39m\u001b[38;5;124mt find any foreign key relationships \u001b[39m\u001b[38;5;124m\"\u001b[39m\n\u001b[0;32m   1231\u001b[0m         \u001b[38;5;124m\"\u001b[39m\u001b[38;5;124mbetween \u001b[39m\u001b[38;5;124m'\u001b[39m\u001b[38;5;132;01m%s\u001b[39;00m\u001b[38;5;124m'\u001b[39m\u001b[38;5;124m and \u001b[39m\u001b[38;5;124m'\u001b[39m\u001b[38;5;132;01m%s\u001b[39;00m\u001b[38;5;124m'\u001b[39m\u001b[38;5;124m.\u001b[39m\u001b[38;5;132;01m%s\u001b[39;00m\u001b[38;5;124m\"\u001b[39m\n\u001b[0;32m   1232\u001b[0m         \u001b[38;5;241m%\u001b[39m (a\u001b[38;5;241m.\u001b[39mdescription, b\u001b[38;5;241m.\u001b[39mdescription, hint)\n\u001b[0;32m   1233\u001b[0m     )\n\u001b[0;32m   1235\u001b[0m crit \u001b[38;5;241m=\u001b[39m [(x \u001b[38;5;241m==\u001b[39m y) \u001b[38;5;28;01mfor\u001b[39;00m x, y \u001b[38;5;129;01min\u001b[39;00m \u001b[38;5;28mlist\u001b[39m(constraints\u001b[38;5;241m.\u001b[39mvalues())[\u001b[38;5;241m0\u001b[39m]]\n\u001b[0;32m   1236\u001b[0m \u001b[38;5;28;01mif\u001b[39;00m \u001b[38;5;28mlen\u001b[39m(crit) \u001b[38;5;241m==\u001b[39m \u001b[38;5;241m1\u001b[39m:\n",
      "\u001b[1;31mNoForeignKeysError\u001b[0m: Can't find any foreign key relationships between 'user' and 'Info2'."
     ]
    }
   ],
   "source": [
    "print(join(meta.tables['user'], meta.tables['Info2'])) #에러가 남 왜? ForeginKey로 bind 하지 않아서"
   ]
  },
  {
   "cell_type": "code",
   "execution_count": 72,
   "metadata": {},
   "outputs": [
    {
     "name": "stdout",
     "output_type": "stream",
     "text": [
      "\"user\" JOIN \"Info3\" ON \"user\".\"PK\" = \"Info3\".\"FK\"\n"
     ]
    }
   ],
   "source": [
    "print(join(meta.tables['user'], meta.tables['Info3']))"
   ]
  },
  {
   "cell_type": "code",
   "execution_count": 73,
   "metadata": {},
   "outputs": [
    {
     "name": "stdout",
     "output_type": "stream",
     "text": [
      "\"user\" JOIN \"Info2\" ON \"user\".\"PK\" = \"Info2\".\"FK\"\n"
     ]
    }
   ],
   "source": [
    "#on 절 만들기\n",
    "print(join(meta.tables['user'], meta.tables['Info2'], meta.tables['user'].c['PK']==meta.tables['Info2'].c['FK']))\n",
    "#세번째 argument가 그러면 ON절이 되는건가? YES"
   ]
  },
  {
   "cell_type": "code",
   "execution_count": 74,
   "metadata": {},
   "outputs": [],
   "source": [
    "User = meta.tables['user']\n",
    "Info2 = meta.tables['Info2']\n",
    "Info3 = meta.tables['Info3']"
   ]
  },
  {
   "cell_type": "code",
   "execution_count": 75,
   "metadata": {},
   "outputs": [
    {
     "name": "stdout",
     "output_type": "stream",
     "text": [
      "SELECT \"user\".\"PK\", \"Info2\".\"NAME\" \n",
      "FROM \"user\" JOIN \"Info2\" ON \"user\".\"PK\" = \"Info2\".\"FK\"\n"
     ]
    }
   ],
   "source": [
    "print(select([User.c.PK, Info2.c.NAME]).select_from(\n",
    "    join(User, Info2, User.c.PK==Info2.c.FK)\n",
    "))"
   ]
  },
  {
   "cell_type": "code",
   "execution_count": 77,
   "metadata": {},
   "outputs": [
    {
     "name": "stdout",
     "output_type": "stream",
     "text": [
      "SELECT \"user\".\"PK\", \"Info3\".\"FK\" \n",
      "FROM \"user\" JOIN \"Info3\" ON \"user\".\"PK\" = \"Info3\".\"FK\"\n"
     ]
    }
   ],
   "source": [
    "print(select([User.c.PK, Info3.c.FK]).select_from(\n",
    "    join(User, Info3)\n",
    "))\n",
    "\n",
    "#ForeginKey가 있는 애는 On절이 필요가 없다 따라서 더 편함"
   ]
  },
  {
   "cell_type": "code",
   "execution_count": 79,
   "metadata": {},
   "outputs": [
    {
     "name": "stdout",
     "output_type": "stream",
     "text": [
      "2024-03-08 10:15:50,902 INFO sqlalchemy.engine.Engine SELECT user.\"PK\", \"Info2\".\"NAME\" \n",
      "FROM user JOIN \"Info2\" ON user.\"PK\" = \"Info2\".\"FK\"\n",
      "2024-03-08 10:15:50,903 INFO sqlalchemy.engine.Engine [cached since 43.02s ago] ()\n",
      "2024-03-08 10:15:50,907 INFO sqlalchemy.engine.Engine SELECT user.\"PK\", \"Info3\".\"FK\" \n",
      "FROM user JOIN \"Info3\" ON user.\"PK\" = \"Info3\".\"FK\"\n",
      "2024-03-08 10:15:50,908 INFO sqlalchemy.engine.Engine [generated in 0.00104s] ()\n"
     ]
    },
    {
     "data": {
      "text/plain": [
       "<sqlalchemy.engine.cursor.LegacyCursorResult at 0x1de7e1d2a90>"
      ]
     },
     "execution_count": 79,
     "metadata": {},
     "output_type": "execute_result"
    }
   ],
   "source": [
    "engine.execute(select([User.c.PK, Info2.c.NAME]).select_from(\n",
    "    join(User, Info2, User.c.PK==Info2.c.FK)\n",
    "))\n",
    "\n",
    "engine.execute(select([User.c.PK, Info3.c.FK]).select_from(\n",
    "    join(User, Info3)\n",
    "))\n",
    "\n",
    "#SQL문을 보는 것에 의의를 두자 / 현재는 SQL문을 우리가 직접 작성하지 않으므로 더 편한 것이고 python 코드 상으로 사용할 수 있음이 좋은 것이다"
   ]
  },
  {
   "cell_type": "code",
   "execution_count": 86,
   "metadata": {},
   "outputs": [],
   "source": [
    "engine = create_engine('sqlite:///playlist.db', echo=True)"
   ]
  },
  {
   "cell_type": "code",
   "execution_count": 87,
   "metadata": {},
   "outputs": [],
   "source": [
    "conn = engine.connect()"
   ]
  },
  {
   "cell_type": "code",
   "execution_count": 88,
   "metadata": {},
   "outputs": [],
   "source": [
    "meta = MetaData()"
   ]
  },
  {
   "cell_type": "code",
   "execution_count": 89,
   "metadata": {},
   "outputs": [
    {
     "name": "stdout",
     "output_type": "stream",
     "text": [
      "2024-03-08 10:36:24,255 INFO sqlalchemy.engine.Engine SELECT name FROM sqlite_master WHERE type='table' ORDER BY name\n",
      "2024-03-08 10:36:24,256 INFO sqlalchemy.engine.Engine [raw sql] ()\n",
      "2024-03-08 10:36:24,257 INFO sqlalchemy.engine.Engine PRAGMA main.table_xinfo(\"ALBUM\")\n",
      "2024-03-08 10:36:24,258 INFO sqlalchemy.engine.Engine [raw sql] ()\n",
      "2024-03-08 10:36:24,260 INFO sqlalchemy.engine.Engine SELECT sql FROM  (SELECT * FROM sqlite_master UNION ALL   SELECT * FROM sqlite_temp_master) WHERE name = ? AND type = 'table'\n",
      "2024-03-08 10:36:24,260 INFO sqlalchemy.engine.Engine [raw sql] ('ALBUM',)\n",
      "2024-03-08 10:36:24,262 INFO sqlalchemy.engine.Engine PRAGMA main.foreign_key_list(\"ALBUM\")\n",
      "2024-03-08 10:36:24,262 INFO sqlalchemy.engine.Engine [raw sql] ()\n",
      "2024-03-08 10:36:24,264 INFO sqlalchemy.engine.Engine PRAGMA temp.foreign_key_list(\"ALBUM\")\n",
      "2024-03-08 10:36:24,265 INFO sqlalchemy.engine.Engine [raw sql] ()\n",
      "2024-03-08 10:36:24,267 INFO sqlalchemy.engine.Engine SELECT sql FROM  (SELECT * FROM sqlite_master UNION ALL   SELECT * FROM sqlite_temp_master) WHERE name = ? AND type = 'table'\n",
      "2024-03-08 10:36:24,268 INFO sqlalchemy.engine.Engine [raw sql] ('ALBUM',)\n",
      "2024-03-08 10:36:24,268 INFO sqlalchemy.engine.Engine PRAGMA main.index_list(\"ALBUM\")\n",
      "2024-03-08 10:36:24,271 INFO sqlalchemy.engine.Engine [raw sql] ()\n",
      "2024-03-08 10:36:24,272 INFO sqlalchemy.engine.Engine PRAGMA temp.index_list(\"ALBUM\")\n",
      "2024-03-08 10:36:24,272 INFO sqlalchemy.engine.Engine [raw sql] ()\n",
      "2024-03-08 10:36:24,274 INFO sqlalchemy.engine.Engine PRAGMA main.index_list(\"ALBUM\")\n",
      "2024-03-08 10:36:24,274 INFO sqlalchemy.engine.Engine [raw sql] ()\n",
      "2024-03-08 10:36:24,274 INFO sqlalchemy.engine.Engine PRAGMA temp.index_list(\"ALBUM\")\n",
      "2024-03-08 10:36:24,274 INFO sqlalchemy.engine.Engine [raw sql] ()\n",
      "2024-03-08 10:36:24,274 INFO sqlalchemy.engine.Engine SELECT sql FROM  (SELECT * FROM sqlite_master UNION ALL   SELECT * FROM sqlite_temp_master) WHERE name = ? AND type = 'table'\n",
      "2024-03-08 10:36:24,274 INFO sqlalchemy.engine.Engine [raw sql] ('ALBUM',)\n",
      "2024-03-08 10:36:24,279 INFO sqlalchemy.engine.Engine PRAGMA main.table_xinfo(\"ARTIST\")\n",
      "2024-03-08 10:36:24,279 INFO sqlalchemy.engine.Engine [raw sql] ()\n",
      "2024-03-08 10:36:24,279 INFO sqlalchemy.engine.Engine SELECT sql FROM  (SELECT * FROM sqlite_master UNION ALL   SELECT * FROM sqlite_temp_master) WHERE name = ? AND type = 'table'\n",
      "2024-03-08 10:36:24,279 INFO sqlalchemy.engine.Engine [raw sql] ('ARTIST',)\n",
      "2024-03-08 10:36:24,279 INFO sqlalchemy.engine.Engine PRAGMA main.foreign_key_list(\"ARTIST\")\n",
      "2024-03-08 10:36:24,279 INFO sqlalchemy.engine.Engine [raw sql] ()\n",
      "2024-03-08 10:36:24,288 INFO sqlalchemy.engine.Engine PRAGMA temp.foreign_key_list(\"ARTIST\")\n",
      "2024-03-08 10:36:24,288 INFO sqlalchemy.engine.Engine [raw sql] ()\n",
      "2024-03-08 10:36:24,290 INFO sqlalchemy.engine.Engine SELECT sql FROM  (SELECT * FROM sqlite_master UNION ALL   SELECT * FROM sqlite_temp_master) WHERE name = ? AND type = 'table'\n",
      "2024-03-08 10:36:24,290 INFO sqlalchemy.engine.Engine [raw sql] ('ARTIST',)\n",
      "2024-03-08 10:36:24,290 INFO sqlalchemy.engine.Engine PRAGMA main.index_list(\"ARTIST\")\n",
      "2024-03-08 10:36:24,290 INFO sqlalchemy.engine.Engine [raw sql] ()\n",
      "2024-03-08 10:36:24,294 INFO sqlalchemy.engine.Engine PRAGMA temp.index_list(\"ARTIST\")\n",
      "2024-03-08 10:36:24,295 INFO sqlalchemy.engine.Engine [raw sql] ()\n",
      "2024-03-08 10:36:24,296 INFO sqlalchemy.engine.Engine PRAGMA main.index_list(\"ARTIST\")\n",
      "2024-03-08 10:36:24,296 INFO sqlalchemy.engine.Engine [raw sql] ()\n",
      "2024-03-08 10:36:24,296 INFO sqlalchemy.engine.Engine PRAGMA temp.index_list(\"ARTIST\")\n",
      "2024-03-08 10:36:24,296 INFO sqlalchemy.engine.Engine [raw sql] ()\n",
      "2024-03-08 10:36:24,296 INFO sqlalchemy.engine.Engine SELECT sql FROM  (SELECT * FROM sqlite_master UNION ALL   SELECT * FROM sqlite_temp_master) WHERE name = ? AND type = 'table'\n",
      "2024-03-08 10:36:24,296 INFO sqlalchemy.engine.Engine [raw sql] ('ARTIST',)\n",
      "2024-03-08 10:36:24,296 INFO sqlalchemy.engine.Engine PRAGMA main.table_xinfo(\"GENRE\")\n",
      "2024-03-08 10:36:24,304 INFO sqlalchemy.engine.Engine [raw sql] ()\n",
      "2024-03-08 10:36:24,305 INFO sqlalchemy.engine.Engine SELECT sql FROM  (SELECT * FROM sqlite_master UNION ALL   SELECT * FROM sqlite_temp_master) WHERE name = ? AND type = 'table'\n",
      "2024-03-08 10:36:24,308 INFO sqlalchemy.engine.Engine [raw sql] ('GENRE',)\n",
      "2024-03-08 10:36:24,310 INFO sqlalchemy.engine.Engine PRAGMA main.foreign_key_list(\"GENRE\")\n",
      "2024-03-08 10:36:24,311 INFO sqlalchemy.engine.Engine [raw sql] ()\n",
      "2024-03-08 10:36:24,312 INFO sqlalchemy.engine.Engine PRAGMA temp.foreign_key_list(\"GENRE\")\n",
      "2024-03-08 10:36:24,312 INFO sqlalchemy.engine.Engine [raw sql] ()\n",
      "2024-03-08 10:36:24,312 INFO sqlalchemy.engine.Engine SELECT sql FROM  (SELECT * FROM sqlite_master UNION ALL   SELECT * FROM sqlite_temp_master) WHERE name = ? AND type = 'table'\n",
      "2024-03-08 10:36:24,315 INFO sqlalchemy.engine.Engine [raw sql] ('GENRE',)\n",
      "2024-03-08 10:36:24,317 INFO sqlalchemy.engine.Engine PRAGMA main.index_list(\"GENRE\")\n",
      "2024-03-08 10:36:24,318 INFO sqlalchemy.engine.Engine [raw sql] ()\n",
      "2024-03-08 10:36:24,319 INFO sqlalchemy.engine.Engine PRAGMA temp.index_list(\"GENRE\")\n",
      "2024-03-08 10:36:24,321 INFO sqlalchemy.engine.Engine [raw sql] ()\n",
      "2024-03-08 10:36:24,321 INFO sqlalchemy.engine.Engine PRAGMA main.index_list(\"GENRE\")\n",
      "2024-03-08 10:36:24,324 INFO sqlalchemy.engine.Engine [raw sql] ()\n",
      "2024-03-08 10:36:24,325 INFO sqlalchemy.engine.Engine PRAGMA temp.index_list(\"GENRE\")\n",
      "2024-03-08 10:36:24,325 INFO sqlalchemy.engine.Engine [raw sql] ()\n",
      "2024-03-08 10:36:24,325 INFO sqlalchemy.engine.Engine SELECT sql FROM  (SELECT * FROM sqlite_master UNION ALL   SELECT * FROM sqlite_temp_master) WHERE name = ? AND type = 'table'\n",
      "2024-03-08 10:36:24,325 INFO sqlalchemy.engine.Engine [raw sql] ('GENRE',)\n",
      "2024-03-08 10:36:24,329 INFO sqlalchemy.engine.Engine PRAGMA main.table_xinfo(\"TRACK\")\n",
      "2024-03-08 10:36:24,329 INFO sqlalchemy.engine.Engine [raw sql] ()\n",
      "2024-03-08 10:36:24,329 INFO sqlalchemy.engine.Engine SELECT sql FROM  (SELECT * FROM sqlite_master UNION ALL   SELECT * FROM sqlite_temp_master) WHERE name = ? AND type = 'table'\n",
      "2024-03-08 10:36:24,329 INFO sqlalchemy.engine.Engine [raw sql] ('TRACK',)\n",
      "2024-03-08 10:36:24,329 INFO sqlalchemy.engine.Engine PRAGMA main.foreign_key_list(\"TRACK\")\n",
      "2024-03-08 10:36:24,329 INFO sqlalchemy.engine.Engine [raw sql] ()\n",
      "2024-03-08 10:36:24,329 INFO sqlalchemy.engine.Engine PRAGMA temp.foreign_key_list(\"TRACK\")\n",
      "2024-03-08 10:36:24,329 INFO sqlalchemy.engine.Engine [raw sql] ()\n",
      "2024-03-08 10:36:24,337 INFO sqlalchemy.engine.Engine SELECT sql FROM  (SELECT * FROM sqlite_master UNION ALL   SELECT * FROM sqlite_temp_master) WHERE name = ? AND type = 'table'\n",
      "2024-03-08 10:36:24,337 INFO sqlalchemy.engine.Engine [raw sql] ('TRACK',)\n",
      "2024-03-08 10:36:24,340 INFO sqlalchemy.engine.Engine PRAGMA main.index_list(\"TRACK\")\n",
      "2024-03-08 10:36:24,340 INFO sqlalchemy.engine.Engine [raw sql] ()\n",
      "2024-03-08 10:36:24,341 INFO sqlalchemy.engine.Engine PRAGMA temp.index_list(\"TRACK\")\n",
      "2024-03-08 10:36:24,341 INFO sqlalchemy.engine.Engine [raw sql] ()\n",
      "2024-03-08 10:36:24,341 INFO sqlalchemy.engine.Engine PRAGMA main.index_list(\"TRACK\")\n",
      "2024-03-08 10:36:24,341 INFO sqlalchemy.engine.Engine [raw sql] ()\n",
      "2024-03-08 10:36:24,341 INFO sqlalchemy.engine.Engine PRAGMA temp.index_list(\"TRACK\")\n",
      "2024-03-08 10:36:24,341 INFO sqlalchemy.engine.Engine [raw sql] ()\n",
      "2024-03-08 10:36:24,345 INFO sqlalchemy.engine.Engine SELECT sql FROM  (SELECT * FROM sqlite_master UNION ALL   SELECT * FROM sqlite_temp_master) WHERE name = ? AND type = 'table'\n",
      "2024-03-08 10:36:24,345 INFO sqlalchemy.engine.Engine [raw sql] ('TRACK',)\n"
     ]
    }
   ],
   "source": [
    "meta.reflect(conn)  #python에서 사용가능하게 올려주는 역할을 함"
   ]
  },
  {
   "cell_type": "code",
   "execution_count": 90,
   "metadata": {},
   "outputs": [
    {
     "data": {
      "text/plain": [
       "(4, dict_keys(['ALBUM', 'ARTIST', 'GENRE', 'TRACK']))"
      ]
     },
     "execution_count": 90,
     "metadata": {},
     "output_type": "execute_result"
    }
   ],
   "source": [
    "len(meta.tables), meta.tables.keys()"
   ]
  },
  {
   "cell_type": "code",
   "execution_count": 91,
   "metadata": {},
   "outputs": [
    {
     "data": {
      "text/plain": [
       "['PK', 'NAME', 'LENGTH', 'RATING', 'COUNT', 'AFK', 'GFK']"
      ]
     },
     "execution_count": 91,
     "metadata": {},
     "output_type": "execute_result"
    }
   ],
   "source": [
    "meta.tables['TRACK'].c.keys()"
   ]
  },
  {
   "cell_type": "code",
   "execution_count": 94,
   "metadata": {},
   "outputs": [],
   "source": [
    "Artist = meta.tables['ARTIST']\n",
    "Album = meta.tables['ALBUM']\n",
    "Genere = meta.tables['GENRE']\n",
    "Track = meta.tables['TRACK']"
   ]
  },
  {
   "cell_type": "code",
   "execution_count": 96,
   "metadata": {},
   "outputs": [
    {
     "name": "stdout",
     "output_type": "stream",
     "text": [
      "SELECT \"ARTIST\".\"PK\", \"ARTIST\".\"NAME\", \"ARTIST\".temp \n",
      "FROM \"ARTIST\"\n",
      "2024-03-08 10:39:02,594 INFO sqlalchemy.engine.Engine SELECT \"ARTIST\".\"PK\", \"ARTIST\".\"NAME\", \"ARTIST\".\"temp\" \n",
      "FROM \"ARTIST\"\n",
      "2024-03-08 10:39:02,594 INFO sqlalchemy.engine.Engine [generated in 0.00132s] ()\n"
     ]
    },
    {
     "data": {
      "text/plain": [
       "[(1, '수지', ''), (2, '박효신', ''), (3, '아이유', '')]"
      ]
     },
     "execution_count": 96,
     "metadata": {},
     "output_type": "execute_result"
    }
   ],
   "source": [
    "print(Artist.select())\n",
    "conn.execute(Artist.select()).fetchall()"
   ]
  },
  {
   "cell_type": "code",
   "execution_count": 97,
   "metadata": {},
   "outputs": [
    {
     "name": "stdout",
     "output_type": "stream",
     "text": [
      "\"ALBUM\" JOIN \"ARTIST\" ON \"ALBUM\".\"FK\" = \"ARTIST\".\"PK\"\n"
     ]
    }
   ],
   "source": [
    "print(Album.join(Artist, Album.c.FK==Artist.c.PK))"
   ]
  },
  {
   "cell_type": "code",
   "execution_count": 120,
   "metadata": {},
   "outputs": [
    {
     "ename": "ResourceClosedError",
     "evalue": "This Connection is closed",
     "output_type": "error",
     "traceback": [
      "\u001b[1;31m---------------------------------------------------------------------------\u001b[0m",
      "\u001b[1;31mResourceClosedError\u001b[0m                       Traceback (most recent call last)",
      "Cell \u001b[1;32mIn[120], line 1\u001b[0m\n\u001b[1;32m----> 1\u001b[0m \u001b[43mconn\u001b[49m\u001b[38;5;241;43m.\u001b[39;49m\u001b[43mexecute\u001b[49m\u001b[43m(\u001b[49m\u001b[43mselect\u001b[49m\u001b[43m(\u001b[49m\u001b[43m[\u001b[49m\u001b[43mArtist\u001b[49m\u001b[38;5;241;43m.\u001b[39;49m\u001b[43mc\u001b[49m\u001b[38;5;241;43m.\u001b[39;49m\u001b[43mNAME\u001b[49m\u001b[43m,\u001b[49m\u001b[43m \u001b[49m\u001b[43mAlbum\u001b[49m\u001b[38;5;241;43m.\u001b[39;49m\u001b[43mc\u001b[49m\u001b[38;5;241;43m.\u001b[39;49m\u001b[43mNAME\u001b[49m\u001b[43m]\u001b[49m\u001b[43m)\u001b[49m\u001b[38;5;241;43m.\u001b[39;49m\u001b[43mselect_from\u001b[49m\u001b[43m(\u001b[49m\n\u001b[0;32m      2\u001b[0m \u001b[43m    \u001b[49m\u001b[43mAlbum\u001b[49m\u001b[38;5;241;43m.\u001b[39;49m\u001b[43mjoin\u001b[49m\u001b[43m(\u001b[49m\u001b[43mArtist\u001b[49m\u001b[43m,\u001b[49m\u001b[43m \u001b[49m\u001b[43mAlbum\u001b[49m\u001b[38;5;241;43m.\u001b[39;49m\u001b[43mc\u001b[49m\u001b[38;5;241;43m.\u001b[39;49m\u001b[43mFK\u001b[49m\u001b[38;5;241;43m==\u001b[39;49m\u001b[43mArtist\u001b[49m\u001b[38;5;241;43m.\u001b[39;49m\u001b[43mc\u001b[49m\u001b[38;5;241;43m.\u001b[39;49m\u001b[43mPK\u001b[49m\u001b[43m)\u001b[49m\n\u001b[0;32m      3\u001b[0m \u001b[43m)\u001b[49m\u001b[43m)\u001b[49m\u001b[38;5;241m.\u001b[39mfetchall()\n",
      "File \u001b[1;32mc:\\Users\\SAMSUNG\\anaconda3\\envs\\KoreaUniv\\lib\\site-packages\\sqlalchemy\\engine\\base.py:1306\u001b[0m, in \u001b[0;36mConnection.execute\u001b[1;34m(self, statement, *multiparams, **params)\u001b[0m\n\u001b[0;32m   1302\u001b[0m     util\u001b[38;5;241m.\u001b[39mraise_(\n\u001b[0;32m   1303\u001b[0m         exc\u001b[38;5;241m.\u001b[39mObjectNotExecutableError(statement), replace_context\u001b[38;5;241m=\u001b[39merr\n\u001b[0;32m   1304\u001b[0m     )\n\u001b[0;32m   1305\u001b[0m \u001b[38;5;28;01melse\u001b[39;00m:\n\u001b[1;32m-> 1306\u001b[0m     \u001b[38;5;28;01mreturn\u001b[39;00m \u001b[43mmeth\u001b[49m\u001b[43m(\u001b[49m\u001b[38;5;28;43mself\u001b[39;49m\u001b[43m,\u001b[49m\u001b[43m \u001b[49m\u001b[43mmultiparams\u001b[49m\u001b[43m,\u001b[49m\u001b[43m \u001b[49m\u001b[43mparams\u001b[49m\u001b[43m,\u001b[49m\u001b[43m \u001b[49m\u001b[43m_EMPTY_EXECUTION_OPTS\u001b[49m\u001b[43m)\u001b[49m\n",
      "File \u001b[1;32mc:\\Users\\SAMSUNG\\anaconda3\\envs\\KoreaUniv\\lib\\site-packages\\sqlalchemy\\sql\\elements.py:332\u001b[0m, in \u001b[0;36mClauseElement._execute_on_connection\u001b[1;34m(self, connection, multiparams, params, execution_options, _force)\u001b[0m\n\u001b[0;32m    328\u001b[0m \u001b[38;5;28;01mdef\u001b[39;00m \u001b[38;5;21m_execute_on_connection\u001b[39m(\n\u001b[0;32m    329\u001b[0m     \u001b[38;5;28mself\u001b[39m, connection, multiparams, params, execution_options, _force\u001b[38;5;241m=\u001b[39m\u001b[38;5;28;01mFalse\u001b[39;00m\n\u001b[0;32m    330\u001b[0m ):\n\u001b[0;32m    331\u001b[0m     \u001b[38;5;28;01mif\u001b[39;00m _force \u001b[38;5;129;01mor\u001b[39;00m \u001b[38;5;28mself\u001b[39m\u001b[38;5;241m.\u001b[39msupports_execution:\n\u001b[1;32m--> 332\u001b[0m         \u001b[38;5;28;01mreturn\u001b[39;00m \u001b[43mconnection\u001b[49m\u001b[38;5;241;43m.\u001b[39;49m\u001b[43m_execute_clauseelement\u001b[49m\u001b[43m(\u001b[49m\n\u001b[0;32m    333\u001b[0m \u001b[43m            \u001b[49m\u001b[38;5;28;43mself\u001b[39;49m\u001b[43m,\u001b[49m\u001b[43m \u001b[49m\u001b[43mmultiparams\u001b[49m\u001b[43m,\u001b[49m\u001b[43m \u001b[49m\u001b[43mparams\u001b[49m\u001b[43m,\u001b[49m\u001b[43m \u001b[49m\u001b[43mexecution_options\u001b[49m\n\u001b[0;32m    334\u001b[0m \u001b[43m        \u001b[49m\u001b[43m)\u001b[49m\n\u001b[0;32m    335\u001b[0m     \u001b[38;5;28;01melse\u001b[39;00m:\n\u001b[0;32m    336\u001b[0m         \u001b[38;5;28;01mraise\u001b[39;00m exc\u001b[38;5;241m.\u001b[39mObjectNotExecutableError(\u001b[38;5;28mself\u001b[39m)\n",
      "File \u001b[1;32mc:\\Users\\SAMSUNG\\anaconda3\\envs\\KoreaUniv\\lib\\site-packages\\sqlalchemy\\engine\\base.py:1498\u001b[0m, in \u001b[0;36mConnection._execute_clauseelement\u001b[1;34m(self, elem, multiparams, params, execution_options)\u001b[0m\n\u001b[0;32m   1486\u001b[0m compiled_cache \u001b[38;5;241m=\u001b[39m execution_options\u001b[38;5;241m.\u001b[39mget(\n\u001b[0;32m   1487\u001b[0m     \u001b[38;5;124m\"\u001b[39m\u001b[38;5;124mcompiled_cache\u001b[39m\u001b[38;5;124m\"\u001b[39m, \u001b[38;5;28mself\u001b[39m\u001b[38;5;241m.\u001b[39mengine\u001b[38;5;241m.\u001b[39m_compiled_cache\n\u001b[0;32m   1488\u001b[0m )\n\u001b[0;32m   1490\u001b[0m compiled_sql, extracted_params, cache_hit \u001b[38;5;241m=\u001b[39m elem\u001b[38;5;241m.\u001b[39m_compile_w_cache(\n\u001b[0;32m   1491\u001b[0m     dialect\u001b[38;5;241m=\u001b[39mdialect,\n\u001b[0;32m   1492\u001b[0m     compiled_cache\u001b[38;5;241m=\u001b[39mcompiled_cache,\n\u001b[1;32m   (...)\u001b[0m\n\u001b[0;32m   1496\u001b[0m     linting\u001b[38;5;241m=\u001b[39m\u001b[38;5;28mself\u001b[39m\u001b[38;5;241m.\u001b[39mdialect\u001b[38;5;241m.\u001b[39mcompiler_linting \u001b[38;5;241m|\u001b[39m compiler\u001b[38;5;241m.\u001b[39mWARN_LINTING,\n\u001b[0;32m   1497\u001b[0m )\n\u001b[1;32m-> 1498\u001b[0m ret \u001b[38;5;241m=\u001b[39m \u001b[38;5;28;43mself\u001b[39;49m\u001b[38;5;241;43m.\u001b[39;49m\u001b[43m_execute_context\u001b[49m\u001b[43m(\u001b[49m\n\u001b[0;32m   1499\u001b[0m \u001b[43m    \u001b[49m\u001b[43mdialect\u001b[49m\u001b[43m,\u001b[49m\n\u001b[0;32m   1500\u001b[0m \u001b[43m    \u001b[49m\u001b[43mdialect\u001b[49m\u001b[38;5;241;43m.\u001b[39;49m\u001b[43mexecution_ctx_cls\u001b[49m\u001b[38;5;241;43m.\u001b[39;49m\u001b[43m_init_compiled\u001b[49m\u001b[43m,\u001b[49m\n\u001b[0;32m   1501\u001b[0m \u001b[43m    \u001b[49m\u001b[43mcompiled_sql\u001b[49m\u001b[43m,\u001b[49m\n\u001b[0;32m   1502\u001b[0m \u001b[43m    \u001b[49m\u001b[43mdistilled_params\u001b[49m\u001b[43m,\u001b[49m\n\u001b[0;32m   1503\u001b[0m \u001b[43m    \u001b[49m\u001b[43mexecution_options\u001b[49m\u001b[43m,\u001b[49m\n\u001b[0;32m   1504\u001b[0m \u001b[43m    \u001b[49m\u001b[43mcompiled_sql\u001b[49m\u001b[43m,\u001b[49m\n\u001b[0;32m   1505\u001b[0m \u001b[43m    \u001b[49m\u001b[43mdistilled_params\u001b[49m\u001b[43m,\u001b[49m\n\u001b[0;32m   1506\u001b[0m \u001b[43m    \u001b[49m\u001b[43melem\u001b[49m\u001b[43m,\u001b[49m\n\u001b[0;32m   1507\u001b[0m \u001b[43m    \u001b[49m\u001b[43mextracted_params\u001b[49m\u001b[43m,\u001b[49m\n\u001b[0;32m   1508\u001b[0m \u001b[43m    \u001b[49m\u001b[43mcache_hit\u001b[49m\u001b[38;5;241;43m=\u001b[39;49m\u001b[43mcache_hit\u001b[49m\u001b[43m,\u001b[49m\n\u001b[0;32m   1509\u001b[0m \u001b[43m\u001b[49m\u001b[43m)\u001b[49m\n\u001b[0;32m   1510\u001b[0m \u001b[38;5;28;01mif\u001b[39;00m has_events:\n\u001b[0;32m   1511\u001b[0m     \u001b[38;5;28mself\u001b[39m\u001b[38;5;241m.\u001b[39mdispatch\u001b[38;5;241m.\u001b[39mafter_execute(\n\u001b[0;32m   1512\u001b[0m         \u001b[38;5;28mself\u001b[39m,\n\u001b[0;32m   1513\u001b[0m         elem,\n\u001b[1;32m   (...)\u001b[0m\n\u001b[0;32m   1517\u001b[0m         ret,\n\u001b[0;32m   1518\u001b[0m     )\n",
      "File \u001b[1;32mc:\\Users\\SAMSUNG\\anaconda3\\envs\\KoreaUniv\\lib\\site-packages\\sqlalchemy\\engine\\base.py:1717\u001b[0m, in \u001b[0;36mConnection._execute_context\u001b[1;34m(self, dialect, constructor, statement, parameters, execution_options, *args, **kw)\u001b[0m\n\u001b[0;32m   1715\u001b[0m     conn \u001b[38;5;241m=\u001b[39m \u001b[38;5;28mself\u001b[39m\u001b[38;5;241m.\u001b[39m_dbapi_connection\n\u001b[0;32m   1716\u001b[0m     \u001b[38;5;28;01mif\u001b[39;00m conn \u001b[38;5;129;01mis\u001b[39;00m \u001b[38;5;28;01mNone\u001b[39;00m:\n\u001b[1;32m-> 1717\u001b[0m         conn \u001b[38;5;241m=\u001b[39m \u001b[38;5;28;43mself\u001b[39;49m\u001b[38;5;241;43m.\u001b[39;49m\u001b[43m_revalidate_connection\u001b[49m\u001b[43m(\u001b[49m\u001b[43m)\u001b[49m\n\u001b[0;32m   1719\u001b[0m     context \u001b[38;5;241m=\u001b[39m constructor(\n\u001b[0;32m   1720\u001b[0m         dialect, \u001b[38;5;28mself\u001b[39m, conn, execution_options, \u001b[38;5;241m*\u001b[39margs, \u001b[38;5;241m*\u001b[39m\u001b[38;5;241m*\u001b[39mkw\n\u001b[0;32m   1721\u001b[0m     )\n\u001b[0;32m   1722\u001b[0m \u001b[38;5;28;01mexcept\u001b[39;00m (exc\u001b[38;5;241m.\u001b[39mPendingRollbackError, exc\u001b[38;5;241m.\u001b[39mResourceClosedError):\n",
      "File \u001b[1;32mc:\\Users\\SAMSUNG\\anaconda3\\envs\\KoreaUniv\\lib\\site-packages\\sqlalchemy\\engine\\base.py:576\u001b[0m, in \u001b[0;36mConnection._revalidate_connection\u001b[1;34m(self)\u001b[0m\n\u001b[0;32m    572\u001b[0m     \u001b[38;5;28mself\u001b[39m\u001b[38;5;241m.\u001b[39m_dbapi_connection \u001b[38;5;241m=\u001b[39m \u001b[38;5;28mself\u001b[39m\u001b[38;5;241m.\u001b[39mengine\u001b[38;5;241m.\u001b[39mraw_connection(\n\u001b[0;32m    573\u001b[0m         _connection\u001b[38;5;241m=\u001b[39m\u001b[38;5;28mself\u001b[39m\n\u001b[0;32m    574\u001b[0m     )\n\u001b[0;32m    575\u001b[0m     \u001b[38;5;28;01mreturn\u001b[39;00m \u001b[38;5;28mself\u001b[39m\u001b[38;5;241m.\u001b[39m_dbapi_connection\n\u001b[1;32m--> 576\u001b[0m \u001b[38;5;28;01mraise\u001b[39;00m exc\u001b[38;5;241m.\u001b[39mResourceClosedError(\u001b[38;5;124m\"\u001b[39m\u001b[38;5;124mThis Connection is closed\u001b[39m\u001b[38;5;124m\"\u001b[39m)\n",
      "\u001b[1;31mResourceClosedError\u001b[0m: This Connection is closed"
     ]
    }
   ],
   "source": [
    "conn.execute(select([Artist.c.NAME, Album.c.NAME]).select_from(\n",
    "    Album.join(Artist, Album.c.FK==Artist.c.PK)\n",
    ")).fetchall()"
   ]
  },
  {
   "cell_type": "code",
   "execution_count": null,
   "metadata": {},
   "outputs": [
    {
     "name": "stdout",
     "output_type": "stream",
     "text": [
      "\"ALBUM\" JOIN \"ARTIST\" ON \"ALBUM\".\"FK\" = \"ARTIST\".\"PK\" JOIN \"TRACK\" ON \"TRACK\".\"AFK\" = \"ALBUM\".\"PK\"\n"
     ]
    }
   ],
   "source": [
    "Album.join(Artist, Album.c.FK==Artist.c.PK).join(Track, Track.c.AFK==Album.c.PK)print()"
   ]
  },
  {
   "cell_type": "code",
   "execution_count": 100,
   "metadata": {},
   "outputs": [
    {
     "name": "stdout",
     "output_type": "stream",
     "text": [
      "2024-03-08 10:43:36,409 INFO sqlalchemy.engine.Engine SELECT \"ARTIST\".\"NAME\", \"ALBUM\".\"NAME\" AS \"NAME_1\", \"TRACK\".\"NAME\" AS \"NAME_2\" \n",
      "FROM \"ALBUM\" JOIN \"ARTIST\" ON \"ALBUM\".\"FK\" = \"ARTIST\".\"PK\" JOIN \"TRACK\" ON \"TRACK\".\"AFK\" = \"ALBUM\".\"PK\"\n",
      "2024-03-08 10:43:36,410 INFO sqlalchemy.engine.Engine [generated in 0.00121s] ()\n"
     ]
    },
    {
     "data": {
      "text/plain": [
       "[('아이유', '아이유앨범', '아이유노래3'),\n",
       " ('아이유', '아이유앨범', '아이유노래2'),\n",
       " ('아이유', '아이유앨범', '아이유노래3'),\n",
       " ('박효신', '박효신앨범', '박효신노래1'),\n",
       " ('박효신', '박효신앨범', '박효신노래2'),\n",
       " ('박효신', '박효신앨범', '박효신노래3')]"
      ]
     },
     "execution_count": 100,
     "metadata": {},
     "output_type": "execute_result"
    }
   ],
   "source": [
    "conn.execute(select([Artist.c.NAME, Album.c.NAME, Track.c.NAME]).select_from(\n",
    "    Album.join(Artist, Album.c.FK==Artist.c.PK).join(Track, Track.c.AFK==Album.c.PK)\n",
    ")).fetchall()"
   ]
  },
  {
   "cell_type": "code",
   "execution_count": 102,
   "metadata": {},
   "outputs": [
    {
     "name": "stdout",
     "output_type": "stream",
     "text": [
      "\"ALBUM\" JOIN \"ARTIST\" ON \"ALBUM\".\"FK\" = \"ARTIST\".\"PK\" JOIN \"TRACK\" ON \"TRACK\".\"AFK\" = \"ALBUM\".\"PK\" JOIN \"GENRE\" ON \"TRACK\".\"GFK\" = \"GENRE\".\"PK\"\n"
     ]
    }
   ],
   "source": [
    "print(Album.join(Artist, Album.c.FK==Artist.c.PK)\\\n",
    "      .join(Track, Track.c.AFK==Album.c.PK)\\\n",
    "      .join(Genere, Track.c.GFK==Genere.c.PK))"
   ]
  },
  {
   "cell_type": "code",
   "execution_count": null,
   "metadata": {},
   "outputs": [],
   "source": [
    "#extend existing? 이미 artist라는 테이블이 있는데 meta에다가 artist를 또 생기면 어케되느냐\n",
    "#테이블이 이미 meta에 존재하므로 에러가 난다\n",
    "#extend_existing을 하면 기존에 있던거에 반영이 되는 것이다\n",
    "#Table('TEMP', meta, Column('PK', Integer, primary_key=True), extend_existing-True)\n",
    "#table 객체에 반영이 되는 것이다 / alter랑 같은 역할?"
   ]
  },
  {
   "cell_type": "code",
   "execution_count": 103,
   "metadata": {},
   "outputs": [],
   "source": [
    "conn.close()"
   ]
  },
  {
   "cell_type": "code",
   "execution_count": null,
   "metadata": {},
   "outputs": [],
   "source": [
    "#Regular Expression\n",
    "\n",
    "#패턴을 가지고 특정 텍스트를 찾는 것을 의미함\n",
    "#찾고 교체하고, 분해하고, 어떤 그룹으로 생겼는지 이런 것들을 하기 위함으로 사용하는 특정 패턴\n",
    "#대용량 데이터 처리 시에 사용함\n",
    "#가장 빠름 텍스트 처리 시에 제일 빠름\n",
    "#메타 캐릭터로 존재함 다양한 언어들이 존재\n",
    "#. - any character\n",
    "#* - zero, one or more\n",
    "#+ - one or more\n",
    "#? - zero or one (앞에 것들이 있던지 없던지)\n",
    "#{} - Specified number of occurences (숫자가 들어감 minimum부터 maximum까지)\n",
    "\n",
    "#^x - ~로 시작하는\n",
    "#x$ - ~로 끝나는\n",
    "#.x - 한글자 아무거나 하나 존재해야하고 x가 있어야함\n",
    "#x+ - 한개 이상, x가 한번 이상 반복되는 형태\n",
    "#x? - 있거나 없거나 x라는 문자가 있거나 없거나\n",
    "#x* - x도 되고 xx도 되고 a도 된다 (0번도 가능하니깐)\n",
    "#x|y - or x 또는 y\n",
    "#(?:x) - 캡쳐하지 않는 구릅은 들어가지 안흔ㄴ다\n",
    "#x{n} - x가 n번 반복한 문자를 찾는다\n",
    "#x{n,m} - ,를 기준으로 앞에가 최소 n번 최대 m번 x를 반복된 문자를 찾는다\n",
    "\n",
    "#[] - 이 중에 하나 ex)[abc] - 셋 중 하나\n",
    "#[-] - a부터 c까지 중 하나 [x-y]\n",
    "#[^] - 이중에 하나가 아닌 나머지[^xy] -> x또는 y가 아닌 글자\n",
    "#\\^ - escape 되는 문자 ex)print('\\\\n')\n",
    "\n",
    "#대문자와 소문자는 서로 반대\n",
    "#\\b - 문자와 공백 사이의 문자를 찾습니다 / 알파벳 숫자 등을 구분해서 분리시키는 것\n",
    "#\\B - non-word boundary\n",
    "#\\d - digit\n",
    "#\\D - 숫자가 아닌 문자들\n",
    "#\\s - 무언가를 구분 짓는 것들 (문자를 의미함), 띄어쓰기 탭 new line 등을"
   ]
  },
  {
   "cell_type": "code",
   "execution_count": null,
   "metadata": {},
   "outputs": [],
   "source": [
    "#(ht{2}ps?)://(도메인) ==> https://~ or http://~ 라는 주소들을 수집할 수 있다\n",
    "#정규식의 아름다움\n",
    "#(\\+?[\\d]{1,2}.?)?([\\d공일이삼사오육칠팔구]{2,3})?.?[\\d공일이삼사오육칠팔구]{4}.?[\\d공일이삼사오육칠팔구]{4}\n",
    "#전화번호 긁는법\n",
    "#\\b[a-zA-Z0-9\\-_]{3,}@(\\.?[a-z0-9.\\-_]+)+\n",
    "#이메일 긁기"
   ]
  },
  {
   "cell_type": "code",
   "execution_count": null,
   "metadata": {},
   "outputs": [],
   "source": [
    "#code로 작성해보는 정규식"
   ]
  },
  {
   "cell_type": "code",
   "execution_count": 104,
   "metadata": {},
   "outputs": [],
   "source": [
    "import re"
   ]
  },
  {
   "cell_type": "code",
   "execution_count": null,
   "metadata": {},
   "outputs": [],
   "source": [
    "# re.compile => 패턴\n",
    "# re.search => 찾을 때 (여기에 ^ 넣으면 match랑 같음)\n",
    "# re.match => 처음부터 매칭되는지 찾을 때\n",
    "# re.findall => 다 찾을 때\n",
    "\n",
    "# re.IGNORECASE\n",
    "# re.MULTILINE\n",
    "# 옵션"
   ]
  },
  {
   "cell_type": "code",
   "execution_count": 109,
   "metadata": {},
   "outputs": [],
   "source": [
    "data='''\n",
    "02-1234-1232\n",
    "010-1234-1234\n",
    "010 1234 1234\n",
    "010.1234.1234\n",
    "01공 일23사 1234\n",
    "'''\n",
    "\n",
    "# re.search()"
   ]
  },
  {
   "cell_type": "code",
   "execution_count": null,
   "metadata": {},
   "outputs": [],
   "source": [
    "# #문자열\n",
    "# '\\n' => 일반문자열\n",
    "# r'\\n' => r 문자\n",
    "# re.escape('\\n') => 여기에도 문자열 존재"
   ]
  },
  {
   "cell_type": "code",
   "execution_count": 105,
   "metadata": {},
   "outputs": [
    {
     "name": "stdout",
     "output_type": "stream",
     "text": [
      "\n",
      " \\n \\\n",
      "\n"
     ]
    }
   ],
   "source": [
    "print('\\n', r'\\n', re.escape('\\n'))\n",
    "#1 줄 띄우기 2. \\n이 그대로 나옴 3. \\ 만 나옴\n",
    "#r'\\n' => raw text\n",
    "#언제?\n",
    "#C:\\users\\누구\\downloads 이런 경로 사용할 경우가 있는데 문제가 존재함 왜?\n",
    "#특수한 기능을 하는 애들이므로\n",
    "#쓰고 싶을때는 이 r raw text를 사용해서 한다"
   ]
  },
  {
   "cell_type": "code",
   "execution_count": 106,
   "metadata": {},
   "outputs": [
    {
     "name": "stdout",
     "output_type": "stream",
     "text": [
      "\n",
      " \\n \\\n",
      " \\\\n\n"
     ]
    },
    {
     "data": {
      "text/plain": [
       "(None, '\\n', '\\\\n', '\\\\\\n', '\\\\\\\\n')"
      ]
     },
     "execution_count": 106,
     "metadata": {},
     "output_type": "execute_result"
    }
   ],
   "source": [
    "print('\\n', r'\\n', re.escape('\\n'), re.escape(r'\\n')), '\\n', r'\\n', re.escape('\\n'), re.escape(r'\\n')"
   ]
  },
  {
   "cell_type": "code",
   "execution_count": 115,
   "metadata": {},
   "outputs": [],
   "source": [
    "# \\b \\s \\d ...  얘네만 피하면 되서 어떤걸 써도 상관없지만 pattern 만들때는 r raw text를 만들어줘야함\n",
    "#따라서\n",
    "rst = re.search(r'([0-9]{2,3}).?([0-9]{4}).?([0-9]{4})', data)"
   ]
  },
  {
   "cell_type": "code",
   "execution_count": 118,
   "metadata": {},
   "outputs": [
    {
     "data": {
      "text/plain": [
       "(<function Match.span(group=0, /)>,\n",
       " ('02', '1234', '1232'),\n",
       " '02-1234-1232',\n",
       " '02',\n",
       " '1234',\n",
       " '1232')"
      ]
     },
     "execution_count": 118,
     "metadata": {},
     "output_type": "execute_result"
    }
   ],
   "source": [
    "# rst.span, rst.groups(), rst.group()\n",
    "rst.span, rst.groups(), rst.group(), rst.group(1), rst.group(2), rst.group(3)\n",
    "# rst.start(), rst.end(), data[rst.start():rst.end()]"
   ]
  },
  {
   "cell_type": "code",
   "execution_count": 119,
   "metadata": {},
   "outputs": [
    {
     "data": {
      "text/plain": [
       "[('02', '1234', '1232'),\n",
       " ('010', '1234', '1234'),\n",
       " ('010', '1234', '1234'),\n",
       " ('010', '1234', '1234')]"
      ]
     },
     "execution_count": 119,
     "metadata": {},
     "output_type": "execute_result"
    }
   ],
   "source": [
    "rst = re.findall(r'([0-9]{2,3}).?([0-9]{4}).?([0-9]{4})', data)\n",
    "rst"
   ]
  },
  {
   "cell_type": "code",
   "execution_count": null,
   "metadata": {},
   "outputs": [],
   "source": [
    "# search vs match\n",
    "re.match(r'Life', 'My Life is too short')\n",
    "re.search(r'^Life', 'My Life is too short')\n",
    "# 위의 두개 function은 서로 같다\n",
    "# match와 search는 ^ 을 넣어야 같아진다"
   ]
  },
  {
   "cell_type": "code",
   "execution_count": null,
   "metadata": {},
   "outputs": [],
   "source": [
    "#Lazy vs Greedy\n",
    "#Greedy = 제일 마지막에 매칭되는 글자로 결과\n",
    "#Lazy = 가장 첫번째 매칭되는 글자로 결과"
   ]
  },
  {
   "cell_type": "markdown",
   "metadata": {},
   "source": [
    "# ORM\n",
    "\n",
    "ORM transfers Python code into SQL Query statement\n",
    "\n",
    "ORM takes table as one class\n",
    "\n",
    "But when you manage data, recommend not to use ORM\n",
    "\n",
    "#### What is SQLAlchemy?\n",
    "\n",
    "It automatically set proper DB api and connect to the DB\n",
    "\n",
    "Table comes as a class\n",
    "\n",
    "Engine - (Pool and Dialect) - Database, Engine will be the start point\n",
    "\n",
    "Dialect acts transferring Python to SQL\n",
    "\n",
    "Pool acts connection role\n",
    "\n",
    "### How to make Engine?\n",
    "\n",
    "```\n",
    "engine = create_engine('sqlite:///foo.db')\n",
    "```\n",
    "\n",
    "A path is relative, originally, dialect+driver//username:password@host:port/database\n",
    "\n",
    "Option ```echo``` shows the history of SQL\n",
    "\n",
    "Feature: Lazy connecting\n",
    "\n",
    "Base Task for sqlalchemy\n",
    "\n",
    "```\n",
    "import sqlalchemy\n",
    "from sqlalchemy.engine import create_engine\n",
    "from sqlalchemy.schema import Table, Column, ForeignKey #To use ForeginKey IMPORT!\n",
    "from sqlalchemy.types import Integer, Text              #Type IMPORT!\n",
    "from sqlalchemy.sql import select, insert, update       #To use execute IMPORT!\n",
    "from sqlalchemy.schema import MetaData\n",
    "from sqlalchemy.sql import or_, and_                    #For logic operator IMPORT!\n",
    "from sqlalchemy.sql import join                         #For join statement IMPORT!\n",
    "\n",
    "engine = create_engine('sqlite:///ordm.db', echo=True)\n",
    "```\n",
    "\n",
    "Python         RDBMS               Database\n",
    "\n",
    "Python         ORM                 RDBMS               Database\n",
    "\n",
    "------         Core                SQLite              FILE\n",
    "\n",
    "       Obj -->\n",
    "\n",
    "       (class => Force MetaData to register class and core to interpret sql statement)\n",
    "\n",
    "Originally, SQL was between RDBMS, but now we put class (Object) between Python and ORM\n",
    "\n",
    "Declare a meta by\n",
    "\n",
    "```\n",
    "meta = MetaData()       #MetaData is in Python\n",
    "meta.clear()            #Eliminate all obj in metadata, not the data in database\n",
    "meta.create_all(engine) #Commit to the database\n",
    "meta.reflect(engine)    #Copy data from DB\n",
    "meta.drop_all()         #Delete all data from DB\n",
    "```\n",
    "\n",
    "We want to execute SQL with Python\n",
    "\n",
    "```\n",
    "User = meta.tables['user']          #Declare indicator table named 'user'\n",
    "\n",
    "#Old version\n",
    "rst = engine.execute(select(User))  #Cursor's result\n",
    "rst.fetchall()                      #Load the result\n",
    "\n",
    "#New version\n",
    "conn = engine.connect()             #Declare connection\n",
    "conn.execute(User.select()).fetchall() #Execute by connection\n",
    "```\n",
    "\n",
    "### How to make table?\n",
    "\n",
    "```\n",
    "Table('Info', meta,\n",
    "    Column('PK', Integer, primary_key=True),\n",
    "    Column('EMAIL', Text, nullable=False)\n",
    ")   #Create object\n",
    "```\n",
    "\n",
    "Now the there is \n",
    "\n",
    "Meta            ORM         RDBMS\n",
    "\n",
    "Info(table object)\n",
    "\n",
    "                ----> (Need to inform to create)\n",
    "\n",
    "```\n",
    "meta.create_all(engine, [meta.tables['Info']])\n",
    "    #Inform RDBMS to create table from DB\n",
    "```\n",
    "\n",
    "The result will be\n",
    "\n",
    "Meta            ORM         RDBMS\n",
    "\n",
    "Info(table object)\n",
    "\n",
    "                ---->       Info (I'm here!)\n",
    "\n",
    "### How to command by Python?\n",
    "\n",
    "```\n",
    "#Old version\n",
    "select(User)                                        #Require all data from table\n",
    "insert(User).values(NAME=\"what\")                    #Insert NAME value \"what\" to the table\n",
    "insert(User).values(NAME=\"what\").compile().params   #compile().params can make us to know value, type, and attribute\n",
    "insert(User).values(NAME=\"what\", FK=1)              #At once, give value NAME and FK\n",
    "join(meta.tables['user'], meta.tables['Info2'])     #For no error, you have to bind by FK\n",
    "join(meta.tables['user'], meta.tables['Info2'], meta.tables['user'].c['PK']==meta.tables['Info2'].c['FK'])\n",
    "#3rd argument will be the On parameter!\n",
    "\n",
    "#New version\n",
    "User.select()\n",
    "User.join(Info2, User.c.FK==Info2.c.PK)\n",
    "\n",
    "meta.tables.keys()                  #Return dictionary keys of meta (Tables)\n",
    "meta.tables['user'].c               #Check column\n",
    "meta.tables['user'].columns.PK      #Check class and structure of PK\n",
    "meta.tables['user'].c.['PK'] == 1   #Logical Operator is possible\n",
    "#--------------------------|         is PK value\n",
    "\n",
    "User.select().where(User.c['PK'] == 1))                         #Using where\n",
    "User.select().where(or_(User.c['PK'] == 1, User.c['PK'] == 2))  #Using or_, and_\n",
    "User.select().order_by(User.c['PK'])                            #Order by\n",
    "\n",
    "```\n",
    "\n",
    "Notice: When you fetchall() the data, they put in as a class\n",
    "\n",
    "```\n",
    "userList = engine.execute(select(User)).fetchall()\n",
    "userList[0]\n",
    ">>> (1, 'what')\n",
    "```\n",
    "\n",
    "### Dynamically insert data\n",
    "\n",
    "```\n",
    "for person in ['p1', 'p2', 'p3']:\n",
    "    engine.execute(User.insert().values(NAME=person))   #Just Put Indicator!\n",
    "```\n",
    "\n",
    "### Select + Join\n",
    "\n",
    "```\n",
    "#Old version\n",
    "select([User.c.PK, Info3.c.FK]).select_from(\n",
    "    join(User, Info3)\n",
    ")\n",
    "\n",
    "#New version\n",
    "select([Artist.c.NAME, Album.c.NAME]).select_from(\n",
    "    Album.join(Artist, Album.c.FK==Artist.c.PK)\n",
    ")\n",
    "\n",
    "#For using ON with FK\n",
    "\n",
    "select([User.c.PK, Info2.c.NAME]).select_from(\n",
    "    join(User, Info2, User.c.PK==Info2.c.FK)\n",
    ")\n",
    "```\n",
    "\n",
    "### 3-Join\n",
    "\n",
    "```\n",
    "Album.join(Artist, Album.c.FK==Artist.c.PK).join(Track, Track.c.AFK==Album.c.PK)\n",
    "\n",
    "#or\n",
    "\n",
    "select([Artist.c.NAME, Album.c.NAME, Track.c.NAME]).select_from(\n",
    "    Album.join(Artist, Album.c.FK==Artist.c.PK).join(Track, Track.c.AFK==Album.c.PK)\n",
    ")\n",
    "```\n",
    "\n",
    "### Close\n",
    "\n",
    "# Remeber to close using ```conn.close()```"
   ]
  },
  {
   "cell_type": "markdown",
   "metadata": {},
   "source": [
    "# Regular Expression\n",
    "\n",
    "### When we use?\n",
    "\n",
    "We use to find pattern and find the desired text\n",
    "\n",
    "It is the fastest in text managing (Not for english)\n",
    "\n",
    "* . - any character\n",
    "* * - zero, one or more\n",
    "* + - one or more\n",
    "* ? - zero or one (앞에 것들이 있던지 없던지)\n",
    "* {} - Specified number of occurences (숫자가 들어감 minimum부터 maximum까지)\n",
    "\n",
    "* ^x - ~로 시작하는\n",
    "* x$ - ~로 끝나는\n",
    "* .x - 한글자 아무거나 하나 존재해야하고 x가 있어야함\n",
    "* x+ - 한개 이상, x가 한번 이상 반복되는 형태\n",
    "* x? - 있거나 없거나 x라는 문자가 있거나 없거나\n",
    "* x* - x도 되고 xx도 되고 a도 된다 (0번도 가능하니깐)\n",
    "* x|y - or x 또는 y\n",
    "* (?:x) - 캡쳐하지 않는 구릅은 들어가지 안흔ㄴ다\n",
    "* x{n} - x가 n번 반복한 문자를 찾는다\n",
    "* x{n,m} - ,를 기준으로 앞에가 최소 n번 최대 m번 x를 반복된 문자를 찾는다\n",
    "\n",
    "* [] - 이 중에 하나 ex)[abc] - 셋 중 하나\n",
    "* [-] - a부터 c까지 중 하나 [x-y]\n",
    "* [^] - 이중에 하나가 아닌 나머지[^xy] -> x또는 y가 아닌 글자\n",
    "* \\^ - escape 되는 문자 ex)print('\\\\n')\n",
    "\n",
    "대문자와 소문자는 서로 반대\n",
    "\n",
    "* \\b - 문자와 공백 사이의 문자를 찾습니다 / 알파벳 숫자 등을 구분해서 분리시키는 것\n",
    "* \\B - non-word boundary\n",
    "* \\d - digit\n",
    "* \\D - 숫자가 아닌 문자들\n",
    "* \\s - 무언가를 구분 짓는 것들 (문자를 의미함), 띄어쓰기 탭 new line 등을\n",
    "\n",
    "ex) (ht{2}ps?):// we can collect url\n",
    "\n",
    "(\\+?[\\d]{1,2}.?)?([\\d공일이삼사오육칠팔구]{2,3})?.?[\\d공일이삼사오육칠팔구]{4}.?[\\d공일이삼사오육칠팔구]{4} To scrape phone number\n",
    "\n",
    "\\b[a-zA-Z0-9\\-_]{3,}@(\\.?[a-z0-9.\\-_]+)+ To scrape email\n",
    "\n",
    "### Use code for regular expression\n",
    "\n",
    "**Notice! use raw data r''!**\n",
    "\n",
    "```\n",
    "import re\n",
    "\n",
    "data='''\n",
    "02-1234-1232\n",
    "010-1234-1234\n",
    "010 1234 1234\n",
    "010.1234.1234\n",
    "01공 일23사 1234\n",
    "'''\n",
    "\n",
    "rst = re.search(r'([0-9]{2,3}).?([0-9]{4}).?([0-9]{4})', data)\n",
    "# Result, search result from data split by regular expression\n",
    "\n",
    "rst.span, rst.groups(), rst.group(), rst.group(1), rst.group(2), rst.group(3)\n",
    ">>> <function Match.span(group=0, /)>,\n",
    " ('02', '1234', '1232'),\n",
    " '02-1234-1232',\n",
    " '02',\n",
    " '1234',\n",
    " '1232')\n",
    "\n",
    "rst = re.findall(r'([0-9]{2,3}).?([0-9]{4}).?([0-9]{4})', data)\n",
    "#Find all data\n",
    ">>>[('02', '1234', '1232'),\n",
    " ('010', '1234', '1234'),\n",
    " ('010', '1234', '1234'),\n",
    " ('010', '1234', '1234')]\n",
    "\n",
    "re.match(r'Life', 'My Life is too short')\n",
    "re.search(r'^Life', 'My Life is too short')\n",
    "#Two function is same\n",
    "#inorder to make same, put ^ to the search function\n",
    "```\n",
    "\n",
    "##### Lazy vs Greedy\n",
    "\n",
    "Greedy - The result is last matched result\n",
    "\n",
    "Lazy - The first result which is first matched result"
   ]
  }
 ],
 "metadata": {
  "kernelspec": {
   "display_name": "KoreaUniv",
   "language": "python",
   "name": "python3"
  },
  "language_info": {
   "codemirror_mode": {
    "name": "ipython",
    "version": 3
   },
   "file_extension": ".py",
   "mimetype": "text/x-python",
   "name": "python",
   "nbconvert_exporter": "python",
   "pygments_lexer": "ipython3",
   "version": "3.9.18"
  }
 },
 "nbformat": 4,
 "nbformat_minor": 2
}
