{
 "cells": [
  {
   "cell_type": "code",
   "execution_count": null,
   "metadata": {},
   "outputs": [],
   "source": [
    "# URLs\n",
    "# PK  HOST\n",
    "# PK  LINK  Visited  FK REGDATE\n",
    "#     네이버 검색 결과 들어갈 것\n",
    "#     (네이버 블로그 어디서부터 왔는지 모름\n",
    "#     그래서 FK 넣어줌)\n",
    "\n",
    "#     네이버 블로그1 FK = 1\n",
    "#     네이버 블로그1 FK = 1\n",
    "# 이때, count(FK)시 1번 페이지가 갖는 전체 link의 수가 될 것\n",
    "# PR = inbound/전체 link \n",
    "# Group by LINK WHERE FK = 1 ==> 1번 사이트에서 온 블로그들 return\n",
    "\n"
   ]
  },
  {
   "cell_type": "code",
   "execution_count": null,
   "metadata": {},
   "outputs": [],
   "source": [
    "# 전체적인 scheme은\n",
    "# LINK \n",
    "# PK        LINK        Visited         FK          inbound         REGDATE\n",
    "# 1     /search?q=수지                   1              0\n",
    "# 2     /id/303030                       2              1\n",
    "# 3     /id/123123                       2              1\n",
    "\n",
    "# 여기서 FK는 어떤 host에서 왔는지 의미함\n",
    "# inbound는 어디서 왔는지 의미함 / 가중치를 의미하기도 함\n",
    "# REGDATE - 언제 긁었는지\n",
    "# Y/N - 긁었는지 안긁었는지\n",
    "# ex)\n",
    "# LINKS WHERE Y/N = 'N' ORDER BY PK LIMIT 0,N\n",
    "\n",
    "# URLs\n",
    "# PK        HOST\n",
    "# 1         네이버 검색 결과\n",
    "# 2         네이버 블로그\n"
   ]
  },
  {
   "cell_type": "code",
   "execution_count": null,
   "metadata": {},
   "outputs": [],
   "source": [
    "# 네이버\n",
    "# 먼저 url에서 공통적으로 겹치는 애들이 있음\n",
    "# 쪼개자\n",
    "# 그랬을때 2번쨰 cell에서 아래의 scheme이 나오게 되며 link도 바뀌게 된다\n",
    "#"
   ]
  },
  {
   "cell_type": "code",
   "execution_count": null,
   "metadata": {},
   "outputs": [],
   "source": [
    "import sqlite3"
   ]
  },
  {
   "cell_type": "code",
   "execution_count": null,
   "metadata": {},
   "outputs": [],
   "source": [
    "con = sqlite3.connect(':memory:')\n",
    "cur = con.cursor()"
   ]
  },
  {
   "cell_type": "code",
   "execution_count": null,
   "metadata": {},
   "outputs": [],
   "source": [
    "cur.executescript('''\n",
    "    CREATE TABLE URLs(\n",
    "        PK INTEGER PRIMARY KEY,\n",
    "        SCHEME TEXT NOT NULL DEFAULT 'http',\n",
    "        NETLOC TEXT NOT NULL,\n",
    "        REGDATTE TIMESTAMP NOT NULL DEFAULT CURRENT_TIMESTAMP      \n",
    "    );\n",
    "''')"
   ]
  },
  {
   "cell_type": "code",
   "execution_count": null,
   "metadata": {},
   "outputs": [],
   "source": [
    "cur.execute('INSERT INTO URLs(NETLOC) VALUES(\"www.naver.com\")')"
   ]
  },
  {
   "cell_type": "code",
   "execution_count": null,
   "metadata": {},
   "outputs": [],
   "source": [
    "cur. execute('SELECT * FROM URLs')\n",
    "cur.fetchall()"
   ]
  },
  {
   "cell_type": "code",
   "execution_count": null,
   "metadata": {},
   "outputs": [],
   "source": [
    "cur.execute('DELETE FROM URLs')"
   ]
  },
  {
   "cell_type": "code",
   "execution_count": null,
   "metadata": {},
   "outputs": [],
   "source": [
    "cur.executescript('''\n",
    "    DROP TABLE IF EXISTS URLs;\n",
    "    CREATE TABLE URLs(\n",
    "        PK INTEGER PRIMARY KEY,\n",
    "        SCHEME TEXT NOT NULL DEFAULT 'http',\n",
    "        NETLOC TEXT NOT NULL,\n",
    "        REGDATTE TIMESTAMP NOT NULL DEFAULT CURRENT_TIMESTAMP      \n",
    "    );\n",
    "                  \n",
    "    DROP TABLE IF EXISTS LINKs;\n",
    "    CREATE TABLE LINKs(\n",
    "        PK INTEGER PRIMARY KEY,\n",
    "        PATH TEXT NOT NULL DEFAULT '/',\n",
    "        QS TEXT ,\n",
    "        FK INTEGER NOT NULL, => 도메인떔에 어느 도메인에 속했는지\n",
    "        REF INTEGER NOT NULL, => 이전 도메인 outbound, inbound 링크의 출처가 된다\n",
    "        VISITED INTEGER NOT NULL DEFAULT 0, => page 방문 여부\n",
    "        REGDATTE TIMESTAMP NOT NULL DEFAULT CURRENT_TIMESTAMP      \n",
    "    );\n",
    "''')\n",
    "# 어디로부터 왔는지 알아야함"
   ]
  },
  {
   "cell_type": "code",
   "execution_count": null,
   "metadata": {},
   "outputs": [],
   "source": [
    "from requests.compat import urlparse\n",
    "\n",
    "# urls table 검사해서 PK 찾는 구문/ 필요시에 insert도 함\n",
    "url = 'https://search.naver.com/search.naver?where=nexearch&sm=top_hty&fbm=0&ie=utf8&query=%EC%88%98%EC%A7%80'\n",
    "url_seg = urlparse(url)\n",
    "\n",
    "cur.execute('SELECT PK FROM URLs WHERE NETLOC=?', (url_seg.netloc,))\n",
    "temp = cur.fetchone()\n",
    "\n",
    "if not temp:\n",
    "    cur.execute('INSERT INTO URLs (SCHEME, NETLOC) VALUES(?,?)', url_seg[:2])\n",
    "\n",
    "cur.execute('SELECT PK FROM URLs WHERE NETLOC=?', (url_seg.netloc,))\n",
    "PK = cur.fetchone()[0]"
   ]
  },
  {
   "cell_type": "code",
   "execution_count": null,
   "metadata": {},
   "outputs": [],
   "source": [
    "cur.execute('SELECT * FROM URLs')\n",
    "cur.fetchall()"
   ]
  },
  {
   "cell_type": "code",
   "execution_count": null,
   "metadata": {},
   "outputs": [],
   "source": [
    "# PK를 찾았으니 link에 넣고 link에서도 검사함\n",
    "cur.execute('SELECT COUNT(PK) FROM LINKs WHERE FK=? AND PATH=?', (PK, url_seg.path))\n",
    "if cur.fetchone()[0] == 0:\n",
    "    cur.execute('INSERT INTO LINKs(PATH, QS, FK) VALUES (?, ?, ?)', (url_seg.path, url_seg.query, PK))\n",
    "    # 본래는 commit 까지 해야하지만 지금 memory에서 작업하므로 없어도 됨"
   ]
  },
  {
   "cell_type": "code",
   "execution_count": null,
   "metadata": {},
   "outputs": [],
   "source": [
    "cur.execute('SELECT * FROM LINKs')\n",
    "cur.fetchall()\n",
    "# 한개만 들어가는게 맞음\n",
    "# 여러개 들어가면 조건을 잘못 만들어놓은 것"
   ]
  },
  {
   "cell_type": "code",
   "execution_count": null,
   "metadata": {},
   "outputs": [],
   "source": [
    "from requests.compat import urljoin, urlunparse\n",
    "from requests import get\n",
    "from bs4 import BeautifulSoup\n",
    "import re\n",
    "\n",
    "# 여기 파일 보고 고쳐야함\n",
    "\n",
    "cur.execute('''\n",
    "            SELECT SCHEME, NETLOC, PATH, QS FROM URLs\n",
    "            INNER JOIN LINKs\n",
    "            ON LINKs.FK = URLs.PK\n",
    "            WHERE VISITED=0\n",
    "            ORDER BY LINKs.REGDATTE ASC\n",
    "            LIMIT 0, 10\n",
    "            ''')\n",
    "\n",
    "urls = cur.fetchall()\n",
    "while True:\n",
    "        # asc => queue의 형태로 한번에 최대 10개 페이지 수집\n",
    "        cur.execute('''\n",
    "                SELECT B.PK, B.FK, A.SCHEME, A.NETLOC, B.REF, B.PATH, B.QS FROM URLs AS A\n",
    "                INNER JOIN LINKs AS B\n",
    "                ON B.FK = A.PK\n",
    "                WHERE B.VISITED=0\n",
    "                ORDER BY B.REGDATTE ASC\n",
    "                LIMIT 0, 10\n",
    "                ''')\n",
    "        urls = cur.fetchall()\n",
    "        # A.PK => 어느 사이트로부터 왔는가\n",
    "        # B.PK => 수집했는지 여부 (UPDATE 시 필요)\n",
    "        # B.FK => \n",
    "        if len(urls) == 0:\n",
    "                break\n",
    "\n",
    "        while urls:\n",
    "                url_seg = urls.pop(0)\n",
    "                url = urlunparse((url_seg[3], url_seg[4], url_seg[5], None, url_seg[6], None))\n",
    "                \n",
    "                resp = get(url)\n",
    "                cur.execte('UPDATE LINKs SET VISITED = 1 WEHRE PK = ?', (url_seg[1],))\n",
    "                con.commit()\n",
    "\n",
    "                if resp.status_code == 200 and re.search(r'text/html', resp.headers['content-type']):\n",
    "                        dom = BeautifulSoup(resp.text)\n",
    "                        for tag in dom.select('a[href], iframe[src]'):\n",
    "                                link = tag.attrs['href' if tag.hass_attr('href') else 'src']\n",
    "                                newLink = urljoin(url, link)\n",
    "\n",
    "                                newlink_seg = urlparse(newLink)\n",
    "                                cur.execute('SELECT PK FROM URLs WHERE NETLOC=?', (newlink_seg.netloc,))\n",
    "                                temp = cur.fetchone()\n",
    "\n",
    "                                if not temp:\n",
    "                                        cur.execute('INSERT, INTO URLs (SCHEME, NETLOC) VALUES(?,?)', newlink_seg[:2])\n",
    "                                cur.execute('SELECT PK FROM URLs WHERE NETLOC=?', (url_seg.netloc,))\n",
    "                                temp = cur.fetchone()\n",
    "\n",
    "                                if not temp:\n",
    "                                        cur.execute('INSERT INTO URLs (SCHEME, NETLOC) VALUES(?,?)', url_seg[:2])\n",
    "\n",
    "                                cur.execute('SELECT PK FROM URLs WHERE NETLOC=?', (url_seg.netloc,))\n",
    "                                PK = cur.fetchone()[0]\n",
    "                        \n",
    "# 지금 이름이 달라서 그냥 불러오는데 원래는 DOT NOTATION으로 가져오ㅓㅏ야함"
   ]
  },
  {
   "cell_type": "code",
   "execution_count": null,
   "metadata": {},
   "outputs": [],
   "source": [
    "cur.execute('SELECT * FROM LINKs WHERE VISITED=0')\n",
    "cur.fetchall() # => urls\n",
    "\n",
    "cur.execute('SELECT * FROM LINKs WHERE VISITED=1')\n",
    "cur.fetchall() # => visited"
   ]
  },
  {
   "cell_type": "code",
   "execution_count": null,
   "metadata": {},
   "outputs": [],
   "source": [
    "cur.execute('''\n",
    "            SELECT COUNT(*) FROM LINKs WHERE FK = 1\n",
    "            ''')\n",
    "cur.fetchall()[0]"
   ]
  },
  {
   "cell_type": "code",
   "execution_count": null,
   "metadata": {},
   "outputs": [],
   "source": [
    "cur.execute('''\n",
    "            SELECT COUNT(*) FROM LINKs WHERE REF = 1\n",
    "            ''')\n",
    "cur.fetchall()[0]\n",
    "# 1번 페이지로 URL 개수\n",
    "# 1번 도메인의 outbound link의 수"
   ]
  },
  {
   "cell_type": "code",
   "execution_count": null,
   "metadata": {},
   "outputs": [],
   "source": [
    "# 이떄, 각 가중치에 관하여 확률을 구하느데\n",
    "# 각 수식이 존재함\n",
    "cur.close()"
   ]
  },
  {
   "cell_type": "code",
   "execution_count": null,
   "metadata": {},
   "outputs": [],
   "source": [
    "# ORM\n",
    "# 이제는 class로 만들어서 넣을 수 있음\n",
    "# 더이상 SQL문은 필요가 없음\n",
    "# class를 선언 시에는 create_engine의 dialogue를 통해서 해석된다\n",
    "# base를 상속받아서 class 선언시에 사용해야한다\n",
    "# session을 통해서 관리함\n",
    "# 객체로 표현된 애와 실제 db 사이에 왔다갔다해야하는 모든 경우에\n",
    "# 주시하다가 우리를 대신 왔다갔다함\n",
    "# session에 등록된 객체는 table에 왔다갔다가 하는 것을 session이 관리함\n",
    "# pending이 존재 이것을 풀어줘야하는데 이것을 commit()을 통해서 푼다"
   ]
  },
  {
   "cell_type": "code",
   "execution_count": null,
   "metadata": {},
   "outputs": [],
   "source": [
    "from sqlalchemy.engine import create_engine\n",
    "from sqlalchemy.ext.declarative import declarative_base\n",
    "from sqlalchemy.schema import Column, ForeignKey\n",
    "from sqlalchemy.types import Integer, Text\n",
    "from sqlalchemy.orm.session import sessionmaker"
   ]
  },
  {
   "cell_type": "code",
   "execution_count": null,
   "metadata": {},
   "outputs": [],
   "source": [
    "engine = create_engine('sqlite:///:memory:', echo=True)"
   ]
  },
  {
   "cell_type": "code",
   "execution_count": null,
   "metadata": {},
   "outputs": [],
   "source": [
    "base = declarative_base()"
   ]
  },
  {
   "cell_type": "code",
   "execution_count": null,
   "metadata": {},
   "outputs": [],
   "source": [
    "class User(base):\n",
    "    __tablename__ = 'T_USER'\n",
    "    __table_args__ = {'extend_existing':True}   # 이거 기술 문서 보면서 원하는 것 집어넣으면 됨\n",
    "\n",
    "    pk = Column('PK', Integer, primary_key = True)\n",
    "    name = Column('NAME', Text, nullable=False)\n",
    "\n",
    "    def __repr__(self):\n",
    "        return f'pk={self.pk}, name = {self.name}'\n",
    "    # class의 instance호출 == DB랑 아무 상관 없\n",
    "    # 얘는 base에 등록된 user라고 하는 class 이다"
   ]
  },
  {
   "cell_type": "code",
   "execution_count": null,
   "metadata": {},
   "outputs": [],
   "source": [
    "base.metadata.tables\n",
    "# orm의 table 객체를 의미함"
   ]
  },
  {
   "cell_type": "code",
   "execution_count": null,
   "metadata": {},
   "outputs": [],
   "source": [
    "base .metadata.create_all(engine)\n",
    "# table 객체를 sql문으로 해석해서 table 생성하는 역할\n",
    "# 즉, table 생성 시 객체를 db에 반영함"
   ]
  },
  {
   "cell_type": "code",
   "execution_count": null,
   "metadata": {},
   "outputs": [],
   "source": [
    "# Mapping:base            ORM:core            DB\n",
    "# declarative_base        Meta                RDBMS\n",
    "# class(base) ->          table 객체  ->      table 생김\n",
    "# 오늘은 mapping:base를 본다"
   ]
  },
  {
   "cell_type": "code",
   "execution_count": null,
   "metadata": {},
   "outputs": [],
   "source": [
    "a = User(name='아무개')\n",
    "# 아직 db에 안들어갔으므로 pk값이 없음\n",
    "# 이때, session maker를 통해 sessioln 만들고 bound 할 것임"
   ]
  },
  {
   "cell_type": "code",
   "execution_count": null,
   "metadata": {},
   "outputs": [],
   "source": [
    "session = sessionmaker(engine)\n",
    "sess = session()"
   ]
  },
  {
   "cell_type": "code",
   "execution_count": null,
   "metadata": {},
   "outputs": [],
   "source": [
    "sess.add(a)\n",
    "# 여기서 add는 session 객체가 주시하고 있는 class의 instance들을 등록하는 과정이다\n",
    "# 그래서 sess.dirty, sess.ismodified(a) -> 무언가 변화했을때 dirty에 기록하고 있음 / 비어있으면 변화 없음\n",
    "# ismodified -> 특정 객체가 어떻게 되었는지 의미함 "
   ]
  },
  {
   "cell_type": "code",
   "execution_count": null,
   "metadata": {},
   "outputs": [],
   "source": [
    "sess.commit()\n",
    "# 이때, insert를 함\n",
    "# 이 후에는 ismodified가 False로 바뀌므로 sync가 맞다는 의미이다\n",
    "# 이 후 a를 호출하면 db에 저장되어서 pk가 나올 수 있다"
   ]
  },
  {
   "cell_type": "code",
   "execution_count": null,
   "metadata": {},
   "outputs": [],
   "source": [
    "a.pk"
   ]
  },
  {
   "cell_type": "code",
   "execution_count": null,
   "metadata": {},
   "outputs": [],
   "source": [
    "a.name = \"이름 바꿈\""
   ]
  },
  {
   "cell_type": "code",
   "execution_count": null,
   "metadata": {},
   "outputs": [],
   "source": [
    "sess.dirty"
   ]
  },
  {
   "cell_type": "code",
   "execution_count": null,
   "metadata": {},
   "outputs": [],
   "source": [
    "sess.commit()\n",
    "# 알아서 update 구문이 돌아감"
   ]
  },
  {
   "cell_type": "code",
   "execution_count": null,
   "metadata": {},
   "outputs": [],
   "source": [
    "sess.query()\n",
    "# query를 불러옴 대응되는 객체로 가져옴\n",
    "# 여기서 userㄹ르 가져와보자"
   ]
  },
  {
   "cell_type": "code",
   "execution_count": null,
   "metadata": {},
   "outputs": [],
   "source": [
    "sess.query(User).all()\n",
    "# 전체 데이터를 가져올 것\n",
    "sess.query(User).all()[0] is a"
   ]
  },
  {
   "cell_type": "code",
   "execution_count": null,
   "metadata": {},
   "outputs": [],
   "source": [
    "# filter를 입혀보자\n",
    "sess.query(User).filter(User.pk == 1).all()[0] is a\n",
    "# sess.query(User).all()[0] => User라는 객체다, 따라서 dot notation으로 값을 불러올 수 있다"
   ]
  },
  {
   "cell_type": "code",
   "execution_count": null,
   "metadata": {},
   "outputs": [],
   "source": [
    "base.registry.dispose()\n",
    "# base에 등록된 class를 날리는 것"
   ]
  },
  {
   "cell_type": "code",
   "execution_count": null,
   "metadata": {},
   "outputs": [],
   "source": [
    "base.metadata.tables"
   ]
  },
  {
   "cell_type": "code",
   "execution_count": null,
   "metadata": {},
   "outputs": [],
   "source": [
    "from sqlalchemy.schema import Table\n",
    "\n",
    "class User(base):\n",
    "    __table__ = Table('T_USER', base.metadata, reflect=True)\n",
    "    # base.metadata.tables['T_USER']\n",
    "    # 위의 코드 실행 후 돌아오면 에러가 날것임\n",
    "    # 이 전에 무조건 reflect로 다시 가져와야함\n",
    "    __table_args__ = {'extend_existing': True} \n",
    "    # reflect (autoload)를 하는 순간 pk랑 name을 그대로 들고옴\n",
    "    # 만약에 pk를 가져오고싶으면 autoload를 지우고\n",
    "\n",
    "    # pk = Column('PK', base.metadata.tables['T_USER'].c.PK)"
   ]
  },
  {
   "cell_type": "code",
   "execution_count": null,
   "metadata": {},
   "outputs": [],
   "source": [
    "class Address(base):\n",
    "    __tablename__ = 'T_ADDRESS'\n",
    "    __table_args__ = {'extend_existing': True}\n",
    "    pk = Column('PK', Integer, primary_key = True)\n",
    "    address = Column('ADDRESS', Text)\n",
    "    fk = ForeignKey(User.PK)"
   ]
  },
  {
   "cell_type": "code",
   "execution_count": null,
   "metadata": {},
   "outputs": [],
   "source": [
    "base.metadata.create_all(engine)"
   ]
  },
  {
   "cell_type": "code",
   "execution_count": null,
   "metadata": {},
   "outputs": [],
   "source": [
    "a = sess.query(User).one()\n",
    "ad = Address(address='주소1', fk=a.PK)\n",
    "sess.add(ad)"
   ]
  },
  {
   "cell_type": "code",
   "execution_count": null,
   "metadata": {},
   "outputs": [],
   "source": [
    "sess.dirty, sess.is_modified(ad)"
   ]
  },
  {
   "cell_type": "code",
   "execution_count": null,
   "metadata": {},
   "outputs": [],
   "source": [
    "sess.commit()"
   ]
  },
  {
   "cell_type": "code",
   "execution_count": null,
   "metadata": {},
   "outputs": [],
   "source": [
    "sess.close()"
   ]
  },
  {
   "cell_type": "code",
   "execution_count": null,
   "metadata": {},
   "outputs": [],
   "source": [
    "engine.dispose()"
   ]
  },
  {
   "cell_type": "code",
   "execution_count": null,
   "metadata": {},
   "outputs": [],
   "source": [
    "base = declarative_base()\n",
    "engine = create_engine('sqlite:///:memory:')\n",
    "\n",
    "class User(base):\n",
    "    __tablename__ = 'T_USER'\n",
    "    pk = Column('PK', Integer, primary_key = True)\n",
    "    name = Column('NAME', Text, nullable=False)\n",
    "\n",
    "class Address(base):\n",
    "    __tablename__ = 'T_ADDRESS'\n",
    "    pk = Column('PK', Integer, primary_key = True)\n",
    "    address = Column('NAME', Text, nullable=False)\n",
    "    fk = Column('FK', Integer, nullable=False)"
   ]
  },
  {
   "cell_type": "code",
   "execution_count": null,
   "metadata": {},
   "outputs": [],
   "source": [
    "base.metadata.create_all(engine)"
   ]
  },
  {
   "cell_type": "code",
   "execution_count": null,
   "metadata": {},
   "outputs": [],
   "source": [
    "session= sessionmaker(engine)\n",
    "sess = session()"
   ]
  },
  {
   "cell_type": "code",
   "execution_count": null,
   "metadata": {},
   "outputs": [],
   "source": [
    "sess.add(User(name=\"이름1\"))"
   ]
  },
  {
   "cell_type": "code",
   "execution_count": null,
   "metadata": {},
   "outputs": [],
   "source": [
    "a = sess.query(User).one()"
   ]
  },
  {
   "cell_type": "code",
   "execution_count": null,
   "metadata": {},
   "outputs": [],
   "source": [
    "sess.add(Address(address='주소1', fk=a.pk))"
   ]
  },
  {
   "cell_type": "code",
   "execution_count": null,
   "metadata": {},
   "outputs": [],
   "source": [
    "sess.query(Address).all()[0].fk"
   ]
  },
  {
   "cell_type": "code",
   "execution_count": null,
   "metadata": {},
   "outputs": [],
   "source": [
    "from sqlalchemy.sql import join\n",
    "\n",
    "# 바뀐건 instance로 들어간다는 것 (관계랑 query params에)\n",
    "\n",
    "sess.query(User.name, Address.address).select_from(join(User, Address, User.pk == Address.fk)).all()"
   ]
  },
  {
   "cell_type": "code",
   "execution_count": null,
   "metadata": {},
   "outputs": [],
   "source": [
    "class Phone(base):\n",
    "    __tablename__ = 'T_PHONE'\n",
    "    pk = Column('PK', Integer, primary_key = True)\n",
    "    phone = Column('PHONE', Text)\n",
    "    fk = ForeignKey(User.pk)"
   ]
  },
  {
   "cell_type": "code",
   "execution_count": null,
   "metadata": {},
   "outputs": [],
   "source": [
    "base.metadata.create_all(engine)"
   ]
  },
  {
   "cell_type": "code",
   "execution_count": null,
   "metadata": {},
   "outputs": [],
   "source": [
    "sess.add(Phone(phone='전화번호', fk = a.pk))\n",
    "sess.commit()"
   ]
  },
  {
   "cell_type": "code",
   "execution_count": null,
   "metadata": {},
   "outputs": [],
   "source": [
    "sess.close_all()\n",
    "base.metadata.clear()\n",
    "engine.dispose()"
   ]
  },
  {
   "cell_type": "code",
   "execution_count": null,
   "metadata": {},
   "outputs": [],
   "source": [
    "engine = create_engine('sqlite:///:memory:', echo=True)\n",
    "session = sessionmaker(engine)\n",
    "sess = session()"
   ]
  },
  {
   "cell_type": "code",
   "execution_count": null,
   "metadata": {},
   "outputs": [],
   "source": [
    "base = declarative_base()\n",
    "\n",
    "class User(base):\n",
    "    __tablename__ = 'T_USER'\n",
    "    pk = Column('PK', Integer, primary_key = True)\n",
    "    name = Column('NAME', Text, nullable=False)\n",
    "\n",
    "class Address(base):\n",
    "    __tablename__ = 'T_ADDRESS'\n",
    "    pk = Column('PK', Integer, primary_key = True)\n",
    "    address = Column('NAME', Text, nullable=False)\n",
    "    fk = Column('FK', Integer, nullable=False)\n",
    "\n",
    "class Phone(base):\n",
    "    __tablename__ = 'T_PHONE'\n",
    "    pk = Column('PK', Integer, primary_key = True)\n",
    "    phone = Column('PHONE', Text)\n",
    "    fk = Column('FK', Integer, ForeignKey(User.name))"
   ]
  },
  {
   "cell_type": "code",
   "execution_count": null,
   "metadata": {},
   "outputs": [],
   "source": [
    "base.metadata.create_all(engine)"
   ]
  },
  {
   "cell_type": "code",
   "execution_count": null,
   "metadata": {},
   "outputs": [],
   "source": [
    "a = User(name = \"이름1\")\n",
    "sess.add(a)\n",
    "sess.commit()"
   ]
  },
  {
   "cell_type": "code",
   "execution_count": null,
   "metadata": {},
   "outputs": [],
   "source": [
    "sess.add(Address(address=\"주소1\", fk = a.pk))\n",
    "sess.commit()"
   ]
  },
  {
   "cell_type": "code",
   "execution_count": null,
   "metadata": {},
   "outputs": [],
   "source": [
    "sess.query(User.name, Address.address).join(Address).all()"
   ]
  },
  {
   "cell_type": "code",
   "execution_count": null,
   "metadata": {},
   "outputs": [],
   "source": [
    "#                                   declrative_base가 다 들고 있음\n",
    "#                   base.metadata.table     base.registry\n",
    "#                   base.metadata.clear()   base.registry.dispose()\n",
    "#         얘는 db에서 reflect해서 받아와야함        => class를 날림 table 객체는 살아있음 / 따라서, table 객체에서 불러오는 것이 가능\n",
    "#                   객체 자체를 날리기 때문임    \n",
    "#  database         ORM-CORE                ORM:mapper\n",
    "# T_USER            Table('T_USER')         User(base)\n",
    "# T_ADDRESS         Table('T_ADDRESS')      Address(base)\n",
    "\n",
    "# join()을 보면 원래는 join(T,T,on = reference/ForeignKey X)\n",
    "# 이미 table들의 관계가 있음 그래서 \n",
    "# ON절 없애고 사용가능함 => fk 옵션을 주었으므로 (객체의 props를 주었음) on절이 생략 가능하다 (자동으로 관계를 의미하므로)\n",
    "# 예를 들어\n",
    "# Left join (Right)\n",
    "# ORM.pdf 보면 됨"
   ]
  },
  {
   "cell_type": "code",
   "execution_count": null,
   "metadata": {},
   "outputs": [],
   "source": [
    "sess.close()\n",
    "base.metadata.clear()\n",
    "engine.dispose()"
   ]
  },
  {
   "cell_type": "code",
   "execution_count": null,
   "metadata": {},
   "outputs": [],
   "source": [
    "engine = create_engine('sqlite:///:memory:', echo=True)\n",
    "session = sessionmaker(engine)\n",
    "sess = session()"
   ]
  },
  {
   "cell_type": "code",
   "execution_count": null,
   "metadata": {},
   "outputs": [],
   "source": [
    "from sqlalchemy.orm import relationship\n",
    "\n",
    "class Artist(base):\n",
    "    __table__ = 'T_ARTIST'\n",
    "    __table_args__ = {'extent_existings': True}\n",
    "    pk = Column('PK', Integer, primary_key = True)\n",
    "    name = Column('NAME', Text)\n",
    "    albums = relationship('Album', back_populates='artists', uselist=True)\n",
    "\n",
    "    def __repr__(self):\n",
    "        return f'pk={self.pk}, name = {self.name}'\n",
    "\n",
    "class Album(base):\n",
    "    __table__ = 'T_ALBUM'\n",
    "    __table_args__ = {'extent_existings': True}\n",
    "    pk = Column('PK', Integer, primary_key = True)\n",
    "    name = Column('NAME', Text)\n",
    "    artists = relationship('Artist', back_populates='albums')\n",
    "    # back_populates를 사용하여 찾아갈 것이다\n",
    "\n",
    "    def __repr__(self):\n",
    "        return f'pk={self.pk}, name = {self.name}'\n",
    "\n",
    "class Genre(base):\n",
    "    pass\n",
    "class Track(base):\n",
    "    pass"
   ]
  },
  {
   "cell_type": "code",
   "execution_count": null,
   "metadata": {},
   "outputs": [],
   "source": [
    "class Artist(base):\n",
    "    __tablename__ = 'T_ARTIST'\n",
    "    __table_args__ = {'extend_existing': True}\n",
    "    pk = Column('PK', Integer, primary_key = True)\n",
    "    name = Column('NAME', Text)\n",
    "    albums = relationship('Album', back_populates='artists')\n",
    "\n",
    "    def __repr__(self):\n",
    "        return f'pk={self.pk}, name = {self.name}'"
   ]
  },
  {
   "cell_type": "code",
   "execution_count": null,
   "metadata": {},
   "outputs": [],
   "source": [
    "class Album(base):\n",
    "    __tablename__ = 'T_ALBUM'\n",
    "    __table_args__ = {'extend_existing': True}\n",
    "    pk = Column('PK', Integer, primary_key = True)\n",
    "    fk = Column('FK', None, ForeignKey(Artist.pk))\n",
    "    name = Column('NAME', Text)\n",
    "    artists = relationship('Artist', back_populates='albums', uselist=True)\n",
    "    # back_populates를 사용하여 찾아갈 것이다\n",
    "\n",
    "    def __repr__(self):\n",
    "        return f'pk={self.pk}, name = {self.name}'"
   ]
  },
  {
   "cell_type": "code",
   "execution_count": null,
   "metadata": {},
   "outputs": [],
   "source": [
    "base.registry.dispose()\n",
    "base.metadata.clear()"
   ]
  },
  {
   "cell_type": "code",
   "execution_count": null,
   "metadata": {},
   "outputs": [],
   "source": [
    "base.metadata.create_all(engine)\n",
    "a = Artist(name = \"가수1\")\n",
    "sess.add(a)\n",
    "sess.commit()"
   ]
  },
  {
   "cell_type": "code",
   "execution_count": null,
   "metadata": {},
   "outputs": [],
   "source": [
    "a = sess.query(Artist).one()\n",
    "a.albums.append(Album(name='가수1의 앨범1'))\n",
    "# 이런식으로 append 가능하고 commit을 잊지말것"
   ]
  },
  {
   "cell_type": "code",
   "execution_count": null,
   "metadata": {},
   "outputs": [],
   "source": [
    "sess.close()\n",
    "base.registry.dispose()\n",
    "base.metadata.clear()\n",
    "engine.dispose()\n",
    "\n",
    "# engine 새롭게 만들고, session 맞춰서 열고\n",
    "# base 상속받아서 class 만들고\n",
    "# existing 수정 시에 class 덮어씌우는 option\n",
    "# relation은 어느 class랑 관계 맺고 있는지\n",
    "# back_populates는 반대로 돌아올 때 어떤 것을 가지고 와야하는지\n",
    "# 이후 a.albums.append()까지하면 instance에만 들어가고 db에 적용되지 않았음\n",
    "# 따라서, commit 해줘야함"
   ]
  }
 ],
 "metadata": {
  "kernelspec": {
   "display_name": "KoreaUniv",
   "language": "python",
   "name": "python3"
  },
  "language_info": {
   "codemirror_mode": {
    "name": "ipython",
    "version": 3
   },
   "file_extension": ".py",
   "mimetype": "text/x-python",
   "name": "python",
   "nbconvert_exporter": "python",
   "pygments_lexer": "ipython3",
   "version": "3.9.18"
  }
 },
 "nbformat": 4,
 "nbformat_minor": 2
}
