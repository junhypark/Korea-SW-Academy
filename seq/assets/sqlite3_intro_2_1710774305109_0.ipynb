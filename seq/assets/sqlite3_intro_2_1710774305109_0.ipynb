{
 "cells": [
  {
   "cell_type": "code",
   "execution_count": null,
   "metadata": {},
   "outputs": [],
   "source": [
    "import sqlite3"
   ]
  },
  {
   "cell_type": "markdown",
   "metadata": {},
   "source": [
    "# Sqlite\n",
    "\n",
    "In order to connect with db which will be test.db sqlite3.connect(DBNAME) will connect to the db file\n",
    "\n",
    "```\n",
    "conn = sqlite3.connect('test.db')\n",
    "cur = conn.cursor()\n",
    "conn.close()\n",
    "```\n",
    "\n",
    "will be the basic form of the sqlite3\n",
    "\n",
    "So the cursor will be the sqlite3\n",
    "\n",
    "Overview structure will be\n",
    "\n",
    "Python --->   SQL   ---> DB\n",
    "\n",
    "python ---> sqlite3 ---> test.db\n",
    "\n",
    "             cursor\n",
    "\n",
    "Basically, cursor will be the sqlite3\n",
    "\n",
    "So if we connect to the db using sqlite3.connect, the cursor will load the db\n",
    "\n",
    "If we execute SQL and want to save the changement, conn.commit() will save the db like github"
   ]
  },
  {
   "cell_type": "code",
   "execution_count": null,
   "metadata": {},
   "outputs": [],
   "source": [
    "conn = sqlite3.connect('test.db')\n",
    "cur = conn.cursor()\n",
    "conn.close()"
   ]
  },
  {
   "cell_type": "code",
   "execution_count": null,
   "metadata": {},
   "outputs": [],
   "source": [
    "conn = sqlite3.connect('test.db')\n",
    "cur = conn.cursor()\n",
    "\n",
    "cur.execute('''\n",
    "            CREATE TABLE CITY(\n",
    "            PK INTEGER PRIMARY KEY,\n",
    "            NAME VARCHAR(1)\n",
    "            );\n",
    "            ''')"
   ]
  },
  {
   "cell_type": "markdown",
   "metadata": {},
   "source": [
    "# SQL execute\n",
    "\n",
    "If we want to execute the SQL query statement, have to use cur.execute\n",
    "\n",
    "```\n",
    "#cur is conn.cursor()\n",
    "cur.execute('''\n",
    "            SQL QUERY STATEMENT\n",
    "            ''')\n",
    "```\n",
    "\n",
    "There are many query statement such as SHOW, JOIN, GROUP BY, etc.\n",
    "\n",
    "Also, after execute statement, if there is no error, then the result command line will be shown like...\n",
    "\n",
    "```\n",
    "sqlite3.Cursor at 0x178460b59d0>\n",
    "```"
   ]
  },
  {
   "cell_type": "code",
   "execution_count": null,
   "metadata": {},
   "outputs": [],
   "source": [
    "cur.execute('''\n",
    "            INSERT INTO CITY (PK, NAME) VALUES (1, \"안암점\");\n",
    "            ''')"
   ]
  },
  {
   "cell_type": "markdown",
   "metadata": {},
   "source": [
    "```\n",
    "cur.execute('''\n",
    "            INSERT INTO CITY (PK, NAME) VALUES (1, \"안암점\");\n",
    "            ''')\n",
    "```\n",
    "\n",
    "Will insert value 1 and \"안암점\" into CITY table with PK and NAME"
   ]
  },
  {
   "cell_type": "code",
   "execution_count": null,
   "metadata": {},
   "outputs": [],
   "source": [
    "gu = \"성북구\"\n",
    "cur.execute('''\n",
    "            INSERT INTO CITY (NAME) VALUES (?)\n",
    "            ''', (gu, ))"
   ]
  },
  {
   "cell_type": "markdown",
   "metadata": {},
   "source": [
    "If we want to put the value non-statically, there are two ways to put\n",
    "\n",
    "one way to put will be question mark and key method\n",
    "\n",
    "```\n",
    "cur.execute('''\n",
    "            INSERT INTO CITY (NAME) VALUES (?)\n",
    "            ''', (DESIRED VALUE, ))\n",
    "\n",
    "or\n",
    "\n",
    "cur.execute('''\n",
    "            INSERT INTO CITY (NAME) VALUES (:key)\n",
    "            ''', {'key': DESIRED VALUE})\n",
    "```\n",
    "\n",
    "Both other argument should be iterable\n",
    "\n",
    "want to see table...\n",
    "\n",
    "```\n",
    "cur.execute('SELECT * FROM CITY')\n",
    "city = cur.fetchall()\n",
    "```\n",
    "\n",
    "Will show every fetched database\n",
    "\n",
    "There are other functions to see such as fetchone() - show only one / fetchmany() - show many of them (partially show)\n",
    "\n",
    "If we want to put various values into it\n",
    "\n",
    "```\n",
    "cur.execute('''\n",
    "            INSERT INTO CITY (NAME) VALUES (:key)\n",
    "            ''', ((DESIRED VALUE1), (DESIRED VALUE2), (DESIRED VALUE3)))\n",
    "```\n",
    "\n",
    "for question mark method...\n",
    "\n",
    "```\n",
    "cur.execute('''\n",
    "            INSERT INTO CITY (PK, NAME) VALUES (?, ?)\n",
    "            ''', ((DESIRED VALUE1), (DESIRED VALUE2), (DESIRED VALUE3)))\n",
    "```\n",
    "\n",
    "The second argument must be iterable\n",
    "\n",
    "or we can change second argument like\n",
    "\n",
    "```\n",
    "({'no': DESIRED VALUE1}, {'no': DESIRED VALUE2}, ...)\n",
    "```\n",
    "\n",
    "```\n",
    "SELECT PK FROM CITY WHERE NAME LIKE ?\n",
    "```\n",
    "\n",
    "Find EXACTLY same name from city table\n",
    "\n",
    "%NAME% is finding the value that having the value\n",
    "\n",
    "```\n",
    "TABLE AS A\n",
    "```\n",
    "\n",
    "Declare table as A which is similar with variable\n",
    "\n",
    "```\n",
    "GROUP BY B.PK\n",
    "ORDER BY B.PK ASC\n",
    "```\n",
    "\n",
    "Group by - is bind values by B.PK\n",
    "\n",
    "Order by - show the values order by B.PK values with ascending values\n",
    "\n",
    "Using GROUP BY, we can use COUNT() to see how much rows we have\n",
    "\n",
    "### Join\n",
    "\n",
    "There are various join\n",
    "\n",
    "1. Inner join\n",
    "2. Left join\n",
    "3. Right join\n",
    "4. Outer join\n",
    "\n",
    "Each left and right will be decided by the table name first show up"
   ]
  },
  {
   "cell_type": "code",
   "execution_count": null,
   "metadata": {},
   "outputs": [],
   "source": [
    "cur.execute('''\n",
    "            INSERT INTO CITY (NAME) VALUES (:key)\n",
    "            ''', {'key':gu})"
   ]
  },
  {
   "cell_type": "code",
   "execution_count": null,
   "metadata": {},
   "outputs": [],
   "source": [
    "cur.executemany('''\n",
    "            INSERT INTO CITY (NAME) VALUES (?)\n",
    "            ''', (('노원구',), ('강북구', ), ('중구',)))"
   ]
  },
  {
   "cell_type": "code",
   "execution_count": null,
   "metadata": {},
   "outputs": [],
   "source": [
    "cur.lastrowid #recent id values\n",
    "cur.execute('SELECT * FROM CITY')\n",
    "city = cur.fetchall()"
   ]
  },
  {
   "cell_type": "code",
   "execution_count": null,
   "metadata": {},
   "outputs": [],
   "source": [
    "conn.close()"
   ]
  },
  {
   "cell_type": "code",
   "execution_count": null,
   "metadata": {},
   "outputs": [],
   "source": [
    "conn = sqlite3.connect('test.db')\n",
    "cur = conn.cursor()\n",
    "cur.execute('SELECT * FROM CITY')\n",
    "cur.fetchall()"
   ]
  },
  {
   "cell_type": "code",
   "execution_count": null,
   "metadata": {},
   "outputs": [],
   "source": [
    "cur.executescript('''\n",
    "                  DROP TABLE IF EXISTS SUPPLIER;\n",
    "                CREATE TABLE SUPPLIER (\n",
    "                  PK INTEGER PRIMARY KEY,\n",
    "                  NAME TEXT,\n",
    "                  FK INTEGER NOT NULL\n",
    "                );\n",
    "                  \n",
    "                  DROP TABLE IF EXISTS PART;\n",
    "                CREATE TABLE PART(\n",
    "                  PK INTEGER PRIMARY KEY,\n",
    "                  NAME TEXT\n",
    "                );\n",
    "                  \n",
    "                  DROP TABLE IF EXISTS SELLS;\n",
    "                CREATE TABLE SELLS(\n",
    "                  FK1 INTEGER NOT NULL,\n",
    "                  FK2 INTEGER NOT NULL\n",
    "                );\n",
    "                ''')"
   ]
  },
  {
   "cell_type": "code",
   "execution_count": null,
   "metadata": {},
   "outputs": [],
   "source": [
    "#Qmark\n",
    "cur.executemany('''\n",
    "                INSERT INTO CITY (PK, NAME) VALUES(?, ?)\n",
    "                ''',    ((1, '성북구'),(2, '강북구'),('3', \"중구\")))"
   ]
  },
  {
   "cell_type": "code",
   "execution_count": null,
   "metadata": {},
   "outputs": [],
   "source": [
    "#named\n",
    "cur.executemany('''\n",
    "                INSERT INTO PART VALUES(:no, :name)\n",
    "                ''', ({'no':'1','name':'아메리카노'},{'no':'2','name':'카페라떼'},{'no':'3','name':'바닐라라떼'},{'no':'4','name':'아이스티'}))"
   ]
  },
  {
   "cell_type": "code",
   "execution_count": null,
   "metadata": {},
   "outputs": [],
   "source": [
    "conn.commit()"
   ]
  },
  {
   "cell_type": "code",
   "execution_count": null,
   "metadata": {},
   "outputs": [],
   "source": [
    "conn.close()"
   ]
  },
  {
   "cell_type": "code",
   "execution_count": null,
   "metadata": {},
   "outputs": [],
   "source": [
    "conn = sqlite3.connect('test.db')\n",
    "cur = conn.cursor()"
   ]
  },
  {
   "cell_type": "code",
   "execution_count": null,
   "metadata": {},
   "outputs": [],
   "source": [
    "cur.execute('SELECT * FROM CITY, PART')\n",
    "cur.fetchall()"
   ]
  },
  {
   "cell_type": "code",
   "execution_count": null,
   "metadata": {},
   "outputs": [],
   "source": [
    "# SUPPLIER - 지점\n",
    "# cur.execute('INSERT INTO SUPPLIER VALUES(1, \"안암점\", ?)')\n",
    "gu = \"성북\"\n",
    "cur.execute('SELECT PK FROM CITY WHERE NAME=?', (gu,))\n",
    "cur.fetchall()\n",
    "#아무것도 안나옴 왜? 정확히 일치하는 애가 없으니깐"
   ]
  },
  {
   "cell_type": "code",
   "execution_count": null,
   "metadata": {},
   "outputs": [],
   "source": [
    "gu = '성북'\n",
    "cur.execute('''\n",
    "            SELECT PK FROM CITY WHERE NAME LIKE ?\n",
    "            ORDER BY PK ASC\n",
    "            LIMIT 0, 1\n",
    "            ''', ('%'+gu+'%',))\n",
    "#LIMIT 시작 인덱스,갯수\n",
    "rst = cur.fetchone()\n",
    "fk = None if rst == None else rst[0]\n",
    "fk"
   ]
  },
  {
   "cell_type": "code",
   "execution_count": null,
   "metadata": {},
   "outputs": [],
   "source": [
    "store = '안암점'\n",
    "if fk is not None:\n",
    "    cur.execute('''\n",
    "                INSERT INTO SUPPLIER VALUES(NULL, ?, ?);    \n",
    "''', (store, fk))\n",
    "cur.execute('SELECT * FROM SUPPLIER')\n",
    "cur.fetchall()"
   ]
  },
  {
   "cell_type": "code",
   "execution_count": null,
   "metadata": {},
   "outputs": [],
   "source": [
    "cur.execute('SELECT * FROM SUPPLIER')\n",
    "cur.fetchall()"
   ]
  },
  {
   "cell_type": "code",
   "execution_count": null,
   "metadata": {},
   "outputs": [],
   "source": [
    "# 중첩 SQL\n",
    "cur.execute('''\n",
    "INSERT INTO SUPPLIER VALUES(NULL, ?, (\n",
    "    SELECT PK \n",
    "    FROM CITY \n",
    "    WHERE NAME LIKE ?\n",
    "    ORDER BY PK ASC\n",
    "    LIMIT 0, 1\n",
    "));\n",
    "            ''', ('종암점', '%성북%'))"
   ]
  },
  {
   "cell_type": "code",
   "execution_count": null,
   "metadata": {},
   "outputs": [],
   "source": [
    "cur.execute('SELECT * FROM SUPPLIER')\n",
    "cur.fetchall()"
   ]
  },
  {
   "cell_type": "code",
   "execution_count": null,
   "metadata": {},
   "outputs": [],
   "source": [
    "cur.executemany('''\n",
    "                INSERT INTO SUPPLIER VALUES(NULL, ?, (\n",
    "                SELECT PK\n",
    "                FROM CITY\n",
    "                WHERE NAME LIKE ?\n",
    "                ORDER BY PK ASC\n",
    "                LIMIT 0, 1\n",
    "                ));\n",
    "''', (('3호점', '%강북%'), ('1호점', '%중구%'), ('3호점', '%성북%'), ('2호점', '%강북%')));"
   ]
  },
  {
   "cell_type": "code",
   "execution_count": null,
   "metadata": {},
   "outputs": [],
   "source": [
    "cur.executemany('''\n",
    "    INSERT INTO SELLS VALUES(?, ?)\n",
    "''', ((1,1), (1,2), (2,1), (2,2), (3,4), (4,3), (5,2), (6,1), (7,1)))"
   ]
  },
  {
   "cell_type": "code",
   "execution_count": null,
   "metadata": {},
   "outputs": [],
   "source": [
    "conn.commit()"
   ]
  },
  {
   "cell_type": "code",
   "execution_count": null,
   "metadata": {},
   "outputs": [],
   "source": [
    "cur.execute('SELECT * FROM SELLS')\n",
    "cur.fetchall()"
   ]
  },
  {
   "cell_type": "code",
   "execution_count": null,
   "metadata": {},
   "outputs": [],
   "source": [
    "# city - supplier mix\n",
    "cur.execute('''\n",
    "            SELECT B.NAME, A.NAME FROM SUPPLIER AS A \n",
    "            LEFT JOIN CITY AS B \n",
    "            ON B.PK = A.FK\n",
    "            ORDER BY B.PK ASC\n",
    "            ''')\n",
    "cur.fetchall()"
   ]
  },
  {
   "cell_type": "code",
   "execution_count": null,
   "metadata": {},
   "outputs": [],
   "source": [
    "# city - supplier mix\n",
    "cur.execute('''\n",
    "            SELECT B.NAME, COUNT(A.NAME) FROM SUPPLIER AS A \n",
    "            LEFT JOIN CITY AS B \n",
    "            ON B.PK = A.FK\n",
    "            GROUP BY B.PK\n",
    "            ORDER BY B.PK ASC\n",
    "            ''')\n",
    "cur.fetchall()"
   ]
  },
  {
   "cell_type": "code",
   "execution_count": null,
   "metadata": {},
   "outputs": [],
   "source": [
    "#SUPPLIER - PART - SELLS\n",
    "cur.execute('''\n",
    "            SELECT B.NAME, C.NAME\n",
    "            FROM SELLS AS A\n",
    "            INNER JOIN SUPPLIER AS B\n",
    "            ON B.PK = A.FK1\n",
    "            INNER JOIN PART AS C\n",
    "            ON C.PK = A.FK2\n",
    "''')\n",
    "cur.fetchall()"
   ]
  },
  {
   "cell_type": "code",
   "execution_count": null,
   "metadata": {},
   "outputs": [],
   "source": [
    "cur.execute('''\n",
    "            SELECT A.NAME, COUNT(C.NAME)\n",
    "            FROM PART AS A\n",
    "            LEFT JOIN SELLS AS B\n",
    "            ON A.PK = B.FK2\n",
    "            INNER JOIN SUPPLIER AS C\n",
    "            ON B.FK1 = C.PK\n",
    "            GROUP BY A.PK\n",
    "''')\n",
    "cur.fetchall()"
   ]
  },
  {
   "cell_type": "code",
   "execution_count": null,
   "metadata": {},
   "outputs": [],
   "source": [
    "cur.execute('''\n",
    "            SELECT D.NAME, A.NAME, C.NAME, COUNT(C.NAME)\n",
    "            FROM SUPPLIER AS A\n",
    "            LEFT JOIN SELLS AS B\n",
    "            ON A.PK = B.FK2\n",
    "            INNER JOIN PART AS C\n",
    "            ON B.FK1 = C.PK\n",
    "            INNER JOIN CITY AS D\n",
    "            ON D.PK = A.FK\n",
    "            GROUP BY C.PK\n",
    "''')\n",
    "cur.fetchall()\n",
    "\n",
    "#executescript는 비정규 방법이고 안정적으로 실행된다고 보장할 수 없으니 지양해야한다"
   ]
  }
 ],
 "metadata": {
  "kernelspec": {
   "display_name": "KoreaUniv",
   "language": "python",
   "name": "python3"
  },
  "language_info": {
   "codemirror_mode": {
    "name": "ipython",
    "version": 3
   },
   "file_extension": ".py",
   "mimetype": "text/x-python",
   "name": "python",
   "nbconvert_exporter": "python",
   "pygments_lexer": "ipython3",
   "version": "3.9.18"
  }
 },
 "nbformat": 4,
 "nbformat_minor": 2
}
