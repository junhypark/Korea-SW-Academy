{
 "cells": [
  {
   "cell_type": "code",
   "execution_count": 1,
   "metadata": {},
   "outputs": [
    {
     "ename": "TypeError",
     "evalue": "'list_iterator' object is not subscriptable",
     "output_type": "error",
     "traceback": [
      "\u001b[1;31m---------------------------------------------------------------------------\u001b[0m",
      "\u001b[1;31mTypeError\u001b[0m                                 Traceback (most recent call last)",
      "Cell \u001b[1;32mIn[1], line 19\u001b[0m\n\u001b[0;32m     17\u001b[0m b \u001b[38;5;241m=\u001b[39m \u001b[38;5;28miter\u001b[39m(a) \u001b[38;5;66;03m# iter()를 사용하면 iterator로 사용 가능하다\u001b[39;00m\n\u001b[0;32m     18\u001b[0m \u001b[38;5;66;03m# __iter__가 있으면 iterable이다\u001b[39;00m\n\u001b[1;32m---> 19\u001b[0m \u001b[43mb\u001b[49m\u001b[43m[\u001b[49m\u001b[38;5;241;43m0\u001b[39;49m\u001b[43m]\u001b[49m    \u001b[38;5;66;03m# 에러 왜? 메모리상에 올라가지 않았기에 불러들이지 못함\u001b[39;00m\n\u001b[0;32m     20\u001b[0m \u001b[38;5;28mnext\u001b[39m(b) \u001b[38;5;66;03m# next 시에 값을 불러들인다 / 이때, 메모리상에는 2,3,4가 존재\u001b[39;00m\n\u001b[0;32m     21\u001b[0m \u001b[38;5;28mlist\u001b[39m(b) \u001b[38;5;66;03m# 2,3,4 / why? mext로 부르면 메모리상에서 값을 고려하지 않는다\u001b[39;00m\n",
      "\u001b[1;31mTypeError\u001b[0m: 'list_iterator' object is not subscriptable"
     ]
    }
   ],
   "source": [
    "# Lazy Evaluation\n",
    "\n",
    "# lazy => 굉장히 효율적인 테크닉 / iterator, generator가 핵심\n",
    "# 메모리 상에서 처리하는게 디스크보다 더 빠르다\n",
    "# 하지만 메모리는 한계가 존재한다\n",
    "# 자체적으로 가상 메모리를 만들어준다\n",
    "# 허용치보다 커버리면 에러가 나옴\n",
    "# 단계\n",
    "# 1. 메모리 사용\n",
    "# 2. 넘으면 가상 메모리 사용\n",
    "# 3. 넘으면 에러가 생김\n",
    "# 가상 메모리 효율적으로 사용하는 방법 = lazy tech\n",
    "# lazy - iterator, generator가 유일하다\n",
    "# ex)\n",
    "a = [1,2,3,4]   # a의 1,2,3,4가 메모리에 확보됨\n",
    "a[3]    # 쉽게 빠르게 뽑을 수 있음\n",
    "b = iter(a) # iter()를 사용하면 iterator로 사용 가능하다\n",
    "# __iter__가 있으면 iterable이다\n",
    "b[0]    # 에러 왜? 메모리상에 올라가지 않았기에 불러들이지 못함\n",
    "next(b) # next 시에 값을 불러들인다 / 이때, 메모리상에는 2,3,4가 존재\n",
    "list(b) # 2,3,4 / why? mext로 부르면 메모리상에서 값을 고려하지 않는다\n",
    "# 이때, lazy는 next를 부를떄 마다 메모리상에서 불러온다\n",
    "# 나머지는 호출한 만큼 메모리에서 없어진다는 뜻이다\n",
    "# 아주 큰 데이터를 next에 올린다 -> 가상 메모리 쓸 필요가 없어서 빠르게 추출\n",
    "# 100만개 데이터를 메모리에 올리면 가상 메모리를 확보해버려서 매우 느려진다\n",
    "# iter를 부르는 이유 -> \n",
    "\n",
    "# Q: 리스트 선언시 메모리 사용은 아닌건가?\n",
    "\n",
    "# 단점: 중간 데이터를 못봄 따라서, 무식하게 봐야함\n",
    "# __next__가 나오면 lazy tech를 사용 가능하다 / next를 사용함으로써 lazy tech를 사용하는 것이다\n",
    "# next로 txt를 한 줄씩 불러와서 보는 것이 좋다\n",
    "# next와 iter는 동시에 존재 따라서, next가 가능하면 iterator로 사용 가능하다\n",
    "# 너무 데이터가 크지 않으면 중간 중간 볼 수 있게도 만들고 next도 사용하게 만들면 된다"
   ]
  },
  {
   "cell_type": "code",
   "execution_count": 2,
   "metadata": {},
   "outputs": [],
   "source": [
    "# tensorflow -> for문을 사용하는 것이 효율적이다"
   ]
  },
  {
   "cell_type": "code",
   "execution_count": 4,
   "metadata": {},
   "outputs": [
    {
     "data": {
      "text/plain": [
       "int"
      ]
     },
     "execution_count": 4,
     "metadata": {},
     "output_type": "execute_result"
    }
   ],
   "source": [
    "# OOP\n",
    "a = 1\n",
    "type(a)"
   ]
  },
  {
   "cell_type": "code",
   "execution_count": 6,
   "metadata": {},
   "outputs": [
    {
     "data": {
      "text/plain": [
       "type"
      ]
     },
     "execution_count": 6,
     "metadata": {},
     "output_type": "execute_result"
    }
   ],
   "source": [
    "# 원래는 a = int(1) 이거지만 단축표현으로 사용 가능한 것이다\n",
    "type(int)\n",
    "# type 을 쳤는데 type이 나옴 즉, type이 class이다\n",
    "# 그 중에서도 가장 위에 있기 때문에 meta-class 라고 한다"
   ]
  },
  {
   "cell_type": "code",
   "execution_count": 7,
   "metadata": {},
   "outputs": [
    {
     "data": {
      "text/plain": [
       "int"
      ]
     },
     "execution_count": 7,
     "metadata": {},
     "output_type": "execute_result"
    }
   ],
   "source": [
    "a = int(1)\n",
    "type(a)\n",
    "# 이떄는 int가 나오므로 이때의 a는 instance이다"
   ]
  },
  {
   "cell_type": "code",
   "execution_count": 8,
   "metadata": {},
   "outputs": [
    {
     "data": {
      "text/plain": [
       "3"
      ]
     },
     "execution_count": 8,
     "metadata": {},
     "output_type": "execute_result"
    }
   ],
   "source": [
    "a = [1,2,3]\n",
    "len(a)"
   ]
  },
  {
   "cell_type": "code",
   "execution_count": 10,
   "metadata": {},
   "outputs": [
    {
     "data": {
      "text/plain": [
       "3"
      ]
     },
     "execution_count": 10,
     "metadata": {},
     "output_type": "execute_result"
    }
   ],
   "source": [
    "a.__len__()"
   ]
  },
  {
   "cell_type": "code",
   "execution_count": 11,
   "metadata": {},
   "outputs": [
    {
     "data": {
      "text/plain": [
       "list"
      ]
     },
     "execution_count": 11,
     "metadata": {},
     "output_type": "execute_result"
    }
   ],
   "source": [
    "a.__class__"
   ]
  },
  {
   "cell_type": "code",
   "execution_count": null,
   "metadata": {},
   "outputs": [],
   "source": [
    "# type == __class__ \n",
    "# vars == __dict__ \n",
    "# pythonic tech"
   ]
  },
  {
   "cell_type": "code",
   "execution_count": 14,
   "metadata": {},
   "outputs": [
    {
     "data": {
      "text/plain": [
       "mappingproxy({'__module__': '__main__',\n",
       "              'aa': <function __main__.A.aa(self)>,\n",
       "              '__dict__': <attribute '__dict__' of 'A' objects>,\n",
       "              '__weakref__': <attribute '__weakref__' of 'A' objects>,\n",
       "              '__doc__': None})"
      ]
     },
     "execution_count": 14,
     "metadata": {},
     "output_type": "execute_result"
    }
   ],
   "source": [
    "class A:\n",
    "    def aa(self):\n",
    "        self.t = 1\n",
    "\n",
    "vars(A)"
   ]
  },
  {
   "cell_type": "code",
   "execution_count": 15,
   "metadata": {},
   "outputs": [
    {
     "data": {
      "text/plain": [
       "mappingproxy({'__module__': '__main__',\n",
       "              'aa': <function __main__.A.aa(self)>,\n",
       "              '__dict__': <attribute '__dict__' of 'A' objects>,\n",
       "              '__weakref__': <attribute '__weakref__' of 'A' objects>,\n",
       "              '__doc__': None})"
      ]
     },
     "execution_count": 15,
     "metadata": {},
     "output_type": "execute_result"
    }
   ],
   "source": [
    "A.__dict__"
   ]
  },
  {
   "cell_type": "code",
   "execution_count": 16,
   "metadata": {},
   "outputs": [
    {
     "ename": "TypeError",
     "evalue": "vars() argument must have __dict__ attribute",
     "output_type": "error",
     "traceback": [
      "\u001b[1;31m---------------------------------------------------------------------------\u001b[0m",
      "\u001b[1;31mTypeError\u001b[0m                                 Traceback (most recent call last)",
      "Cell \u001b[1;32mIn[16], line 3\u001b[0m\n\u001b[0;32m      1\u001b[0m \u001b[38;5;66;03m# __dict__가 정의가 안되어있을수도 있다\u001b[39;00m\n\u001b[0;32m      2\u001b[0m a \u001b[38;5;241m=\u001b[39m \u001b[38;5;241m1\u001b[39m\n\u001b[1;32m----> 3\u001b[0m \u001b[38;5;28;43mvars\u001b[39;49m\u001b[43m(\u001b[49m\u001b[43ma\u001b[49m\u001b[43m)\u001b[49m\n",
      "\u001b[1;31mTypeError\u001b[0m: vars() argument must have __dict__ attribute"
     ]
    }
   ],
   "source": [
    "# __dict__가 정의가 안되어있을수도 있다\n",
    "a = 1\n",
    "vars(a) # a는 dict가 없음 즉, instance value가 존재하지 않는다"
   ]
  },
  {
   "cell_type": "code",
   "execution_count": 17,
   "metadata": {},
   "outputs": [],
   "source": [
    "import sys"
   ]
  },
  {
   "cell_type": "code",
   "execution_count": 18,
   "metadata": {},
   "outputs": [
    {
     "data": {
      "text/plain": [
       "2954"
      ]
     },
     "execution_count": 18,
     "metadata": {},
     "output_type": "execute_result"
    }
   ],
   "source": [
    "sys.getrefcount(a)  # 저 애를 사용하고 있는 애들이 이만큼 있다는 뜻\n",
    "# 얘가 0이 되면 메모리 상에서 날라감\n",
    "# 이게 garbage collection"
   ]
  },
  {
   "cell_type": "code",
   "execution_count": 19,
   "metadata": {},
   "outputs": [],
   "source": [
    "import gc"
   ]
  },
  {
   "cell_type": "code",
   "execution_count": 20,
   "metadata": {},
   "outputs": [],
   "source": [
    "class B:\n",
    "    '''설명할게요'''    # 설명 참조하여 볼 수 있는것 이게 __doc__ 이게 docs tree\n",
    "    pass"
   ]
  },
  {
   "cell_type": "code",
   "execution_count": 21,
   "metadata": {},
   "outputs": [],
   "source": [
    "def t():\n",
    "    '''설명 안할래'''\n",
    "    pass"
   ]
  },
  {
   "cell_type": "code",
   "execution_count": 22,
   "metadata": {},
   "outputs": [],
   "source": [
    "class C:\n",
    "    def t(self):\n",
    "        pass"
   ]
  },
  {
   "cell_type": "code",
   "execution_count": 23,
   "metadata": {},
   "outputs": [
    {
     "data": {
      "text/plain": [
       "<function __main__.C.t(self)>"
      ]
     },
     "execution_count": 23,
     "metadata": {},
     "output_type": "execute_result"
    }
   ],
   "source": [
    "C.t"
   ]
  },
  {
   "cell_type": "code",
   "execution_count": 24,
   "metadata": {},
   "outputs": [],
   "source": [
    "cc = C()"
   ]
  },
  {
   "cell_type": "code",
   "execution_count": 25,
   "metadata": {},
   "outputs": [
    {
     "data": {
      "text/plain": [
       "<bound method C.t of <__main__.C object at 0x000001F83E3853A0>>"
      ]
     },
     "execution_count": 25,
     "metadata": {},
     "output_type": "execute_result"
    }
   ],
   "source": [
    "cc.t"
   ]
  },
  {
   "cell_type": "code",
   "execution_count": 26,
   "metadata": {},
   "outputs": [],
   "source": [
    "# C.t vs cc.t\n",
    "# cc.t = bind 함수에 묶여서 method가 된다\n",
    "# 함수 기반으로 method를 만든다\n",
    "# 따라서, 함수와 method가 다르다\n",
    "# 함수가 더 빠르다\n",
    "# 이때 둘의 메모리 주소값은 서로 다르다\n"
   ]
  },
  {
   "cell_type": "code",
   "execution_count": 27,
   "metadata": {},
   "outputs": [],
   "source": [
    "# 객체지향 - 상속 기법\n",
    "# 상속: 남이 만든 것을 가져다가 나에게 맞춘다\n",
    "# 기능을 추가하거나 변경하는 것을 할 때 사용한다\n",
    "class D:\n",
    "    pass"
   ]
  },
  {
   "cell_type": "code",
   "execution_count": 28,
   "metadata": {},
   "outputs": [
    {
     "data": {
      "text/plain": [
       "['__class__',\n",
       " '__delattr__',\n",
       " '__dict__',\n",
       " '__dir__',\n",
       " '__doc__',\n",
       " '__eq__',\n",
       " '__format__',\n",
       " '__ge__',\n",
       " '__getattribute__',\n",
       " '__gt__',\n",
       " '__hash__',\n",
       " '__init__',\n",
       " '__init_subclass__',\n",
       " '__le__',\n",
       " '__lt__',\n",
       " '__module__',\n",
       " '__ne__',\n",
       " '__new__',\n",
       " '__reduce__',\n",
       " '__reduce_ex__',\n",
       " '__repr__',\n",
       " '__setattr__',\n",
       " '__sizeof__',\n",
       " '__str__',\n",
       " '__subclasshook__',\n",
       " '__weakref__']"
      ]
     },
     "execution_count": 28,
     "metadata": {},
     "output_type": "execute_result"
    }
   ],
   "source": [
    "dir(D)"
   ]
  },
  {
   "cell_type": "code",
   "execution_count": 29,
   "metadata": {},
   "outputs": [],
   "source": [
    "# 위의 애들이 이미 정의 되어 있기에 attribute error가 나오지 않는다\n",
    "# 원래는\n",
    "class D(object):    # 이 object가 object에서 상속을 받는다는 의미이다\n",
    "    pass            # 하지만 이게 default이기 때문에 생략하는 것이다"
   ]
  },
  {
   "cell_type": "code",
   "execution_count": 30,
   "metadata": {},
   "outputs": [
    {
     "ename": "TypeError",
     "evalue": "Cannot create a consistent method resolution\norder (MRO) for bases object, D",
     "output_type": "error",
     "traceback": [
      "\u001b[1;31m---------------------------------------------------------------------------\u001b[0m",
      "\u001b[1;31mTypeError\u001b[0m                                 Traceback (most recent call last)",
      "Cell \u001b[1;32mIn[30], line 6\u001b[0m\n\u001b[0;32m      1\u001b[0m \u001b[38;5;66;03m# 맞춘다는 의미 = 추가, 변경 / 보통 삭제는 안함\u001b[39;00m\n\u001b[0;32m      2\u001b[0m \u001b[38;5;66;03m# 상속은 두가지 방식이 있다\u001b[39;00m\n\u001b[0;32m      3\u001b[0m \u001b[38;5;66;03m# 단일 상속, 다중 상속 (inheritance)\u001b[39;00m\n\u001b[0;32m      4\u001b[0m \u001b[38;5;66;03m# 부모가 두개 이상인게 다중 상속\u001b[39;00m\n\u001b[0;32m      5\u001b[0m \u001b[38;5;66;03m# 예를 들어\u001b[39;00m\n\u001b[1;32m----> 6\u001b[0m \u001b[38;5;28;01mclass\u001b[39;00m \u001b[38;5;21;01mF\u001b[39;00m(\u001b[38;5;28mobject\u001b[39m, D):\n\u001b[0;32m      7\u001b[0m     \u001b[38;5;28;01mpass\u001b[39;00m            \u001b[38;5;66;03m# 상속을 누구에게 할 것인가를 정하는 문제점 = diamond problem\u001b[39;00m\n\u001b[0;32m      8\u001b[0m \u001b[38;5;66;03m# python은 다중 상속이다\u001b[39;00m\n",
      "\u001b[1;31mTypeError\u001b[0m: Cannot create a consistent method resolution\norder (MRO) for bases object, D"
     ]
    }
   ],
   "source": [
    "# 맞춘다는 의미 = 추가, 변경 / 보통 삭제는 안함\n",
    "# 상속은 두가지 방식이 있다\n",
    "# 단일 상속, 다중 상속 (inheritance)\n",
    "# 부모가 두개 이상인게 다중 상속\n",
    "# 예를 들어\n",
    "class F(object, D):\n",
    "    pass            # 상속을 누구에게 할 것인가를 정하는 문제점 = diamond problem\n",
    "# python은 다중 상속이다"
   ]
  },
  {
   "cell_type": "code",
   "execution_count": 31,
   "metadata": {},
   "outputs": [],
   "source": [
    "class A:\n",
    "    x = 1\n",
    "    y = 2"
   ]
  },
  {
   "cell_type": "code",
   "execution_count": 32,
   "metadata": {},
   "outputs": [],
   "source": [
    "class B(A):\n",
    "    pass"
   ]
  },
  {
   "cell_type": "code",
   "execution_count": 33,
   "metadata": {},
   "outputs": [
    {
     "data": {
      "text/plain": [
       "1"
      ]
     },
     "execution_count": 33,
     "metadata": {},
     "output_type": "execute_result"
    }
   ],
   "source": [
    "b = B()\n",
    "b.x         # x가 없지만 상속을 받았기에 쓸 수 있다"
   ]
  },
  {
   "cell_type": "code",
   "execution_count": 34,
   "metadata": {},
   "outputs": [
    {
     "data": {
      "text/plain": [
       "True"
      ]
     },
     "execution_count": 34,
     "metadata": {},
     "output_type": "execute_result"
    }
   ],
   "source": [
    "# Python은 물려받는게 아니다\n",
    "# python에서 상속은 delegation이다\n",
    "b.x is A.x\n",
    "# b.x와 A.x의 메모리는 같다\n",
    "# instance ? => class ? => 부모 ?\n",
    "# instance에 없으면 => class에, 없으면? => 부모에게\n",
    "# 그래서 위임해서 사용시키는 것이다\n",
    "# 상속해서 받아서 사용하는 것이 아니라 부모에게 위임해서 사용시키는 것이다"
   ]
  },
  {
   "cell_type": "code",
   "execution_count": 35,
   "metadata": {},
   "outputs": [
    {
     "ename": "TypeError",
     "evalue": "Cannot create a consistent method resolution\norder (MRO) for bases B, C",
     "output_type": "error",
     "traceback": [
      "\u001b[1;31m---------------------------------------------------------------------------\u001b[0m",
      "\u001b[1;31mTypeError\u001b[0m                                 Traceback (most recent call last)",
      "Cell \u001b[1;32mIn[35], line 10\u001b[0m\n\u001b[0;32m      7\u001b[0m \u001b[38;5;28;01mclass\u001b[39;00m \u001b[38;5;21;01mC\u001b[39;00m(B):\n\u001b[0;32m      8\u001b[0m     \u001b[38;5;28;01mpass\u001b[39;00m\n\u001b[1;32m---> 10\u001b[0m \u001b[38;5;28;01mclass\u001b[39;00m \u001b[38;5;21;01mD\u001b[39;00m(B, C):\n\u001b[0;32m     11\u001b[0m     \u001b[38;5;28;01mpass\u001b[39;00m\n",
      "\u001b[1;31mTypeError\u001b[0m: Cannot create a consistent method resolution\norder (MRO) for bases B, C"
     ]
    }
   ],
   "source": [
    "class A:\n",
    "    pass\n",
    "\n",
    "class B(A):\n",
    "    pass\n",
    "\n",
    "class C(B):\n",
    "    pass\n",
    "\n",
    "class D(B, C):\n",
    "    pass\n",
    "\n",
    "# Method 실행 순서 - 상속 체계가 어긋나면 MRO 에러가 난다"
   ]
  },
  {
   "cell_type": "code",
   "execution_count": 36,
   "metadata": {},
   "outputs": [],
   "source": [
    "class A:\n",
    "    pass\n",
    "\n",
    "class B(A):\n",
    "    pass\n",
    "\n",
    "class C(B):\n",
    "    pass\n",
    "\n",
    "class D(C, B):\n",
    "    pass\n",
    "\n",
    "# C, B 순서 바꾸면 에러가 사라짐 즉, 순서가 중요하다"
   ]
  },
  {
   "cell_type": "code",
   "execution_count": 37,
   "metadata": {},
   "outputs": [
    {
     "data": {
      "text/plain": [
       "[__main__.D, __main__.C, __main__.B, __main__.A, object]"
      ]
     },
     "execution_count": 37,
     "metadata": {},
     "output_type": "execute_result"
    }
   ],
   "source": [
    "D.mro()\n",
    "# 순서: D -> C -> B -> A"
   ]
  },
  {
   "cell_type": "code",
   "execution_count": 39,
   "metadata": {},
   "outputs": [
    {
     "data": {
      "text/plain": [
       "['__abstractmethods__',\n",
       " '__base__',\n",
       " '__bases__',\n",
       " '__basicsize__',\n",
       " '__call__',\n",
       " '__class__',\n",
       " '__delattr__',\n",
       " '__dict__',\n",
       " '__dictoffset__',\n",
       " '__dir__',\n",
       " '__doc__',\n",
       " '__eq__',\n",
       " '__flags__',\n",
       " '__format__',\n",
       " '__ge__',\n",
       " '__getattribute__',\n",
       " '__gt__',\n",
       " '__hash__',\n",
       " '__init__',\n",
       " '__init_subclass__',\n",
       " '__instancecheck__',\n",
       " '__itemsize__',\n",
       " '__le__',\n",
       " '__lt__',\n",
       " '__module__',\n",
       " '__mro__',\n",
       " '__name__',\n",
       " '__ne__',\n",
       " '__new__',\n",
       " '__prepare__',\n",
       " '__qualname__',\n",
       " '__reduce__',\n",
       " '__reduce_ex__',\n",
       " '__repr__',\n",
       " '__setattr__',\n",
       " '__sizeof__',\n",
       " '__str__',\n",
       " '__subclasscheck__',\n",
       " '__subclasses__',\n",
       " '__subclasshook__',\n",
       " '__text_signature__',\n",
       " '__weakrefoffset__',\n",
       " 'mro']"
      ]
     },
     "execution_count": 39,
     "metadata": {},
     "output_type": "execute_result"
    }
   ],
   "source": [
    "dir(type)\n",
    "# 다중 상속을 이해하기 위해서는 meta class를 이해해야한다"
   ]
  },
  {
   "cell_type": "code",
   "execution_count": 41,
   "metadata": {},
   "outputs": [],
   "source": [
    "# 상속해서 수정하는 것을 overriding\n",
    "# 오버라이드 = java interface\n",
    "class A:\n",
    "    t = 1\n",
    "    def x(self):\n",
    "        print('x')"
   ]
  },
  {
   "cell_type": "code",
   "execution_count": 44,
   "metadata": {},
   "outputs": [],
   "source": [
    "class B(A):\n",
    "    def x(self):\n",
    "        print('xx')\n",
    "        # xx를 overriding 시킨다\n",
    "        # overriding = 맘에 들지 않는 것을 수정시킨다"
   ]
  },
  {
   "cell_type": "code",
   "execution_count": 45,
   "metadata": {},
   "outputs": [],
   "source": [
    "b = B()"
   ]
  },
  {
   "cell_type": "code",
   "execution_count": 46,
   "metadata": {},
   "outputs": [
    {
     "name": "stdout",
     "output_type": "stream",
     "text": [
      "xx\n"
     ]
    }
   ],
   "source": [
    "b.x()   # 이것을 delegate라고 한다 (overriding과 같은 개념)"
   ]
  },
  {
   "cell_type": "code",
   "execution_count": 47,
   "metadata": {},
   "outputs": [
    {
     "data": {
      "text/plain": [
       "<function __main__.A.x(self)>"
      ]
     },
     "execution_count": 47,
     "metadata": {},
     "output_type": "execute_result"
    }
   ],
   "source": [
    "# 꼼수\n",
    "class A:\n",
    "    x = 1\n",
    "    def x(self):\n",
    "        print('x')\n",
    "\n",
    "A.x\n",
    "# 이름이 똑같으면 뒤엎는다"
   ]
  },
  {
   "cell_type": "code",
   "execution_count": 48,
   "metadata": {},
   "outputs": [
    {
     "name": "stdout",
     "output_type": "stream",
     "text": [
      "x\n",
      "xx\n"
     ]
    }
   ],
   "source": [
    "# overriding이 delegate라고 함\n",
    "class B(A):\n",
    "    def x(self):\n",
    "        A.x(self)\n",
    "        print('xx')\n",
    "\n",
    "b = B()\n",
    "b.x()\n",
    "# 부모의 기능을 일부 사용하면서 바꾸는 것이 가능하다"
   ]
  },
  {
   "cell_type": "code",
   "execution_count": 49,
   "metadata": {},
   "outputs": [],
   "source": [
    "# descriptor\n",
    "# . => descriptor\n",
    "# .의 행동도 바꿀 수 있다\n",
    "class B(A):\n",
    "    def x(self):\n",
    "        super().x()\n",
    "        print('xx')\n",
    "# super는 self를 쓰면 안된다\n",
    "# super는 instance라는 뜻이다\n",
    "# super는 다중 상속의 꽃이다\n",
    "# super를 꼭 써야하는 이유가 있음"
   ]
  },
  {
   "cell_type": "code",
   "execution_count": 52,
   "metadata": {},
   "outputs": [
    {
     "data": {
      "text/plain": [
       "[__main__.D, __main__.B, __main__.C, __main__.A, object]"
      ]
     },
     "execution_count": 52,
     "metadata": {},
     "output_type": "execute_result"
    }
   ],
   "source": [
    "class A:\n",
    "    def __init__(self):\n",
    "        print('A')\n",
    "\n",
    "class B(A):\n",
    "    def __init__(self):\n",
    "        print('B')\n",
    "\n",
    "class C(A):\n",
    "    def __init__(self):\n",
    "        print('C')\n",
    "\n",
    "class D(B, C):\n",
    "    def __init__(self):\n",
    "        print('D')\n",
    "\n",
    "D.mro()"
   ]
  },
  {
   "cell_type": "code",
   "execution_count": 53,
   "metadata": {},
   "outputs": [
    {
     "name": "stdout",
     "output_type": "stream",
     "text": [
      "D\n"
     ]
    }
   ],
   "source": [
    "d = D()"
   ]
  },
  {
   "cell_type": "code",
   "execution_count": 55,
   "metadata": {},
   "outputs": [],
   "source": [
    "class A:\n",
    "    def __init__(self):\n",
    "        print('A')\n",
    "\n",
    "class B(A):\n",
    "    def __init__(self):\n",
    "        A.__init__(self)    #2\n",
    "        print('B')          #3\n",
    "\n",
    "class C(A):\n",
    "    def __init__(self):\n",
    "        A.__init__(self)    \n",
    "        print('C')\n",
    "\n",
    "class D(B, C):\n",
    "    def __init__(self):\n",
    "        B.__init__(self)    #1\n",
    "        C.__init__(self)            # 들어가면?\n",
    "        print('D')          #4\n",
    "\n"
   ]
  },
  {
   "cell_type": "code",
   "execution_count": 56,
   "metadata": {},
   "outputs": [
    {
     "name": "stdout",
     "output_type": "stream",
     "text": [
      "A\n",
      "B\n",
      "D\n"
     ]
    }
   ],
   "source": [
    "d = D()\n",
    "# 순서가 A B D인 이유는?\n",
    "# 순서는 위의 숫자와 같이"
   ]
  },
  {
   "cell_type": "code",
   "execution_count": null,
   "metadata": {},
   "outputs": [],
   "source": [
    "# 바뀌어버리면 문제가 있다\n",
    "# A가 더 찍혀버림\n",
    "# 바꿨는데 다시 원상복구가 될 수도 있음\n",
    "# 중복 코드가 있을 수도 있다\n",
    "# 이것을 super로 바꿔본다"
   ]
  },
  {
   "cell_type": "code",
   "execution_count": 57,
   "metadata": {},
   "outputs": [],
   "source": [
    "class A:\n",
    "    def __init__(self):\n",
    "        print('A')\n",
    "\n",
    "class B(A):\n",
    "    def __init__(self):\n",
    "        super().__init__()  #2\n",
    "        print('B')          #3 - stack 임시 공간에 넣어놓는다\n",
    "\n",
    "class C(A):\n",
    "    def __init__(self):\n",
    "        super(C, self).__init__()   # 얘의 의미는 C의 부모를 객체로 만들어라 즉, super().__init__(self)와 같은 방식\n",
    "        print('C')\n",
    "\n",
    "class D(B, C):\n",
    "    def __init__(self):\n",
    "        super().__init__()  #1\n",
    "        # B.__init__(self)\n",
    "        # C.__init__(self)\n",
    "        # 위 두개의 코드는 1과 같다\n",
    "        print('D')\n",
    "\n"
   ]
  },
  {
   "cell_type": "code",
   "execution_count": 58,
   "metadata": {},
   "outputs": [
    {
     "name": "stdout",
     "output_type": "stream",
     "text": [
      "A\n",
      "C\n",
      "B\n",
      "D\n"
     ]
    }
   ],
   "source": [
    "d = D()\n",
    "# super는 다중상속을 다 훑어서 고려한다\n",
    "# 하지만 실행순서가...\n",
    "# MRO에 따라서 실행된다"
   ]
  },
  {
   "cell_type": "code",
   "execution_count": 59,
   "metadata": {},
   "outputs": [
    {
     "data": {
      "text/plain": [
       "[__main__.D, __main__.B, __main__.C, __main__.A, object]"
      ]
     },
     "execution_count": 59,
     "metadata": {},
     "output_type": "execute_result"
    }
   ],
   "source": [
    "D.mro()"
   ]
  },
  {
   "cell_type": "code",
   "execution_count": 76,
   "metadata": {},
   "outputs": [],
   "source": [
    "# mro에 의해서 D,B,C,A로 들어간다\n",
    "# super를 쓰면 맨밑에 D\n",
    "# 그 다음에 B 들어감\n",
    "# 그 다음에 C\n",
    "# 그 다음에 A\n",
    "# 왜냐하면 한 번 훑기 때문이다\n",
    "# 즉, super는 실행순서를 정해버린다 ?\n",
    "# 다중상속에서 순서 정하는 역할을 한다 ?\n",
    "# super를 첫번째 쓰고 나머지를 아래에 쓰는 이유는\n",
    "# mro 순서를 바꿀 수 있기 때문이다\n",
    "\n",
    "# 상속 대신에 duck typing도 가능하다\n",
    "# 언제 쓰는가?\n",
    "\n",
    "# lazy evaluation\n",
    "# sequence를 상속했다\n",
    "# abc - 추상화, 상속, duck typing 모두 가지고 있다\n",
    "class A:\n",
    "    def __getitem__(self, x):\n",
    "        print('get itme')\n",
    "    def __len__(self):\n",
    "        return 0\n",
    "    pass\n"
   ]
  },
  {
   "cell_type": "code",
   "execution_count": null,
   "metadata": {},
   "outputs": [],
   "source": []
  },
  {
   "cell_type": "code",
   "execution_count": 77,
   "metadata": {},
   "outputs": [],
   "source": [
    "a = A()"
   ]
  },
  {
   "cell_type": "code",
   "execution_count": 67,
   "metadata": {},
   "outputs": [
    {
     "name": "stdout",
     "output_type": "stream",
     "text": [
      "get itme\n"
     ]
    }
   ],
   "source": [
    "a[0]\n",
    "# subscriptable\n",
    "# indexing과 slicing이 안될 때 생기는 에러\n",
    "\n",
    "# 2. __getitem__ 넣었을 때는\n",
    "# 저 indexing을 사용할 수 있다\n",
    "# -3도 가능하다\n",
    "# __len__은 핵심 기능이 아니다\n",
    "# 하지만 서로 짝을 맞춘다"
   ]
  },
  {
   "cell_type": "code",
   "execution_count": 78,
   "metadata": {},
   "outputs": [
    {
     "data": {
      "text/plain": [
       "0"
      ]
     },
     "execution_count": 78,
     "metadata": {},
     "output_type": "execute_result"
    }
   ],
   "source": [
    "len(a)\n",
    "# 3. len 또한 가능하다\n",
    "# 상속이 없어도 기능을 사용하게끔 만들어줄 수 있다\n",
    "# "
   ]
  },
  {
   "cell_type": "code",
   "execution_count": 79,
   "metadata": {},
   "outputs": [],
   "source": [
    "from collections.abc import Sequence"
   ]
  },
  {
   "cell_type": "code",
   "execution_count": null,
   "metadata": {},
   "outputs": [],
   "source": [
    "class A(Sequence):\n",
    "    def __getitem__(self, x):\n",
    "        print('get item')\n",
    "    def __len__(self):\n",
    "        return 0\n",
    "\n",
    "# import tensorflow as tf\n",
    "# tf.keras.utils.Sequence\n",
    "# 이것도 sequence가 존재함\n",
    "# inspect를 통해 모든 source를 볼 수 있다"
   ]
  },
  {
   "cell_type": "markdown",
   "metadata": {},
   "source": [
    "# OOP\n",
    "\n",
    "```\n",
    "a= int(1)\n",
    "a = 1\n",
    "# those two codes are same\n",
    "\n",
    "type(int)\n",
    ">>> type\n",
    "# Why? because type is class, meta-class > class (int)\n",
    "\n",
    "a = int(1)\n",
    "type(a)\n",
    ">>> int\n",
    "# Return int, because a is instance\n",
    "```\n",
    "\n",
    "#### Pythonic\n",
    "\n",
    "```\n",
    "len(a)\n",
    "# is equal\n",
    "a.__len__()\n",
    "# which is pythonically make len(a)\n",
    "\n",
    "type(a)\n",
    "a.__class__\n",
    "# same\n",
    "```\n",
    "\n",
    "In pythonical way we can alter two built-in methods\n",
    "\n",
    "1. type - \\_\\_class\\_\\_\n",
    "2. vars - \\_\\_dict\\_\\_\n",
    "\n",
    "but vars shows only instance value\n",
    "\n",
    "```\n",
    "class A:\n",
    "    def aa(self):\n",
    "    self.t = 1\n",
    "vars(A)\n",
    ">>> mappingproxy({'__module__': '__main__',\n",
    "              'aa': <function __main__.A.aa(self)>,\n",
    "              '__dict__': <attribute '__dict__' of 'A' objects>,\n",
    "              '__weakref__': <attribute '__weakref__' of 'A' objects>,\n",
    "              '__doc__': None})\n",
    "a = 1\n",
    "vars(a)\n",
    ">>>TypeError                                 Traceback (most recent call last)\n",
    "Cell In[16], line 2\n",
    "      1 a = 1\n",
    "----> 2 vars(a)\n",
    "\n",
    "TypeError: vars() argument must have __dict__ attribute\n",
    "```\n",
    "\n",
    "#### Garbage Collection\n",
    "\n",
    "즉, 가비지 컬렉션은 reference counting으로 어떤 객체가 참조되고 있는지 횟수를 카운팅한다\n",
    "\n",
    "이때, reference counting이 0이 되면 gc에 의해 메모리에서 해제된다\n",
    "\n",
    "generational garbage collection은 순환 참조를 탐지하고 메모리에서 해제해준다\n",
    "\n",
    "순환참조란?\n",
    "```\n",
    "l = []\n",
    "l.append(l)\n",
    "del l\n",
    "```\n",
    "\n",
    "이때, 메모리는 해제되지 않는다\n",
    "\n",
    "어떤 기준으로 free시키는가?\n",
    "\n",
    "1. generation - 객체들을 0~2세대로 관리하고 세대가 낮을수록 더욱 자주 garbage collecting을 수행한다\n",
    "\n",
    "```\n",
    "import sys\n",
    "\n",
    "sys.getrefcount(a)\n",
    "```\n",
    "\n",
    "2. threshold - 0세대 가바지가 임계치를 초과하면 가바지 컬렉팅이 수행된다, 만약 0세대 객체가 threshold 0을 초과하면 gc를 수행하고 남아있는 객체들을 1세대 객체로 옮기며, 1세대의 count를 1 증가 시킨다. 각 세대는 정해진 임계치가 존재한다\n",
    "\n",
    "#### Inheritage\n",
    "\n",
    "What we can do using inhertance?\n",
    "\n",
    "1. add functions\n",
    "2. alter functions\n",
    "\n",
    "Class is already inheritaged!\n",
    "\n",
    "```\n",
    "class D():\n",
    "    pass\n",
    "# is same with\n",
    "class D(object):\n",
    "    pass\n",
    "```\n",
    "\n",
    "Since object is default value, so we omit it\n",
    "\n",
    "###### Types of inheritance\n",
    "\n",
    "1. 단일 상속\n",
    "2. 다중 상속 - If there are two parents / Python supports\n",
    "\n",
    "```\n",
    "class A:\n",
    "    x = 1\n",
    "    y = 2\n",
    "\n",
    "class B(A):\n",
    "    pass\n",
    "\n",
    "b = B()\n",
    "b.x\n",
    "# The result is 1 because B inheritaged\n",
    "```\n",
    "\n",
    "In python, inheritance is delegation\n",
    "\n",
    "```\n",
    "b.x is A.x\n",
    "# They have same memory value\n",
    "```\n",
    "\n",
    "In delegation order, instance => class => parents\n",
    "\n",
    "```\n",
    "class A:\n",
    "    pass\n",
    "class B(A):\n",
    "    pass\n",
    "class C(B):\n",
    "    pass\n",
    "class D(B, C):\n",
    "    pass\n",
    "\n",
    "# If the order of inheritance goes wrong, there is MRO error\n",
    "```\n",
    "\n",
    "Solved)\n",
    "\n",
    "```\n",
    "class A:\n",
    "    pass\n",
    "class B(A):\n",
    "    pass\n",
    "class C(B):\n",
    "    pass\n",
    "class D(C, B):\n",
    "    pass\n",
    "\n",
    "# If we change C and B order, there is no error\n",
    "```\n",
    "\n",
    "So, the MRO of D is D -> C -> B -> A\n",
    "\n",
    "###### Overriding\n",
    "\n",
    "Inheritage class and altering is **overriding**\n",
    "\n",
    "In java it is similar with interface\n",
    "\n",
    "```\n",
    "class A:\n",
    "    t = 1\n",
    "    def x(self):\n",
    "        print('x')\n",
    "\n",
    "class B(A):\n",
    "    def x(self):\n",
    "        print('xx')\n",
    "\n",
    "b = B()\n",
    "b.x()\n",
    "# this is delegate which is overriding\n",
    "```\n",
    "\n",
    "The result is only xx, donot activate class A's method x\n",
    "\n",
    "But also, we can use partially parent's method and modify\n",
    "\n",
    "```\n",
    "class A:\n",
    "    x = 1\n",
    "    def x(self):\n",
    "        print('x')\n",
    "\n",
    "class B(A):\n",
    "    def x(self):\n",
    "        A.x(self)\n",
    "        print('xx')\n",
    "\n",
    "b = B()\n",
    "b.x()\n",
    ">>>x\n",
    "   xx\n",
    "```\n",
    "\n",
    "#### Super\n",
    "\n",
    "```\n",
    "class B(A):\n",
    "    def x(self):\n",
    "        super().x()\n",
    "        print('xx')\n",
    "```\n",
    "\n",
    "1. super must not use self\n",
    "2. super is instance\n",
    "3. super is important in multiple-inheritance\n",
    "4. sometime, super is mandatory\n",
    "\n",
    "General multiple-inheritance\n",
    "```\n",
    "class A:\n",
    "    def __init__(self):\n",
    "        print('A')\n",
    "\n",
    "class B(A):\n",
    "    def __init__(self):\n",
    "        print('B')\n",
    "\n",
    "class C(A):\n",
    "    def __init__(self):\n",
    "        print('C')\n",
    "\n",
    "class D(B, C):\n",
    "    def __init__(self):\n",
    "        print('D')\n",
    "\n",
    "d = D()\n",
    ">>> D\n",
    "```\n",
    "\n",
    "Order of MRO\n",
    "```\n",
    "class A:\n",
    "    def __init__(self):\n",
    "        print('A')\n",
    "\n",
    "class B(A):\n",
    "    def __init__(self):\n",
    "        A.__init__(self)    #2\n",
    "        print('B')          #3\n",
    "\n",
    "class C(A):\n",
    "    def __init__(self):\n",
    "        A.__init__(self)    \n",
    "        print('C')\n",
    "\n",
    "class D(B, C):\n",
    "    def __init__(self):\n",
    "        B.__init__(self)    #1\n",
    "        C.__init__(self)            \n",
    "        print('D')          #4\n",
    "\n",
    "d = D()\n",
    ">>> A B D\n",
    "```\n",
    "\n",
    "Order is same as number above\n",
    "\n",
    "We should not change order of 1~4\n",
    "\n",
    "So, why we use super?\n",
    "\n",
    "1. If we fix the order, there can be a problem of result\n",
    "2. There could be a duplicate code\n",
    "\n",
    "```\n",
    "class A:\n",
    "    def __init__(self):\n",
    "        print('A')\n",
    "\n",
    "class B(A):\n",
    "    def __init__(self):\n",
    "        super().__init__()  #2\n",
    "        print('B')          #3 - put into stack\n",
    "\n",
    "class C(A):\n",
    "    def __init__(self):\n",
    "        super(C, self).__init__()   # same with super().__init__(self) of class C\n",
    "        print('C')\n",
    "\n",
    "class D(B, C):\n",
    "    def __init__(self):\n",
    "        super().__init__()  #1\n",
    "        # B.__init__(self)\n",
    "        # C.__init__(self)\n",
    "        # These two codes are same with #1\n",
    "        print('D')\n",
    "\n",
    "d = D()\n",
    "# super consider all of inheritance\n",
    "# order follows MRO\n",
    "```\n",
    "\n",
    "super consider all inheritance but not literally all\n",
    "\n",
    "By order of parameter, D -> B -> ...\n",
    "\n",
    "Hence, super define the order\n",
    "\n",
    "This is why we put super on the top of the class code\n",
    "\n",
    "#### abc - abstract\n",
    "\n",
    "abc - abstract, inheritance, and duck typing\n",
    "\n",
    "1. duck typing\n",
    "\n",
    "```\n",
    "class A:\n",
    "    def __getitem__(self, x):\n",
    "        print('get item')\n",
    "    def __len__(self):\n",
    "        return 0\n",
    "    pass\n",
    "\n",
    "a = A()\n",
    "a[0]\n",
    "# Originally, a cannot indexing and slicing so subscriptable error occurs\n",
    "# However, by adding __getitem__ and __len__ we can use A() as iterator\n",
    "\n",
    "len(a)\n",
    "```\n",
    "\n",
    "We can make class to use iterator method without inheritance\n",
    "\n",
    "2. abc\n",
    "\n",
    "```\n",
    "from collections.abc import Sequence\n",
    "\n",
    "class A(Sequence):\n",
    "    def __getitem__(self, x):\n",
    "        print('get item')\n",
    "    def __len__(self):\n",
    "        return 0\n",
    "```\n",
    "\n",
    "More detail\n",
    "\n",
    "collections.abc?\n",
    "\n",
    "- 각 class 타입에 필요한 일반적인 method를 모두 제공하는 추상 기반 class들을 정의\n",
    "- 이 추상 기반 class들에서 상속받아 sub-class를 만들다가 잊고 필수 method를 구현하지 않으면 에러 발생\n",
    "\n",
    "```\n",
    "from collections.abc import Sequence\n",
    "\n",
    "class BadType(Sequence):\n",
    "    pass\n",
    "\n",
    "foo = BadType()\n",
    ">>>\n",
    "TypeError: Can't instantiate abstract class BadType with abstract methods __getitem__, __len__\n",
    "```\n",
    "\n",
    "가장 기본적인 sequence type의 class가 Sequence이다\n",
    "\n",
    "이때 sequence type은 lists, tuples, and strings를 의미한다\n",
    "\n",
    "Sequence는 abstract method를 제공하고 반드시 implement 해야한다\n",
    "\n",
    "제공해주는 함수들은 \\_\\_getitem\\_\\_(), \\_\\_len()\\_\\_, and index()\n",
    "\n",
    "이것을 function에 적용시켜 첫번째 occur하는 element를 만드는 function을 만들어보자\n",
    "\n",
    "```\n",
    "from collections.abc import Sequence\n",
    "\n",
    "def fin_first_occurrence(sequence: Sequence, element: Any):\n",
    "    try:\n",
    "        return sequence.index(element)\n",
    "    except ValueError:\n",
    "        return None\n",
    "```\n",
    "\n",
    "collections.abc는 다양한 기능들을 주는데 예를 들어\n",
    "\n",
    "Iterable, Sized, Container, Hashable, Mapping, and Set\n",
    "\n",
    "이렇게 존재한다\n",
    "\n",
    "#### Lazy Evaluation\n",
    "\n",
    "lazy tech => Efficient Tech / iterator, generator is important\n",
    "\n",
    "To use virtual-memory efficiently, we use lazy tech\n",
    "\n",
    "When we use memory and virtual memory?\n",
    "\n",
    "1. Use memory\n",
    "2. Over? use virtual memory\n",
    "3. Over? Error\n",
    "\n",
    "```\n",
    "a = [1,2,3,4]\n",
    "b = iter(a)\n",
    "next(b)\n",
    "```\n",
    "\n",
    "If we perform next(b), we call values from memory\n",
    "\n",
    "So, there is no b[0] value in memory\n",
    "\n",
    "Notice! 이때, 메모리는 heap 메모리와 다른 뜻이다, 보통은 CPU 단위에서 움직이지만 값이 너무 커지는 경우에는 물리적 메모리에 올려서 계산을 때려버리기 때문이다\n",
    "\n",
    "by using next, we apply lazy tech\n",
    "\n",
    "next와 iter는 세트이므로 next가 가능하면 iterator로 사용 가능하다\n",
    "\n",
    "단점: 중간 값을 보려면 무식하게 봐야함"
   ]
  }
 ],
 "metadata": {
  "kernelspec": {
   "display_name": "KoreaUniv",
   "language": "python",
   "name": "python3"
  },
  "language_info": {
   "codemirror_mode": {
    "name": "ipython",
    "version": 3
   },
   "file_extension": ".py",
   "mimetype": "text/x-python",
   "name": "python",
   "nbconvert_exporter": "python",
   "pygments_lexer": "ipython3",
   "version": "3.9.18"
  }
 },
 "nbformat": 4,
 "nbformat_minor": 2
}
