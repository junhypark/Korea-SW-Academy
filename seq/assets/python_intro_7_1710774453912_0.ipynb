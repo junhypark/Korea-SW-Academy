{
 "cells": [
  {
   "cell_type": "code",
   "execution_count": 1,
   "metadata": {},
   "outputs": [
    {
     "data": {
      "text/plain": [
       "['__class__',\n",
       " '__delattr__',\n",
       " '__dict__',\n",
       " '__dir__',\n",
       " '__doc__',\n",
       " '__eq__',\n",
       " '__format__',\n",
       " '__ge__',\n",
       " '__getattribute__',\n",
       " '__gt__',\n",
       " '__hash__',\n",
       " '__init__',\n",
       " '__init_subclass__',\n",
       " '__le__',\n",
       " '__lt__',\n",
       " '__module__',\n",
       " '__ne__',\n",
       " '__new__',\n",
       " '__reduce__',\n",
       " '__reduce_ex__',\n",
       " '__repr__',\n",
       " '__setattr__',\n",
       " '__sizeof__',\n",
       " '__str__',\n",
       " '__subclasshook__',\n",
       " '__weakref__',\n",
       " 'x',\n",
       " 'y']"
      ]
     },
     "execution_count": 1,
     "metadata": {},
     "output_type": "execute_result"
    }
   ],
   "source": [
    "# 상속\n",
    "class A:\n",
    "    x = 1\n",
    "    y = 1\n",
    "\n",
    "class B:\n",
    "    x = 2\n",
    "\n",
    "# Meta Class를 기억해라\n",
    "dir(A)"
   ]
  },
  {
   "cell_type": "code",
   "execution_count": 3,
   "metadata": {},
   "outputs": [
    {
     "data": {
      "text/plain": [
       "['__class__',\n",
       " '__delattr__',\n",
       " '__dict__',\n",
       " '__dir__',\n",
       " '__doc__',\n",
       " '__eq__',\n",
       " '__format__',\n",
       " '__ge__',\n",
       " '__getattribute__',\n",
       " '__gt__',\n",
       " '__hash__',\n",
       " '__init__',\n",
       " '__init_subclass__',\n",
       " '__le__',\n",
       " '__lt__',\n",
       " '__module__',\n",
       " '__ne__',\n",
       " '__new__',\n",
       " '__reduce__',\n",
       " '__reduce_ex__',\n",
       " '__repr__',\n",
       " '__setattr__',\n",
       " '__sizeof__',\n",
       " '__str__',\n",
       " '__subclasshook__',\n",
       " '__weakref__',\n",
       " 'x',\n",
       " 'y']"
      ]
     },
     "execution_count": 3,
     "metadata": {},
     "output_type": "execute_result"
    }
   ],
   "source": [
    "# dir class vs instance dir\n",
    "a = A()\n",
    "dir(a)"
   ]
  },
  {
   "cell_type": "code",
   "execution_count": 4,
   "metadata": {},
   "outputs": [
    {
     "data": {
      "text/plain": [
       "set()"
      ]
     },
     "execution_count": 4,
     "metadata": {},
     "output_type": "execute_result"
    }
   ],
   "source": [
    "# 이 두개 어떻게 구별해야하는가?\n",
    "# 집합 사용\n",
    "sa = set(dir(a))\n",
    "saa = set(dir(A))\n",
    "sa - saa\n",
    "# 차집합\n",
    "# 이때, 나오는 set()은 공집합"
   ]
  },
  {
   "cell_type": "code",
   "execution_count": 5,
   "metadata": {},
   "outputs": [
    {
     "data": {
      "text/plain": [
       "set()"
      ]
     },
     "execution_count": 5,
     "metadata": {},
     "output_type": "execute_result"
    }
   ],
   "source": [
    "sa ^ saa\n",
    "# 대칭 차집합\n",
    "# 서로 같네? 이 말은 서로 고유로 가진 것들이 없다\n",
    "# 왜 같지?"
   ]
  },
  {
   "cell_type": "code",
   "execution_count": 6,
   "metadata": {},
   "outputs": [],
   "source": [
    "class AA:\n",
    "    def __init__(self, x):\n",
    "        self.x = x"
   ]
  },
  {
   "cell_type": "code",
   "execution_count": 7,
   "metadata": {},
   "outputs": [],
   "source": [
    "aa = AA(3)"
   ]
  },
  {
   "cell_type": "code",
   "execution_count": 8,
   "metadata": {},
   "outputs": [
    {
     "data": {
      "text/plain": [
       "['__class__',\n",
       " '__delattr__',\n",
       " '__dict__',\n",
       " '__dir__',\n",
       " '__doc__',\n",
       " '__eq__',\n",
       " '__format__',\n",
       " '__ge__',\n",
       " '__getattribute__',\n",
       " '__gt__',\n",
       " '__hash__',\n",
       " '__init__',\n",
       " '__init_subclass__',\n",
       " '__le__',\n",
       " '__lt__',\n",
       " '__module__',\n",
       " '__ne__',\n",
       " '__new__',\n",
       " '__reduce__',\n",
       " '__reduce_ex__',\n",
       " '__repr__',\n",
       " '__setattr__',\n",
       " '__sizeof__',\n",
       " '__str__',\n",
       " '__subclasshook__',\n",
       " '__weakref__',\n",
       " 'x']"
      ]
     },
     "execution_count": 8,
     "metadata": {},
     "output_type": "execute_result"
    }
   ],
   "source": [
    "dir(aa)"
   ]
  },
  {
   "cell_type": "code",
   "execution_count": 11,
   "metadata": {},
   "outputs": [
    {
     "ename": "AttributeError",
     "evalue": "'AA' object has no attribute 'mro'",
     "output_type": "error",
     "traceback": [
      "\u001b[1;31m---------------------------------------------------------------------------\u001b[0m",
      "\u001b[1;31mAttributeError\u001b[0m                            Traceback (most recent call last)",
      "Cell \u001b[1;32mIn[11], line 4\u001b[0m\n\u001b[0;32m      1\u001b[0m \u001b[38;5;28mset\u001b[39m(\u001b[38;5;28mdir\u001b[39m(aa)) \u001b[38;5;241m^\u001b[39m \u001b[38;5;28mset\u001b[39m(\u001b[38;5;28mdir\u001b[39m(AA))\n\u001b[0;32m      2\u001b[0m \u001b[38;5;66;03m# class는 instance 변수 접근이 안되기 때문에 그렇다\u001b[39;00m\n\u001b[1;32m----> 4\u001b[0m \u001b[43maa\u001b[49m\u001b[38;5;241;43m.\u001b[39;49m\u001b[43mmro\u001b[49m()\n\u001b[0;32m      5\u001b[0m \u001b[38;5;66;03m# instance는 mro를 못쓴다\u001b[39;00m\n\u001b[0;32m      6\u001b[0m \u001b[38;5;66;03m# instance는 meta class 것을 사용할 수 없기 때문이다\u001b[39;00m\n",
      "\u001b[1;31mAttributeError\u001b[0m: 'AA' object has no attribute 'mro'"
     ]
    }
   ],
   "source": [
    "set(dir(aa)) ^ set(dir(AA))\n",
    "# class는 instance 변수 접근이 안되기 때문에 그렇다\n",
    "\n",
    "aa.mro()\n",
    "# instance는 mro를 못쓴다\n",
    "# instance는 meta class 것을 사용할 수 없기 때문이다"
   ]
  },
  {
   "cell_type": "code",
   "execution_count": null,
   "metadata": {},
   "outputs": [],
   "source": [
    "# 이름은 다르지만 같은 기능을 하는 애\n",
    "type, __class__ \n",
    "\n",
    "# 이름 같고 같은 기능을 하는 애\n",
    "len, __len__\n",
    "\n",
    "# 이름은 같지만 다른 기능을 하는 애\n",
    "dir, __dir__"
   ]
  },
  {
   "cell_type": "code",
   "execution_count": 15,
   "metadata": {},
   "outputs": [
    {
     "data": {
      "text/plain": [
       "(object,)"
      ]
     },
     "execution_count": 15,
     "metadata": {},
     "output_type": "execute_result"
    }
   ],
   "source": [
    "# dir => 정렬해서 보여줌\n",
    "# __dir__ => 정의된 순서대로 나옴\n",
    "\n",
    "# Meta Class            vs              a\n",
    "#     |                                 |\n",
    "#   Type                             instance\n",
    "#     |                                 |\n",
    "#   Class                              list\n",
    "\n",
    "# a.__bases__\n",
    "# instance 입장에서는 부모가 없다\n",
    "list.__bases__\n",
    "\n",
    "# __bases__는 부모를 알려주는 method 이다\n",
    "# __base__는 첫번째 부모에게 간다\n",
    "# 결국 순서 보기 위함이니 mro와 같다\n",
    "# mro - list / __base__ - tupple\n",
    "\n",
    "# 다중 상속의 문제의 소지를 없애서 단일 상속을 쓰는 경우가 많다\n",
    "# java의 interface는 다중 상속의 문제를 최소화 한 것이다\n",
    "# __bases__[0] == __base__"
   ]
  },
  {
   "cell_type": "code",
   "execution_count": 17,
   "metadata": {},
   "outputs": [],
   "source": [
    "# Composition\n",
    "\n",
    "# composition = 합성 (무엇을? 객체지향 언어에서 합성은 다른 클래스의\n",
    "# instance를 내 안에 포함시키는 것을 의미)\n",
    "\n",
    "class A:\n",
    "    def x(self):\n",
    "        print('x')\n",
    "\n",
    "class B:\n",
    "    def y(self):\n",
    "        print('y')\n",
    "\n",
    "class C:\n",
    "    def __init__(self):\n",
    "        self.a = A()\n",
    "        self.b = B()\n",
    "        # 이렇게 다른 클래스를 내 안의 instance를 넣는 것을 의미\n",
    "    def cc(self):\n",
    "        self.a.x()\n",
    "        self.b.y()"
   ]
  },
  {
   "cell_type": "code",
   "execution_count": 18,
   "metadata": {},
   "outputs": [
    {
     "name": "stdout",
     "output_type": "stream",
     "text": [
      "x\n",
      "y\n"
     ]
    }
   ],
   "source": [
    "# A와 B를 동시에 처리 가능하다\n",
    "c = C()\n",
    "c.cc()"
   ]
  },
  {
   "cell_type": "code",
   "execution_count": null,
   "metadata": {},
   "outputs": [],
   "source": [
    "# 즉, 내 안에 애들을 포함시켜서 하나의 method로 관리하는 것을 composition pattern 이라고 한다\n",
    "# 객체 지향에서 composition을 만들면 위와 같음"
   ]
  },
  {
   "cell_type": "code",
   "execution_count": 19,
   "metadata": {},
   "outputs": [],
   "source": [
    "# composition을 상속 대신에 사용하는 경우\n",
    "# 부모 클래스의 기능이 바뀌면 그 기반으로 만들어졌던 것은 다시 만들어야 하는 경우가 있다\n",
    "# 그래서 부모들의 기능을 작게 하는 경우가 많다\n",
    "# 다양한 구성 요소들을 한 번에 다루기 위해서 composition을 사용한다\n",
    "# 유지보수 시에 많은 구성 요소들을 다루기 위해서 하나의 method로 다루는 게 압도적으로 편하기 때문"
   ]
  },
  {
   "cell_type": "code",
   "execution_count": 20,
   "metadata": {},
   "outputs": [],
   "source": [
    "# 아예 composition으로 상속을 대체할 수 있다\n",
    "# 상속을 하지 않고 composition만으로 똑같은 효과를 내는 방법을 해보자\n",
    "\n",
    "class A:\n",
    "    x = 1\n",
    "    def y(self):\n",
    "        print('y')"
   ]
  },
  {
   "cell_type": "code",
   "execution_count": 21,
   "metadata": {},
   "outputs": [],
   "source": [
    "class B(A):\n",
    "    pass"
   ]
  },
  {
   "cell_type": "code",
   "execution_count": 25,
   "metadata": {},
   "outputs": [],
   "source": [
    "# composition의 문제점\n",
    "# 코드가 길어짐\n",
    "# 코드가 복잡해짐\n",
    "class C:\n",
    "    def __init__(self):\n",
    "        self.a = A()"
   ]
  },
  {
   "cell_type": "code",
   "execution_count": 23,
   "metadata": {},
   "outputs": [
    {
     "data": {
      "text/plain": [
       "1"
      ]
     },
     "execution_count": 23,
     "metadata": {},
     "output_type": "execute_result"
    }
   ],
   "source": [
    "b = B()\n",
    "b.x"
   ]
  },
  {
   "cell_type": "code",
   "execution_count": 26,
   "metadata": {},
   "outputs": [
    {
     "name": "stdout",
     "output_type": "stream",
     "text": [
      "x\n"
     ]
    }
   ],
   "source": [
    "c = C()\n",
    "c.x\n",
    "\n",
    "# Attribute Error\n",
    "# x는 class, instance, 부모 도 없을 때 나오는 에러\n",
    "# 예외처리 하는 방법으로 handle"
   ]
  },
  {
   "cell_type": "code",
   "execution_count": 27,
   "metadata": {},
   "outputs": [],
   "source": [
    "class C:\n",
    "    def __init__(self):\n",
    "        self.a = A()\n",
    "    def __getattr__(self, x):\n",
    "        print(x)"
   ]
  },
  {
   "cell_type": "code",
   "execution_count": 28,
   "metadata": {},
   "outputs": [
    {
     "name": "stdout",
     "output_type": "stream",
     "text": [
      "x\n"
     ]
    }
   ],
   "source": [
    "c = C()\n",
    "c.x\n",
    "# 즉, getattr은 try except와 똑같다\n",
    "# attributeerror가 나오면 getattr을 실행해주세요\n",
    "# 와 같은 의미이다"
   ]
  },
  {
   "cell_type": "code",
   "execution_count": 31,
   "metadata": {},
   "outputs": [
    {
     "data": {
      "text/plain": [
       "1"
      ]
     },
     "execution_count": 31,
     "metadata": {},
     "output_type": "execute_result"
    }
   ],
   "source": [
    "getattr(-1, '__abs__')()\n",
    "\n",
    "# 문자열로 넣어도 실행이 된다"
   ]
  },
  {
   "cell_type": "code",
   "execution_count": 32,
   "metadata": {},
   "outputs": [],
   "source": [
    "a = input()"
   ]
  },
  {
   "cell_type": "code",
   "execution_count": 34,
   "metadata": {},
   "outputs": [
    {
     "data": {
      "text/plain": [
       "1"
      ]
     },
     "execution_count": 34,
     "metadata": {},
     "output_type": "execute_result"
    }
   ],
   "source": [
    "getattr(-1, a)()\n",
    "\n",
    "# 사용자에게 함수 이름을 입력 받아서 사용 가능하다\n",
    "# getattr과 __getattr__은 서로 다른 기능을 한다"
   ]
  },
  {
   "cell_type": "code",
   "execution_count": 37,
   "metadata": {},
   "outputs": [
    {
     "data": {
      "text/plain": [
       "<method-wrapper '__abs__' of int object at 0x0000014C47EF6930>"
      ]
     },
     "execution_count": 37,
     "metadata": {},
     "output_type": "execute_result"
    }
   ],
   "source": [
    "1 .__getattribute__('__abs__')\n",
    "\n",
    "# 문법 에러가 나옴\n",
    "# 왜냐하면 1. float이기 때문\n",
    "# 공백으로 처리하면 꼼수로 가능\n",
    "# 이때 .이 literal로 처리되기 때문이다"
   ]
  },
  {
   "cell_type": "code",
   "execution_count": null,
   "metadata": {},
   "outputs": [],
   "source": [
    "# 연산자 우선순위\n",
    "# dot-notation과 literal . 은 서로 다른 순위를 가지기 때문이다"
   ]
  },
  {
   "cell_type": "code",
   "execution_count": 38,
   "metadata": {},
   "outputs": [],
   "source": [
    "class C:\n",
    "    def __init__(self):\n",
    "        self.a = A()\n",
    "    def __getattr__(self, x):\n",
    "        return getattr(self.a, x)"
   ]
  },
  {
   "cell_type": "code",
   "execution_count": 39,
   "metadata": {},
   "outputs": [
    {
     "data": {
      "text/plain": [
       "1"
      ]
     },
     "execution_count": 39,
     "metadata": {},
     "output_type": "execute_result"
    }
   ],
   "source": [
    "c = C()\n",
    "c.x"
   ]
  },
  {
   "cell_type": "code",
   "execution_count": 40,
   "metadata": {},
   "outputs": [
    {
     "name": "stdout",
     "output_type": "stream",
     "text": [
      "y\n"
     ]
    }
   ],
   "source": [
    "c.y()"
   ]
  },
  {
   "cell_type": "code",
   "execution_count": 41,
   "metadata": {},
   "outputs": [],
   "source": [
    "# Lazy eval\n",
    "# 상속, duck typing, composition 세가지 다 사용 가능\n",
    "\n",
    "# abstract\n",
    "# 추상화\n",
    "# 공통점을 뽑아서 규약으로 만든다\n",
    "# duck typing은 자유롭다 강제성이 없음\n",
    "# 추상화는 피를 물려주는 것, 강제성이 존재\n",
    "# python은 추상화를 상속으로 만들어야함\n",
    "#   java와 비슷함\n",
    "# 이때, sequence의 추상화 강제성을 부여하기 위해 Sequence를 상속시킨다\n",
    "# duck typing = 강제성 없음 / 임시로 부여\n",
    "# abstract = 강제성 존재\n",
    "\n",
    "# 즉, 아래의 예시에서는\n",
    "# Sequence의 가족이므로\n",
    "# Sequence가 행동해야 할 것이 존재하지 않으면\n",
    "# 문제가 생김\n",
    "# 추상 클래스 만드는 방식은 3가지 존재\n",
    "# 1. pytorch 방식\n",
    "# 2. tensorflow 방식\n",
    "# 3. abc 상속받아서 만드는 것 (첫번쨰 예제 코드)"
   ]
  },
  {
   "cell_type": "code",
   "execution_count": 42,
   "metadata": {},
   "outputs": [],
   "source": [
    "# 3\n",
    "from collections.abc import Sequence\n",
    "class ExpandingSequence(Sequence):\n",
    "    def __init__(self, it):\n",
    "        self.it = it\n",
    "        self._cache = []\n",
    "    def __getitem__(self, index):\n",
    "        while len(self._cache) <= index:\n",
    "            self._cache.append(next(self.it))\n",
    "        return self._cache[index]\n",
    "    def __len__(self):\n",
    "        return len(self._cache)"
   ]
  },
  {
   "cell_type": "code",
   "execution_count": 43,
   "metadata": {},
   "outputs": [],
   "source": [
    "def get_primes():\n",
    "    candidate = 2\n",
    "    found = []\n",
    "    while True:\n",
    "        if all(candidate % prime != 0 for prime in found):\n",
    "            yield candidate\n",
    "            found.append(candidate)\n",
    "        candidate += 1\n"
   ]
  },
  {
   "cell_type": "code",
   "execution_count": 44,
   "metadata": {},
   "outputs": [],
   "source": [
    "primes = ExpandingSequence(get_primes())"
   ]
  },
  {
   "cell_type": "code",
   "execution_count": 45,
   "metadata": {},
   "outputs": [
    {
     "ename": "ImportError",
     "evalue": "cannot import name 'abstractmethod' from 'collections.abc' (c:\\Users\\SAMSUNG\\anaconda3\\envs\\KoreaUniv\\lib\\collections\\abc.py)",
     "output_type": "error",
     "traceback": [
      "\u001b[1;31m---------------------------------------------------------------------------\u001b[0m",
      "\u001b[1;31mImportError\u001b[0m                               Traceback (most recent call last)",
      "Cell \u001b[1;32mIn[45], line 2\u001b[0m\n\u001b[0;32m      1\u001b[0m \u001b[38;5;66;03m# 3\u001b[39;00m\n\u001b[1;32m----> 2\u001b[0m \u001b[38;5;28;01mfrom\u001b[39;00m \u001b[38;5;21;01mcollections\u001b[39;00m\u001b[38;5;21;01m.\u001b[39;00m\u001b[38;5;21;01mabc\u001b[39;00m \u001b[38;5;28;01mimport\u001b[39;00m abstractmethod\n\u001b[0;32m      3\u001b[0m \u001b[38;5;28;01mclass\u001b[39;00m \u001b[38;5;21;01mExpandingSequence\u001b[39;00m:\n\u001b[0;32m      4\u001b[0m     \u001b[38;5;28;01mdef\u001b[39;00m \u001b[38;5;21m__init__\u001b[39m(\u001b[38;5;28mself\u001b[39m, it):\n",
      "\u001b[1;31mImportError\u001b[0m: cannot import name 'abstractmethod' from 'collections.abc' (c:\\Users\\SAMSUNG\\anaconda3\\envs\\KoreaUniv\\lib\\collections\\abc.py)"
     ]
    }
   ],
   "source": [
    "# 2\n",
    "from collections.abc import abstractmethod\n",
    "class ExpandingSequence:\n",
    "    def __init__(self, it):\n",
    "        self.it = it\n",
    "        self._cache = []\n",
    "    @abstractmethod\n",
    "    def __getitem__(self, index):\n",
    "        while len(self._cache) <= index:\n",
    "            self._cache.append(next(self.it))\n",
    "        return self._cache[index]\n",
    "    def __len__(self):\n",
    "        return len(self._cache)\n",
    "    \n",
    "# 있는데 import가 안됨\n",
    "# 이건 또 뭐야 인생이 힘들어?\n",
    "# 참조 import라는게 있음\n",
    "# 그래서 해당 구문을 이렇게 바꿔야함"
   ]
  },
  {
   "cell_type": "code",
   "execution_count": 66,
   "metadata": {},
   "outputs": [],
   "source": [
    "# 2\n",
    "from abc import abstractmethod\n",
    "class ExpandingSequence:\n",
    "    def __init__(self, it):\n",
    "        self.it = it\n",
    "        self._cache = []\n",
    "    @abstractmethod\n",
    "    def __getitem__(self, index):\n",
    "        while len(self._cache) <= index:\n",
    "            self._cache.append(next(self.it))\n",
    "        return self._cache[index]\n",
    "    def __len__(self):\n",
    "        return len(self._cache)"
   ]
  },
  {
   "cell_type": "code",
   "execution_count": 67,
   "metadata": {},
   "outputs": [],
   "source": [
    "class X(ExpandingSequence):\n",
    "    pass"
   ]
  },
  {
   "cell_type": "code",
   "execution_count": 68,
   "metadata": {},
   "outputs": [],
   "source": [
    "x = X(get_primes())\n",
    "\n",
    "# abstractmethod는 "
   ]
  },
  {
   "cell_type": "code",
   "execution_count": 50,
   "metadata": {},
   "outputs": [],
   "source": [
    "class ExpandingSequence:\n",
    "    def __init__(self, it):\n",
    "        self.it = it\n",
    "        self._cache = []\n",
    "    @abstractmethod\n",
    "    def __getitem__(self, index):\n",
    "        raise NotImplementedError\n",
    "    def __len__(self):\n",
    "        return len(self._cache)"
   ]
  },
  {
   "cell_type": "code",
   "execution_count": 55,
   "metadata": {},
   "outputs": [
    {
     "ename": "NotImplementedError",
     "evalue": "",
     "output_type": "error",
     "traceback": [
      "\u001b[1;31m---------------------------------------------------------------------------\u001b[0m",
      "\u001b[1;31mNotImplementedError\u001b[0m                       Traceback (most recent call last)",
      "Cell \u001b[1;32mIn[55], line 2\u001b[0m\n\u001b[0;32m      1\u001b[0m x \u001b[38;5;241m=\u001b[39m X(get_primes)\n\u001b[1;32m----> 2\u001b[0m \u001b[43mx\u001b[49m\u001b[43m[\u001b[49m\u001b[38;5;241;43m0\u001b[39;49m\u001b[43m]\u001b[49m\n\u001b[0;32m      4\u001b[0m \u001b[38;5;66;03m# 에러 왜?\u001b[39;00m\n\u001b[0;32m      5\u001b[0m \u001b[38;5;66;03m# 기능 안민들었기 떄문임\u001b[39;00m\n",
      "Cell \u001b[1;32mIn[50], line 8\u001b[0m, in \u001b[0;36mExpandingSequence.__getitem__\u001b[1;34m(self, index)\u001b[0m\n\u001b[0;32m      6\u001b[0m \u001b[38;5;129m@abstractmethod\u001b[39m\n\u001b[0;32m      7\u001b[0m \u001b[38;5;28;01mdef\u001b[39;00m \u001b[38;5;21m__getitem__\u001b[39m(\u001b[38;5;28mself\u001b[39m, index):\n\u001b[1;32m----> 8\u001b[0m     \u001b[38;5;28;01mraise\u001b[39;00m \u001b[38;5;167;01mNotImplementedError\u001b[39;00m\n",
      "\u001b[1;31mNotImplementedError\u001b[0m: "
     ]
    }
   ],
   "source": [
    "x = X(get_primes)\n",
    "x[0]\n",
    "\n",
    "# 에러 왜?\n",
    "# 기능 안민들었기 떄문임"
   ]
  },
  {
   "cell_type": "code",
   "execution_count": 56,
   "metadata": {},
   "outputs": [],
   "source": [
    "# 상속\n",
    "# duck typing\n",
    "# composition\n",
    "# 위의 3가지로 상속을 만들 수 있다\n",
    "# \n",
    "# 임의로 추가 수정하면 문제가 생김\n",
    "# 따라서, abstract를 만듦\n",
    "# 상속을 통해 이 규칙을 안따르면 만들 수 없게 만든 것 = 강제성 부여\n",
    "# 필수적인, 공통된 규칙을 강제한다\n",
    "# 추상화는 상속과 duck typing하고 결합할 수 있다\n",
    "# \n",
    "# 강제시키는 방법\n",
    "# 1. duck typing으로 강제 - 사용할 때 에러 발생\n",
    "# 2. 상속에 강제 - 인스턴스화 할때 에러 발생 / 예) Sequence 상속"
   ]
  },
  {
   "cell_type": "code",
   "execution_count": 57,
   "metadata": {},
   "outputs": [],
   "source": [
    "from collections.abc import Sequence"
   ]
  },
  {
   "cell_type": "code",
   "execution_count": 69,
   "metadata": {},
   "outputs": [],
   "source": [
    "class A(Sequence):\n",
    "    pass"
   ]
  },
  {
   "cell_type": "code",
   "execution_count": 70,
   "metadata": {},
   "outputs": [
    {
     "ename": "TypeError",
     "evalue": "Can't instantiate abstract class A with abstract methods __getitem__, __len__",
     "output_type": "error",
     "traceback": [
      "\u001b[1;31m---------------------------------------------------------------------------\u001b[0m",
      "\u001b[1;31mTypeError\u001b[0m                                 Traceback (most recent call last)",
      "Cell \u001b[1;32mIn[70], line 1\u001b[0m\n\u001b[1;32m----> 1\u001b[0m a \u001b[38;5;241m=\u001b[39m \u001b[43mA\u001b[49m\u001b[43m(\u001b[49m\u001b[43m)\u001b[49m\n\u001b[0;32m      2\u001b[0m \u001b[38;5;66;03m# 구현을 안해서 에러가 나옴\u001b[39;00m\n",
      "\u001b[1;31mTypeError\u001b[0m: Can't instantiate abstract class A with abstract methods __getitem__, __len__"
     ]
    }
   ],
   "source": [
    "a = A()\n",
    "# 구현을 안해서 에러가 나옴"
   ]
  },
  {
   "cell_type": "code",
   "execution_count": 60,
   "metadata": {},
   "outputs": [],
   "source": [
    "# duck typing 추상화\n",
    "\n",
    "from abc import abstractmethod\n",
    "class B:\n",
    "    @abstractmethod\n",
    "    def __getitem__(self, x):\n",
    "        raise NotImplementedError"
   ]
  },
  {
   "cell_type": "code",
   "execution_count": 61,
   "metadata": {},
   "outputs": [],
   "source": [
    "class C(B):\n",
    "    pass"
   ]
  },
  {
   "cell_type": "code",
   "execution_count": 62,
   "metadata": {},
   "outputs": [
    {
     "ename": "NotImplementedError",
     "evalue": "",
     "output_type": "error",
     "traceback": [
      "\u001b[1;31m---------------------------------------------------------------------------\u001b[0m",
      "\u001b[1;31mNotImplementedError\u001b[0m                       Traceback (most recent call last)",
      "Cell \u001b[1;32mIn[62], line 2\u001b[0m\n\u001b[0;32m      1\u001b[0m c\u001b[38;5;241m=\u001b[39m C()\n\u001b[1;32m----> 2\u001b[0m \u001b[43mc\u001b[49m\u001b[43m[\u001b[49m\u001b[38;5;241;43m0\u001b[39;49m\u001b[43m]\u001b[49m\n",
      "Cell \u001b[1;32mIn[60], line 5\u001b[0m, in \u001b[0;36mB.__getitem__\u001b[1;34m(self, x)\u001b[0m\n\u001b[0;32m      3\u001b[0m \u001b[38;5;129m@abstractmethod\u001b[39m\n\u001b[0;32m      4\u001b[0m \u001b[38;5;28;01mdef\u001b[39;00m \u001b[38;5;21m__getitem__\u001b[39m(\u001b[38;5;28mself\u001b[39m, x):\n\u001b[1;32m----> 5\u001b[0m     \u001b[38;5;28;01mraise\u001b[39;00m \u001b[38;5;167;01mNotImplementedError\u001b[39;00m\n",
      "\u001b[1;31mNotImplementedError\u001b[0m: "
     ]
    }
   ],
   "source": [
    "c= C()\n",
    "c[0]"
   ]
  },
  {
   "cell_type": "code",
   "execution_count": 63,
   "metadata": {},
   "outputs": [],
   "source": [
    "class D(B):\n",
    "    def __getitem__(self, x):\n",
    "        return [1,2,3,4]"
   ]
  },
  {
   "cell_type": "code",
   "execution_count": 64,
   "metadata": {},
   "outputs": [
    {
     "data": {
      "text/plain": [
       "[1, 2, 3, 4]"
      ]
     },
     "execution_count": 64,
     "metadata": {},
     "output_type": "execute_result"
    }
   ],
   "source": [
    "d = D()\n",
    "d[0]\n",
    "\n",
    "# 구현을 했기 때문에 error가 나오지 않는다"
   ]
  },
  {
   "cell_type": "code",
   "execution_count": 65,
   "metadata": {},
   "outputs": [],
   "source": [
    "def x():\n",
    "    ...\n",
    "# elipse?"
   ]
  },
  {
   "cell_type": "code",
   "execution_count": null,
   "metadata": {},
   "outputs": [],
   "source": [
    "# Iterator를 만들고 싶음\n",
    "from collections.abc import Iterable, Iterator\n",
    "\n",
    "# Protocol\n",
    "# iterable = __iter__만 있으면 됨\n",
    "# iterator = __iter__, __next__ 두개가 있어야 한다\n",
    "# 즉, protocol은 다른 말로 duck typing이다\n",
    "# 추상화와 duck typing을 반반 사용하는 경우도 존재한다\n",
    "# ex) iterable을 부여하고 __next__를 따로 붙여서 자유도를 줌\n",
    "\n",
    "# torch errorcode 10054 -> reboot or manually delete the files and restart\n",
    "# connection denied from server ..."
   ]
  },
  {
   "cell_type": "markdown",
   "metadata": {},
   "source": [
    "# 상속\n",
    "\n",
    "### instance vs class\n",
    "\n",
    "class를 dir에 넣었을 때와 instance를 dir에 넣었을 떄는 서로 겹치는게 없다\n",
    "\n",
    "```\n",
    "class A:\n",
    "    x = 1\n",
    "    y = 2\n",
    "class B:\n",
    "    x = 2\n",
    "\n",
    "s = set(dir(A))\n",
    "ss = A()\n",
    "ssa = set(dir(ss))\n",
    "\n",
    "s - ssa\n",
    ">>> set()\n",
    "\n",
    "s ^ ssa\n",
    ">>> set()\n",
    "\n",
    "# 둘 다 공집합\n",
    "```\n",
    "\n",
    "왜? 서로 고유로 가진 것들이 없기 때문이다\n",
    "* 사진 참조(1, 2)\n",
    "\n",
    "##### mro\n",
    "\n",
    "instance는 mro를 사용 못함, 왜냐하면 meta class의 것을 사용할 수 없기 때문이다\n",
    "\n",
    "### Meta Class\n",
    "\n",
    "Meta Class와 부모는 다르다\n",
    "\n",
    "```\n",
    "type(list)\n",
    ">>> type\n",
    "\n",
    "list.__bases__\n",
    ">>> (object,)\n",
    "```\n",
    "\n",
    "Meta Class > Type -- list -- a (a = [1,2,3,4])\n",
    "              |\n",
    "            class\n",
    "\n",
    "이때 bases는 부모를 확인하기 위한 function이다\n",
    "\n",
    "\\_\\_\\bases\\_\\_는 부모를 알려줌 / \\_\\_base\\_\\_는 첫번째 부모를 알려줌\n",
    "\n",
    "mro - list / base - tupple\n",
    "\n",
    "```\n",
    "__base__[0] == __base__\n",
    "```\n",
    "\n",
    "* 사진 참조 (3)\n",
    "\n",
    "## Composition\n",
    "\n",
    "composition = 합성 / 다른 클래스의 instance를 내 안에 포함시키는 것을 의미\n",
    "\n",
    "하지만, 고유 값을 가지는 것은 아님 - 참조를 하는 것\n",
    "* 사진 참조(4)\n",
    "\n",
    "단점\n",
    "1. 코드가 길어짐\n",
    "2. 코드가 복잡해짐\n",
    "\n",
    "```\n",
    "class A:\n",
    "    def x(self):\n",
    "        print('x')\n",
    "\n",
    "class B:\n",
    "    def y(self):\n",
    "        print('y')\n",
    "\n",
    "class C:\n",
    "    def __init__(self):\n",
    "        self.a = A()\n",
    "        self.b = B()\n",
    "        # 이렇게 다른 클래스를 내 안의 instance를 넣는 것을 의미\n",
    "    def cc(self):\n",
    "        self.a.x()\n",
    "        self.b.y()\n",
    "```\n",
    "\n",
    "##### Composition pattern = making classes like above\n",
    "\n",
    "### Composition as inheritance\n",
    "\n",
    "composition을 상속 대신에 사용 가능하다\n",
    "\n",
    "언제 사용하냐면 다양한 구성 요소들을 한 번에 다루기 위해서 사용한다\n",
    "\n",
    "또한, 유지보수 시에 많은 구성 요소들을 다루기 위해서 하나의 method로 다루는 게 압도적으로 편하기 때문\n",
    "\n",
    "```\n",
    "class A:\n",
    "    x = 1\n",
    "    def y(self):\n",
    "        print('y')\n",
    "\n",
    "class C:\n",
    "    def __init__(self):\n",
    "        self.a = A()\n",
    "\n",
    "c = C()\n",
    "c.x\n",
    ">>> Attribute Error\n",
    "```\n",
    "\n",
    "필요한 함수들이 존재한다\n",
    "\n",
    "```\n",
    "class C:\n",
    "    def __init__(self):\n",
    "        self.a = A()\n",
    "    def __getattr__(self, x):\n",
    "        print(x)\n",
    "\n",
    "c = C()\n",
    "c.x\n",
    ">>> x\n",
    "```\n",
    "\n",
    "이때, getattr은 try except와 똑같다\n",
    "\n",
    "\"attributeerror가 나오면 getattr을 실행해주세요\" 와 같은 의미\n",
    "\n",
    "built-in getattr과 다른 역할을 하므로 주의\n",
    "\n",
    "* getattr?\n",
    "\n",
    "    ```\n",
    "    getattr(-1, '__abs__')\n",
    "    >>> 1\n",
    "    ```\n",
    "\n",
    "    문자로 원하는 함수를 실행할 수 있게 해주는 함수\n",
    "\n",
    "### Abstract\n",
    "\n",
    "추상화 - 공통점을 뽑아서 규약으로 만들고 강제성을 부여함\n",
    "\n",
    "##### abstract vs duck typing\n",
    "\n",
    "    abstract - 강제성 O / 지키지 않으면 실행이 되지 않음\n",
    "\n",
    "    duck typing - 강제성 X / 필요한 함수가 없어도 에러가 안뜸\n",
    "\n",
    "python에서 추상화는 상속을 해야함\n",
    "\n",
    "Sequence 상속이 대표적인 예시이다\n",
    "\n",
    "추상 클래스를 만드는 방법은 3가지 존재한다\n",
    "\n",
    "1. pytorch 방식\n",
    "2. tensorflow 방식\n",
    "3. abc 상속 받아서 만드는 것\n",
    "\n",
    "3번의 예시를 보자\n",
    "\n",
    "3-1. Sequence 활용\n",
    "\n",
    "```\n",
    "from collections.abc import Sequence\n",
    "class ExpandingSequence(Sequence):\n",
    "    def __init__(self, it):\n",
    "        self.it = it\n",
    "        self._cache = []\n",
    "    def __getitem__(self, index):\n",
    "        while len(self._cache) <= index:\n",
    "            self._cache.append(next(self.it))\n",
    "        return self._cache[index]\n",
    "    def __len__(self):\n",
    "        return len(self._cache)\n",
    "\n",
    "def get_primes():\n",
    "    candidate = 2\n",
    "    found = []\n",
    "    while True:\n",
    "        if all(candidate % prime != 0 for prime in found):\n",
    "            yield candidate\n",
    "            found.append(candidate)\n",
    "        candidate += 1\n",
    "\n",
    "primes = ExpandingSequence(get_primes())\n",
    "```\n",
    "\n",
    "에러 없이 잘 돌아간다\n",
    "\n",
    "하지만 몇몇 문제점들이 있는데 대표적으로 abstractmethod 사용 시 ImportError가 존재한다\n",
    "\n",
    "3-2. abstract method\n",
    "\n",
    "```\n",
    "from collections.abc import abstractmethod\n",
    ">>> ImportError\n",
    "\n",
    "# fix\n",
    "from abc import abstractmethod\n",
    "```\n",
    "\n",
    "이제 import를 정상적으로 작동시켜 코드를 만들어보면\n",
    "\n",
    "```\n",
    "class ExpandingSequence:\n",
    "    def __init__(self, it):\n",
    "        self.it = it\n",
    "        self._cache = []\n",
    "    @abstractmethod\n",
    "    def __getitem__(self, index):\n",
    "        while len(self._cache) <= index:\n",
    "            self._cache.append(next(self.it))\n",
    "        return self._cache[index]\n",
    "    def __len__(self):\n",
    "        return len(self._cache)\n",
    "\n",
    "class X(ExpandingSequence):\n",
    "    pass\n",
    "\n",
    "x = X(get_primes())\n",
    "```\n",
    "\n",
    "하지만 몇몇 기능을 바꿔보자\n",
    "\n",
    "```\n",
    "class ExpandingSequence:\n",
    "    def __init__(self, it):\n",
    "        self.it = it\n",
    "        self._cache = []\n",
    "    @abstractmethod\n",
    "    def __getitem__(self, index):\n",
    "        raise NotImplementedError\n",
    "    def __len__(self):\n",
    "        return len(self._cache)\n",
    "\n",
    "x = X(get_primes)\n",
    "x[0]\n",
    ">>> Error Occur\n",
    "```\n",
    "\n",
    "왜냐하면 필요한 기능을 구현하지 않았기 때문이다\n",
    "\n",
    "* 이때, raise는 error를 발생시키는 구문이다\n",
    "\n",
    "### Inheritance\n",
    "\n",
    "상속은 3가지 방법으로 가능하다\n",
    "1. duck typing\n",
    "2. composition\n",
    "3. 상속\n",
    "\n",
    "하지만 임의로 수정을 하면 문제가 생김, 따라서 abstract가 생김\n",
    "\n",
    "추상화는 상속과 duck typing으로 결합하여 사용 가능하다\n",
    "\n",
    "1. duck typing으로 강제 - 사용할 때 에러 발생\n",
    "2. 상속으로 강제 - 인스터스화 할때 에러 발생\n",
    "\n",
    "에러가 나는 대표적인 예시\n",
    "\n",
    "**상속으로 추상화**\n",
    "\n",
    "```\n",
    "from abc import abstractmethod\n",
    "\n",
    "class A(Sequence):\n",
    "    pass\n",
    "\n",
    "a = A()\n",
    ">> Error Occur\n",
    "```\n",
    "\n",
    "왜냐하면 Sequence에 필요한 기능들을 구현하지 않아서 에러가 발생함\n",
    "\n",
    "**duck typing 추상화**\n",
    "\n",
    "```\n",
    "from abc import abstractmethod\n",
    "class B:\n",
    "    @abstractmethod\n",
    "    def __getitem__(self, x):\n",
    "        raise NotImplementedError\n",
    "class C(B):\n",
    "    pass\n",
    "\n",
    "c = C()\n",
    "c[0]\n",
    ">>> Error Occur\n",
    "```\n",
    "\n",
    "구현을 하지 않았기에 error\n",
    "\n",
    "Fix!\n",
    "\n",
    "```\n",
    "class D(B):\n",
    "    def __getitem__(self, x):\n",
    "        return [1,2,3,4]\n",
    "\n",
    "d = D()\n",
    "d[0]\n",
    ">>> [1, 2, 3, 4]\n",
    "```\n",
    "\n",
    "구현을 했기 때문에 error가 나오지 않는다\n",
    "\n",
    "### Protocol\n",
    "\n",
    "Protocol - 다른말로 duck typing이다\n",
    "\n",
    "추상화와 duck typing을 반반 사용하는 경우도 존재\n",
    "\n",
    "ex) iterable을 부여하고 next를 따로 붙여서 자유도를 줌\n",
    "\n",
    "iterable = \\_\\_iter\\_\\_만 있으면 가능함\n",
    "\n",
    "iterator = \\_\\_iter\\_\\_, \\_\\_next\\_\\_를 따로 붙여서 자유도를 줌"
   ]
  }
 ],
 "metadata": {
  "kernelspec": {
   "display_name": "KoreaUniv",
   "language": "python",
   "name": "python3"
  },
  "language_info": {
   "codemirror_mode": {
    "name": "ipython",
    "version": 3
   },
   "file_extension": ".py",
   "mimetype": "text/x-python",
   "name": "python",
   "nbconvert_exporter": "python",
   "pygments_lexer": "ipython3",
   "version": "3.9.18"
  }
 },
 "nbformat": 4,
 "nbformat_minor": 2
}
