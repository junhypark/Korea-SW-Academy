{
  "nbformat": 4,
  "nbformat_minor": 0,
  "metadata": {
    "colab": {
      "provenance": []
    },
    "kernelspec": {
      "name": "python3",
      "display_name": "Python 3"
    },
    "language_info": {
      "name": "python"
    }
  },
  "cells": [
    {
      "cell_type": "markdown",
      "source": [
        "# Assign\n",
        "\n",
        "1. ```a = 1```\n",
        "2. ```a = b = 1```\n",
        "3. ```a, b = 1, 2```\n",
        "4. ```*a, = 1,2,3```\n",
        "5. ```a += 1```\n",
        "\n",
        "###Case of #2\n",
        "\n",
        "If we put the mutable value to the a and b, the problem will be occured which is  \n",
        "\n",
        "```\n",
        "a = b = [1,2,3]\n",
        "b[0] = 100\n",
        "a[0]\n",
        ">>> 100\n",
        "```\n",
        "\n",
        "Why? they share same memory\n",
        "\n",
        "To solve, use copy\n",
        "\n",
        "```\n",
        "b = a[:]\n",
        "b = a.copy()\n",
        "```\n",
        "\n",
        "copy functions\n",
        "\n",
        "###Case of #3,4\n",
        "\n",
        "Orginially, ```a = 1,2``` is tupple\n",
        "\n",
        "However, if you type these lines the error occurs\n",
        "\n",
        "```\n",
        "a, b = 1,2,3 => unpack error\n",
        "a, *b = 1,2,3 => b is a tupple (2,3)\n",
        "*a, b = 1,2,3 => a will be list [1.2]\n",
        "```\n",
        "\n",
        "However, ```*a = 1,2,3``` occurs an error\n",
        "\n",
        "```\n",
        "  File \"<ipython-input-3-c557a64cd52d>\", line 15\n",
        "    *a = 1,2,3\n",
        "    ^\n",
        "SyntaxError: starred assignment target must be in a list or tuple\n",
        "```\n",
        "\n",
        "*a, = 1,2,3 makes possible to run as desired\n",
        "\n",
        "###Case of #5\n",
        "\n",
        "```a++``` is possible statement in Java or C\n",
        "\n",
        "However, Python is not, rather suggest to use ```a+=1```"
      ],
      "metadata": {
        "id": "ExSj9a7smWHu"
      }
    },
    {
      "cell_type": "code",
      "execution_count": null,
      "metadata": {
        "colab": {
          "base_uri": "https://localhost:8080/"
        },
        "id": "80dkc-SMae7f",
        "outputId": "e8e95678-14f4-4cc1-ffb5-6d0fff361047"
      },
      "outputs": [
        {
          "output_type": "execute_result",
          "data": {
            "text/plain": [
              "[100, 2, 3]"
            ]
          },
          "metadata": {},
          "execution_count": 1
        }
      ],
      "source": [
        "#assign의 종류\n",
        "a = 1 #1\n",
        "\n",
        "a = b = 1 #2\n",
        "\n",
        "a, b = 1, 2 #3\n",
        "\n",
        "*a,= 1,2,3 #4\n",
        "\n",
        "a += 1 #5\n",
        "\n",
        "#mutable 문제점\n",
        "a = b = [1,2,3]\n",
        "b[0] = 100\n",
        "\n",
        "#메모리를 공유하기 때문에 값이 똑같이 바뀐다\n",
        "b = a[:]\n",
        "a[1] = 100\n",
        "\n",
        "b\n",
        "#해도 바뀌지 않음\n",
        "#copy technique이라고 한다\n",
        "\n",
        "#b = a[:] == b = a.copy()\n",
        "\n",
        "#shallow copy와 decopy가 있다\n",
        "#따라서 tensor는 immutable로 바꿔놨다"
      ]
    },
    {
      "cell_type": "code",
      "source": [
        "#3\n",
        "#1,2는 본래 tupple 이었다\n",
        "#따라서, a,b = (1,2) 가 된다\n",
        "#unpacking 에러가 나옴\n",
        "#a, b = 1,2,3 ==> unpack 에러\n",
        "#a, *b = 1,2,3\n",
        "#*a, b = 1,2,3 ==> a가 list 혈태로 나온다\n",
        "#하지만, *a = 1,2,3은 되지 않는다\n",
        "#*a, = 1,2,3 은 가능하다 (리스트로 들어감)\n",
        "#즉, * assignment는\n",
        "\n",
        "a=3\n",
        "b=2\n",
        "a,b = b,a\n",
        "#swap을 함수 사용하지 않고도 가능하다"
      ],
      "metadata": {
        "id": "6uhvdDG-SC2c"
      },
      "execution_count": null,
      "outputs": []
    },
    {
      "cell_type": "markdown",
      "source": [
        "#Global vs Non-local\n",
        "\n",
        "When we sum up 1 to 10, often people make a code like...\n",
        "\n",
        "```\n",
        "sum = 0\n",
        "for i in range(1,11):\n",
        "  sum += i\n",
        "```\n",
        "\n",
        "However, sum is built-in function\n",
        "\n",
        "So, please avoid to use built-in function name likely indicator name\n",
        "\n",
        "###Find False in the list\n",
        "\n",
        "```\n",
        "a = [1,2,'',3,None,'a']\n",
        "\n",
        "temp = []\n",
        "for i in a:\n",
        "  if not i:\n",
        "    temp.append(i)\n",
        "temp\n",
        "```\n",
        "\n",
        "will show the False items from the list\n",
        "\n",
        "or\n",
        "\n",
        "```\n",
        "any(a)\n",
        "```\n",
        "\n",
        "will show that a contains False or not\n",
        "\n",
        "###When we use while?\n",
        "\n",
        "When we have to use infinity loop we use while\n",
        "\n",
        "BUT! we have to use fault tolerance\n",
        "using ```assert```\n",
        "\n",
        "```\n",
        "a = 2\n",
        "assert a == 1\n",
        ">>> False\n",
        "```\n",
        "\n",
        "When we expected specific value, indeed it wasn't\n",
        "\n",
        "Can be used as checker\n",
        "\n",
        "```\n",
        "raise - occur error forced\n",
        "```\n",
        "\n",
        "How to avoid error for loop?\n",
        "\n",
        "```\n",
        "try:\n",
        " b = int(a)\n",
        "except ValueError:\n",
        "  print('V')\n",
        "else:\n",
        "  print(b)\n",
        "```\n",
        "\n",
        "Using try & except, we can avoid error]\n",
        "\n",
        "Indeed, the error comes out but we catch it\n",
        "\n",
        "So the example will be...\n",
        "\n",
        "```\n",
        "while True:\n",
        "  try:\n",
        "    b = int(a)\n",
        "  except ValueError:\n",
        "    print('V')\n",
        "  else:\n",
        "    print(b-3)\n",
        "    break\n",
        "```"
      ],
      "metadata": {
        "id": "Jg5S2mFnqwf4"
      }
    },
    {
      "cell_type": "code",
      "source": [
        "#global vs non-local\n",
        "\n",
        "#accumulator pattern\n",
        "#1부터 10까지 더할때...\n",
        "\n",
        "sum_ = 0\n",
        "for i in range(1, 11):\n",
        "  sum_ += i\n",
        "\n",
        "sum_\n",
        "\n",
        "#sum 이름은 내장함수로 존재하기 때문에 사용하지 않고 sum_로 사용한다"
      ],
      "metadata": {
        "colab": {
          "base_uri": "https://localhost:8080/"
        },
        "id": "Sxhtale2XMpS",
        "outputId": "3ac7af81-6fa7-47d5-fa8d-20a663da6e0b"
      },
      "execution_count": null,
      "outputs": [
        {
          "output_type": "execute_result",
          "data": {
            "text/plain": [
              "55"
            ]
          },
          "metadata": {},
          "execution_count": 4
        }
      ]
    },
    {
      "cell_type": "code",
      "source": [
        "sum_=[]\n",
        "\n",
        "for i in range(1,11):\n",
        "  if i%2 == 0:\n",
        "    sum_.append(i)\n",
        "\n",
        "sum_\n",
        "\n",
        "#iterable로 사용해서 range를 바꿔보자\n",
        "a = [1,2,'', 3, None, 'a']\n",
        "\n",
        "temp = []\n",
        "for i in a:\n",
        "  if not i:\n",
        "    temp.append(i)\n",
        "temp\n",
        "\n",
        "any(a) #거짓이 있는지 확인하는 함수\n",
        "\n",
        "all(a)"
      ],
      "metadata": {
        "colab": {
          "base_uri": "https://localhost:8080/"
        },
        "id": "I1clHiG5Zdh9",
        "outputId": "00522ea2-ca82-4c97-a2ee-a4957023e2f7"
      },
      "execution_count": null,
      "outputs": [
        {
          "output_type": "execute_result",
          "data": {
            "text/plain": [
              "['', None]"
            ]
          },
          "metadata": {},
          "execution_count": 8
        }
      ]
    },
    {
      "cell_type": "code",
      "source": [
        "#while 무한루프 사용 시에\n",
        "a = input()\n",
        "print(int(a)+3,\"살입니다\")\n",
        "\n",
        "#\"세\"를 넣었을 떄 err가 뜸\n",
        "#예외처리를 해야함\n",
        "#예외처리는 오류가 났을 떄, 계속 진행하기 위해서 / 일부러 중단될때\n",
        "#일부러 예외 발생: assert - 디버깅 용으로 사용한다\n",
        "a = 1\n",
        "assert a==1\n",
        "#아무것도 안나옴\n",
        "\n",
        "a = 2\n",
        "assert a==1, 'a는 1이어야 한다'\n",
        "#에러가 나옴\n",
        "#즉, 특정 값이 나와야 하는데 나오지 않을 때 사용 가능 (체크용으로 사용)\n",
        "#EAFP 허락보다 용서가 쉽다 - 에러가 나면 예외처리하는 것이 많다\n",
        "#에러 메세지도 나올 수 있다\n",
        "\n",
        "#raise - 강제로 에러를 발생시킴"
      ],
      "metadata": {
        "id": "Lz8HWdJUhKBl"
      },
      "execution_count": null,
      "outputs": []
    },
    {
      "cell_type": "code",
      "source": [
        "import sqlite3"
      ],
      "metadata": {
        "id": "B3y7eTiPltaw"
      },
      "execution_count": null,
      "outputs": []
    },
    {
      "cell_type": "code",
      "source": [
        "con = sqlite3.connect(':memory:')"
      ],
      "metadata": {
        "colab": {
          "base_uri": "https://localhost:8080/"
        },
        "id": "RSu8OQAylu3X",
        "outputId": "28ad1d6a-aea4-4cd6-d068-581ec83c5d42"
      },
      "execution_count": null,
      "outputs": [
        {
          "output_type": "execute_result",
          "data": {
            "text/plain": [
              "<sqlite3.Connection at 0x7f0ecc3d0640>"
            ]
          },
          "metadata": {},
          "execution_count": 10
        }
      ]
    },
    {
      "cell_type": "code",
      "source": [
        "#에러 막는법 / 중단 안시키는 방법\n",
        "a = input('숫자를 입력하세요')\n",
        "#삼 을 넣으면 문제가 존재 int() 로 바꿔도 에러 발생\n",
        "try:\n",
        "  b = int(a)\n",
        "except ValueError:\n",
        "  print('V')\n",
        "else:\n",
        "  print(b)"
      ],
      "metadata": {
        "colab": {
          "base_uri": "https://localhost:8080/"
        },
        "id": "v-W1lw_cl0wy",
        "outputId": "569b9b1d-e92e-423c-d267-59cd33529a82"
      },
      "execution_count": null,
      "outputs": [
        {
          "output_type": "stream",
          "name": "stdout",
          "text": [
            "숫자를 입력하세요3\n",
            "3\n"
          ]
        }
      ]
    },
    {
      "cell_type": "code",
      "source": [
        "while True:\n",
        "  try:\n",
        "    b = int(a)\n",
        "  except ValueError:\n",
        "    print('V')\n",
        "    continue\n",
        "  else:\n",
        "    print(b-3)\n",
        "    break"
      ],
      "metadata": {
        "id": "PsuV5oLUoUQb"
      },
      "execution_count": null,
      "outputs": []
    },
    {
      "cell_type": "markdown",
      "source": [
        "#Function\n",
        "\n",
        "Reusable > declaration / definition\n",
        "\n",
        "What is Reusable?\n",
        "- Function\n",
        "- Class\n",
        "\n",
        "Argument vs Parameter\n",
        "\n",
        "For using | For function declare\n",
        "\n",
        "We can put argument in two ways\n",
        "1. Keyword\n",
        "2. Positional\n",
        "\n",
        "```\n",
        "def x(a):\n",
        "  print(a)\n",
        "\n",
        "x(3)\n",
        "```\n",
        "\n",
        "The the 3 in ```x(3)``` is an argument\n",
        "\n",
        "The a in ```def x(a):``` is a parameter\n",
        "\n",
        "Basically, parameter numbers are same with argument numbers\n",
        "\n",
        "###Positional Argument\n",
        "\n",
        "call functions with proper position of argument\n",
        "\n",
        "```\n",
        "def xx(a, b):\n",
        "  print(a+2*b)\n",
        "\n",
        "xx(2, 3)\n",
        "```\n",
        "\n",
        "In the ```xx(2,3)``` the arguments are put on the proper position\n",
        "\n",
        "###Keyword Argument\n",
        "\n",
        "```xx(a=2, b=3)``` is the keyword\n",
        "\n",
        "Basically in Python, there is no function overaloading\n",
        "\n",
        "Instead, keyword argument can be used\n",
        "\n",
        "Notice! In Python, the first parameter **must** take positional argument and then the argument type is regardless\n",
        "\n",
        "Also, the n-th parameter use keyword argument, the n+1-th parameter **can not** use position argument\n",
        "\n",
        "###Default tech\n",
        "\n",
        "\n",
        "```\n",
        "def xxx(a, b=3):\n",
        "  print(a, b*3)\n",
        "\n",
        "xxx(a)\n",
        ">>> 3 6\n",
        "```\n",
        "\n",
        "In the function, we can give **default value**\n",
        "\n",
        "The default parameter cannot come as first parameter\n",
        "\n",
        "###Other things\n",
        "\n",
        "**slash (/)** makes function arguments as positional-only function\n",
        "\n",
        "```\n",
        "def y(a,/,b):\n",
        "  print(a,b)\n",
        "\n",
        "y(1,3) ... OK!\n",
        "y(a=1, 3) ... NO!\n",
        "y(1, b=3) ... OK!\n",
        "```\n",
        "Before the slahs, no more keyword arguments are allowed\n",
        "\n",
        "**Star (*)** makes functions to keyword-only function\n",
        "\n",
        "```\n",
        "def z(a,*,b):\n",
        "  print(a,b)\n",
        "\n",
        "z(1, b=2) ... OK!\n",
        "z(1, 2) ... NO!\n",
        "z(a=1, 2) ... NO!\n",
        "```\n",
        "\n",
        "The arguments after the * must be keyword arguments\n",
        "\n",
        "```\n",
        "def zz(*a):\n",
        "  print(a)\n",
        "\n",
        "zzz()\n",
        "```\n",
        "\n",
        "The result comes out with dictionary\n",
        "\n",
        "```\n",
        "def t(*a):\n",
        "  print(a)\n",
        "\n",
        "xx = [1,2,3,4]\n",
        "t(*xx)\n",
        "```\n",
        "\n",
        "If there is a star in front of parameter we have to put same star at argument\n",
        "\n",
        "the * makes data able to unpack\n",
        "\n",
        "so the result will be ```(1,2,3,4)```\n",
        "\n",
        "```\n",
        "def tt(**a):\n",
        "  print(a)\n",
        "\n",
        "xxx = {'a':1, 'b':2}\n",
        "tt(**xxx)\n",
        "t(*xxx)\n",
        "```\n",
        "\n",
        "In dictionary, the dictionary added * only gives key\n",
        "\n",
        "Hence,\n",
        "\n",
        "one-star in front of dictionary = Key\n",
        "\n",
        "two-star in front of dictionary = Value\n",
        "\n",
        "Example\n",
        "```\n",
        "a = {'a':1, 'b':2}\n",
        "c = {'a':3, 'c':4}\n",
        "{**a, **c}\n",
        "```\n",
        "\n",
        "1. a and c are both dictionary\n",
        "2. but the **a and **c is unpacked dictionary with key and value\n",
        "3. {**a, **c} makes unpacked a and c into one dictionary\n",
        "4. because of dictionary feature, the dictionary eliminate duplicated key and value\n",
        "5. result = ```{'a':3, 'b':2, 'c':4}```"
      ],
      "metadata": {
        "id": "emzKbAXHwfrx"
      }
    },
    {
      "cell_type": "code",
      "source": [
        "#function\n",
        "\n",
        "재사용 > declaration / definition\n",
        "-함수\n",
        "-클래스\n",
        "\n",
        "argument (인자) - 사용, parameter (매개변수) - 정의 시에\n",
        "인자 - 키워드 방식 / 포지셔널 방식 두개로 나뉜다"
      ],
      "metadata": {
        "id": "W7CBP24-sOoS"
      },
      "execution_count": null,
      "outputs": []
    },
    {
      "cell_type": "code",
      "source": [
        "def x(a): #a 는 파라미터\n",
        "  print(a)\n",
        "\n",
        "x(3) #3은 argument\n",
        "#Basically, 파라미터 수와 아규먼트 수는 일치"
      ],
      "metadata": {
        "colab": {
          "base_uri": "https://localhost:8080/"
        },
        "id": "HhHSwLIxt5Lx",
        "outputId": "f31c58bd-d76b-4335-f41c-58e4787554bf"
      },
      "execution_count": null,
      "outputs": [
        {
          "output_type": "stream",
          "name": "stdout",
          "text": [
            "3\n"
          ]
        }
      ]
    },
    {
      "cell_type": "code",
      "source": [
        "x()"
      ],
      "metadata": {
        "colab": {
          "base_uri": "https://localhost:8080/",
          "height": 147
        },
        "id": "kTODOe0PuKb4",
        "outputId": "b7319a95-5260-4b83-8d07-b3cc22148b59"
      },
      "execution_count": null,
      "outputs": [
        {
          "output_type": "error",
          "ename": "TypeError",
          "evalue": "x() missing 1 required positional argument: 'a'",
          "traceback": [
            "\u001b[0;31m---------------------------------------------------------------------------\u001b[0m",
            "\u001b[0;31mTypeError\u001b[0m                                 Traceback (most recent call last)",
            "\u001b[0;32m<ipython-input-14-08f9d0828de0>\u001b[0m in \u001b[0;36m<cell line: 1>\u001b[0;34m()\u001b[0m\n\u001b[0;32m----> 1\u001b[0;31m \u001b[0mx\u001b[0m\u001b[0;34m(\u001b[0m\u001b[0;34m)\u001b[0m\u001b[0;34m\u001b[0m\u001b[0;34m\u001b[0m\u001b[0m\n\u001b[0m",
            "\u001b[0;31mTypeError\u001b[0m: x() missing 1 required positional argument: 'a'"
          ]
        }
      ]
    },
    {
      "cell_type": "code",
      "source": [
        "def xx(a,b):\n",
        "  print(a+2*b)"
      ],
      "metadata": {
        "id": "ZiNtmE7qucvo"
      },
      "execution_count": null,
      "outputs": []
    },
    {
      "cell_type": "code",
      "source": [
        "xx(2, 3) #위치에 맞게 넣는다"
      ],
      "metadata": {
        "colab": {
          "base_uri": "https://localhost:8080/"
        },
        "id": "HaotfcHfufsy",
        "outputId": "4a9e60de-de68-45f9-cf26-3041353d0886"
      },
      "execution_count": null,
      "outputs": [
        {
          "output_type": "stream",
          "name": "stdout",
          "text": [
            "8\n"
          ]
        }
      ]
    },
    {
      "cell_type": "code",
      "source": [
        "xx(a=2, b=3) #키워드 방식"
      ],
      "metadata": {
        "colab": {
          "base_uri": "https://localhost:8080/"
        },
        "id": "I0uAOqCNumRd",
        "outputId": "5c25be93-022f-4380-ac84-53b072e454c0"
      },
      "execution_count": null,
      "outputs": [
        {
          "output_type": "stream",
          "name": "stdout",
          "text": [
            "8\n"
          ]
        }
      ]
    },
    {
      "cell_type": "code",
      "source": [
        "#default tech\n",
        "python에는 기본적으로 function overloading을 지원하지 않음 대신에 keyword 방식 지원\n",
        "python에서는 먼저 keyword 방식을 쓰면 뒤에는 positional 방식을 쓸 수 없다"
      ],
      "metadata": {
        "id": "UpWG6k9jupnx"
      },
      "execution_count": null,
      "outputs": []
    },
    {
      "cell_type": "code",
      "source": [
        "def xxx(a,b=3):\n",
        "  print(a,b*3)"
      ],
      "metadata": {
        "id": "8Mnj7kTdvCNX"
      },
      "execution_count": null,
      "outputs": []
    },
    {
      "cell_type": "code",
      "source": [
        "xxx(a)"
      ],
      "metadata": {
        "colab": {
          "base_uri": "https://localhost:8080/"
        },
        "id": "hWtGaR3lvVY8",
        "outputId": "de3156ee-a69f-4c61-bf3d-687ca471c2d8"
      },
      "execution_count": null,
      "outputs": [
        {
          "output_type": "stream",
          "name": "stdout",
          "text": [
            "3 6\n"
          ]
        }
      ]
    },
    {
      "cell_type": "code",
      "source": [
        "xxx(3, 4)"
      ],
      "metadata": {
        "colab": {
          "base_uri": "https://localhost:8080/"
        },
        "id": "k4grTGrkvebo",
        "outputId": "34aaab20-2e90-4a2f-d75c-e05f42c59150"
      },
      "execution_count": null,
      "outputs": [
        {
          "output_type": "stream",
          "name": "stdout",
          "text": [
            "3 12\n"
          ]
        }
      ]
    },
    {
      "cell_type": "code",
      "source": [
        "#이때 default 인자는 처음부터 나오면 안된다 따라서 뒤에서부터 default 값을 넣어줘야 한다\n",
        "#positional 방식은 무조건 다 넣어줘야함 하지만 keyword 방식은 다 넣어줄 필요가 없음 왜냐하면 default 값이 이미 존재하기 때문이다\n",
        "#둘이 혼용해서 사용해도 된다\n",
        "import pandas as pd"
      ],
      "metadata": {
        "id": "TrrW19kUvhOK"
      },
      "execution_count": null,
      "outputs": []
    },
    {
      "cell_type": "code",
      "source": [
        "def y(a,/,b):\n",
        "  print(a,b)"
      ],
      "metadata": {
        "id": "jQpL-91KvvzW"
      },
      "execution_count": null,
      "outputs": []
    },
    {
      "cell_type": "code",
      "source": [
        "y(1,3)\n",
        "#이때 /는 /를 기준으로 앞에는 무조건 positional-only로 함수를 만들어준다 따라서 keyword 방식은 사용 불가능하게 막아놓는 방법"
      ],
      "metadata": {
        "colab": {
          "base_uri": "https://localhost:8080/"
        },
        "id": "DzZVMKePwaxJ",
        "outputId": "a25a267a-957e-4630-b15f-ddac1c7f313d"
      },
      "execution_count": null,
      "outputs": [
        {
          "output_type": "stream",
          "name": "stdout",
          "text": [
            "1 3\n"
          ]
        }
      ]
    },
    {
      "cell_type": "code",
      "source": [
        "def z(a,*,b):\n",
        "  print(a,b)"
      ],
      "metadata": {
        "id": "Weojx_Unwkas"
      },
      "execution_count": 6,
      "outputs": []
    },
    {
      "cell_type": "code",
      "source": [
        "#*는 뒤에는 무조건 keyword 방식을 사용하게끔 만들어준다\n",
        "#z(1,2)는 오류가 발생 따라서,\n",
        "z(1,2)"
      ],
      "metadata": {
        "colab": {
          "base_uri": "https://localhost:8080/",
          "height": 184
        },
        "id": "TJUMaV-sxCbE",
        "outputId": "6a6ba5f1-d887-46fb-bed0-238a910b1b19"
      },
      "execution_count": 7,
      "outputs": [
        {
          "output_type": "error",
          "ename": "TypeError",
          "evalue": "z() takes 1 positional argument but 2 were given",
          "traceback": [
            "\u001b[0;31m---------------------------------------------------------------------------\u001b[0m",
            "\u001b[0;31mTypeError\u001b[0m                                 Traceback (most recent call last)",
            "\u001b[0;32m<ipython-input-7-853e38ff7e17>\u001b[0m in \u001b[0;36m<cell line: 3>\u001b[0;34m()\u001b[0m\n\u001b[1;32m      1\u001b[0m \u001b[0;31m#*는 뒤에는 무조건 keyword 방식을 사용하게끔 만들어준다\u001b[0m\u001b[0;34m\u001b[0m\u001b[0;34m\u001b[0m\u001b[0m\n\u001b[1;32m      2\u001b[0m \u001b[0;31m#z(1,2)는 오류가 발생 따라서,\u001b[0m\u001b[0;34m\u001b[0m\u001b[0;34m\u001b[0m\u001b[0m\n\u001b[0;32m----> 3\u001b[0;31m \u001b[0mz\u001b[0m\u001b[0;34m(\u001b[0m\u001b[0;36m1\u001b[0m\u001b[0;34m,\u001b[0m\u001b[0;36m2\u001b[0m\u001b[0;34m)\u001b[0m\u001b[0;34m\u001b[0m\u001b[0;34m\u001b[0m\u001b[0m\n\u001b[0m",
            "\u001b[0;31mTypeError\u001b[0m: z() takes 1 positional argument but 2 were given"
          ]
        }
      ]
    },
    {
      "cell_type": "code",
      "source": [
        "import matplotlib.pyplot as plt"
      ],
      "metadata": {
        "id": "5W0Rhz5QxVZF"
      },
      "execution_count": null,
      "outputs": []
    },
    {
      "cell_type": "code",
      "source": [
        "plt.hist([1,1,2,2,3], color='pink')"
      ],
      "metadata": {
        "colab": {
          "base_uri": "https://localhost:8080/",
          "height": 485
        },
        "id": "co1Mk972xZ3l",
        "outputId": "c4024cec-8b1f-4d16-b226-fd179d39dacf"
      },
      "execution_count": null,
      "outputs": [
        {
          "output_type": "execute_result",
          "data": {
            "text/plain": [
              "(array([2., 0., 0., 0., 0., 2., 0., 0., 0., 1.]),\n",
              " array([1. , 1.2, 1.4, 1.6, 1.8, 2. , 2.2, 2.4, 2.6, 2.8, 3. ]),\n",
              " <BarContainer object of 10 artists>)"
            ]
          },
          "metadata": {},
          "execution_count": 31
        },
        {
          "output_type": "display_data",
          "data": {
            "text/plain": [
              "<Figure size 640x480 with 1 Axes>"
            ],
            "image/png": "[encoded data removed]"
          },
          "metadata": {}
        }
      ]
    },
    {
      "cell_type": "code",
      "source": [
        "def zz(*a):\n",
        "  print(a)"
      ],
      "metadata": {
        "id": "TjIM-9lUxoNJ"
      },
      "execution_count": null,
      "outputs": []
    },
    {
      "cell_type": "code",
      "source": [
        "zz()\n",
        "zz(1)\n",
        "zz(1,2,3)\n",
        "#keyword 방식은 안됨 / 몇개 넣든지 다 실행 가능하게 됨 / 가변 포지셔널 방식이라고 함\n",
        "#결과는 튜플로 나옴"
      ],
      "metadata": {
        "colab": {
          "base_uri": "https://localhost:8080/"
        },
        "id": "sR2J-uxnyUxx",
        "outputId": "64b81d49-aad2-4675-a16b-7311fc6a7f3a"
      },
      "execution_count": null,
      "outputs": [
        {
          "output_type": "stream",
          "name": "stdout",
          "text": [
            "()\n",
            "(1,)\n",
            "(1, 2, 3)\n"
          ]
        }
      ]
    },
    {
      "cell_type": "code",
      "source": [
        "def zzz(**a):\n",
        "  print(a)"
      ],
      "metadata": {
        "id": "qvN2fiHNyt7H"
      },
      "execution_count": null,
      "outputs": []
    },
    {
      "cell_type": "code",
      "source": [
        "zzz()\n",
        "#가변 키워드 방식 / 결과는 딕셔너리"
      ],
      "metadata": {
        "colab": {
          "base_uri": "https://localhost:8080/"
        },
        "id": "QixVBMCkyw59",
        "outputId": "6d011b21-4b08-4c71-deda-2c3fb8cf2fbc"
      },
      "execution_count": null,
      "outputs": [
        {
          "output_type": "stream",
          "name": "stdout",
          "text": [
            "{}\n"
          ]
        }
      ]
    },
    {
      "cell_type": "code",
      "source": [
        "def t(*a):\n",
        "  print(a)"
      ],
      "metadata": {
        "id": "F-Qig2I0z1Yb"
      },
      "execution_count": null,
      "outputs": []
    },
    {
      "cell_type": "code",
      "source": [
        "xx = [1,2,3,4]\n",
        "t(*xx)\n",
        "#즉, *는 이미 있는 데이터 구조들을 unpack하여 넣을 수 있게 만든다"
      ],
      "metadata": {
        "colab": {
          "base_uri": "https://localhost:8080/"
        },
        "id": "u8HDHXTw1sl0",
        "outputId": "e923c2fc-60da-4e7b-9f9d-9ac4d1ca03a7"
      },
      "execution_count": null,
      "outputs": [
        {
          "output_type": "stream",
          "name": "stdout",
          "text": [
            "(1, 2, 3, 4)\n"
          ]
        }
      ]
    },
    {
      "cell_type": "code",
      "source": [
        "def tt(**a):\n",
        "  print(a)"
      ],
      "metadata": {
        "id": "nKWqhc9i2DYL"
      },
      "execution_count": 8,
      "outputs": []
    },
    {
      "cell_type": "code",
      "source": [
        "xxx = {'a':1, 'b':2}\n",
        "tt(**xxx)\n",
        "t(*xxx) #dictionary에 * 하나만 붙이면 key만 들어감\n",
        "#즉 dictionary에 *하나 붙이면 key만 두개 붙이면 전체가 unpack 되어 들어간다"
      ],
      "metadata": {
        "colab": {
          "base_uri": "https://localhost:8080/",
          "height": 221
        },
        "id": "uadjwYk_2Ft7",
        "outputId": "e85ed6e9-c736-4e47-869b-76ae9ecaa791"
      },
      "execution_count": 10,
      "outputs": [
        {
          "output_type": "error",
          "ename": "TypeError",
          "evalue": "tt() takes 0 positional arguments but 2 were given",
          "traceback": [
            "\u001b[0;31m---------------------------------------------------------------------------\u001b[0m",
            "\u001b[0;31mTypeError\u001b[0m                                 Traceback (most recent call last)",
            "\u001b[0;32m<ipython-input-10-c41c8dd77e34>\u001b[0m in \u001b[0;36m<cell line: 2>\u001b[0;34m()\u001b[0m\n\u001b[1;32m      1\u001b[0m \u001b[0mxxx\u001b[0m \u001b[0;34m=\u001b[0m \u001b[0;34m{\u001b[0m\u001b[0;34m'a'\u001b[0m\u001b[0;34m:\u001b[0m\u001b[0;36m1\u001b[0m\u001b[0;34m,\u001b[0m \u001b[0;34m'b'\u001b[0m\u001b[0;34m:\u001b[0m\u001b[0;36m2\u001b[0m\u001b[0;34m}\u001b[0m\u001b[0;34m\u001b[0m\u001b[0;34m\u001b[0m\u001b[0m\n\u001b[0;32m----> 2\u001b[0;31m \u001b[0mtt\u001b[0m\u001b[0;34m(\u001b[0m\u001b[0;34m*\u001b[0m\u001b[0mxxx\u001b[0m\u001b[0;34m)\u001b[0m\u001b[0;34m\u001b[0m\u001b[0;34m\u001b[0m\u001b[0m\n\u001b[0m\u001b[1;32m      3\u001b[0m \u001b[0mtt\u001b[0m\u001b[0;34m(\u001b[0m\u001b[0;34m**\u001b[0m\u001b[0mxxx\u001b[0m\u001b[0;34m)\u001b[0m\u001b[0;34m\u001b[0m\u001b[0;34m\u001b[0m\u001b[0m\n\u001b[1;32m      4\u001b[0m \u001b[0mt\u001b[0m\u001b[0;34m(\u001b[0m\u001b[0;34m*\u001b[0m\u001b[0mxxx\u001b[0m\u001b[0;34m)\u001b[0m \u001b[0;31m#dictionary에 * 하나만 붙이면 key만 들어감\u001b[0m\u001b[0;34m\u001b[0m\u001b[0;34m\u001b[0m\u001b[0m\n\u001b[1;32m      5\u001b[0m \u001b[0;31m#즉 dictionary에 *하나 붙이면 key만 두개 붙이면 전체가 unpack 되어 들어간다\u001b[0m\u001b[0;34m\u001b[0m\u001b[0;34m\u001b[0m\u001b[0m\n",
            "\u001b[0;31mTypeError\u001b[0m: tt() takes 0 positional arguments but 2 were given"
          ]
        }
      ]
    },
    {
      "cell_type": "code",
      "source": [
        "a = {'a':1, 'b':2}\n",
        "c = {'a':3, 'c':4}\n",
        "{**a, **c}"
      ],
      "metadata": {
        "colab": {
          "base_uri": "https://localhost:8080/"
        },
        "id": "GOShJ9r62hBY",
        "outputId": "8baf0902-5721-4b12-8927-3dd182fee203"
      },
      "execution_count": null,
      "outputs": [
        {
          "output_type": "execute_result",
          "data": {
            "text/plain": [
              "{'a': 3, 'b': 2, 'c': 4}"
            ]
          },
          "metadata": {},
          "execution_count": 47
        }
      ]
    },
    {
      "cell_type": "markdown",
      "source": [
        "#End-up\n",
        "\n",
        "in case of ```a = 1``` a can take a function or undeclared indicator, so it is not a variable\n",
        "\n",
        "If we want to watch whether an indicator has other odd value, we check the indicator by using ```aa.__name__ / aa.__qualname__```\n",
        "\n",
        "We can allocate to the function like...\n",
        "\n",
        "```\n",
        "print = 1\n",
        "a = print\n",
        "```\n",
        "\n",
        "Therefore, the function is only print not print()\n",
        "\n",
        "Since the () is callable operator"
      ],
      "metadata": {
        "id": "ra_OCP0u4iKr"
      }
    },
    {
      "cell_type": "code",
      "source": [
        "#짜투리\n",
        "a = 1 #a는 함수도 가져갈 수 있고 선언되지 않은 indicator 또한 할당할 수 있으므로 이는 변수가 아니다\n",
        "#만약 indicator에 함수 혹은 다른 값을 넣었으면 확인하기 위해서 aa.__name__ 혹은 aa.__qualname__으로 alicing 한다고 한다\n",
        "print = 1 #반대로 함수에 할당할 수 있다\n",
        "#따라서, python의 함수는 ()를 포함한 이름이 아니라 x하나만이 함수 그 자체가 될 수 있다\n",
        "#이때, 괄호는 callable 연산자다 .... 왜?"
      ],
      "metadata": {
        "id": "wIc_5CQ426qj"
      },
      "execution_count": null,
      "outputs": []
    }
  ]
}