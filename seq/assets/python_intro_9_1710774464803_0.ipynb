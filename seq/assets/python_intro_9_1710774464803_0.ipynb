{
 "cells": [
  {
   "cell_type": "code",
   "execution_count": 1,
   "metadata": {},
   "outputs": [],
   "source": [
    "# Aspect-oriented programming (AOP)\n",
    "# 관점지향언어 - 하나의 방법론\n",
    "\n",
    "# 객체지향을 확장시키는 방법 (관점에 따라서)\n",
    "# AOP라는 것은 공통된 기능들을 클래스로 만들어서 다중 상속 시키면 됨\n",
    "# 즉, 다중 상속의 테크닉 정도\n",
    "# 중복은 없애고 재사용성은 높이는 것\n",
    "# * 추상화방식을 사용해도 된다\n",
    "# 1. mixin 테크닉을 사용하여도 된다 - class로 나누는 것\n",
    "# 2. decorator 사용 - 함수로써 별도의 기능들을 만드는 것\n",
    "\n",
    "# Decorator\n",
    "# \n",
    "\n",
    "# 복습\n",
    "# closoure - 함수 안에서 특수한 기능을 하기 위해서 사용\n",
    "# "
   ]
  },
  {
   "cell_type": "code",
   "execution_count": 2,
   "metadata": {},
   "outputs": [],
   "source": [
    "a = 1\n",
    "def x():\n",
    "    return a"
   ]
  },
  {
   "cell_type": "code",
   "execution_count": 3,
   "metadata": {},
   "outputs": [
    {
     "data": {
      "text/plain": [
       "1"
      ]
     },
     "execution_count": 3,
     "metadata": {},
     "output_type": "execute_result"
    }
   ],
   "source": [
    "x()"
   ]
  },
  {
   "cell_type": "code",
   "execution_count": 5,
   "metadata": {},
   "outputs": [
    {
     "ename": "UnboundLocalError",
     "evalue": "local variable 'a' referenced before assignment",
     "output_type": "error",
     "traceback": [
      "\u001b[1;31m---------------------------------------------------------------------------\u001b[0m",
      "\u001b[1;31mUnboundLocalError\u001b[0m                         Traceback (most recent call last)",
      "Cell \u001b[1;32mIn[5], line 5\u001b[0m\n\u001b[0;32m      3\u001b[0m     a \u001b[38;5;241m=\u001b[39m a\u001b[38;5;241m+\u001b[39m\u001b[38;5;241m1\u001b[39m\n\u001b[0;32m      4\u001b[0m     \u001b[38;5;28;01mreturn\u001b[39;00m a\n\u001b[1;32m----> 5\u001b[0m \u001b[43mx\u001b[49m\u001b[43m(\u001b[49m\u001b[43m)\u001b[49m\n",
      "Cell \u001b[1;32mIn[5], line 3\u001b[0m, in \u001b[0;36mx\u001b[1;34m()\u001b[0m\n\u001b[0;32m      2\u001b[0m \u001b[38;5;28;01mdef\u001b[39;00m \u001b[38;5;21mx\u001b[39m():\n\u001b[1;32m----> 3\u001b[0m     a \u001b[38;5;241m=\u001b[39m \u001b[43ma\u001b[49m\u001b[38;5;241m+\u001b[39m\u001b[38;5;241m1\u001b[39m\n\u001b[0;32m      4\u001b[0m     \u001b[38;5;28;01mreturn\u001b[39;00m a\n",
      "\u001b[1;31mUnboundLocalError\u001b[0m: local variable 'a' referenced before assignment"
     ]
    }
   ],
   "source": [
    "a = 1\n",
    "def x():\n",
    "    a = a+1\n",
    "    # a+1 입장에서 a는 local에 없기에 global것 가져옴\n",
    "    # a 입장에서는 선언되었기에 local에 존재하는게 됨\n",
    "    # 이때, a는 bound 되어 있지만 서로 맞지 않아서 unboundlocalerror가 나온다\n",
    "    return a\n",
    "x()"
   ]
  },
  {
   "cell_type": "code",
   "execution_count": 76,
   "metadata": {},
   "outputs": [
    {
     "data": {
      "text/plain": [
       "2"
      ]
     },
     "execution_count": 76,
     "metadata": {},
     "output_type": "execute_result"
    }
   ],
   "source": [
    "a = 1\n",
    "def x():\n",
    "    global a\n",
    "    # global a는 밖의 a에 영향을 미친다 (즉 서로 연결된다)\n",
    "    a = a+1\n",
    "    return a\n",
    "x()\n",
    "a"
   ]
  },
  {
   "cell_type": "code",
   "execution_count": 10,
   "metadata": {},
   "outputs": [
    {
     "ename": "UnboundLocalError",
     "evalue": "local variable 'a' referenced before assignment",
     "output_type": "error",
     "traceback": [
      "\u001b[1;31m---------------------------------------------------------------------------\u001b[0m",
      "\u001b[1;31mUnboundLocalError\u001b[0m                         Traceback (most recent call last)",
      "Cell \u001b[1;32mIn[10], line 8\u001b[0m\n\u001b[0;32m      6\u001b[0m         \u001b[38;5;28;01mreturn\u001b[39;00m a\n\u001b[0;32m      7\u001b[0m     \u001b[38;5;28;01mreturn\u001b[39;00m xxx()\n\u001b[1;32m----> 8\u001b[0m \u001b[43mxx\u001b[49m\u001b[43m(\u001b[49m\u001b[43m)\u001b[49m\n",
      "Cell \u001b[1;32mIn[10], line 7\u001b[0m, in \u001b[0;36mxx\u001b[1;34m()\u001b[0m\n\u001b[0;32m      5\u001b[0m     a \u001b[38;5;241m+\u001b[39m\u001b[38;5;241m=\u001b[39m \u001b[38;5;241m1\u001b[39m\n\u001b[0;32m      6\u001b[0m     \u001b[38;5;28;01mreturn\u001b[39;00m a\n\u001b[1;32m----> 7\u001b[0m \u001b[38;5;28;01mreturn\u001b[39;00m \u001b[43mxxx\u001b[49m\u001b[43m(\u001b[49m\u001b[43m)\u001b[49m\n",
      "Cell \u001b[1;32mIn[10], line 5\u001b[0m, in \u001b[0;36mxx.<locals>.xxx\u001b[1;34m()\u001b[0m\n\u001b[0;32m      4\u001b[0m \u001b[38;5;28;01mdef\u001b[39;00m \u001b[38;5;21mxxx\u001b[39m():\n\u001b[1;32m----> 5\u001b[0m     a \u001b[38;5;241m+\u001b[39m\u001b[38;5;241m=\u001b[39m \u001b[38;5;241m1\u001b[39m\n\u001b[0;32m      6\u001b[0m     \u001b[38;5;28;01mreturn\u001b[39;00m a\n",
      "\u001b[1;31mUnboundLocalError\u001b[0m: local variable 'a' referenced before assignment"
     ]
    }
   ],
   "source": [
    "a = 2\n",
    "def xx():\n",
    "    a = 1   # enclosing 범위\n",
    "    def xxx():\n",
    "        a = a + 1\n",
    "  # local / enclosing\n",
    "        return a\n",
    "    return xxx()\n",
    "xx()"
   ]
  },
  {
   "cell_type": "code",
   "execution_count": 12,
   "metadata": {},
   "outputs": [
    {
     "data": {
      "text/plain": [
       "2"
      ]
     },
     "execution_count": 12,
     "metadata": {},
     "output_type": "execute_result"
    }
   ],
   "source": [
    "# enclosing과 서로 연결시키고 싶을때 사용하는 것이\n",
    "# non-local\n",
    "\n",
    "a = 2\n",
    "def xx():\n",
    "    a = 1\n",
    "    def xxx():\n",
    "        nonlocal a\n",
    "        a = a+1\n",
    "        return a\n",
    "    return xxx()\n",
    "xx()"
   ]
  },
  {
   "cell_type": "code",
   "execution_count": 13,
   "metadata": {},
   "outputs": [],
   "source": [
    "# closoure 때문에 중첩을 사용한다\n",
    "# closoure 대표 예시\n",
    "def y(m):\n",
    "    def z(n):\n",
    "        return m+n\n",
    "    return z\n",
    "\n",
    "# 좋은 이유, param 받으면 안에서 사용 가능하므로"
   ]
  },
  {
   "cell_type": "code",
   "execution_count": 77,
   "metadata": {},
   "outputs": [],
   "source": [
    "# closoure를 객체 지향으로 구현한 것\n",
    "\n",
    "class A:\n",
    "    def __init__(self, m):\n",
    "        self.m = m\n",
    "        print(m)\n",
    "    def __call__(self, n):\n",
    "        return self.m + n "
   ]
  },
  {
   "cell_type": "code",
   "execution_count": 78,
   "metadata": {},
   "outputs": [
    {
     "name": "stdout",
     "output_type": "stream",
     "text": [
      "2\n"
     ]
    },
    {
     "data": {
      "text/plain": [
       "6"
      ]
     },
     "execution_count": 78,
     "metadata": {},
     "output_type": "execute_result"
    }
   ],
   "source": [
    "A(2)(4)"
   ]
  },
  {
   "cell_type": "code",
   "execution_count": null,
   "metadata": {},
   "outputs": [],
   "source": [
    "# tensor에서는\n",
    "# Model 안에는 __call__이 정의되어 있다\n",
    "\n",
    "def __call__(self):\n",
    "    self.call()\n",
    "# 즉, ()를 두개 붙이면 call 함수를 실행한다는 것이다\n",
    "class A(Model):\n",
    "    def call():\n",
    "        pass\n",
    "\n",
    "# pytorch 에서는 forward가 이에 해당한다"
   ]
  },
  {
   "cell_type": "code",
   "execution_count": 32,
   "metadata": {},
   "outputs": [],
   "source": [
    "# 데코레이터는 function closoure\n",
    "# closoure 첫번째 인자에 function을 집어 넣는 것을 function closoure 즉, 데코레이터라고 한다\n",
    "def t(fun):\n",
    "    def s():\n",
    "        print('-------')\n",
    "        fun()\n",
    "        print('-------')\n",
    "    return s"
   ]
  },
  {
   "cell_type": "code",
   "execution_count": 26,
   "metadata": {},
   "outputs": [
    {
     "name": "stdout",
     "output_type": "stream",
     "text": [
      "-------\n",
      "\n",
      "-------\n"
     ]
    }
   ],
   "source": [
    "t(print)()"
   ]
  },
  {
   "cell_type": "code",
   "execution_count": 33,
   "metadata": {},
   "outputs": [
    {
     "name": "stdout",
     "output_type": "stream",
     "text": [
      "-------\n",
      "-------\n"
     ]
    }
   ],
   "source": [
    "t(lambda : 1)()"
   ]
  },
  {
   "cell_type": "code",
   "execution_count": 28,
   "metadata": {},
   "outputs": [],
   "source": [
    "def ss():\n",
    "    print('ss')"
   ]
  },
  {
   "cell_type": "code",
   "execution_count": 34,
   "metadata": {},
   "outputs": [
    {
     "name": "stdout",
     "output_type": "stream",
     "text": [
      "-------\n",
      "ss\n",
      "-------\n"
     ]
    }
   ],
   "source": [
    "t(ss)()"
   ]
  },
  {
   "cell_type": "code",
   "execution_count": 35,
   "metadata": {},
   "outputs": [],
   "source": [
    "@t  # 여기서 @는 ss함수는 t함수에 집어넣어서 결과값을 낸다 라고 생각하면 된다\n",
    "def ss():\n",
    "    print('ss')\n",
    "# 즉, 데코레이터는 새로운 함수를 만들어주는 것이다"
   ]
  },
  {
   "cell_type": "code",
   "execution_count": 36,
   "metadata": {},
   "outputs": [
    {
     "name": "stdout",
     "output_type": "stream",
     "text": [
      "-------\n",
      "ss\n",
      "-------\n"
     ]
    }
   ],
   "source": [
    "ss()"
   ]
  },
  {
   "cell_type": "code",
   "execution_count": 37,
   "metadata": {},
   "outputs": [],
   "source": [
    "# 데코리이터는 syntatic sugar(= 이해하기 쉽게 만들기 위함? 뭐 이런거라고 했었는데)\n",
    "# 다시, 데코레이터는 기능을 추가하거나 수정하는 역할이다\n",
    "# 그리고 데코레이터는 AOP 프로그래밍 관점이다\n",
    "\n",
    "from functools import partial\n",
    "# 함수를 가지고와서 일부분만 수정하여 원하는 대로 바꿔서 사용하는 것"
   ]
  },
  {
   "cell_type": "code",
   "execution_count": 38,
   "metadata": {},
   "outputs": [],
   "source": [
    "from operator import add"
   ]
  },
  {
   "cell_type": "code",
   "execution_count": 39,
   "metadata": {},
   "outputs": [
    {
     "data": {
      "text/plain": [
       "7"
      ]
     },
     "execution_count": 39,
     "metadata": {},
     "output_type": "execute_result"
    }
   ],
   "source": [
    "add(3,4)"
   ]
  },
  {
   "cell_type": "code",
   "execution_count": 40,
   "metadata": {},
   "outputs": [],
   "source": [
    "add3 = partial(add, 3)"
   ]
  },
  {
   "cell_type": "code",
   "execution_count": 41,
   "metadata": {},
   "outputs": [
    {
     "data": {
      "text/plain": [
       "7"
      ]
     },
     "execution_count": 41,
     "metadata": {},
     "output_type": "execute_result"
    }
   ],
   "source": [
    "add3(4)"
   ]
  },
  {
   "cell_type": "code",
   "execution_count": 42,
   "metadata": {},
   "outputs": [],
   "source": [
    "# Decorators wrap existing functions\n",
    "# bar = foo(bar) => @fo def~~\n",
    "# 데코레이터 문제점\n",
    "# 1. 디버깅 해야하는데 데코레이터 아닌척할 수 있다 (어떻게? 데코레이터를 만드는데 데코레이터를 사용한다)\n",
    "from functools import wraps"
   ]
  },
  {
   "cell_type": "code",
   "execution_count": 44,
   "metadata": {},
   "outputs": [
    {
     "data": {
      "text/plain": [
       "<function __main__.ss()>"
      ]
     },
     "execution_count": 44,
     "metadata": {},
     "output_type": "execute_result"
    }
   ],
   "source": [
    "def t(fun):\n",
    "    @wraps(fun) # enclosing 영역을 사용\n",
    "    def s():\n",
    "        print('----')\n",
    "        fun()\n",
    "        print('----')\n",
    "    return s\n",
    "\n",
    "@t\n",
    "def ss():\n",
    "    print('ss')\n",
    "\n",
    "ss  # 이름이 ss의 main을 사용하는 줄 안다\n",
    "# wrap을 쓰면 어디서 가져오는지 안보인다"
   ]
  },
  {
   "cell_type": "code",
   "execution_count": 45,
   "metadata": {},
   "outputs": [],
   "source": [
    "# 데코레이터보다 closure의 문제점\n",
    "# 1. closure는 인자를 맞춰줘야 하고 코드를 봐서 맞춰줘야 한다\n",
    "# 데코레이터 또한 인자를 잘 맞춰야한다\n",
    "# sol) *args, **kwargs => 세상에 모든 인자들을 받을 수 있다"
   ]
  },
  {
   "cell_type": "code",
   "execution_count": 46,
   "metadata": {},
   "outputs": [],
   "source": [
    "def x(a):\n",
    "    print(a)\n",
    "\n",
    "def xx():\n",
    "    print('a')"
   ]
  },
  {
   "cell_type": "code",
   "execution_count": 50,
   "metadata": {},
   "outputs": [
    {
     "name": "stdout",
     "output_type": "stream",
     "text": [
      "xxxx\n",
      "3\n"
     ]
    }
   ],
   "source": [
    "def tt(fun):\n",
    "    def ss(b):  # 2. a는 무조건 params를 통해서 들어오기 때문에 하나 필요함\n",
    "        print('xxxx')\n",
    "        fun(b)  # 1. 여기에 x 함수가 들어가는데 a 인자ㅏ 필요함\n",
    "    return ss\n",
    "\n",
    "@tt\n",
    "def x(a):\n",
    "    print(a)\n",
    "\n",
    "x(3)"
   ]
  },
  {
   "cell_type": "code",
   "execution_count": 53,
   "metadata": {},
   "outputs": [
    {
     "ename": "TypeError",
     "evalue": "ss() missing 1 required positional argument: 'b'",
     "output_type": "error",
     "traceback": [
      "\u001b[1;31m---------------------------------------------------------------------------\u001b[0m",
      "\u001b[1;31mTypeError\u001b[0m                                 Traceback (most recent call last)",
      "Cell \u001b[1;32mIn[53], line 5\u001b[0m\n\u001b[0;32m      1\u001b[0m \u001b[38;5;129m@tt\u001b[39m\n\u001b[0;32m      2\u001b[0m \u001b[38;5;28;01mdef\u001b[39;00m \u001b[38;5;21mxx\u001b[39m():\n\u001b[0;32m      3\u001b[0m     \u001b[38;5;28mprint\u001b[39m(\u001b[38;5;124m'\u001b[39m\u001b[38;5;124masdasd\u001b[39m\u001b[38;5;124m'\u001b[39m)\n\u001b[1;32m----> 5\u001b[0m \u001b[43mxx\u001b[49m\u001b[43m(\u001b[49m\u001b[43m)\u001b[49m\n",
      "\u001b[1;31mTypeError\u001b[0m: ss() missing 1 required positional argument: 'b'"
     ]
    }
   ],
   "source": [
    "@tt\n",
    "def xx():\n",
    "    print('asdasd')\n",
    "\n",
    "xx()"
   ]
  },
  {
   "cell_type": "code",
   "execution_count": 54,
   "metadata": {},
   "outputs": [
    {
     "name": "stdout",
     "output_type": "stream",
     "text": [
      "xxxx\n",
      "3\n"
     ]
    }
   ],
   "source": [
    "# sol)\n",
    "def tt(fun):\n",
    "    def ss(*args, **kwargs):\n",
    "        print('xxxx')\n",
    "        fun(*args, **kwargs)\n",
    "    return ss\n",
    "\n",
    "@tt\n",
    "def x(a):\n",
    "    print(a)\n",
    "\n",
    "x(3)"
   ]
  },
  {
   "cell_type": "code",
   "execution_count": 56,
   "metadata": {},
   "outputs": [
    {
     "data": {
      "text/plain": [
       "()"
      ]
     },
     "execution_count": 56,
     "metadata": {},
     "output_type": "execute_result"
    }
   ],
   "source": [
    "# *args, **kwargs\n",
    "# 별표 다시 설명\n",
    "def x(*a):  # 안집어넣어도 되지만, return 값음 tupple이다\n",
    "            # 몇개를 넣든 상관없다\n",
    "            # 이때, **는 무조건 뒤로 가야한다\n",
    "    return a\n",
    "\n",
    "x()"
   ]
  },
  {
   "cell_type": "code",
   "execution_count": 57,
   "metadata": {},
   "outputs": [
    {
     "data": {
      "text/plain": [
       "{}"
      ]
     },
     "execution_count": 57,
     "metadata": {},
     "output_type": "execute_result"
    }
   ],
   "source": [
    "def x(**a): # 몇개 넣든 상관없음 그리고 positional 방식이다, return은 dict로 무조건\n",
    "    return a\n",
    "x()"
   ]
  },
  {
   "cell_type": "code",
   "execution_count": 71,
   "metadata": {},
   "outputs": [],
   "source": [
    "# 데코레이터 감싸는 거\n",
    "def x(fun):\n",
    "    def y(*a, **b):\n",
    "        print('-'*10)\n",
    "        fun()\n",
    "        print('-'*10)\n",
    "    return a\n",
    "\n",
    "# 이걸 감쌀 수 있다\n",
    "def s(n):\n",
    "    def x(fun):\n",
    "        def y(*a, **b):\n",
    "            print('-'*10)\n",
    "            fun(*a, **b)\n",
    "            print('-'*10)\n",
    "            print(n)\n",
    "        return y\n",
    "    return x"
   ]
  },
  {
   "cell_type": "code",
   "execution_count": 72,
   "metadata": {},
   "outputs": [],
   "source": [
    "@s(3)   # @s(3)가 하나의 함수가 된다 / 느낌상 s(3) yyy() 일케되고 이게 fun으로 들어감\n",
    "def yyy():\n",
    "    print('ttt')"
   ]
  },
  {
   "cell_type": "code",
   "execution_count": 73,
   "metadata": {},
   "outputs": [
    {
     "name": "stdout",
     "output_type": "stream",
     "text": [
      "----------\n",
      "ttt\n",
      "----------\n",
      "3\n"
     ]
    }
   ],
   "source": [
    "yyy()"
   ]
  },
  {
   "cell_type": "code",
   "execution_count": 75,
   "metadata": {},
   "outputs": [],
   "source": [
    "# default로 해보는 방법 첫번째\n",
    "# 두개 더 이상\n",
    "\n",
    "def s(n=1):\n",
    "    def x(fun):\n",
    "        def y(*a, **b):\n",
    "            print('-'*10)\n",
    "            fun(*a, **b)\n",
    "            print('-'*10)\n",
    "            print(n)\n",
    "        return y\n",
    "    return x\n",
    "\n",
    "@s()\n",
    "def yyy():\n",
    "    print('ttt')"
   ]
  },
  {
   "cell_type": "code",
   "execution_count": null,
   "metadata": {},
   "outputs": [],
   "source": [
    "# class에도 decorator를 넣을 수 있다\n",
    "# classdecorator - 이런게 있다 알아만 두어라"
   ]
  }
 ],
 "metadata": {
  "kernelspec": {
   "display_name": "KoreaUniv",
   "language": "python",
   "name": "python3"
  },
  "language_info": {
   "codemirror_mode": {
    "name": "ipython",
    "version": 3
   },
   "file_extension": ".py",
   "mimetype": "text/x-python",
   "name": "python",
   "nbconvert_exporter": "python",
   "pygments_lexer": "ipython3",
   "version": "3.9.18"
  }
 },
 "nbformat": 4,
 "nbformat_minor": 2
}
