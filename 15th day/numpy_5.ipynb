{
 "cells": [
  {
   "cell_type": "code",
   "execution_count": 2,
   "metadata": {},
   "outputs": [],
   "source": [
    "import pandas as pd"
   ]
  },
  {
   "cell_type": "code",
   "execution_count": 3,
   "metadata": {},
   "outputs": [
    {
     "data": {
      "text/plain": [
       "<function pandas.io.parquet.read_parquet(path: 'FilePath | ReadBuffer[bytes]', engine: 'str' = 'auto', columns: 'list[str] | None' = None, storage_options: 'StorageOptions | None' = None, use_nullable_dtypes: 'bool | lib.NoDefault' = <no_default>, dtype_backend: 'DtypeBackend | lib.NoDefault' = <no_default>, filesystem: 'Any' = None, filters: 'list[tuple] | list[list[tuple]] | None' = None, **kwargs) -> 'DataFrame'>"
      ]
     },
     "execution_count": 3,
     "metadata": {},
     "output_type": "execute_result"
    }
   ],
   "source": [
    "pd.read_parquet"
   ]
  },
  {
   "cell_type": "code",
   "execution_count": 11,
   "metadata": {},
   "outputs": [
    {
     "name": "stderr",
     "output_type": "stream",
     "text": [
      "C:\\Users\\SAMSUNG\\AppData\\Local\\Temp\\ipykernel_47308\\1970972479.py:1: DtypeWarning: Columns (2) have mixed types. Specify dtype option on import or set low_memory=False.\n",
      "  data = pd.read_csv('C:/Users/SAMSUNG/Desktop/SW_Korea/sample/seoul.csv')\n"
     ]
    }
   ],
   "source": [
    "data = pd.read_csv('C:/Users/SAMSUNG/Desktop/SW_Korea/sample/seoul.csv')"
   ]
  },
  {
   "cell_type": "code",
   "execution_count": 12,
   "metadata": {},
   "outputs": [
    {
     "data": {
      "text/plain": [
       "0             토끼정\n",
       "1             카페숲\n",
       "2             다이앤\n",
       "3            숯불에닭\n",
       "4          맑은에스테틱\n",
       "           ...   \n",
       "489867     모아모아세탁\n",
       "489868    지에스25강동\n",
       "489869        런베이\n",
       "489870        북카페\n",
       "489871     봉구비어난곡\n",
       "Name: 상호명, Length: 489872, dtype: object"
      ]
     },
     "execution_count": 12,
     "metadata": {},
     "output_type": "execute_result"
    }
   ],
   "source": [
    "data.상호명"
   ]
  },
  {
   "cell_type": "code",
   "execution_count": null,
   "metadata": {},
   "outputs": [],
   "source": [
    "data.select_dtypes(['object', 'float64'], exclude='int64')"
   ]
  },
  {
   "cell_type": "code",
   "execution_count": 15,
   "metadata": {},
   "outputs": [
    {
     "data": {
      "text/html": [
       "<div>\n",
       "<style scoped>\n",
       "    .dataframe tbody tr th:only-of-type {\n",
       "        vertical-align: middle;\n",
       "    }\n",
       "\n",
       "    .dataframe tbody tr th {\n",
       "        vertical-align: top;\n",
       "    }\n",
       "\n",
       "    .dataframe thead th {\n",
       "        text-align: right;\n",
       "    }\n",
       "</style>\n",
       "<table border=\"1\" class=\"dataframe\">\n",
       "  <thead>\n",
       "    <tr style=\"text-align: right;\">\n",
       "      <th></th>\n",
       "      <th>상권업종대분류코드</th>\n",
       "      <th>상권업종대분류명</th>\n",
       "      <th>상권업종중분류코드</th>\n",
       "      <th>상권업종중분류명</th>\n",
       "      <th>상권업종소분류코드</th>\n",
       "      <th>상권업종소분류명</th>\n",
       "      <th>표준산업분류코드</th>\n",
       "      <th>표준산업분류명</th>\n",
       "    </tr>\n",
       "  </thead>\n",
       "  <tbody>\n",
       "    <tr>\n",
       "      <th>0</th>\n",
       "      <td>I2</td>\n",
       "      <td>음식</td>\n",
       "      <td>I201</td>\n",
       "      <td>한식</td>\n",
       "      <td>I20101</td>\n",
       "      <td>백반/한정식</td>\n",
       "      <td>I56111</td>\n",
       "      <td>한식 일반 음식점업</td>\n",
       "    </tr>\n",
       "    <tr>\n",
       "      <th>1</th>\n",
       "      <td>I2</td>\n",
       "      <td>음식</td>\n",
       "      <td>I212</td>\n",
       "      <td>비알코올</td>\n",
       "      <td>I21201</td>\n",
       "      <td>카페</td>\n",
       "      <td>I56221</td>\n",
       "      <td>커피 전문점</td>\n",
       "    </tr>\n",
       "    <tr>\n",
       "      <th>2</th>\n",
       "      <td>G2</td>\n",
       "      <td>소매</td>\n",
       "      <td>G209</td>\n",
       "      <td>섬유·의복·신발 소매</td>\n",
       "      <td>G20902</td>\n",
       "      <td>여성 의류 소매업</td>\n",
       "      <td>G47412</td>\n",
       "      <td>여자용 겉옷 소매업</td>\n",
       "    </tr>\n",
       "    <tr>\n",
       "      <th>3</th>\n",
       "      <td>I2</td>\n",
       "      <td>음식</td>\n",
       "      <td>I201</td>\n",
       "      <td>한식</td>\n",
       "      <td>I20110</td>\n",
       "      <td>닭/오리고기 구이/찜</td>\n",
       "      <td>I56111</td>\n",
       "      <td>한식 일반 음식점업</td>\n",
       "    </tr>\n",
       "    <tr>\n",
       "      <th>4</th>\n",
       "      <td>S2</td>\n",
       "      <td>수리·개인</td>\n",
       "      <td>S208</td>\n",
       "      <td>욕탕·신체관리</td>\n",
       "      <td>S20802</td>\n",
       "      <td>마사지/안마</td>\n",
       "      <td>S96122</td>\n",
       "      <td>마사지업</td>\n",
       "    </tr>\n",
       "    <tr>\n",
       "      <th>...</th>\n",
       "      <td>...</td>\n",
       "      <td>...</td>\n",
       "      <td>...</td>\n",
       "      <td>...</td>\n",
       "      <td>...</td>\n",
       "      <td>...</td>\n",
       "      <td>...</td>\n",
       "      <td>...</td>\n",
       "    </tr>\n",
       "    <tr>\n",
       "      <th>489867</th>\n",
       "      <td>S2</td>\n",
       "      <td>수리·개인</td>\n",
       "      <td>S209</td>\n",
       "      <td>세탁</td>\n",
       "      <td>S20901</td>\n",
       "      <td>세탁소</td>\n",
       "      <td>S96912</td>\n",
       "      <td>가정용 세탁업</td>\n",
       "    </tr>\n",
       "    <tr>\n",
       "      <th>489868</th>\n",
       "      <td>G2</td>\n",
       "      <td>소매</td>\n",
       "      <td>G204</td>\n",
       "      <td>종합 소매</td>\n",
       "      <td>G20405</td>\n",
       "      <td>편의점</td>\n",
       "      <td>G47122</td>\n",
       "      <td>체인화 편의점</td>\n",
       "    </tr>\n",
       "    <tr>\n",
       "      <th>489869</th>\n",
       "      <td>S2</td>\n",
       "      <td>수리·개인</td>\n",
       "      <td>S203</td>\n",
       "      <td>자동차 수리·세차</td>\n",
       "      <td>S20302</td>\n",
       "      <td>자동차 세차장</td>\n",
       "      <td>S95213</td>\n",
       "      <td>자동차 세차업</td>\n",
       "    </tr>\n",
       "    <tr>\n",
       "      <th>489870</th>\n",
       "      <td>I2</td>\n",
       "      <td>음식</td>\n",
       "      <td>I212</td>\n",
       "      <td>비알코올</td>\n",
       "      <td>I21201</td>\n",
       "      <td>카페</td>\n",
       "      <td>I56221</td>\n",
       "      <td>커피 전문점</td>\n",
       "    </tr>\n",
       "    <tr>\n",
       "      <th>489871</th>\n",
       "      <td>I2</td>\n",
       "      <td>음식</td>\n",
       "      <td>I211</td>\n",
       "      <td>주점</td>\n",
       "      <td>I21103</td>\n",
       "      <td>생맥주 전문</td>\n",
       "      <td>I56213</td>\n",
       "      <td>생맥주 전문점</td>\n",
       "    </tr>\n",
       "  </tbody>\n",
       "</table>\n",
       "<p>489872 rows × 8 columns</p>\n",
       "</div>"
      ],
      "text/plain": [
       "       상권업종대분류코드 상권업종대분류명 상권업종중분류코드     상권업종중분류명 상권업종소분류코드     상권업종소분류명  \\\n",
       "0             I2       음식      I201           한식    I20101       백반/한정식   \n",
       "1             I2       음식      I212        비알코올     I21201           카페   \n",
       "2             G2       소매      G209  섬유·의복·신발 소매    G20902    여성 의류 소매업   \n",
       "3             I2       음식      I201           한식    I20110  닭/오리고기 구이/찜   \n",
       "4             S2    수리·개인      S208      욕탕·신체관리    S20802       마사지/안마   \n",
       "...          ...      ...       ...          ...       ...          ...   \n",
       "489867        S2    수리·개인      S209           세탁    S20901          세탁소   \n",
       "489868        G2       소매      G204        종합 소매    G20405          편의점   \n",
       "489869        S2    수리·개인      S203    자동차 수리·세차    S20302      자동차 세차장   \n",
       "489870        I2       음식      I212        비알코올     I21201           카페   \n",
       "489871        I2       음식      I211           주점    I21103       생맥주 전문   \n",
       "\n",
       "       표준산업분류코드     표준산업분류명  \n",
       "0        I56111  한식 일반 음식점업  \n",
       "1        I56221      커피 전문점  \n",
       "2        G47412  여자용 겉옷 소매업  \n",
       "3        I56111  한식 일반 음식점업  \n",
       "4        S96122        마사지업  \n",
       "...         ...         ...  \n",
       "489867   S96912     가정용 세탁업  \n",
       "489868   G47122     체인화 편의점  \n",
       "489869   S95213     자동차 세차업  \n",
       "489870   I56221      커피 전문점  \n",
       "489871   I56213     생맥주 전문점  \n",
       "\n",
       "[489872 rows x 8 columns]"
      ]
     },
     "execution_count": 15,
     "metadata": {},
     "output_type": "execute_result"
    }
   ],
   "source": [
    "data.filter(like='분류')"
   ]
  },
  {
   "cell_type": "code",
   "execution_count": null,
   "metadata": {},
   "outputs": [],
   "source": [
    "data[(data['상권업종대분류명'] == '음식') & (data['상권업종소분류명'] == '카페')]"
   ]
  }
 ],
 "metadata": {
  "kernelspec": {
   "display_name": "KoreaUniv",
   "language": "python",
   "name": "python3"
  },
  "language_info": {
   "codemirror_mode": {
    "name": "ipython",
    "version": 3
   },
   "file_extension": ".py",
   "mimetype": "text/x-python",
   "name": "python",
   "nbconvert_exporter": "python",
   "pygments_lexer": "ipython3",
   "version": "3.9.18"
  }
 },
 "nbformat": 4,
 "nbformat_minor": 2
}
