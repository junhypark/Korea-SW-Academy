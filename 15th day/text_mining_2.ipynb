{
 "cells": [
  {
   "cell_type": "code",
   "execution_count": 2,
   "metadata": {},
   "outputs": [],
   "source": [
    "import konlpy"
   ]
  },
  {
   "cell_type": "code",
   "execution_count": 4,
   "metadata": {},
   "outputs": [
    {
     "data": {
      "text/plain": [
       "'0.6.0'"
      ]
     },
     "execution_count": 4,
     "metadata": {},
     "output_type": "execute_result"
    }
   ],
   "source": [
    "konlpy.__version__"
   ]
  },
  {
   "cell_type": "code",
   "execution_count": 6,
   "metadata": {},
   "outputs": [
    {
     "data": {
      "text/plain": [
       "[('아버지', 'NNG'),\n",
       " ('가방', 'NNG'),\n",
       " ('에', 'JKM'),\n",
       " ('들어가', 'VV'),\n",
       " ('시', 'EPH'),\n",
       " ('ㄴ다', 'EFN')]"
      ]
     },
     "execution_count": 6,
     "metadata": {},
     "output_type": "execute_result"
    }
   ],
   "source": [
    "from konlpy.tag import Kkma\n",
    "\n",
    "Kkma().pos('아버지가방에들어가신다')"
   ]
  },
  {
   "cell_type": "code",
   "execution_count": 7,
   "metadata": {},
   "outputs": [],
   "source": [
    "import nltk"
   ]
  },
  {
   "cell_type": "code",
   "execution_count": 8,
   "metadata": {},
   "outputs": [
    {
     "name": "stderr",
     "output_type": "stream",
     "text": [
      "[nltk_data] Downloading package gutenberg to\n",
      "[nltk_data]     C:\\Users\\SAMSUNG\\AppData\\Roaming\\nltk_data...\n",
      "[nltk_data]   Unzipping corpora\\gutenberg.zip.\n",
      "[nltk_data] Downloading package punkt to\n",
      "[nltk_data]     C:\\Users\\SAMSUNG\\AppData\\Roaming\\nltk_data...\n",
      "[nltk_data]   Unzipping tokenizers\\punkt.zip.\n"
     ]
    },
    {
     "data": {
      "text/plain": [
       "True"
      ]
     },
     "execution_count": 8,
     "metadata": {},
     "output_type": "execute_result"
    }
   ],
   "source": [
    "nltk.download('gutenberg')\n",
    "nltk.download('punkt')"
   ]
  },
  {
   "cell_type": "code",
   "execution_count": 9,
   "metadata": {},
   "outputs": [],
   "source": [
    "from nltk.corpus import gutenberg"
   ]
  },
  {
   "cell_type": "code",
   "execution_count": 12,
   "metadata": {},
   "outputs": [],
   "source": [
    "corpus = gutenberg.open(gutenberg.fileids()[0]).read()"
   ]
  },
  {
   "cell_type": "code",
   "execution_count": null,
   "metadata": {},
   "outputs": [],
   "source": [
    "corpus\n",
    "# 저 시대의 말 습관 등 파악 가능하다"
   ]
  },
  {
   "cell_type": "code",
   "execution_count": 14,
   "metadata": {},
   "outputs": [],
   "source": [
    "from nltk.tokenize import sent_tokenize, word_tokenize, regexp_tokenize, TweetTokenizer"
   ]
  },
  {
   "cell_type": "code",
   "execution_count": 15,
   "metadata": {},
   "outputs": [
    {
     "data": {
      "text/plain": [
       "(16823, 7493)"
      ]
     },
     "execution_count": 15,
     "metadata": {},
     "output_type": "execute_result"
    }
   ],
   "source": [
    "# 문장 ㅌ 문단 ㅌ 문서\n",
    "# 문장이 문서를 구성하는 가장 작은 단위\n",
    "# 1. 문장을 분리해내야한다\n",
    "len(corpus.splitlines()), len(sent_tokenize(corpus))\n",
    "# sentence로 자르것과 corpus로 자른 것은 서로 다르다 왜? 분모가 달라지기 때문이다\n"
   ]
  },
  {
   "cell_type": "code",
   "execution_count": 16,
   "metadata": {},
   "outputs": [
    {
     "data": {
      "text/plain": [
       "116.64780461764313"
      ]
     },
     "execution_count": 16,
     "metadata": {},
     "output_type": "execute_result"
    }
   ],
   "source": [
    "sum([len(s) for s in sent_tokenize(corpus)]) / 7493\n",
    "# 문장 평균 116자 / 왜 필요하냐? 한글에서는 달라지기 때문이다"
   ]
  },
  {
   "cell_type": "code",
   "execution_count": 20,
   "metadata": {},
   "outputs": [
    {
     "data": {
      "text/plain": [
       "['한글에서는 어떻게 분리하는지 봅시다.', '볼까요?볼래요!']"
      ]
     },
     "execution_count": 20,
     "metadata": {},
     "output_type": "execute_result"
    }
   ],
   "source": [
    "sent_tokenize('한글에서는 어떻게 분리하는지 봅시다. 볼까요?볼래요!')"
   ]
  },
  {
   "cell_type": "code",
   "execution_count": 21,
   "metadata": {},
   "outputs": [],
   "source": [
    "# 띄어쓰기 => 가장 먼저 인지되며 가장 중요하다\n",
    "# . => 문장을 구분하는 단위 or 기호\n",
    "# ?,! => 얘도 문장을 쪼갤 수 있음\n",
    "# 해당 아이들은 문장을 구분하는 단위 혹은 기호로서 작용되는데\n",
    "# 띄어쓰기가 존재해야 문장을 구분 가능하다\n",
    "# 말줄임표 ... 은 무시한다"
   ]
  },
  {
   "cell_type": "code",
   "execution_count": 22,
   "metadata": {},
   "outputs": [],
   "source": [
    "data = '''\n",
    "4·10 총선에서 더불어민주당 경기 하남갑 후보로 나선 추미애 전 법무부 장관이 \"정치인, 리더로서의 이재명은 국민이 바라는 바를 마음에 담아서 우러나오고, 그게 읽히니까 멋져 보인다\"고 밝혔다.\n",
    "\n",
    "추 후보는 지난 23일 공개된 쿠팡플레이 코미디쇼 'SNL코리아' 시즌 5의 '맑눈광이 간다' 코너에 출연해 '이재명 더불어민주당 대표와 배우 차은우 중 누가 더 잘생겼느냐'는 질문에 \"이재명\"이라고 답했다.\n",
    "\n",
    "추 후보는 \"배우하는 분들은 외모적으로 훨씬 잘 생겼지만 그것은 어떤 누구의 인생을 묘사하는 것\"이라고 덧붙였다. '나경원 국민의힘 서울 동작을 후보와 자신 중 더 예쁜 사람은 누구냐'는 질문에는 \"나경원씨\"라며 \"외모 경쟁을 하기보다는 정말 바른 정치인으로서 그런 건 얼마든지 양보하고 싶다. 더 예뻐지세요\"라고 했다.\n",
    "\n",
    "'윤석열 정부 탄생시킨 진짜 공식은? 체급 키워준 추미애 대 검찰총장으로 임명한 문재인'이라는 질문에는 잠시 고민하더니 \"그건 뭐 정직해야지\"라며 문재인 전 대통령을 골랐다.\n",
    "\n",
    "추 후보는 \"한 6단계를 건너뛰어서 제대로 검증하지 않고 (윤 대통령을) 서울중앙지검장으로 임명했고, 검찰총장으로 발탁했다\"며 \"(윤 대통령은) 검찰총장으로서 막강한 권한을 본인의 정치 발판으로 활용했다. 그런 점에서 중대한 책임이 있을 수밖에 없지 않나\"라고 했다.\n",
    "\n",
    "윤 대통령을 겨냥한 발언도 쏟아냈다. 추 후보는 양손에 빵을 들고 있는 이재명 대표 사진의 숨은 메시지로는 보기 중 '죽빵 날리고(얼굴을 때리고) 싶은 사람이 있으니 도와달라'를 꼽았다. 이어 '이 대표가 누구의 얼굴을 때리고 싶으신 것 같냐'는 질문에 \"빵 대신 술을 드셔서 헛배가 잔뜩 부르신 분. 아침에 제대로 일어나지 못하시는 분. 그리고 열차를 타면 다리를 모으지 못하고 쫙 벌리거나 반대편 의자에 다리를 걸치시는 분\"이라고 답했다.\n",
    "\n",
    "이에 사회자가 영상 편지를 요청하자 \"아침에 일어나기 힘드시죠. 피곤하실 거다. 그만 내려오시죠\"라며 \"노후의 삶도 중요하지 않냐. 사랑하는 여보와 함께 체리따봉도 이렇게 힘이 빠지면 꺾어지는 것\"이라고 말했다. 민주당의 예상 의석수에 대한 질문에는 \"151석\"이라고 답했다.\n",
    "'''"
   ]
  },
  {
   "cell_type": "code",
   "execution_count": 23,
   "metadata": {},
   "outputs": [
    {
     "data": {
      "text/plain": [
       "(7, 19)"
      ]
     },
     "execution_count": 23,
     "metadata": {},
     "output_type": "execute_result"
    }
   ],
   "source": [
    "len([s for s in data.splitlines() if len(s) > 1]), len(sent_tokenize(data))\n",
    "# 차이가 많이 난다"
   ]
  },
  {
   "cell_type": "code",
   "execution_count": 25,
   "metadata": {},
   "outputs": [
    {
     "data": {
      "text/plain": [
       "(158167, 191785)"
      ]
     },
     "execution_count": 25,
     "metadata": {},
     "output_type": "execute_result"
    }
   ],
   "source": [
    "len(corpus.split()), len(word_tokenize(corpus))\n",
    "# 화이트 스페이스로 구분된 것 - 1\n",
    "# word tokenizer로 구분된 것 - 2\n",
    "# 차이 존재한다\n",
    "# 만약 unique한거 뽑아라 라고 하면..."
   ]
  },
  {
   "cell_type": "code",
   "execution_count": 27,
   "metadata": {},
   "outputs": [
    {
     "data": {
      "text/plain": [
       "(17409, 8406)"
      ]
     },
     "execution_count": 27,
     "metadata": {},
     "output_type": "execute_result"
    }
   ],
   "source": [
    "len(set(corpus.split())), len(set(word_tokenize(corpus)))\n",
    "# 유니크한 것들 뽑은 숫자들"
   ]
  },
  {
   "cell_type": "code",
   "execution_count": 29,
   "metadata": {},
   "outputs": [
    {
     "data": {
      "text/plain": [
       "(243, 319)"
      ]
     },
     "execution_count": 29,
     "metadata": {},
     "output_type": "execute_result"
    }
   ],
   "source": [
    "len(data.split()), len(word_tokenize(data))"
   ]
  },
  {
   "cell_type": "code",
   "execution_count": 30,
   "metadata": {},
   "outputs": [
    {
     "data": {
      "text/plain": [
       "(216, 223)"
      ]
     },
     "execution_count": 30,
     "metadata": {},
     "output_type": "execute_result"
    }
   ],
   "source": [
    "len(set(data.split())), len(set(word_tokenize(data)))"
   ]
  },
  {
   "cell_type": "code",
   "execution_count": 31,
   "metadata": {},
   "outputs": [
    {
     "data": {
      "text/plain": [
       "{\"'\",\n",
       " \"''\",\n",
       " \"'SNL코리아\",\n",
       " \"'나경원\",\n",
       " \"'맑눈광이\",\n",
       " \"'윤석열\",\n",
       " \"'이재명\",\n",
       " \"'죽빵\",\n",
       " '(',\n",
       " ')',\n",
       " ',',\n",
       " '.',\n",
       " '151석',\n",
       " '23일',\n",
       " '4·10',\n",
       " '5의',\n",
       " '6단계를',\n",
       " '?',\n",
       " '``',\n",
       " '간다',\n",
       " '같냐',\n",
       " '거다',\n",
       " '건',\n",
       " '건너뛰어서',\n",
       " '걸치시는',\n",
       " '검증하지',\n",
       " '검찰총장으로',\n",
       " '검찰총장으로서',\n",
       " '것',\n",
       " '겨냥한',\n",
       " '경기',\n",
       " '경쟁을',\n",
       " '고',\n",
       " '고민하더니',\n",
       " '골랐다',\n",
       " '공개된',\n",
       " '공식은',\n",
       " '국민의힘',\n",
       " '국민이',\n",
       " '권한을',\n",
       " '그건',\n",
       " '그것은',\n",
       " '그게',\n",
       " '그런',\n",
       " '그리고',\n",
       " '그만',\n",
       " '꺾어지는',\n",
       " '꼽았다',\n",
       " '나경원씨',\n",
       " '나선',\n",
       " '날리고',\n",
       " '내려오시죠',\n",
       " '노후의',\n",
       " '누가',\n",
       " '누구냐',\n",
       " '누구의',\n",
       " '는',\n",
       " '다리를',\n",
       " '담아서',\n",
       " '답했다',\n",
       " '대',\n",
       " '대신',\n",
       " '대통령은',\n",
       " '대통령을',\n",
       " '대표',\n",
       " '대표가',\n",
       " '대표와',\n",
       " '대한',\n",
       " '더',\n",
       " '더불어민주당',\n",
       " '덧붙였다',\n",
       " '도와달라',\n",
       " '동작을',\n",
       " '드셔서',\n",
       " '들고',\n",
       " '때리고',\n",
       " '라고',\n",
       " '라며',\n",
       " '를',\n",
       " '리더로서의',\n",
       " '마음에',\n",
       " '막강한',\n",
       " '말했다',\n",
       " '멋져',\n",
       " '메시지로는',\n",
       " '며',\n",
       " '모으지',\n",
       " '못하고',\n",
       " '못하시는',\n",
       " '묘사하는',\n",
       " '문재인',\n",
       " \"문재인'이라는\",\n",
       " '뭐',\n",
       " '민주당의',\n",
       " '바라는',\n",
       " '바른',\n",
       " '바를',\n",
       " '반대편',\n",
       " '발언도',\n",
       " '발탁했다',\n",
       " '발판으로',\n",
       " '밝혔다',\n",
       " '배우',\n",
       " '배우하는',\n",
       " '벌리거나',\n",
       " '법무부',\n",
       " '보기',\n",
       " '보인다',\n",
       " '본인의',\n",
       " '부르신',\n",
       " '분',\n",
       " '분들은',\n",
       " '빠지면',\n",
       " '빵',\n",
       " '빵을',\n",
       " '사람은',\n",
       " '사람이',\n",
       " '사랑하는',\n",
       " '사진의',\n",
       " '사회자가',\n",
       " '삶도',\n",
       " '생겼지만',\n",
       " '서울',\n",
       " '서울중앙지검장으로',\n",
       " '수밖에',\n",
       " '술을',\n",
       " '숨은',\n",
       " '시즌',\n",
       " '싶다',\n",
       " '싶으신',\n",
       " '싶은',\n",
       " '쏟아냈다',\n",
       " '아침에',\n",
       " '않고',\n",
       " '않나',\n",
       " '않냐',\n",
       " '양보하고',\n",
       " '양손에',\n",
       " '어떤',\n",
       " '얼굴을',\n",
       " '얼마든지',\n",
       " '없지',\n",
       " '여보와',\n",
       " '열차를',\n",
       " '영상',\n",
       " '예뻐지세요',\n",
       " '예쁜',\n",
       " '예상',\n",
       " '외모',\n",
       " '외모적으로',\n",
       " '요청하자',\n",
       " '우러나오고',\n",
       " '윤',\n",
       " '의석수에',\n",
       " '의자에',\n",
       " '이',\n",
       " '이라고',\n",
       " '이렇게',\n",
       " '이어',\n",
       " '이에',\n",
       " '이재명',\n",
       " '이재명은',\n",
       " '인생을',\n",
       " '일어나기',\n",
       " '일어나지',\n",
       " '읽히니까',\n",
       " '임명한',\n",
       " '임명했고',\n",
       " '있는',\n",
       " '있으니',\n",
       " '있을',\n",
       " '자신',\n",
       " '잔뜩',\n",
       " '잘',\n",
       " '잘생겼느냐',\n",
       " '잠시',\n",
       " '장관이',\n",
       " '전',\n",
       " '점에서',\n",
       " '정말',\n",
       " '정부',\n",
       " '정직해야지',\n",
       " '정치',\n",
       " '정치인',\n",
       " '정치인으로서',\n",
       " '제대로',\n",
       " '중',\n",
       " '중대한',\n",
       " '중요하지',\n",
       " '지난',\n",
       " '진짜',\n",
       " '질문에',\n",
       " '질문에는',\n",
       " '쫙',\n",
       " '차은우',\n",
       " '책임이',\n",
       " '체급',\n",
       " '체리따봉도',\n",
       " '총선에서',\n",
       " '추',\n",
       " '추미애',\n",
       " '출연해',\n",
       " '코너에',\n",
       " '코미디쇼',\n",
       " '쿠팡플레이',\n",
       " '키워준',\n",
       " '타면',\n",
       " '탄생시킨',\n",
       " '편지를',\n",
       " '피곤하실',\n",
       " '하기보다는',\n",
       " '하남갑',\n",
       " '한',\n",
       " '함께',\n",
       " '했다',\n",
       " '헛배가',\n",
       " '활용했다',\n",
       " '후보는',\n",
       " '후보로',\n",
       " '후보와',\n",
       " '훨씬',\n",
       " '힘드시죠',\n",
       " '힘이'}"
      ]
     },
     "execution_count": 31,
     "metadata": {},
     "output_type": "execute_result"
    }
   ],
   "source": [
    "set(word_tokenize(data))\n",
    "# 띄어쓰리고 구분함\n",
    "# 문장의 마지막, 기호들의 처리 등을 보고 싶은 것"
   ]
  },
  {
   "cell_type": "code",
   "execution_count": 33,
   "metadata": {},
   "outputs": [
    {
     "data": {
      "text/plain": [
       "161983"
      ]
     },
     "execution_count": 33,
     "metadata": {},
     "output_type": "execute_result"
    }
   ],
   "source": [
    "len(regexp_tokenize(corpus, r'\\b\\w+\\b'))\n",
    "# 즉, tokenizer의 종류마다 개수가 다르므로 여러개를 다룰 줄 알아야한다"
   ]
  },
  {
   "cell_type": "code",
   "execution_count": 34,
   "metadata": {},
   "outputs": [],
   "source": [
    "# Tokenizing => Normalizing => Feature Selection => Model\n",
    "# 이게 기본적인 순서\n",
    "\n",
    "# 음절, 어절, 형태소, ...,\n",
    "# Ngram => P (조건부 확률), Markov Assumption\n",
    "# entropy, perplexity => P 사용\n",
    "# BPE, BT, SPT, + MA (형태소 분석기)"
   ]
  },
  {
   "cell_type": "code",
   "execution_count": 35,
   "metadata": {},
   "outputs": [
    {
     "data": {
      "text/plain": [
       "([':)'], [':', ')'])"
      ]
     },
     "execution_count": 35,
     "metadata": {},
     "output_type": "execute_result"
    }
   ],
   "source": [
    "tt = TweetTokenizer()\n",
    "tt.tokenize(':)'), word_tokenize(':)')\n",
    "# tweettokenizer - 이모션을 별도의 기호로 추출해내서 구분한다\n",
    "# 감정분석할 때 많이 사용 한다"
   ]
  },
  {
   "cell_type": "code",
   "execution_count": 37,
   "metadata": {},
   "outputs": [
    {
     "data": {
      "text/plain": [
       "(193228, 8938)"
      ]
     },
     "execution_count": 37,
     "metadata": {},
     "output_type": "execute_result"
    }
   ],
   "source": [
    "len(tt.tokenize(corpus)), len(set(tt.tokenize(corpus)))"
   ]
  },
  {
   "cell_type": "code",
   "execution_count": 38,
   "metadata": {},
   "outputs": [],
   "source": [
    "# token => 어절, 음절, 단어, 형태소, 어간, 어미, 어근, 접사, 구, 품사, ...\n",
    "# 다 나올 수 있음"
   ]
  },
  {
   "cell_type": "code",
   "execution_count": 39,
   "metadata": {},
   "outputs": [],
   "source": [
    "from nltk.text import Text"
   ]
  },
  {
   "cell_type": "code",
   "execution_count": 41,
   "metadata": {},
   "outputs": [],
   "source": [
    "t = Text(word_tokenize(corpus))\n",
    "# token들의 sequence 주변을 감싸는 객체이다\n",
    "# token의 순서, 정보들을 제공한다"
   ]
  },
  {
   "cell_type": "code",
   "execution_count": 43,
   "metadata": {},
   "outputs": [
    {
     "data": {
      "text/plain": [
       "855"
      ]
     },
     "execution_count": 43,
     "metadata": {},
     "output_type": "execute_result"
    }
   ],
   "source": [
    "t.count('Emma')\n",
    "# count기능 존재"
   ]
  },
  {
   "cell_type": "code",
   "execution_count": 44,
   "metadata": {},
   "outputs": [
    {
     "data": {
      "text/plain": [
       "(8406, 191785)"
      ]
     },
     "execution_count": 44,
     "metadata": {},
     "output_type": "execute_result"
    }
   ],
   "source": [
    "t.vocab().B(), t.vocab().N()\n",
    "# 유니크한 애들, 전체의 수"
   ]
  },
  {
   "cell_type": "code",
   "execution_count": 45,
   "metadata": {},
   "outputs": [
    {
     "data": {
      "text/plain": [
       "191785"
      ]
     },
     "execution_count": 45,
     "metadata": {},
     "output_type": "execute_result"
    }
   ],
   "source": [
    "len(t.tokens)"
   ]
  },
  {
   "cell_type": "code",
   "execution_count": 46,
   "metadata": {},
   "outputs": [
    {
     "data": {
      "text/plain": [
       "0.004458117162447532"
      ]
     },
     "execution_count": 46,
     "metadata": {},
     "output_type": "execute_result"
    }
   ],
   "source": [
    "t.vocab().freq('Emma')\n",
    "# => FreqDist (Distribution 만들어줌)"
   ]
  },
  {
   "cell_type": "code",
   "execution_count": 47,
   "metadata": {},
   "outputs": [
    {
     "data": {
      "text/plain": [
       "[(',', 12016),\n",
       " ('.', 6355),\n",
       " ('to', 5125),\n",
       " ('the', 4844),\n",
       " ('and', 4653),\n",
       " ('of', 4272),\n",
       " ('I', 3177),\n",
       " ('--', 3100),\n",
       " ('a', 3001),\n",
       " (\"''\", 2452),\n",
       " ('was', 2383),\n",
       " ('her', 2360),\n",
       " (';', 2353),\n",
       " ('not', 2242),\n",
       " ('in', 2103),\n",
       " ('it', 2103),\n",
       " ('be', 1965),\n",
       " ('she', 1774),\n",
       " ('``', 1735),\n",
       " ('that', 1729),\n",
       " ('you', 1664),\n",
       " ('had', 1605),\n",
       " ('as', 1387),\n",
       " ('he', 1365),\n",
       " ('for', 1320),\n",
       " ('have', 1301),\n",
       " ('is', 1221),\n",
       " ('with', 1185),\n",
       " ('very', 1151),\n",
       " ('but', 1148),\n",
       " ('Mr.', 1091),\n",
       " ('his', 1084),\n",
       " ('!', 1063),\n",
       " ('at', 996),\n",
       " ('so', 918),\n",
       " (\"'s\", 866),\n",
       " ('Emma', 855),\n",
       " ('all', 831),\n",
       " ('could', 824),\n",
       " ('would', 813),\n",
       " ('been', 755),\n",
       " ('him', 748),\n",
       " ('on', 674),\n",
       " ('Mrs.', 668),\n",
       " ('any', 651),\n",
       " ('?', 621),\n",
       " ('my', 619),\n",
       " ('no', 616),\n",
       " ('Miss', 592),\n",
       " ('were', 590)]"
      ]
     },
     "execution_count": 47,
     "metadata": {},
     "output_type": "execute_result"
    }
   ],
   "source": [
    "t.vocab().most_common(50)\n",
    "# 제일 많이 사용된 애들을 보여줌"
   ]
  },
  {
   "cell_type": "code",
   "execution_count": 51,
   "metadata": {},
   "outputs": [
    {
     "name": "stdout",
     "output_type": "stream",
     "text": [
      "Mr. Knightley; Mrs. Weston; Frank Churchill; Mr. Elton; Miss\n",
      "Woodhouse; Miss Bates; Mrs. Elton; Miss Fairfax; Mr. Weston; Jane\n",
      "Fairfax; every thing; Mr. Woodhouse; every body; young man; great\n",
      "deal; dare say; Maple Grove; Mrs. Goddard; John Knightley; Miss Smith\n"
     ]
    }
   ],
   "source": [
    "t.collocations()"
   ]
  },
  {
   "cell_type": "code",
   "execution_count": 52,
   "metadata": {},
   "outputs": [
    {
     "data": {
      "text/plain": [
       "429"
      ]
     },
     "execution_count": 52,
     "metadata": {},
     "output_type": "execute_result"
    }
   ],
   "source": [
    "t.count('Weston')"
   ]
  },
  {
   "cell_type": "code",
   "execution_count": null,
   "metadata": {},
   "outputs": [],
   "source": [
    "t.dispersion_plot(['Emma', 'Weston', 'Elton'])\n",
    "# 얘는 matplotlib을 사용하여 그래프로 얼마나 나온지 보는 것"
   ]
  },
  {
   "cell_type": "code",
   "execution_count": 54,
   "metadata": {},
   "outputs": [
    {
     "name": "stdout",
     "output_type": "stream",
     "text": [
      "she it he i weston you her harriet elton him me knightley jane that\n",
      "and the all there they them\n"
     ]
    }
   ],
   "source": [
    "t.similar('Emma')\n",
    "# Emma와 많이 나오는 단어들 (비슷한 애들?)"
   ]
  },
  {
   "cell_type": "code",
   "execution_count": 57,
   "metadata": {},
   "outputs": [],
   "source": [
    "from nltk.collocations import BigramAssocMeasures, BigramCollocationFinder\n",
    "# BigramAssocMeasures()\n",
    "# 찾아보면 좋음"
   ]
  },
  {
   "cell_type": "code",
   "execution_count": 55,
   "metadata": {},
   "outputs": [],
   "source": [
    "# collocation -> 이웃한 패턴\n",
    "# co-occurence -> 같이 자주 나오는 표현"
   ]
  },
  {
   "cell_type": "code",
   "execution_count": 58,
   "metadata": {},
   "outputs": [],
   "source": [
    "bigram = BigramCollocationFinder.from_words(word_tokenize(corpus))"
   ]
  },
  {
   "cell_type": "code",
   "execution_count": 59,
   "metadata": {},
   "outputs": [
    {
     "data": {
      "text/plain": [
       "[('&', 'c.'),\n",
       " ('10,000', 'l.'),\n",
       " ('26th', 'ult.'),\n",
       " ('Abominable', 'scoundrel'),\n",
       " ('Agricultural', 'Reports'),\n",
       " ('Austen', '1816'),\n",
       " ('Baronne', \"d'Almane\"),\n",
       " ('Candles', 'everywhere.'),\n",
       " ('Clayton', 'Park'),\n",
       " ('Comtesse', \"d'Ostalis\")]"
      ]
     },
     "execution_count": 59,
     "metadata": {},
     "output_type": "execute_result"
    }
   ],
   "source": [
    "bigram.nbest(BigramAssocMeasures.chi_sq, 10)\n",
    "# 가장 많이 쌍이 된 10개 추출\n",
    "# 사람들의 언어패턴을 볼 수 있다"
   ]
  },
  {
   "cell_type": "code",
   "execution_count": 60,
   "metadata": {},
   "outputs": [],
   "source": [
    "# Ngram => LM의 일종\n",
    "# 어떻게 만드느냐? bi, tri를 많이 사용한다\n",
    "# bi는 bigram, tri는 trigram"
   ]
  },
  {
   "cell_type": "code",
   "execution_count": 61,
   "metadata": {},
   "outputs": [],
   "source": [
    "# P(의과대학 | 정부의)?\n",
    "# P(정원 | 정부의, 의과대학)\n",
    "# P(증원에 | 정부의, 의과대학, 정원) ~ P(증원에 | 정원)\n",
    "# 엄격하게 앞에까지 보는 것이 아니라 끝에 나오는 애들만 보는 것\n",
    "# ... 다음 확률 높은 것을 찾아가서 문장을 만들수도 있음\n",
    "\n",
    "# Markov Assumption 을 사용하여...\n",
    "# 엄격하게 앞에까지 보는 것이 아니라 끝에 나오는 애들만 보는 것\n",
    "# 그래서 바로 앞에것만 보는것 왜? 그것도 비슷한 확률을 가질 것이라고 예측하기 때문이다\n",
    "# 그래서 뭐가 가능하냐면\n",
    "# P(증원에 | 정원) => P(예산, 증원에) / P(예산) => count(예산, 증원에)/N / count(예산)/N\n",
    "# 결과적으로 count(예산, 증원에) / count(예산)"
   ]
  },
  {
   "cell_type": "code",
   "execution_count": 67,
   "metadata": {},
   "outputs": [
    {
     "data": {
      "text/plain": [
       "['의대교수', '교수줄사직', '줄사직시작됐다.']"
      ]
     },
     "execution_count": 67,
     "metadata": {},
     "output_type": "execute_result"
    }
   ],
   "source": [
    "def ngram(text, n=2):\n",
    "    result = list()\n",
    "    for i in range(len(text) - (n-1)):\n",
    "        result.append(''.join(text[i:i+n]))\n",
    "    return  result\n",
    "\n",
    "\n",
    "ngram('의대 교수 줄사직 시작됐다.'.split())"
   ]
  },
  {
   "cell_type": "code",
   "execution_count": 68,
   "metadata": {},
   "outputs": [],
   "source": [
    "bigram = ngram(word_tokenize(corpus))\n",
    "unigram = ngram(word_tokenize(corpus), 1)\n",
    "bigramText = Text(bigram)\n",
    "unigramText = Text(unigram)"
   ]
  },
  {
   "cell_type": "code",
   "execution_count": 72,
   "metadata": {},
   "outputs": [
    {
     "data": {
      "text/plain": [
       "(0.004458117162447532, 0.004458117162447532)"
      ]
     },
     "execution_count": 72,
     "metadata": {},
     "output_type": "execute_result"
    }
   ],
   "source": [
    "unigramText.count('Emma'), unigramText.vocab().N()\n",
    "unigramText.count('Emma')/unigramText.vocab().N(), unigramText.vocab().freq('Emma')"
   ]
  },
  {
   "cell_type": "code",
   "execution_count": 74,
   "metadata": {},
   "outputs": [
    {
     "name": "stdout",
     "output_type": "stream",
     "text": [
      "Emmaby 0.0011695906432748538\n",
      "EmmaWoodhouse 0.004678362573099415\n",
      "Emma. 0.05847953216374269\n",
      "Emmadoing 0.0011695906432748538\n",
      "Emma's 0.08654970760233918\n",
      "Emmafirst 0.0023391812865497076\n",
      "Emmawas 0.07485380116959064\n",
      "Emmacould 0.07134502923976609\n",
      "Emmasmiled 0.0035087719298245615\n",
      "Emmaspared 0.0011695906432748538\n",
      "Emma; 0.029239766081871343\n",
      "Emmaplayfully 0.0011695906432748538\n",
      "EmmaWoodhouse 0.004678362573099415\n",
      "Emmaherself 0.0023391812865497076\n",
      "Emmaknows 0.0011695906432748538\n",
      "Emma, 0.21403508771929824\n",
      "Emmabears 0.0011695906432748538\n",
      "Emmaturned 0.0023391812865497076\n",
      "Emmashould 0.004678362573099415\n",
      "Emma, 0.21403508771929824\n",
      "Emmanever 0.0011695906432748538\n",
      "Emma, 0.21403508771929824\n",
      "Emma's 0.08654970760233918\n",
      "Emmawas 0.07485380116959064\n",
      "Emma, 0.21403508771929824\n",
      "Emma's 0.08654970760233918\n",
      "Emmacould 0.07134502923976609\n",
      "Emmafound 0.014035087719298246\n",
      "Emmaknew 0.008187134502923977\n",
      "Emmaparticularly 0.0011695906432748538\n",
      "Emmawas 0.07485380116959064\n",
      "Emmawell 0.0011695906432748538\n",
      "Emmahelp 0.0011695906432748538\n",
      "Emmaallowed 0.0011695906432748538\n",
      "Emmalost 0.0011695906432748538\n",
      "Emmahad 0.042105263157894736\n",
      "Emmawas 0.07485380116959064\n",
      "Emmaencouraged 0.0011695906432748538\n",
      "Emma. 0.05847953216374269\n",
      "Emmawatched 0.004678362573099415\n",
      "Emmawas 0.07485380116959064\n",
      "Emmathought 0.011695906432748537\n",
      "Emmafor 0.0023391812865497076\n",
      "Emmaimagined 0.0011695906432748538\n",
      "Emmaand 0.012865497076023392\n",
      "Emmamust 0.004678362573099415\n",
      "Emmagood 0.0011695906432748538\n",
      "Emma, 0.21403508771929824\n",
      "Emma, 0.21403508771929824\n",
      "Emma's 0.08654970760233918\n",
      "Emmawants 0.0011695906432748538\n",
      "Emmahas 0.004678362573099415\n",
      "Emma. 0.05847953216374269\n",
      "Emma'somitting 0.0011695906432748538\n",
      "Emmais 0.0023391812865497076\n",
      "Emmahas 0.004678362573099415\n",
      "Emmasuch 0.0011695906432748538\n",
      "Emma'sgenius 0.0011695906432748538\n",
      "Emmacould 0.07134502923976609\n",
      "Emmaas 0.004678362573099415\n",
      "Emmaimagine 0.0011695906432748538\n",
      "Emma's 0.08654970760233918\n",
      "Emma's 0.08654970760233918\n",
      "Emma's 0.08654970760233918\n",
      "Emmaaltogether 0.0011695906432748538\n",
      "Emmaalways 0.0011695906432748538\n",
      "Emma's 0.08654970760233918\n",
      "Emmaerrs 0.0011695906432748538\n",
      "Emmashall 0.0011695906432748538\n",
      "Emmawith 0.0035087719298245615\n",
      "Emma'smother 0.0011695906432748538\n",
      "Emma, 0.21403508771929824\n",
      "Emma. 0.05847953216374269\n",
      "Emma. 0.05847953216374269\n",
      "Emmain 0.0035087719298245615\n",
      "Emma, 0.21403508771929824\n",
      "Emma's 0.08654970760233918\n",
      "Emmacould 0.07134502923976609\n",
      "Emmaexclaimed 0.0011695906432748538\n",
      "Emma-- 0.014035087719298246\n",
      "Emmawished 0.004678362573099415\n",
      "Emma. 0.05847953216374269\n",
      "Emmabegan 0.007017543859649123\n",
      "Emmadrew 0.0011695906432748538\n",
      "Emma, 0.21403508771929824\n",
      "Emmaknew 0.008187134502923977\n",
      "Emmathought 0.011695906432748537\n",
      "Emma. 0.05847953216374269\n",
      "Emma's 0.08654970760233918\n",
      "Emmawas 0.07485380116959064\n",
      "Emmawas 0.07485380116959064\n",
      "Emmarather 0.0023391812865497076\n",
      "Emmacontinued 0.004678362573099415\n",
      "Emmapersevered 0.0011695906432748538\n",
      "Emma, 0.21403508771929824\n",
      "Emmawaited 0.0011695906432748538\n",
      "Emmafelt 0.022222222222222223\n",
      "Emmaassured 0.0011695906432748538\n",
      "Emmacontinued 0.004678362573099415\n",
      "Emmabelieved 0.0011695906432748538\n",
      "Emmacould 0.07134502923976609\n",
      "Emma. 0.05847953216374269\n",
      "Emmajudged 0.0011695906432748538\n",
      "Emma, 0.21403508771929824\n",
      "Emma's 0.08654970760233918\n",
      "Emmawill 0.0011695906432748538\n",
      "Emmahad 0.042105263157894736\n",
      "Emmaknew 0.008187134502923977\n",
      "Emmawas 0.07485380116959064\n",
      "Emma; 0.029239766081871343\n",
      "Emma, 0.21403508771929824\n",
      "Emma, 0.21403508771929824\n",
      "Emma, 0.21403508771929824\n",
      "Emma, 0.21403508771929824\n",
      "Emma, 0.21403508771929824\n",
      "Emmaas 0.004678362573099415\n",
      "Emma. 0.05847953216374269\n",
      "Emmanot 0.0011695906432748538\n",
      "Emma, 0.21403508771929824\n",
      "Emmamade 0.004678362573099415\n",
      "Emma's 0.08654970760233918\n",
      "Emmalaughed 0.0035087719298245615\n",
      "Emma, 0.21403508771929824\n",
      "Emmahad 0.042105263157894736\n",
      "Emmaremained 0.0023391812865497076\n",
      "Emmacould 0.07134502923976609\n",
      "Emmawas 0.07485380116959064\n",
      "Emmaassisted 0.0011695906432748538\n",
      "Emmawas 0.07485380116959064\n",
      "Emmathan 0.0011695906432748538\n",
      "Emmacould 0.07134502923976609\n",
      "Emma, 0.21403508771929824\n",
      "Emma, 0.21403508771929824\n",
      "Emmaspoke 0.0035087719298245615\n",
      "Emmacould 0.07134502923976609\n",
      "Emma; 0.029239766081871343\n",
      "Emma. 0.05847953216374269\n",
      "Emmaonly 0.0035087719298245615\n",
      "Emma, 0.21403508771929824\n",
      "Emmasaw 0.010526315789473684\n",
      "Emma, 0.21403508771929824\n",
      "Emmacould 0.07134502923976609\n",
      "Emmathanked 0.0011695906432748538\n",
      "Emmaand 0.012865497076023392\n",
      "Emmasmilingly 0.0011695906432748538\n",
      "Emmacould 0.07134502923976609\n",
      "Emmahad 0.042105263157894736\n",
      "Emma's 0.08654970760233918\n",
      "Emma, 0.21403508771929824\n",
      "Emmacould 0.07134502923976609\n",
      "Emmalaughed 0.0035087719298245615\n",
      "Emmawas 0.07485380116959064\n",
      "Emma, 0.21403508771929824\n",
      "Emmatime 0.0023391812865497076\n",
      "Emma; 0.029239766081871343\n",
      "Emma, 0.21403508771929824\n",
      "Emmaexperienced 0.0011695906432748538\n",
      "Emmapassed 0.0011695906432748538\n",
      "Emmafelt 0.022222222222222223\n",
      "Emma; 0.029239766081871343\n",
      "Emma'spower 0.0011695906432748538\n",
      "Emma's 0.08654970760233918\n",
      "Emma, 0.21403508771929824\n",
      "Emmaquietly 0.0011695906432748538\n",
      "Emma's 0.08654970760233918\n",
      "Emma, 0.21403508771929824\n",
      "Emma. 0.05847953216374269\n",
      "Emmacould 0.07134502923976609\n",
      "Emma's 0.08654970760233918\n",
      "Emmafelt 0.022222222222222223\n",
      "Emma, 0.21403508771929824\n",
      "Emma, 0.21403508771929824\n",
      "Emma, 0.21403508771929824\n",
      "Emmaonly 0.0035087719298245615\n",
      "Emma, 0.21403508771929824\n",
      "Emmacould 0.07134502923976609\n",
      "Emma, 0.21403508771929824\n",
      "Emma, 0.21403508771929824\n",
      "Emma, 0.21403508771929824\n",
      "Emma's 0.08654970760233918\n",
      "Emma. 0.05847953216374269\n",
      "Emmacould 0.07134502923976609\n",
      "Emma's 0.08654970760233918\n",
      "Emma's 0.08654970760233918\n",
      "Emma's 0.08654970760233918\n",
      "Emmalong 0.0011695906432748538\n",
      "Emmacould 0.07134502923976609\n",
      "Emmacalled 0.0011695906432748538\n",
      "Emmasat 0.0023391812865497076\n",
      "Emmawas 0.07485380116959064\n",
      "Emma, 0.21403508771929824\n",
      "Emma, 0.21403508771929824\n",
      "Emma; 0.029239766081871343\n",
      "Emma; 0.029239766081871343\n",
      "Emma. 0.05847953216374269\n",
      "Emmasoon 0.0035087719298245615\n",
      "Emmadid 0.007017543859649123\n",
      "Emmathought 0.011695906432748537\n",
      "Emmasmiled 0.0035087719298245615\n",
      "Emmawas 0.07485380116959064\n",
      "Emmamight 0.0023391812865497076\n",
      "Emma, 0.21403508771929824\n",
      "Emmaonly 0.0035087719298245615\n",
      "Emma, 0.21403508771929824\n",
      "Emma's 0.08654970760233918\n",
      "Emma. 0.05847953216374269\n",
      "Emma's 0.08654970760233918\n",
      "Emma's 0.08654970760233918\n",
      "Emmaspoke 0.0035087719298245615\n",
      "Emma; 0.029239766081871343\n",
      "Emmaliked 0.0011695906432748538\n",
      "Emma! 0.005847953216374269\n",
      "Emmawished 0.004678362573099415\n",
      "Emmafound 0.014035087719298246\n",
      "Emma. 0.05847953216374269\n",
      "Emma, 0.21403508771929824\n",
      "Emmalistened 0.0035087719298245615\n",
      "Emmawere 0.0035087719298245615\n",
      "Emma, 0.21403508771929824\n",
      "Emmawas 0.07485380116959064\n",
      "Emmasaw 0.010526315789473684\n",
      "Emmatried 0.0011695906432748538\n",
      "Emma? 0.0023391812865497076\n",
      "Emmashould 0.004678362573099415\n",
      "Emma; 0.029239766081871343\n",
      "Emmacould 0.07134502923976609\n",
      "Emmaon 0.0011695906432748538\n",
      "Emmasettled 0.0011695906432748538\n",
      "Emmahoped 0.0023391812865497076\n",
      "Emmain 0.0035087719298245615\n",
      "Emmafound 0.014035087719298246\n",
      "Emmafelt 0.022222222222222223\n",
      "Emma, 0.21403508771929824\n",
      "Emmathen 0.0023391812865497076\n",
      "Emmasat 0.0023391812865497076\n",
      "Emmawas 0.07485380116959064\n",
      "Emma's 0.08654970760233918\n",
      "Emmagot 0.0011695906432748538\n",
      "Emmato 0.007017543859649123\n",
      "Emmawas 0.07485380116959064\n",
      "Emmawas 0.07485380116959064\n",
      "Emmawas 0.07485380116959064\n",
      "Emma's 0.08654970760233918\n",
      "Emmahad 0.042105263157894736\n",
      "Emmafelt 0.022222222222222223\n",
      "Emmawas 0.07485380116959064\n",
      "Emma, 0.21403508771929824\n",
      "Emma, 0.21403508771929824\n",
      "Emma, 0.21403508771929824\n",
      "Emma; 0.029239766081871343\n",
      "Emma, 0.21403508771929824\n",
      "Emma, 0.21403508771929824\n",
      "Emma, 0.21403508771929824\n",
      "Emmaimmediately 0.0011695906432748538\n",
      "Emmaand 0.012865497076023392\n",
      "Emma's 0.08654970760233918\n",
      "Emmaknew 0.008187134502923977\n",
      "Emma's 0.08654970760233918\n",
      "Emmasaid 0.004678362573099415\n",
      "Emmahad 0.042105263157894736\n",
      "Emma's 0.08654970760233918\n",
      "Emma, 0.21403508771929824\n",
      "Emmawas 0.07485380116959064\n",
      "Emmacould 0.07134502923976609\n",
      "Emmawas 0.07485380116959064\n",
      "Emmaleft 0.0011695906432748538\n",
      "Emmawas 0.07485380116959064\n",
      "Emmasaw 0.010526315789473684\n",
      "Emmaprocure 0.0011695906432748538\n",
      "Emmacould 0.07134502923976609\n",
      "Emmacould 0.07134502923976609\n",
      "Emma. 0.05847953216374269\n",
      "Emma. 0.05847953216374269\n",
      "Emma, 0.21403508771929824\n",
      "Emma, 0.21403508771929824\n",
      "Emma. 0.05847953216374269\n",
      "Emma, 0.21403508771929824\n",
      "Emmasaw 0.010526315789473684\n",
      "Emmathinks 0.0011695906432748538\n",
      "Emma, 0.21403508771929824\n",
      "Emma, 0.21403508771929824\n",
      "Emmahad 0.042105263157894736\n",
      "Emmaand 0.012865497076023392\n",
      "Emma. 0.05847953216374269\n",
      "Emma, 0.21403508771929824\n",
      "Emma. 0.05847953216374269\n",
      "Emma, 0.21403508771929824\n",
      "Emmasaid 0.004678362573099415\n",
      "Emma, 0.21403508771929824\n",
      "Emmawas 0.07485380116959064\n",
      "Emmafelt 0.022222222222222223\n",
      "Emmawish 0.0011695906432748538\n",
      "Emma, 0.21403508771929824\n",
      "Emmalearned 0.0011695906432748538\n",
      "Emmahad 0.042105263157894736\n",
      "Emmathought 0.011695906432748537\n",
      "Emmawas 0.07485380116959064\n",
      "Emmaguessed 0.0035087719298245615\n",
      "Emmasaw 0.010526315789473684\n",
      "Emmawould 0.012865497076023392\n",
      "Emma, 0.21403508771929824\n",
      "Emmaobserved 0.0011695906432748538\n",
      "Emmacollected 0.0011695906432748538\n",
      "Emmamust 0.004678362573099415\n",
      "Emmacould 0.07134502923976609\n",
      "Emma, 0.21403508771929824\n",
      "Emmaconsider 0.0011695906432748538\n",
      "Emmacould 0.07134502923976609\n",
      "Emma, 0.21403508771929824\n",
      "Emmacould 0.07134502923976609\n",
      "Emma, 0.21403508771929824\n",
      "Emma's 0.08654970760233918\n",
      "Emmawas 0.07485380116959064\n",
      "Emmawas 0.07485380116959064\n",
      "Emma's 0.08654970760233918\n",
      "Emma; 0.029239766081871343\n",
      "Emmawondered 0.0023391812865497076\n",
      "Emma, 0.21403508771929824\n",
      "Emma; 0.029239766081871343\n",
      "Emmaremained 0.0023391812865497076\n",
      "Emmahad 0.042105263157894736\n",
      "Emmato 0.007017543859649123\n",
      "Emmacould 0.07134502923976609\n",
      "Emmawatched 0.004678362573099415\n",
      "Emmawas 0.07485380116959064\n",
      "Emmarecollected 0.0023391812865497076\n",
      "Emmawould 0.012865497076023392\n",
      "Emma, 0.21403508771929824\n",
      "Emma, 0.21403508771929824\n",
      "Emma, 0.21403508771929824\n",
      "Emma. 0.05847953216374269\n",
      "Emma, 0.21403508771929824\n",
      "Emma, 0.21403508771929824\n",
      "Emmafelt 0.022222222222222223\n",
      "Emma, 0.21403508771929824\n",
      "Emma's 0.08654970760233918\n",
      "Emmafound 0.014035087719298246\n",
      "Emmaheard 0.004678362573099415\n",
      "Emmawant 0.0011695906432748538\n",
      "Emmacould 0.07134502923976609\n",
      "Emmadid 0.007017543859649123\n",
      "Emma. 0.05847953216374269\n",
      "Emmadine 0.0011695906432748538\n",
      "Emmashould 0.004678362573099415\n",
      "Emmacomes 0.0011695906432748538\n",
      "Emma's 0.08654970760233918\n",
      "Emma, 0.21403508771929824\n",
      "Emmathus 0.0011695906432748538\n",
      "Emma's 0.08654970760233918\n",
      "Emmahad 0.042105263157894736\n",
      "Emmacould 0.07134502923976609\n",
      "Emma, 0.21403508771929824\n",
      "Emmato 0.007017543859649123\n",
      "Emmasaid 0.004678362573099415\n",
      "Emmawatched 0.004678362573099415\n",
      "Emmasuspected 0.0011695906432748538\n",
      "Emmashould 0.004678362573099415\n",
      "Emmacould 0.07134502923976609\n",
      "Emmadivined 0.0011695906432748538\n",
      "Emmarestrained 0.0011695906432748538\n",
      "Emmabegan 0.007017543859649123\n",
      "Emmaguessed 0.0035087719298245615\n",
      "Emmafound 0.014035087719298246\n",
      "Emmasoon 0.0035087719298245615\n",
      "Emma, 0.21403508771929824\n",
      "Emma-- 0.014035087719298246\n",
      "Emma. 0.05847953216374269\n",
      "Emma, 0.21403508771929824\n",
      "Emma, 0.21403508771929824\n",
      "Emma! 0.005847953216374269\n",
      "Emma. 0.05847953216374269\n",
      "Emmarather 0.0023391812865497076\n",
      "Emmabest 0.0011695906432748538\n",
      "Emmawould 0.012865497076023392\n",
      "Emma's 0.08654970760233918\n",
      "Emmacould 0.07134502923976609\n",
      "Emma, 0.21403508771929824\n",
      "Emmafound 0.014035087719298246\n",
      "Emmahad 0.042105263157894736\n",
      "Emmato 0.007017543859649123\n",
      "Emmadid 0.007017543859649123\n",
      "Emmawas 0.07485380116959064\n",
      "Emmathought 0.011695906432748537\n",
      "Emmawent 0.0011695906432748538\n",
      "Emmacaught 0.0011695906432748538\n",
      "Emma; 0.029239766081871343\n",
      "Emma.-- 0.005847953216374269\n",
      "Emmawatched 0.004678362573099415\n",
      "Emmawould 0.012865497076023392\n",
      "Emmawondered 0.0023391812865497076\n",
      "Emmaagain 0.0023391812865497076\n",
      "Emmadid 0.007017543859649123\n",
      "Emmacould 0.07134502923976609\n",
      "Emmajoined 0.0011695906432748538\n",
      "Emma, 0.21403508771929824\n",
      "Emma, 0.21403508771929824\n",
      "Emma, 0.21403508771929824\n",
      "Emmawished 0.004678362573099415\n",
      "Emmatook 0.0011695906432748538\n",
      "Emmaa 0.0023391812865497076\n",
      "Emmastill 0.0011695906432748538\n",
      "Emmafound 0.014035087719298246\n",
      "Emmasaid 0.004678362573099415\n",
      "Emma! 0.005847953216374269\n",
      "Emmais 0.0023391812865497076\n",
      "Emmademurred 0.0011695906432748538\n",
      "Emmaperceived 0.0023391812865497076\n",
      "Emma, 0.21403508771929824\n",
      "Emmaup 0.0011695906432748538\n",
      "Emma! 0.005847953216374269\n",
      "Emmawas 0.07485380116959064\n",
      "Emma, 0.21403508771929824\n",
      "Emmanor 0.0011695906432748538\n",
      "Emma. 0.05847953216374269\n",
      "Emma's 0.08654970760233918\n",
      "Emma-- 0.014035087719298246\n",
      "Emma, 0.21403508771929824\n",
      "Emmacould 0.07134502923976609\n",
      "Emmafelt 0.022222222222222223\n",
      "Emma, 0.21403508771929824\n",
      "Emma's 0.08654970760233918\n",
      "Emmadisappointed 0.0011695906432748538\n",
      "Emmawas 0.07485380116959064\n",
      "Emma. 0.05847953216374269\n",
      "Emmalooked 0.0035087719298245615\n",
      "Emma, 0.21403508771929824\n",
      "Emmawas 0.07485380116959064\n",
      "Emmahad 0.042105263157894736\n",
      "Emmafelt 0.022222222222222223\n",
      "Emma, 0.21403508771929824\n",
      "Emmacontinued 0.004678362573099415\n",
      "Emmahad 0.042105263157894736\n",
      "Emmacould 0.07134502923976609\n",
      "Emmagrew 0.0023391812865497076\n",
      "Emmacould 0.07134502923976609\n",
      "Emmafelt 0.022222222222222223\n",
      "Emmaattacked 0.0011695906432748538\n",
      "Emmacontinued 0.004678362573099415\n",
      "Emmafeel 0.0011695906432748538\n",
      "Emmafor 0.0023391812865497076\n",
      "Emmahad 0.042105263157894736\n",
      "Emmawould 0.012865497076023392\n",
      "Emmathought 0.011695906432748537\n",
      "Emma's 0.08654970760233918\n",
      "Emmamade 0.004678362573099415\n",
      "Emmamade 0.004678362573099415\n",
      "Emmadoubted 0.0023391812865497076\n",
      "Emmawas 0.07485380116959064\n",
      "Emmacould 0.07134502923976609\n",
      "Emma, 0.21403508771929824\n",
      "Emma, 0.21403508771929824\n",
      "Emma, 0.21403508771929824\n",
      "Emmawas 0.07485380116959064\n",
      "Emma, 0.21403508771929824\n",
      "Emmawas 0.07485380116959064\n",
      "Emmacould 0.07134502923976609\n",
      "Emmahad 0.042105263157894736\n",
      "Emmawas 0.07485380116959064\n",
      "Emma.-- 0.005847953216374269\n",
      "Emma's 0.08654970760233918\n",
      "Emmahoped 0.0023391812865497076\n",
      "Emmahad 0.042105263157894736\n",
      "Emma's 0.08654970760233918\n",
      "Emma.-- 0.005847953216374269\n",
      "EmmaWoodhouse-ing 0.0011695906432748538\n",
      "Emmahad 0.042105263157894736\n",
      "Emma's 0.08654970760233918\n",
      "Emma's 0.08654970760233918\n",
      "Emma-- 0.014035087719298246\n",
      "Emma) 0.0023391812865497076\n",
      "Emmafelt 0.022222222222222223\n",
      "Emma. 0.05847953216374269\n",
      "Emma, 0.21403508771929824\n",
      "Emmafelt 0.022222222222222223\n",
      "Emmareturned 0.0023391812865497076\n",
      "Emma, 0.21403508771929824\n",
      "Emmacould 0.07134502923976609\n",
      "Emmatriumphantly 0.0011695906432748538\n",
      "Emma, 0.21403508771929824\n",
      "Emma, 0.21403508771929824\n",
      "Emmahad 0.042105263157894736\n",
      "Emmawas 0.07485380116959064\n",
      "Emmawould 0.012865497076023392\n",
      "Emmaapprehended 0.0011695906432748538\n",
      "Emma. 0.05847953216374269\n",
      "Emma's 0.08654970760233918\n",
      "Emma, 0.21403508771929824\n",
      "Emma's 0.08654970760233918\n",
      "Emmaboth 0.0011695906432748538\n",
      "Emmabegan 0.007017543859649123\n",
      "Emmabegan 0.007017543859649123\n",
      "Emma, 0.21403508771929824\n",
      "Emma. 0.05847953216374269\n",
      "Emmafound 0.014035087719298246\n",
      "Emmaheard 0.004678362573099415\n",
      "Emma. 0.05847953216374269\n",
      "Emmaread 0.0023391812865497076\n",
      "Emmacould 0.07134502923976609\n",
      "Emma, 0.21403508771929824\n",
      "Emmadoubted 0.0023391812865497076\n",
      "Emma, 0.21403508771929824\n",
      "Emma, 0.21403508771929824\n",
      "Emma, 0.21403508771929824\n",
      "Emma, 0.21403508771929824\n",
      "Emmahas 0.004678362573099415\n",
      "Emmaas 0.004678362573099415\n",
      "Emmaheard 0.004678362573099415\n",
      "Emmasaw 0.010526315789473684\n",
      "Emmawere 0.0035087719298245615\n",
      "Emma. 0.05847953216374269\n",
      "Emmacould 0.07134502923976609\n",
      "Emmaperceived 0.0023391812865497076\n",
      "Emmafound 0.014035087719298246\n",
      "Emmalonged 0.0011695906432748538\n",
      "Emma; 0.029239766081871343\n",
      "Emmamost 0.0011695906432748538\n",
      "Emma; 0.029239766081871343\n",
      "Emmacould 0.07134502923976609\n",
      "Emmain 0.0035087719298245615\n",
      "Emmacould 0.07134502923976609\n",
      "Emma. 0.05847953216374269\n",
      "Emmathat 0.0011695906432748538\n",
      "Emmaheard 0.004678362573099415\n",
      "Emma, 0.21403508771929824\n",
      "Emmamust 0.004678362573099415\n",
      "Emmawas 0.07485380116959064\n",
      "Emmafelt 0.022222222222222223\n",
      "Emmathought 0.011695906432748537\n",
      "Emma's 0.08654970760233918\n",
      "Emmasaw 0.010526315789473684\n",
      "Emmacould 0.07134502923976609\n",
      "Emmatrusted 0.0011695906432748538\n",
      "Emmahad 0.042105263157894736\n",
      "Emma, 0.21403508771929824\n",
      "Emma, 0.21403508771929824\n",
      "Emma, 0.21403508771929824\n",
      "Emmawas 0.07485380116959064\n",
      "Emma, 0.21403508771929824\n",
      "Emma, 0.21403508771929824\n",
      "Emmaconsiderable 0.0011695906432748538\n",
      "Emmacould 0.07134502923976609\n",
      "Emmaacquainted 0.0011695906432748538\n",
      "Emmaengaging 0.0011695906432748538\n",
      "Emmathought 0.011695906432748537\n",
      "Emma's 0.08654970760233918\n",
      "Emmahad 0.042105263157894736\n",
      "Emmawould 0.012865497076023392\n",
      "Emmaand 0.012865497076023392\n",
      "Emmawith 0.0035087719298245615\n",
      "Emmawas 0.07485380116959064\n",
      "Emma, 0.21403508771929824\n",
      "Emmaread 0.0023391812865497076\n",
      "Emmasaw 0.010526315789473684\n",
      "Emma, 0.21403508771929824\n",
      "Emma, 0.21403508771929824\n",
      "Emmawas 0.07485380116959064\n",
      "Emma; 0.029239766081871343\n",
      "Emma, 0.21403508771929824\n",
      "Emmawas 0.07485380116959064\n",
      "Emmathen 0.0023391812865497076\n",
      "Emmacould 0.07134502923976609\n",
      "Emmawas 0.07485380116959064\n",
      "Emma. 0.05847953216374269\n",
      "Emmawas 0.07485380116959064\n",
      "Emma, 0.21403508771929824\n",
      "Emmaherself 0.0023391812865497076\n",
      "Emma's 0.08654970760233918\n",
      "Emmaand 0.012865497076023392\n",
      "Emma, 0.21403508771929824\n",
      "Emma, 0.21403508771929824\n",
      "Emmawas 0.07485380116959064\n",
      "Emmahad 0.042105263157894736\n",
      "Emmacould 0.07134502923976609\n",
      "Emmawas 0.07485380116959064\n",
      "Emmahad 0.042105263157894736\n",
      "Emma, 0.21403508771929824\n",
      "Emma, 0.21403508771929824\n",
      "Emmahad 0.042105263157894736\n",
      "Emmaopposing 0.0011695906432748538\n",
      "Emmasome 0.0011695906432748538\n",
      "Emma, 0.21403508771929824\n",
      "Emmawas 0.07485380116959064\n",
      "Emma's 0.08654970760233918\n",
      "Emma, 0.21403508771929824\n",
      "Emmahad 0.042105263157894736\n",
      "Emmacould 0.07134502923976609\n",
      "Emmadenied 0.0011695906432748538\n",
      "Emma, 0.21403508771929824\n",
      "Emma, 0.21403508771929824\n",
      "Emma's 0.08654970760233918\n",
      "Emmaand 0.012865497076023392\n",
      "Emmahad 0.042105263157894736\n",
      "Emmafelt 0.022222222222222223\n",
      "Emmawas 0.07485380116959064\n",
      "Emma.-- 0.005847953216374269\n",
      "Emmaand 0.012865497076023392\n",
      "Emmawould 0.012865497076023392\n",
      "Emmareceived 0.0011695906432748538\n",
      "Emmafound 0.014035087719298246\n",
      "Emmalooked 0.0035087719298245615\n",
      "Emma; 0.029239766081871343\n",
      "Emmawalked 0.0011695906432748538\n",
      "Emmavery 0.0011695906432748538\n",
      "Emmahad 0.042105263157894736\n",
      "Emma, 0.21403508771929824\n",
      "Emmahad 0.042105263157894736\n",
      "Emma. 0.05847953216374269\n",
      "Emmalistened 0.0035087719298245615\n",
      "Emmareturned 0.0023391812865497076\n",
      "Emmawere 0.0035087719298245615\n",
      "Emmaand 0.012865497076023392\n",
      "Emmaand 0.012865497076023392\n",
      "Emma. 0.05847953216374269\n",
      "Emma, 0.21403508771929824\n",
      "Emmawas 0.07485380116959064\n",
      "Emma, 0.21403508771929824\n",
      "Emma; 0.029239766081871343\n",
      "Emmacould 0.07134502923976609\n",
      "Emma, 0.21403508771929824\n",
      "Emma) 0.0023391812865497076\n",
      "Emmafound 0.014035087719298246\n",
      "Emma. 0.05847953216374269\n",
      "Emmawas 0.07485380116959064\n",
      "Emma, 0.21403508771929824\n",
      "Emmagrew 0.0023391812865497076\n",
      "Emma, 0.21403508771929824\n",
      "Emma, 0.21403508771929824\n",
      "Emmarecollected 0.0023391812865497076\n",
      "Emma, 0.21403508771929824\n",
      "Emma, 0.21403508771929824\n",
      "Emma-- 0.014035087719298246\n",
      "Emmafelt 0.022222222222222223\n",
      "Emma's 0.08654970760233918\n",
      "Emmaseriously 0.0011695906432748538\n",
      "Emma's 0.08654970760233918\n",
      "Emmawas 0.07485380116959064\n",
      "Emmamade 0.004678362573099415\n",
      "Emma, 0.21403508771929824\n",
      "Emmatime 0.0023391812865497076\n",
      "Emma's 0.08654970760233918\n",
      "Emmawas 0.07485380116959064\n",
      "Emma's 0.08654970760233918\n",
      "Emmawas 0.07485380116959064\n",
      "Emmahas 0.004678362573099415\n",
      "Emma's 0.08654970760233918\n",
      "Emmacould 0.07134502923976609\n",
      "Emmacommunicated 0.0011695906432748538\n",
      "Emma. 0.05847953216374269\n",
      "Emmacould 0.07134502923976609\n",
      "Emmawas 0.07485380116959064\n",
      "Emma's 0.08654970760233918\n",
      "Emmait 0.0011695906432748538\n",
      "Emmalistened 0.0035087719298245615\n",
      "Emmafelt 0.022222222222222223\n",
      "Emmawished 0.004678362573099415\n",
      "Emmadid 0.007017543859649123\n",
      "Emma, 0.21403508771929824\n",
      "Emmaafterwards 0.0011695906432748538\n",
      "Emmawas 0.07485380116959064\n",
      "Emma. 0.05847953216374269\n",
      "Emma, 0.21403508771929824\n",
      "Emma; 0.029239766081871343\n",
      "Emma, 0.21403508771929824\n",
      "Emma. 0.05847953216374269\n",
      "Emma's 0.08654970760233918\n",
      "Emma, 0.21403508771929824\n",
      "Emmafound 0.014035087719298246\n",
      "Emmadistinctly 0.0011695906432748538\n",
      "Emma's 0.08654970760233918\n",
      "Emma-- 0.014035087719298246\n",
      "Emmathought 0.011695906432748537\n",
      "Emma-- 0.014035087719298246\n",
      "Emmaeven 0.0011695906432748538\n",
      "Emmamight 0.0023391812865497076\n",
      "Emmascarcely 0.0011695906432748538\n",
      "Emma, 0.21403508771929824\n",
      "Emmapondered 0.0011695906432748538\n",
      "Emma's 0.08654970760233918\n",
      "Emma, 0.21403508771929824\n",
      "Emma; 0.029239766081871343\n",
      "Emma, 0.21403508771929824\n",
      "Emma, 0.21403508771929824\n",
      "Emma. 0.05847953216374269\n",
      "Emmabegan 0.007017543859649123\n",
      "Emmadryly 0.0011695906432748538\n",
      "Emma, 0.21403508771929824\n",
      "Emmacould 0.07134502923976609\n",
      "Emma, 0.21403508771929824\n",
      "Emma, 0.21403508771929824\n",
      "Emmafeelingly 0.0011695906432748538\n",
      "Emma, 0.21403508771929824\n",
      "Emmacould 0.07134502923976609\n",
      "Emma, 0.21403508771929824\n",
      "Emmacould 0.07134502923976609\n",
      "Emmawas 0.07485380116959064\n",
      "Emmahad 0.042105263157894736\n",
      "Emma, 0.21403508771929824\n",
      "Emma, 0.21403508771929824\n",
      "Emmadid 0.007017543859649123\n",
      "Emmalooked 0.0035087719298245615\n",
      "Emma, 0.21403508771929824\n",
      "Emma, 0.21403508771929824\n",
      "Emma, 0.21403508771929824\n",
      "Emma's 0.08654970760233918\n",
      "Emma, 0.21403508771929824\n",
      "Emma, 0.21403508771929824\n",
      "Emma, 0.21403508771929824\n",
      "Emmacould 0.07134502923976609\n",
      "Emmaturned 0.0023391812865497076\n",
      "Emma's 0.08654970760233918\n",
      "Emmathe 0.0011695906432748538\n",
      "Emma's 0.08654970760233918\n",
      "Emmaknew 0.008187134502923977\n",
      "Emmaknew 0.008187134502923977\n",
      "Emmafelt 0.022222222222222223\n",
      "Emma. 0.05847953216374269\n",
      "Emmaherself. 0.0011695906432748538\n",
      "Emmacame 0.0023391812865497076\n",
      "Emmacame 0.0023391812865497076\n",
      "Emmafelt 0.022222222222222223\n",
      "Emma's 0.08654970760233918\n",
      "Emmawas 0.07485380116959064\n",
      "Emma's 0.08654970760233918\n",
      "Emmato 0.007017543859649123\n",
      "Emmahad 0.042105263157894736\n",
      "Emma'sthoughts 0.0011695906432748538\n",
      "Emmaas 0.004678362573099415\n",
      "Emmahad 0.042105263157894736\n",
      "Emmasmiled 0.0035087719298245615\n",
      "Emma, 0.21403508771929824\n",
      "Emma. 0.05847953216374269\n",
      "Emmaagain 0.0023391812865497076\n",
      "Emma, 0.21403508771929824\n",
      "Emma, 0.21403508771929824\n",
      "Emma's 0.08654970760233918\n",
      "Emma? 0.0023391812865497076\n",
      "Emmawith 0.0035087719298245615\n",
      "Emma's 0.08654970760233918\n",
      "Emmaresolved 0.0011695906432748538\n",
      "Emma, 0.21403508771929824\n",
      "Emmawas 0.07485380116959064\n",
      "Emma, 0.21403508771929824\n",
      "Emmaunderstood 0.0011695906432748538\n",
      "Emma! 0.005847953216374269\n",
      "Emma, 0.21403508771929824\n",
      "Emma; 0.029239766081871343\n",
      "Emma. 0.05847953216374269\n",
      "Emmacould 0.07134502923976609\n",
      "Emma, 0.21403508771929824\n",
      "Emmacould 0.07134502923976609\n",
      "Emma-- 0.014035087719298246\n",
      "Emma, 0.21403508771929824\n",
      "Emma, 0.21403508771929824\n",
      "Emma, 0.21403508771929824\n",
      "Emma-- 0.014035087719298246\n",
      "Emmawas 0.07485380116959064\n",
      "Emma: 0.0023391812865497076\n",
      "Emma, 0.21403508771929824\n",
      "Emma's 0.08654970760233918\n",
      "Emmahad 0.042105263157894736\n",
      "Emmaa 0.0023391812865497076\n",
      "Emma, 0.21403508771929824\n",
      "Emma-- 0.014035087719298246\n",
      "Emma, 0.21403508771929824\n",
      "Emma, 0.21403508771929824\n",
      "Emmatake 0.0011695906432748538\n",
      "Emma's 0.08654970760233918\n",
      "Emma, 0.21403508771929824\n",
      "EmmaWoodhouse 0.004678362573099415\n",
      "EmmaWoodhouse 0.004678362573099415\n",
      "Emma's 0.08654970760233918\n",
      "Emma, 0.21403508771929824\n",
      "Emma, 0.21403508771929824\n",
      "Emma: 0.0023391812865497076\n",
      "Emma, 0.21403508771929824\n",
      "Emmaagreed 0.0011695906432748538\n",
      "Emmaknew 0.008187134502923977\n",
      "Emma, 0.21403508771929824\n",
      "Emma, 0.21403508771929824\n",
      "Emma's 0.08654970760233918\n",
      "Emmawould 0.012865497076023392\n",
      "Emmahad 0.042105263157894736\n",
      "Emma. 0.05847953216374269\n",
      "Emma, 0.21403508771929824\n",
      "Emmawas 0.07485380116959064\n",
      "Emmacould 0.07134502923976609\n",
      "Emmato 0.007017543859649123\n",
      "Emmafancied 0.0011695906432748538\n",
      "Emmaproposed 0.0011695906432748538\n",
      "Emmacould 0.07134502923976609\n",
      "Emma's 0.08654970760233918\n",
      "Emmahad 0.042105263157894736\n",
      "Emmawas 0.07485380116959064\n",
      "Emmacould 0.07134502923976609\n",
      "Emmasaw 0.010526315789473684\n",
      "Emma's 0.08654970760233918\n",
      "Emmacould 0.07134502923976609\n",
      "Emma, 0.21403508771929824\n",
      "Emmacould 0.07134502923976609\n",
      "Emmaguessed 0.0035087719298245615\n",
      "Emma-- 0.014035087719298246\n",
      "Emmawould 0.012865497076023392\n",
      "Emma. 0.05847953216374269\n",
      "Emmaamused 0.0011695906432748538\n",
      "Emmafelt 0.022222222222222223\n",
      "Emmathought 0.011695906432748537\n",
      "Emmawarmly 0.0011695906432748538\n",
      "Emma, 0.21403508771929824\n",
      "Emma, 0.21403508771929824\n",
      "Emma; 0.029239766081871343\n",
      "Emma. 0.05847953216374269\n",
      "Emmalaughed 0.0035087719298245615\n",
      "Emma. 0.05847953216374269\n",
      "Emmagrieved 0.0011695906432748538\n",
      "Emmawas 0.07485380116959064\n",
      "Emma's 0.08654970760233918\n",
      "Emmaaccepted 0.0011695906432748538\n",
      "Emma, 0.21403508771929824\n",
      "Emma, 0.21403508771929824\n",
      "Emma, 0.21403508771929824\n",
      "Emma-- 0.014035087719298246\n",
      "Emma' 0.0011695906432748538\n",
      "Emmahaving 0.0011695906432748538\n",
      "Emmahung 0.0011695906432748538\n",
      "Emma's 0.08654970760233918\n",
      "Emmafirst 0.0023391812865497076\n",
      "Emma; 0.029239766081871343\n",
      "Emmacould 0.07134502923976609\n",
      "Emmawould 0.012865497076023392\n",
      "Emma. 0.05847953216374269\n",
      "Emmawas 0.07485380116959064\n",
      "Emma; 0.029239766081871343\n",
      "Emma, 0.21403508771929824\n",
      "Emmagave 0.0011695906432748538\n",
      "Emma, 0.21403508771929824\n",
      "Emmadared 0.0011695906432748538\n",
      "Emma, 0.21403508771929824\n",
      "Emma.-- 0.005847953216374269\n",
      "Emmacould 0.07134502923976609\n",
      "Emma's 0.08654970760233918\n",
      "Emma, 0.21403508771929824\n",
      "Emma, 0.21403508771929824\n",
      "Emmawas 0.07485380116959064\n",
      "Emmabegan 0.007017543859649123\n",
      "Emma, 0.21403508771929824\n",
      "Emmablushed 0.0011695906432748538\n",
      "Emma. 0.05847953216374269\n",
      "Emmaspoke 0.0035087719298245615\n",
      "Emmawas 0.07485380116959064\n",
      "Emma, 0.21403508771929824\n",
      "Emmacould 0.07134502923976609\n",
      "Emma; 0.029239766081871343\n",
      "Emma, 0.21403508771929824\n",
      "Emmasoon 0.0035087719298245615\n",
      "Emma's 0.08654970760233918\n",
      "Emmahad 0.042105263157894736\n",
      "Emmahad 0.042105263157894736\n",
      "Emmacould 0.07134502923976609\n",
      "Emma. 0.05847953216374269\n",
      "Emmahad 0.042105263157894736\n",
      "Emmabecame 0.0011695906432748538\n",
      "Emmaadmitted 0.0011695906432748538\n",
      "Emmamust 0.004678362573099415\n",
      "Emmaattended 0.0011695906432748538\n",
      "Emmaand 0.012865497076023392\n"
     ]
    }
   ],
   "source": [
    "import re\n",
    "\n",
    "def findToken(k, t):\n",
    "    result = list()\n",
    "    for i in t:\n",
    "        if re.match(k, i):\n",
    "            result.append(i)\n",
    "    return result\n",
    "\n",
    "for k in findToken('Emma', bigramText.tokens):\n",
    "    print(k, bigramText.count(k)/unigramText.count('Emma'))"
   ]
  },
  {
   "cell_type": "code",
   "execution_count": 75,
   "metadata": {},
   "outputs": [
    {
     "data": {
      "text/plain": [
       "[('Emma,', 0.21403508771929824),\n",
       " (\"Emma's\", 0.08654970760233918),\n",
       " ('Emmawas', 0.07485380116959064),\n",
       " ('Emmacould', 0.07134502923976609),\n",
       " ('Emma.', 0.05847953216374269)]"
      ]
     },
     "execution_count": 75,
     "metadata": {},
     "output_type": "execute_result"
    }
   ],
   "source": [
    "nextword = {k: bigramText.count(k)/unigramText.count('Emma') for k in findToken('Emma', bigramText.tokens)}\n",
    "sorted(nextword.items(), key = lambda r:r[1], reverse=True)[:5]"
   ]
  },
  {
   "cell_type": "code",
   "execution_count": null,
   "metadata": {},
   "outputs": [],
   "source": []
  },
  {
   "cell_type": "code",
   "execution_count": null,
   "metadata": {},
   "outputs": [],
   "source": []
  }
 ],
 "metadata": {
  "kernelspec": {
   "display_name": "KoreaUniv",
   "language": "python",
   "name": "python3"
  },
  "language_info": {
   "codemirror_mode": {
    "name": "ipython",
    "version": 3
   },
   "file_extension": ".py",
   "mimetype": "text/x-python",
   "name": "python",
   "nbconvert_exporter": "python",
   "pygments_lexer": "ipython3",
   "version": "3.9.18"
  }
 },
 "nbformat": 4,
 "nbformat_minor": 2
}
